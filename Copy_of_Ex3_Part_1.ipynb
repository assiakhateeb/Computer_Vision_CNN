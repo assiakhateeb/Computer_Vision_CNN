{
  "nbformat": 4,
  "nbformat_minor": 0,
  "metadata": {
    "colab": {
      "name": "Copy of Ex3_Part_1.ipynb",
      "provenance": [],
      "collapsed_sections": [
        "5NwLQOFMMlev"
      ]
    },
    "kernelspec": {
      "name": "python3",
      "display_name": "Python 3"
    }
  },
  "cells": [
    {
      "cell_type": "markdown",
      "metadata": {
        "id": "5NwLQOFMMlev"
      },
      "source": [
        "# Computer Vision: Assignment 3 Part 1 - Some CNN Basics [40%]\n",
        "\n",
        "Spring 2021 semester.\n",
        "\n",
        "Due date: **July 19th 2021.**\n",
        "\n",
        "## Introduction\n",
        "\n",
        "This question is an introduction to using PyTorch for training simple neural net models. \n",
        "\n",
        "Two different datasets will be used: \n",
        "- MNIST digits [handwritten digits]\n",
        "- CIFAR-10 [32x32 resolution color images of 10 object classes].\n",
        "\n",
        "## Requirements\n",
        "\n",
        "Perform this assignment in PyTorch, modifying the baseline code, producing outputs and adding required explanations - *all within this ipython notebook*.\n",
        "\n",
        "Finally, submit this iPython notebook, including outputs, as an .ipynb file (exact submission guidelines will be given in the next couple of days). \n",
        "\n",
        "## Question (1): Warmup [5%]\n",
        "\n",
        "It is always good practice to visually inspect your data before trying to train a model, since it lets you check for problems and get a feel for the task at hand.\n",
        "\n",
        "MNIST is a dataset of 70,000 grayscale hand-written digits (0 through 9).\n",
        "60,000 of these are training images. 10,000 are a held out test set. \n",
        "\n",
        "CIFAR-10 is a dataset of 60,000 color images (32 by 32 resolution) across 10 classes (airplane, automobile, bird, cat, deer, dog, frog, horse, ship, truck). \n",
        "The train/test split is 50k/10k.\n",
        "\n",
        "**a)**  Use `matplotlib` and ipython notebook's visualization capabilities to display one train and one test image of each class, for each of the two datasets.\n",
        "[See this PyTorch tutorial page](http://pytorch.org/tutorials/beginner/blitz/cifar10_tutorial.html#sphx-glr-beginner-blitz-cifar10-tutorial-py) for hints on how to achieve this.\n",
        "\n",
        "** Relevant Cell: \"Data Loading\" **\n",
        "\n",
        "## Question (2): Training a Single Layer Network on MNIST [10%]\n",
        "\n",
        "Start by running the training on MNIST. By default if you run this notebook successfully, it will train on MNIST.\n",
        "\n",
        "This will initialize a single layer model train it on the 60,000 MNIST training images for 10 epochs (passes through the training data). \n",
        "\n",
        "The loss function [cross_entropy](http://pytorch.org/docs/master/nn.html?highlight=cross_entropy#torch.nn.functional.cross_entropy) computes a Logarithm of the Softmax on the output of the neural network, and then computes the negative log-likelihood w.r.t. the given `target`.\n",
        "\n",
        "The default values for the learning rate, batch size and number of epochs are given in the \"options\" cell of this notebook. Unless otherwise specified, use the default values throughout this assignment. \n",
        "\n",
        "Note the decrease in training loss and corresponding decrease in validation errors.\n",
        "\n",
        "**a)** Add code to plot out the network weights as images (one for each output, of size 28 by 28) after the last epoch. (Hint threads: [#1](https://discuss.pytorch.org/t/understanding-deep-network-visualize-weights/2060/2?u=smth) [#2](https://github.com/pytorch/vision#utils) )\n",
        "\n",
        "**b)** Reduce the number of training examples to just 50. [Hint: limit the iterator in the `train` function]. \n",
        "Paste the output into your report and explain what is happening to the model.\n",
        "\n",
        "## Question (3): Training a Multi-Layer Network on MNIST [10%]\n",
        "\n",
        "**a)**  Add an extra layer to the network with 1000 hidden units and a `tanh` non-linearity. [Hint: modify the `Net` class] and train the model for 10 epochs.\n",
        "\n",
        "**b)**   Now set the learning rate to 10 and retrain. Give a brief explanation to the observed results.\n",
        "\n",
        "## Question (4): Training a Convolutional Network on CIFAR [15%]\n",
        "\n",
        "To change over to the CIFAR-10 dataset, change the `options` cell's `dataset` variable to `'cifar10'`.\n",
        "\n",
        "- Create a convolutional network with the following architecture:\n",
        "  - Convolution with 5 by 5 filters, 16 feature maps + Tanh nonlinearity.\n",
        "  - 2 by 2 max pooling (non-overlapping).\n",
        "  - Convolution with 5 by 5 filters, 128 feature maps + Tanh nonlinearity.\n",
        "  - 2 by 2 max pooling (non-overlapping).\n",
        "  - Flatten to vector.\n",
        "  - Linear layer with 64 hidden units + Tanh nonlinearity.\n",
        "  - Linear layer to 10 output units.\n",
        "\n",
        "**a)** Train it for 20 epochs on the CIFAR-10 training set and Visualize the first layer filters.\n",
        "\n",
        "Hints: [Follow the first PyTorch tutorial](http://pytorch.org/tutorials/beginner/blitz/neural_networks_tutorial.html#sphx-glr-beginner-blitz-neural-networks-tutorial-py) or look at the [MNIST example](https://github.com/pytorch/examples/tree/master/mnist)\n",
        "\n",
        "**b)**  Give a breakdown of the number of parameters within the above model, as well as the overall number."
      ]
    },
    {
      "cell_type": "markdown",
      "metadata": {
        "id": "69bRRf3hIHQo"
      },
      "source": [
        "# ***Example Code***"
      ]
    },
    {
      "cell_type": "code",
      "metadata": {
        "id": "CrnqiscEKGWv"
      },
      "source": [
        "# imports\n",
        "from __future__ import print_function\n",
        "import argparse\n",
        "import torch\n",
        "import torch.nn as nn\n",
        "import torch.nn.functional as F\n",
        "import torch.optim as optim\n",
        "from torchvision import datasets, transforms\n",
        "from torch.autograd import Variable"
      ],
      "execution_count": 1,
      "outputs": []
    },
    {
      "cell_type": "code",
      "metadata": {
        "id": "V0NBWksLKRD7"
      },
      "source": [
        "# options\n",
        "dataset = 'mnist' # options: 'mnist' | 'cifar10'\n",
        "batch_size = 64   # input batch size for training\n",
        "epochs = 10       # number of epochs to train\n",
        "lr = 0.01        # learning rate"
      ],
      "execution_count": 2,
      "outputs": []
    },
    {
      "cell_type": "code",
      "metadata": {
        "id": "ab7pqvGUKVVf",
        "colab": {
          "base_uri": "https://localhost:8080/"
        },
        "outputId": "d98eb393-3625-484e-b696-469b97d0a51e"
      },
      "source": [
        "# Data Loading\n",
        "# Warning: this cell might take some time when you run it for the first time, \n",
        "#          because it will download the datasets from the internet\n",
        "if dataset == 'mnist':\n",
        "    data_transform = transforms.Compose([\n",
        "        transforms.ToTensor(),\n",
        "        transforms.Normalize((0.1307,), (0.3081,))\n",
        "    ])\n",
        "    trainset = datasets.MNIST(root='.', train=True, download=True, transform=data_transform)\n",
        "    testset = datasets.MNIST(root='.', train=False, download=True, transform=data_transform)\n",
        "\n",
        "elif dataset == 'cifar10':\n",
        "    data_transform = transforms.Compose([\n",
        "        transforms.ToTensor(),\n",
        "        transforms.Normalize((0.5, 0.5, 0.5), (0.5, 0.5, 0.5)),\n",
        "    ])\n",
        "    trainset = datasets.CIFAR10(root='.', train=True, download=True, transform=data_transform)\n",
        "    testset = datasets.CIFAR10(root='.', train=False, download=True, transform=data_transform)\n",
        "\n",
        "train_loader = torch.utils.data.DataLoader(trainset, batch_size=batch_size, shuffle=True, num_workers=0)\n",
        "test_loader  = torch.utils.data.DataLoader(testset, batch_size=batch_size, shuffle=False, num_workers=0)"
      ],
      "execution_count": 3,
      "outputs": [
        {
          "output_type": "stream",
          "text": [
            "/usr/local/lib/python3.7/dist-packages/torchvision/datasets/mnist.py:498: UserWarning: The given NumPy array is not writeable, and PyTorch does not support non-writeable tensors. This means you can write to the underlying (supposedly non-writeable) NumPy array using the tensor. You may want to copy the array to protect its data or make it writeable before converting it to a tensor. This type of warning will be suppressed for the rest of this program. (Triggered internally at  /pytorch/torch/csrc/utils/tensor_numpy.cpp:180.)\n",
            "  return torch.from_numpy(parsed.astype(m[2], copy=False)).view(*s)\n"
          ],
          "name": "stderr"
        }
      ]
    },
    {
      "cell_type": "code",
      "metadata": {
        "id": "mRkBGjAEKZM0"
      },
      "source": [
        "## network and optimizer\n",
        "if dataset == 'mnist':\n",
        "    num_inputs = 784\n",
        "elif dataset == 'cifar10':\n",
        "    num_inputs = 3072\n",
        "\n",
        "num_outputs = 10 # same for both CIFAR10 and MNIST, both have 10 classes as outputs\n",
        "\n",
        "class Net(nn.Module):\n",
        "    def __init__(self, num_inputs, num_outputs):\n",
        "        super(Net, self).__init__()\n",
        "        self.linear = nn.Linear(num_inputs, num_outputs)\n",
        "\n",
        "    def forward(self, input):\n",
        "        input = input.view(-1, num_inputs) # reshape input to batch x num_inputs\n",
        "        output = self.linear(input)\n",
        "        return output\n",
        "\n",
        "network = Net(num_inputs, num_outputs)\n",
        "optimizer = optim.SGD(network.parameters(), lr=lr)"
      ],
      "execution_count": 4,
      "outputs": []
    },
    {
      "cell_type": "code",
      "metadata": {
        "id": "3DfrCg4-Kfq6"
      },
      "source": [
        "# train and test functions\n",
        "def train(epoch):\n",
        "    network.train()\n",
        "    for batch_idx, (data, target) in enumerate(train_loader):\n",
        "        data, target = Variable(data), Variable(target)\n",
        "        optimizer.zero_grad()\n",
        "        output = network(data)\n",
        "        loss = F.cross_entropy(output, target)\n",
        "        loss.backward()\n",
        "        optimizer.step()\n",
        "        if batch_idx % 100 == 0:\n",
        "            print('Train Epoch: {} [{}/{} ({:.0f}%)]\\tLoss: {:.6f}'.format(\n",
        "                epoch, batch_idx * len(data), len(train_loader.dataset),\n",
        "                100. * batch_idx / len(train_loader), loss.item()))\n",
        "\n",
        "def test():\n",
        "    network.eval()\n",
        "    test_loss = 0\n",
        "    correct = 0\n",
        "    for data, target in test_loader:\n",
        "        #data, target = Variable(data, volatile=True), Variable(target)\n",
        "        output = network(data)\n",
        "        test_loss += F.cross_entropy(output, target, reduction='sum').item() # sum up batch loss\n",
        "        #test_loss += F.cross_entropy(output, target, sum=True).item() # sum up batch loss\n",
        "        pred = output.data.max(1, keepdim=True)[1] # get the index of the max log-probability\n",
        "        correct += pred.eq(target.data.view_as(pred)).cpu().sum()\n",
        "\n",
        "    test_loss /= len(test_loader.dataset)\n",
        "    print('\\nTest set: Average loss: {:.4f}, Accuracy: {}/{} ({:.0f}%)\\n'.format(\n",
        "        test_loss, correct, len(test_loader.dataset),\n",
        "        100. * correct / len(test_loader.dataset)))\n"
      ],
      "execution_count": 5,
      "outputs": []
    },
    {
      "cell_type": "code",
      "metadata": {
        "id": "c52XmoeCKja2",
        "colab": {
          "base_uri": "https://localhost:8080/"
        },
        "outputId": "1451aa6b-d7fb-450b-80ef-7f85a4dbb5b0"
      },
      "source": [
        "# Training\n",
        "for i in range(1, epochs+1):\n",
        "  train(i)"
      ],
      "execution_count": 6,
      "outputs": [
        {
          "output_type": "stream",
          "text": [
            "Train Epoch: 1 [0/60000 (0%)]\tLoss: 2.548371\n",
            "Train Epoch: 1 [6400/60000 (11%)]\tLoss: 0.582774\n",
            "Train Epoch: 1 [12800/60000 (21%)]\tLoss: 0.667702\n",
            "Train Epoch: 1 [19200/60000 (32%)]\tLoss: 0.570466\n",
            "Train Epoch: 1 [25600/60000 (43%)]\tLoss: 0.418910\n",
            "Train Epoch: 1 [32000/60000 (53%)]\tLoss: 0.428019\n",
            "Train Epoch: 1 [38400/60000 (64%)]\tLoss: 0.276096\n",
            "Train Epoch: 1 [44800/60000 (75%)]\tLoss: 0.398251\n",
            "Train Epoch: 1 [51200/60000 (85%)]\tLoss: 0.156350\n",
            "Train Epoch: 1 [57600/60000 (96%)]\tLoss: 0.312959\n",
            "Train Epoch: 2 [0/60000 (0%)]\tLoss: 0.278143\n",
            "Train Epoch: 2 [6400/60000 (11%)]\tLoss: 0.475333\n",
            "Train Epoch: 2 [12800/60000 (21%)]\tLoss: 0.303438\n",
            "Train Epoch: 2 [19200/60000 (32%)]\tLoss: 0.319893\n",
            "Train Epoch: 2 [25600/60000 (43%)]\tLoss: 0.230118\n",
            "Train Epoch: 2 [32000/60000 (53%)]\tLoss: 0.405811\n",
            "Train Epoch: 2 [38400/60000 (64%)]\tLoss: 0.213855\n",
            "Train Epoch: 2 [44800/60000 (75%)]\tLoss: 0.275297\n",
            "Train Epoch: 2 [51200/60000 (85%)]\tLoss: 0.207105\n",
            "Train Epoch: 2 [57600/60000 (96%)]\tLoss: 0.585368\n",
            "Train Epoch: 3 [0/60000 (0%)]\tLoss: 0.276079\n",
            "Train Epoch: 3 [6400/60000 (11%)]\tLoss: 0.316217\n",
            "Train Epoch: 3 [12800/60000 (21%)]\tLoss: 0.335520\n",
            "Train Epoch: 3 [19200/60000 (32%)]\tLoss: 0.268610\n",
            "Train Epoch: 3 [25600/60000 (43%)]\tLoss: 0.286888\n",
            "Train Epoch: 3 [32000/60000 (53%)]\tLoss: 0.359784\n",
            "Train Epoch: 3 [38400/60000 (64%)]\tLoss: 0.390602\n",
            "Train Epoch: 3 [44800/60000 (75%)]\tLoss: 0.374574\n",
            "Train Epoch: 3 [51200/60000 (85%)]\tLoss: 0.350629\n",
            "Train Epoch: 3 [57600/60000 (96%)]\tLoss: 0.323931\n",
            "Train Epoch: 4 [0/60000 (0%)]\tLoss: 0.221565\n",
            "Train Epoch: 4 [6400/60000 (11%)]\tLoss: 0.265888\n",
            "Train Epoch: 4 [12800/60000 (21%)]\tLoss: 0.273883\n",
            "Train Epoch: 4 [19200/60000 (32%)]\tLoss: 0.318597\n",
            "Train Epoch: 4 [25600/60000 (43%)]\tLoss: 0.256880\n",
            "Train Epoch: 4 [32000/60000 (53%)]\tLoss: 0.446072\n",
            "Train Epoch: 4 [38400/60000 (64%)]\tLoss: 0.232958\n",
            "Train Epoch: 4 [44800/60000 (75%)]\tLoss: 0.394769\n",
            "Train Epoch: 4 [51200/60000 (85%)]\tLoss: 0.314072\n",
            "Train Epoch: 4 [57600/60000 (96%)]\tLoss: 0.257857\n",
            "Train Epoch: 5 [0/60000 (0%)]\tLoss: 0.382479\n",
            "Train Epoch: 5 [6400/60000 (11%)]\tLoss: 0.227691\n",
            "Train Epoch: 5 [12800/60000 (21%)]\tLoss: 0.224502\n",
            "Train Epoch: 5 [19200/60000 (32%)]\tLoss: 0.403490\n",
            "Train Epoch: 5 [25600/60000 (43%)]\tLoss: 0.119111\n",
            "Train Epoch: 5 [32000/60000 (53%)]\tLoss: 0.292352\n",
            "Train Epoch: 5 [38400/60000 (64%)]\tLoss: 0.357935\n",
            "Train Epoch: 5 [44800/60000 (75%)]\tLoss: 0.237694\n",
            "Train Epoch: 5 [51200/60000 (85%)]\tLoss: 0.276768\n",
            "Train Epoch: 5 [57600/60000 (96%)]\tLoss: 0.314026\n",
            "Train Epoch: 6 [0/60000 (0%)]\tLoss: 0.235087\n",
            "Train Epoch: 6 [6400/60000 (11%)]\tLoss: 0.285711\n",
            "Train Epoch: 6 [12800/60000 (21%)]\tLoss: 0.209577\n",
            "Train Epoch: 6 [19200/60000 (32%)]\tLoss: 0.364313\n",
            "Train Epoch: 6 [25600/60000 (43%)]\tLoss: 0.245649\n",
            "Train Epoch: 6 [32000/60000 (53%)]\tLoss: 0.175840\n",
            "Train Epoch: 6 [38400/60000 (64%)]\tLoss: 0.227246\n",
            "Train Epoch: 6 [44800/60000 (75%)]\tLoss: 0.221411\n",
            "Train Epoch: 6 [51200/60000 (85%)]\tLoss: 0.222612\n",
            "Train Epoch: 6 [57600/60000 (96%)]\tLoss: 0.222500\n",
            "Train Epoch: 7 [0/60000 (0%)]\tLoss: 0.231088\n",
            "Train Epoch: 7 [6400/60000 (11%)]\tLoss: 0.317701\n",
            "Train Epoch: 7 [12800/60000 (21%)]\tLoss: 0.205614\n",
            "Train Epoch: 7 [19200/60000 (32%)]\tLoss: 0.416936\n",
            "Train Epoch: 7 [25600/60000 (43%)]\tLoss: 0.200431\n",
            "Train Epoch: 7 [32000/60000 (53%)]\tLoss: 0.356382\n",
            "Train Epoch: 7 [38400/60000 (64%)]\tLoss: 0.176390\n",
            "Train Epoch: 7 [44800/60000 (75%)]\tLoss: 0.184817\n",
            "Train Epoch: 7 [51200/60000 (85%)]\tLoss: 0.398056\n",
            "Train Epoch: 7 [57600/60000 (96%)]\tLoss: 0.190294\n",
            "Train Epoch: 8 [0/60000 (0%)]\tLoss: 0.379797\n",
            "Train Epoch: 8 [6400/60000 (11%)]\tLoss: 0.429317\n",
            "Train Epoch: 8 [12800/60000 (21%)]\tLoss: 0.323457\n",
            "Train Epoch: 8 [19200/60000 (32%)]\tLoss: 0.230822\n",
            "Train Epoch: 8 [25600/60000 (43%)]\tLoss: 0.143978\n",
            "Train Epoch: 8 [32000/60000 (53%)]\tLoss: 0.311236\n",
            "Train Epoch: 8 [38400/60000 (64%)]\tLoss: 0.358560\n",
            "Train Epoch: 8 [44800/60000 (75%)]\tLoss: 0.453096\n",
            "Train Epoch: 8 [51200/60000 (85%)]\tLoss: 0.475630\n",
            "Train Epoch: 8 [57600/60000 (96%)]\tLoss: 0.328238\n",
            "Train Epoch: 9 [0/60000 (0%)]\tLoss: 0.087585\n",
            "Train Epoch: 9 [6400/60000 (11%)]\tLoss: 0.218874\n",
            "Train Epoch: 9 [12800/60000 (21%)]\tLoss: 0.347658\n",
            "Train Epoch: 9 [19200/60000 (32%)]\tLoss: 0.196877\n",
            "Train Epoch: 9 [25600/60000 (43%)]\tLoss: 0.247325\n",
            "Train Epoch: 9 [32000/60000 (53%)]\tLoss: 0.151277\n",
            "Train Epoch: 9 [38400/60000 (64%)]\tLoss: 0.241576\n",
            "Train Epoch: 9 [44800/60000 (75%)]\tLoss: 0.218244\n",
            "Train Epoch: 9 [51200/60000 (85%)]\tLoss: 0.338398\n",
            "Train Epoch: 9 [57600/60000 (96%)]\tLoss: 0.287018\n",
            "Train Epoch: 10 [0/60000 (0%)]\tLoss: 0.295768\n",
            "Train Epoch: 10 [6400/60000 (11%)]\tLoss: 0.358284\n",
            "Train Epoch: 10 [12800/60000 (21%)]\tLoss: 0.198632\n",
            "Train Epoch: 10 [19200/60000 (32%)]\tLoss: 0.330160\n",
            "Train Epoch: 10 [25600/60000 (43%)]\tLoss: 0.213465\n",
            "Train Epoch: 10 [32000/60000 (53%)]\tLoss: 0.113715\n",
            "Train Epoch: 10 [38400/60000 (64%)]\tLoss: 0.240337\n",
            "Train Epoch: 10 [44800/60000 (75%)]\tLoss: 0.163700\n",
            "Train Epoch: 10 [51200/60000 (85%)]\tLoss: 0.313383\n",
            "Train Epoch: 10 [57600/60000 (96%)]\tLoss: 0.364728\n"
          ],
          "name": "stdout"
        }
      ]
    },
    {
      "cell_type": "code",
      "metadata": {
        "id": "4Nfl06zkKmfX",
        "colab": {
          "base_uri": "https://localhost:8080/"
        },
        "outputId": "d3eaf441-de6b-495e-b748-0f187acbf3c9"
      },
      "source": [
        "# Testing\n",
        "test()"
      ],
      "execution_count": 7,
      "outputs": [
        {
          "output_type": "stream",
          "text": [
            "\n",
            "Test set: Average loss: 0.2747, Accuracy: 9222/10000 (92%)\n",
            "\n"
          ],
          "name": "stdout"
        }
      ]
    },
    {
      "cell_type": "markdown",
      "metadata": {
        "id": "_TguAK3vIgJ_"
      },
      "source": [
        "# **Answer (1):**\n"
      ]
    },
    {
      "cell_type": "code",
      "metadata": {
        "id": "gtQ-2AnnxCCE"
      },
      "source": [
        "import matplotlib.pyplot as plt\n",
        "import numpy as np\n",
        "import torchvision\n",
        "\n",
        "def imshow(img):\n",
        "    if dataset =='mnist':\n",
        "        img = img*0.3081 + 0.1307 # unnormalize\n",
        "    elif dataset == 'cifar10':\n",
        "        img = img / 2 + 0.5     # unnormalize\n",
        "    npimg = img.numpy()\n",
        "    plt.imshow(np.transpose(npimg, (1, 2, 0)))\n",
        "    plt.show()"
      ],
      "execution_count": 8,
      "outputs": []
    },
    {
      "cell_type": "code",
      "metadata": {
        "id": "a1rXPt9VF4fo"
      },
      "source": [
        "dataset = 'mnist'\n",
        "\n",
        "data_transform = transforms.Compose([transforms.ToTensor(),transforms.Normalize((0.1307,), (0.3081,))])\n",
        "trainset = datasets.MNIST(root='.', train=True, download=True, transform=data_transform)\n",
        "testset = datasets.MNIST(root='.', train=False, download=True, transform=data_transform)\n",
        "\n",
        "train_loader = torch.utils.data.DataLoader(trainset, batch_size=batch_size, shuffle=True, num_workers=0)\n",
        "test_loader  = torch.utils.data.DataLoader(testset, batch_size=batch_size, shuffle=False, num_workers=0)"
      ],
      "execution_count": 9,
      "outputs": []
    },
    {
      "cell_type": "code",
      "metadata": {
        "colab": {
          "base_uri": "https://localhost:8080/",
          "height": 265
        },
        "id": "Owq8OyqfxM3J",
        "outputId": "62205f6b-c0df-4b8b-f00a-6810d4a2d40d"
      },
      "source": [
        "# get some random training images for mnist dataset\n",
        "dataiter = iter(train_loader)\n",
        "images, labels = dataiter.next()\n",
        "imshow(torchvision.utils.make_grid(images[0]))"
      ],
      "execution_count": 10,
      "outputs": [
        {
          "output_type": "display_data",
          "data": {
            "image/png": "[encoded data removed]",
            "text/plain": [
              "<Figure size 432x288 with 1 Axes>"
            ]
          },
          "metadata": {
            "tags": [],
            "needs_background": "light"
          }
        }
      ]
    },
    {
      "cell_type": "code",
      "metadata": {
        "colab": {
          "base_uri": "https://localhost:8080/",
          "height": 265
        },
        "id": "ZZ6Hw-OexWM-",
        "outputId": "5a2dd574-5ff1-44e2-aeee-34ea974e9706"
      },
      "source": [
        "# get some random test images for mnist dataset\n",
        "dataiter = iter(test_loader)\n",
        "images, labels = dataiter.next()\n",
        "imshow(torchvision.utils.make_grid(images[0]))"
      ],
      "execution_count": 11,
      "outputs": [
        {
          "output_type": "display_data",
          "data": {
            "image/png": "[encoded data removed]",
            "text/plain": [
              "<Figure size 432x288 with 1 Axes>"
            ]
          },
          "metadata": {
            "tags": [],
            "needs_background": "light"
          }
        }
      ]
    },
    {
      "cell_type": "code",
      "metadata": {
        "colab": {
          "base_uri": "https://localhost:8080/"
        },
        "id": "jd_P8PyqGMiG",
        "outputId": "d17906ea-f012-4c7f-9ddb-b49fcfdfb221"
      },
      "source": [
        "dataset = 'cifar10'\n",
        "\n",
        "data_transform = transforms.Compose([ transforms.ToTensor(),transforms.Normalize((0.5, 0.5, 0.5), (0.5, 0.5, 0.5)),])\n",
        "trainset = datasets.CIFAR10(root='.', train=True, download=True, transform=data_transform)\n",
        "testset = datasets.CIFAR10(root='.', train=False, download=True, transform=data_transform)\n",
        "\n",
        "train_loader = torch.utils.data.DataLoader(trainset, batch_size=batch_size, shuffle=True, num_workers=0)\n",
        "test_loader  = torch.utils.data.DataLoader(testset, batch_size=batch_size, shuffle=False, num_workers=0)"
      ],
      "execution_count": 12,
      "outputs": [
        {
          "output_type": "stream",
          "text": [
            "Files already downloaded and verified\n",
            "Files already downloaded and verified\n"
          ],
          "name": "stdout"
        }
      ]
    },
    {
      "cell_type": "code",
      "metadata": {
        "id": "8vmg1UeoxchW",
        "colab": {
          "base_uri": "https://localhost:8080/",
          "height": 266
        },
        "outputId": "dd99a130-b42b-4f2f-b7e6-9d58faf81022"
      },
      "source": [
        "# get some random training images for cifar10 dataset\n",
        "dataiter = iter(train_loader)\n",
        "images, labels = dataiter.next()\n",
        "imshow(torchvision.utils.make_grid(images[0]))"
      ],
      "execution_count": 13,
      "outputs": [
        {
          "output_type": "display_data",
          "data": {
            "image/png": "[encoded data removed]",
            "text/plain": [
              "<Figure size 432x288 with 1 Axes>"
            ]
          },
          "metadata": {
            "tags": [],
            "needs_background": "light"
          }
        }
      ]
    },
    {
      "cell_type": "code",
      "metadata": {
        "colab": {
          "base_uri": "https://localhost:8080/",
          "height": 266
        },
        "id": "CM6ccErm5LWJ",
        "outputId": "57d8c0ea-afc6-46b1-de81-1fe0d692d358"
      },
      "source": [
        "# get some random test images for cifar10 dataset\n",
        "dataiter = iter(test_loader)\n",
        "images, labels = dataiter.next()\n",
        "imshow(torchvision.utils.make_grid(images[0]))"
      ],
      "execution_count": 14,
      "outputs": [
        {
          "output_type": "display_data",
          "data": {
            "image/png": "[encoded data removed]",
            "text/plain": [
              "<Figure size 432x288 with 1 Axes>"
            ]
          },
          "metadata": {
            "tags": [],
            "needs_background": "light"
          }
        }
      ]
    },
    {
      "cell_type": "markdown",
      "metadata": {
        "id": "feeFGXsqI8hP"
      },
      "source": [
        "# **Answer (2):**\n"
      ]
    },
    {
      "cell_type": "code",
      "metadata": {
        "id": "YAPYAPjuGdyM"
      },
      "source": [
        "dataset = 'mnist'\n",
        "\n",
        "data_transform = transforms.Compose([transforms.ToTensor(),transforms.Normalize((0.1307,), (0.3081,))])\n",
        "trainset = datasets.MNIST(root='.', train=True, download=True, transform=data_transform)\n",
        "testset = datasets.MNIST(root='.', train=False, download=True, transform=data_transform)\n",
        "\n",
        "train_loader = torch.utils.data.DataLoader(trainset, batch_size=batch_size, shuffle=True, num_workers=0)\n",
        "test_loader  = torch.utils.data.DataLoader(testset, batch_size=batch_size, shuffle=False, num_workers=0)"
      ],
      "execution_count": 15,
      "outputs": []
    },
    {
      "cell_type": "markdown",
      "metadata": {
        "id": "ylfJWCNsGCoq"
      },
      "source": [
        "## (a)"
      ]
    },
    {
      "cell_type": "code",
      "metadata": {
        "id": "erjyHuEgDXV6"
      },
      "source": [
        "# plot out the network weights as images (one for each output, of size 28 by 28) after the last epoch.\n",
        "def plot_network_weights(num_outputs, size):\n",
        "    for m in network.modules():\n",
        "        if isinstance(m, nn.Linear):           \n",
        "            imshow(torchvision.utils.make_grid(m.weight.data.cpu().view(num_outputs,1,size,size),normalize=True, scale_each=True))"
      ],
      "execution_count": 16,
      "outputs": []
    },
    {
      "cell_type": "code",
      "metadata": {
        "colab": {
          "base_uri": "https://localhost:8080/",
          "height": 137
        },
        "id": "7thzO-muHe2b",
        "outputId": "33c4c78a-8f65-4a02-8b5b-b91116806395"
      },
      "source": [
        "plot_network_weights(10,28)"
      ],
      "execution_count": 17,
      "outputs": [
        {
          "output_type": "display_data",
          "data": {
            "image/png": "[encoded data removed]",
            "text/plain": [
              "<Figure size 432x288 with 1 Axes>"
            ]
          },
          "metadata": {
            "tags": [],
            "needs_background": "light"
          }
        }
      ]
    },
    {
      "cell_type": "markdown",
      "metadata": {
        "id": "OR3vm3lqGFpS"
      },
      "source": [
        "## (b)"
      ]
    },
    {
      "cell_type": "code",
      "metadata": {
        "id": "2WoeoNsKHw67"
      },
      "source": [
        "import torch.utils.data.sampler as samplers\n",
        "\n",
        "class SubsetSampler(samplers.Sampler):\n",
        "    def __init__(self, data_source, num_samples):\n",
        "        self.data_source = data_source\n",
        "        if num_samples < len(self.data_source):\n",
        "            self.num_samples = num_samples\n",
        "        else:\n",
        "            self.num_samples = len(self.data_source)\n",
        "            \n",
        "    def __iter__(self):\n",
        "        return iter(range(self.num_samples))\n",
        "\n",
        "    def __len__(self):\n",
        "        return self.num_samples"
      ],
      "execution_count": 18,
      "outputs": []
    },
    {
      "cell_type": "code",
      "metadata": {
        "id": "JVtTfbLRcmAh"
      },
      "source": [
        "examples = 50\n",
        "train_loader = torch.utils.data.DataLoader(trainset, batch_size = batch_size, shuffle = False, sampler = SubsetSampler(trainset, examples), num_workers = 0)\n",
        "test_loader  = torch.utils.data.DataLoader(testset, batch_size = batch_size, shuffle = False, sampler = SubsetSampler(testset, examples), num_workers = 0)\n",
        "\n",
        "network = Net(num_inputs, num_outputs)\n",
        "optimizer = optim.SGD(network.parameters(), lr = lr)"
      ],
      "execution_count": 19,
      "outputs": []
    },
    {
      "cell_type": "code",
      "metadata": {
        "colab": {
          "base_uri": "https://localhost:8080/"
        },
        "id": "S92kIkATg5LF",
        "outputId": "7224ae4f-91ac-4a73-ec76-52c95cf7dc43"
      },
      "source": [
        "epochs = 70\n",
        "# Training\n",
        "for i in range(1, epochs+1):\n",
        "  train(i)"
      ],
      "execution_count": 20,
      "outputs": [
        {
          "output_type": "stream",
          "text": [
            "Train Epoch: 1 [0/60000 (0%)]\tLoss: 2.488846\n",
            "Train Epoch: 2 [0/60000 (0%)]\tLoss: 2.243447\n",
            "Train Epoch: 3 [0/60000 (0%)]\tLoss: 2.045892\n",
            "Train Epoch: 4 [0/60000 (0%)]\tLoss: 1.878744\n",
            "Train Epoch: 5 [0/60000 (0%)]\tLoss: 1.733215\n",
            "Train Epoch: 6 [0/60000 (0%)]\tLoss: 1.604429\n",
            "Train Epoch: 7 [0/60000 (0%)]\tLoss: 1.489621\n",
            "Train Epoch: 8 [0/60000 (0%)]\tLoss: 1.386897\n",
            "Train Epoch: 9 [0/60000 (0%)]\tLoss: 1.294721\n",
            "Train Epoch: 10 [0/60000 (0%)]\tLoss: 1.211763\n",
            "Train Epoch: 11 [0/60000 (0%)]\tLoss: 1.136876\n",
            "Train Epoch: 12 [0/60000 (0%)]\tLoss: 1.069077\n",
            "Train Epoch: 13 [0/60000 (0%)]\tLoss: 1.007524\n",
            "Train Epoch: 14 [0/60000 (0%)]\tLoss: 0.951491\n",
            "Train Epoch: 15 [0/60000 (0%)]\tLoss: 0.900351\n",
            "Train Epoch: 16 [0/60000 (0%)]\tLoss: 0.853559\n",
            "Train Epoch: 17 [0/60000 (0%)]\tLoss: 0.810639\n",
            "Train Epoch: 18 [0/60000 (0%)]\tLoss: 0.771174\n",
            "Train Epoch: 19 [0/60000 (0%)]\tLoss: 0.734800\n",
            "Train Epoch: 20 [0/60000 (0%)]\tLoss: 0.701197\n",
            "Train Epoch: 21 [0/60000 (0%)]\tLoss: 0.670084\n",
            "Train Epoch: 22 [0/60000 (0%)]\tLoss: 0.641215\n",
            "Train Epoch: 23 [0/60000 (0%)]\tLoss: 0.614371\n",
            "Train Epoch: 24 [0/60000 (0%)]\tLoss: 0.589361\n",
            "Train Epoch: 25 [0/60000 (0%)]\tLoss: 0.566015\n",
            "Train Epoch: 26 [0/60000 (0%)]\tLoss: 0.544182\n",
            "Train Epoch: 27 [0/60000 (0%)]\tLoss: 0.523731\n",
            "Train Epoch: 28 [0/60000 (0%)]\tLoss: 0.504540\n",
            "Train Epoch: 29 [0/60000 (0%)]\tLoss: 0.486505\n",
            "Train Epoch: 30 [0/60000 (0%)]\tLoss: 0.469531\n",
            "Train Epoch: 31 [0/60000 (0%)]\tLoss: 0.453532\n",
            "Train Epoch: 32 [0/60000 (0%)]\tLoss: 0.438433\n",
            "Train Epoch: 33 [0/60000 (0%)]\tLoss: 0.424164\n",
            "Train Epoch: 34 [0/60000 (0%)]\tLoss: 0.410664\n",
            "Train Epoch: 35 [0/60000 (0%)]\tLoss: 0.397876\n",
            "Train Epoch: 36 [0/60000 (0%)]\tLoss: 0.385749\n",
            "Train Epoch: 37 [0/60000 (0%)]\tLoss: 0.374237\n",
            "Train Epoch: 38 [0/60000 (0%)]\tLoss: 0.363297\n",
            "Train Epoch: 39 [0/60000 (0%)]\tLoss: 0.352893\n",
            "Train Epoch: 40 [0/60000 (0%)]\tLoss: 0.342987\n",
            "Train Epoch: 41 [0/60000 (0%)]\tLoss: 0.333548\n",
            "Train Epoch: 42 [0/60000 (0%)]\tLoss: 0.324545\n",
            "Train Epoch: 43 [0/60000 (0%)]\tLoss: 0.315953\n",
            "Train Epoch: 44 [0/60000 (0%)]\tLoss: 0.307746\n",
            "Train Epoch: 45 [0/60000 (0%)]\tLoss: 0.299900\n",
            "Train Epoch: 46 [0/60000 (0%)]\tLoss: 0.292394\n",
            "Train Epoch: 47 [0/60000 (0%)]\tLoss: 0.285209\n",
            "Train Epoch: 48 [0/60000 (0%)]\tLoss: 0.278325\n",
            "Train Epoch: 49 [0/60000 (0%)]\tLoss: 0.271727\n",
            "Train Epoch: 50 [0/60000 (0%)]\tLoss: 0.265397\n",
            "Train Epoch: 51 [0/60000 (0%)]\tLoss: 0.259322\n",
            "Train Epoch: 52 [0/60000 (0%)]\tLoss: 0.253487\n",
            "Train Epoch: 53 [0/60000 (0%)]\tLoss: 0.247880\n",
            "Train Epoch: 54 [0/60000 (0%)]\tLoss: 0.242489\n",
            "Train Epoch: 55 [0/60000 (0%)]\tLoss: 0.237302\n",
            "Train Epoch: 56 [0/60000 (0%)]\tLoss: 0.232309\n",
            "Train Epoch: 57 [0/60000 (0%)]\tLoss: 0.227500\n",
            "Train Epoch: 58 [0/60000 (0%)]\tLoss: 0.222867\n",
            "Train Epoch: 59 [0/60000 (0%)]\tLoss: 0.218399\n",
            "Train Epoch: 60 [0/60000 (0%)]\tLoss: 0.214090\n",
            "Train Epoch: 61 [0/60000 (0%)]\tLoss: 0.209932\n",
            "Train Epoch: 62 [0/60000 (0%)]\tLoss: 0.205916\n",
            "Train Epoch: 63 [0/60000 (0%)]\tLoss: 0.202038\n",
            "Train Epoch: 64 [0/60000 (0%)]\tLoss: 0.198290\n",
            "Train Epoch: 65 [0/60000 (0%)]\tLoss: 0.194666\n",
            "Train Epoch: 66 [0/60000 (0%)]\tLoss: 0.191161\n",
            "Train Epoch: 67 [0/60000 (0%)]\tLoss: 0.187769\n",
            "Train Epoch: 68 [0/60000 (0%)]\tLoss: 0.184486\n",
            "Train Epoch: 69 [0/60000 (0%)]\tLoss: 0.181306\n",
            "Train Epoch: 70 [0/60000 (0%)]\tLoss: 0.178225\n"
          ],
          "name": "stdout"
        }
      ]
    },
    {
      "cell_type": "code",
      "metadata": {
        "colab": {
          "base_uri": "https://localhost:8080/"
        },
        "id": "HNa9feGYg_gt",
        "outputId": "1f3c8089-5abd-4314-f28d-401430a973b1"
      },
      "source": [
        "# Testing\n",
        "test()"
      ],
      "execution_count": 21,
      "outputs": [
        {
          "output_type": "stream",
          "text": [
            "\n",
            "Test set: Average loss: 0.0058, Accuracy: 27/10000 (0%)\n",
            "\n"
          ],
          "name": "stdout"
        }
      ]
    },
    {
      "cell_type": "code",
      "metadata": {
        "colab": {
          "base_uri": "https://localhost:8080/",
          "height": 137
        },
        "id": "ZQHLkVc6hE4S",
        "outputId": "a81c71d6-650d-4dec-d9d9-6c6ff78ad809"
      },
      "source": [
        "plot_network_weights(10,28)"
      ],
      "execution_count": 22,
      "outputs": [
        {
          "output_type": "display_data",
          "data": {
            "image/png": "[encoded data removed]",
            "text/plain": [
              "<Figure size 432x288 with 1 Axes>"
            ]
          },
          "metadata": {
            "tags": [],
            "needs_background": "light"
          }
        }
      ]
    },
    {
      "cell_type": "markdown",
      "metadata": {
        "id": "en_GCPLkQ_00"
      },
      "source": [
        "# **Answer (3):**\n"
      ]
    },
    {
      "cell_type": "markdown",
      "metadata": {
        "id": "VjRV3TSi_iez"
      },
      "source": [
        "## (a) "
      ]
    },
    {
      "cell_type": "code",
      "metadata": {
        "id": "QyinTKo6_hnx"
      },
      "source": [
        "train_loader = torch.utils.data.DataLoader(trainset, batch_size = batch_size, shuffle = True, num_workers = 0)\n",
        "test_loader  = torch.utils.data.DataLoader(testset, batch_size = batch_size, shuffle = False, num_workers = 0)"
      ],
      "execution_count": 23,
      "outputs": []
    },
    {
      "cell_type": "code",
      "metadata": {
        "id": "Eb9-Ic0kAt42"
      },
      "source": [
        "class Net(nn.Module):\n",
        "    def __init__(self, num_inputs, num_outputs, H):\n",
        "        super(Net, self).__init__()\n",
        "        self.fc1 = nn.Linear(num_inputs, H)\n",
        "        self.fc2 = nn.Linear(H, num_outputs)\n",
        "\n",
        "    def forward(self, x):\n",
        "        x = x.view(-1, num_inputs) # reshape input to batch x num_inputs\n",
        "        x = self.fc1(x)\n",
        "        x = torch.tanh(x)\n",
        "        x = self.fc2(x)\n",
        "        return x"
      ],
      "execution_count": 24,
      "outputs": []
    },
    {
      "cell_type": "code",
      "metadata": {
        "id": "mxRy5ZvsAuMl"
      },
      "source": [
        "#Network with 1000 hidden units and a tanh non-linearity. \n",
        "network = Net(num_inputs, num_outputs, 1000)\n",
        "optimizer = optim.SGD(network.parameters(), lr=lr)"
      ],
      "execution_count": 25,
      "outputs": []
    },
    {
      "cell_type": "code",
      "metadata": {
        "colab": {
          "base_uri": "https://localhost:8080/"
        },
        "id": "1XD_UqpDA8My",
        "outputId": "3ebf5b27-0e65-40ae-8a5d-5912aed3895f"
      },
      "source": [
        "#Train the model for 10 epochs\n",
        "epochs = 10\n",
        "# Training\n",
        "for i in range(1, epochs+1):\n",
        "  train(i)"
      ],
      "execution_count": 26,
      "outputs": [
        {
          "output_type": "stream",
          "text": [
            "Train Epoch: 1 [0/60000 (0%)]\tLoss: 2.382694\n",
            "Train Epoch: 1 [6400/60000 (11%)]\tLoss: 0.891996\n",
            "Train Epoch: 1 [12800/60000 (21%)]\tLoss: 0.614177\n",
            "Train Epoch: 1 [19200/60000 (32%)]\tLoss: 0.661449\n",
            "Train Epoch: 1 [25600/60000 (43%)]\tLoss: 0.330679\n",
            "Train Epoch: 1 [32000/60000 (53%)]\tLoss: 0.270771\n",
            "Train Epoch: 1 [38400/60000 (64%)]\tLoss: 0.476352\n",
            "Train Epoch: 1 [44800/60000 (75%)]\tLoss: 0.499201\n",
            "Train Epoch: 1 [51200/60000 (85%)]\tLoss: 0.549991\n",
            "Train Epoch: 1 [57600/60000 (96%)]\tLoss: 0.195719\n",
            "Train Epoch: 2 [0/60000 (0%)]\tLoss: 0.305866\n",
            "Train Epoch: 2 [6400/60000 (11%)]\tLoss: 0.330009\n",
            "Train Epoch: 2 [12800/60000 (21%)]\tLoss: 0.328167\n",
            "Train Epoch: 2 [19200/60000 (32%)]\tLoss: 0.296660\n",
            "Train Epoch: 2 [25600/60000 (43%)]\tLoss: 0.412276\n",
            "Train Epoch: 2 [32000/60000 (53%)]\tLoss: 0.419537\n",
            "Train Epoch: 2 [38400/60000 (64%)]\tLoss: 0.351920\n",
            "Train Epoch: 2 [44800/60000 (75%)]\tLoss: 0.241299\n",
            "Train Epoch: 2 [51200/60000 (85%)]\tLoss: 0.241195\n",
            "Train Epoch: 2 [57600/60000 (96%)]\tLoss: 0.401343\n",
            "Train Epoch: 3 [0/60000 (0%)]\tLoss: 0.207065\n",
            "Train Epoch: 3 [6400/60000 (11%)]\tLoss: 0.249739\n",
            "Train Epoch: 3 [12800/60000 (21%)]\tLoss: 0.138240\n",
            "Train Epoch: 3 [19200/60000 (32%)]\tLoss: 0.242210\n",
            "Train Epoch: 3 [25600/60000 (43%)]\tLoss: 0.485257\n",
            "Train Epoch: 3 [32000/60000 (53%)]\tLoss: 0.189097\n",
            "Train Epoch: 3 [38400/60000 (64%)]\tLoss: 0.441967\n",
            "Train Epoch: 3 [44800/60000 (75%)]\tLoss: 0.306394\n",
            "Train Epoch: 3 [51200/60000 (85%)]\tLoss: 0.394343\n",
            "Train Epoch: 3 [57600/60000 (96%)]\tLoss: 0.197473\n",
            "Train Epoch: 4 [0/60000 (0%)]\tLoss: 0.289253\n",
            "Train Epoch: 4 [6400/60000 (11%)]\tLoss: 0.220433\n",
            "Train Epoch: 4 [12800/60000 (21%)]\tLoss: 0.283613\n",
            "Train Epoch: 4 [19200/60000 (32%)]\tLoss: 0.351937\n",
            "Train Epoch: 4 [25600/60000 (43%)]\tLoss: 0.170766\n",
            "Train Epoch: 4 [32000/60000 (53%)]\tLoss: 0.312468\n",
            "Train Epoch: 4 [38400/60000 (64%)]\tLoss: 0.160625\n",
            "Train Epoch: 4 [44800/60000 (75%)]\tLoss: 0.218628\n",
            "Train Epoch: 4 [51200/60000 (85%)]\tLoss: 0.189468\n",
            "Train Epoch: 4 [57600/60000 (96%)]\tLoss: 0.301961\n",
            "Train Epoch: 5 [0/60000 (0%)]\tLoss: 0.217114\n",
            "Train Epoch: 5 [6400/60000 (11%)]\tLoss: 0.231052\n",
            "Train Epoch: 5 [12800/60000 (21%)]\tLoss: 0.240575\n",
            "Train Epoch: 5 [19200/60000 (32%)]\tLoss: 0.264695\n",
            "Train Epoch: 5 [25600/60000 (43%)]\tLoss: 0.280837\n",
            "Train Epoch: 5 [32000/60000 (53%)]\tLoss: 0.255838\n",
            "Train Epoch: 5 [38400/60000 (64%)]\tLoss: 0.340967\n",
            "Train Epoch: 5 [44800/60000 (75%)]\tLoss: 0.271184\n",
            "Train Epoch: 5 [51200/60000 (85%)]\tLoss: 0.129739\n",
            "Train Epoch: 5 [57600/60000 (96%)]\tLoss: 0.208619\n",
            "Train Epoch: 6 [0/60000 (0%)]\tLoss: 0.347321\n",
            "Train Epoch: 6 [6400/60000 (11%)]\tLoss: 0.177954\n",
            "Train Epoch: 6 [12800/60000 (21%)]\tLoss: 0.324539\n",
            "Train Epoch: 6 [19200/60000 (32%)]\tLoss: 0.213134\n",
            "Train Epoch: 6 [25600/60000 (43%)]\tLoss: 0.249063\n",
            "Train Epoch: 6 [32000/60000 (53%)]\tLoss: 0.135171\n",
            "Train Epoch: 6 [38400/60000 (64%)]\tLoss: 0.312468\n",
            "Train Epoch: 6 [44800/60000 (75%)]\tLoss: 0.353325\n",
            "Train Epoch: 6 [51200/60000 (85%)]\tLoss: 0.256708\n",
            "Train Epoch: 6 [57600/60000 (96%)]\tLoss: 0.244988\n",
            "Train Epoch: 7 [0/60000 (0%)]\tLoss: 0.309794\n",
            "Train Epoch: 7 [6400/60000 (11%)]\tLoss: 0.104356\n",
            "Train Epoch: 7 [12800/60000 (21%)]\tLoss: 0.260287\n",
            "Train Epoch: 7 [19200/60000 (32%)]\tLoss: 0.114613\n",
            "Train Epoch: 7 [25600/60000 (43%)]\tLoss: 0.197152\n",
            "Train Epoch: 7 [32000/60000 (53%)]\tLoss: 0.140798\n",
            "Train Epoch: 7 [38400/60000 (64%)]\tLoss: 0.296471\n",
            "Train Epoch: 7 [44800/60000 (75%)]\tLoss: 0.225649\n",
            "Train Epoch: 7 [51200/60000 (85%)]\tLoss: 0.072493\n",
            "Train Epoch: 7 [57600/60000 (96%)]\tLoss: 0.114583\n",
            "Train Epoch: 8 [0/60000 (0%)]\tLoss: 0.054904\n",
            "Train Epoch: 8 [6400/60000 (11%)]\tLoss: 0.163867\n",
            "Train Epoch: 8 [12800/60000 (21%)]\tLoss: 0.223853\n",
            "Train Epoch: 8 [19200/60000 (32%)]\tLoss: 0.171170\n",
            "Train Epoch: 8 [25600/60000 (43%)]\tLoss: 0.055288\n",
            "Train Epoch: 8 [32000/60000 (53%)]\tLoss: 0.186238\n",
            "Train Epoch: 8 [38400/60000 (64%)]\tLoss: 0.207091\n",
            "Train Epoch: 8 [44800/60000 (75%)]\tLoss: 0.123370\n",
            "Train Epoch: 8 [51200/60000 (85%)]\tLoss: 0.124991\n",
            "Train Epoch: 8 [57600/60000 (96%)]\tLoss: 0.248806\n",
            "Train Epoch: 9 [0/60000 (0%)]\tLoss: 0.306220\n",
            "Train Epoch: 9 [6400/60000 (11%)]\tLoss: 0.133204\n",
            "Train Epoch: 9 [12800/60000 (21%)]\tLoss: 0.256459\n",
            "Train Epoch: 9 [19200/60000 (32%)]\tLoss: 0.188255\n",
            "Train Epoch: 9 [25600/60000 (43%)]\tLoss: 0.104747\n",
            "Train Epoch: 9 [32000/60000 (53%)]\tLoss: 0.104486\n",
            "Train Epoch: 9 [38400/60000 (64%)]\tLoss: 0.246328\n",
            "Train Epoch: 9 [44800/60000 (75%)]\tLoss: 0.111022\n",
            "Train Epoch: 9 [51200/60000 (85%)]\tLoss: 0.206745\n",
            "Train Epoch: 9 [57600/60000 (96%)]\tLoss: 0.083901\n",
            "Train Epoch: 10 [0/60000 (0%)]\tLoss: 0.147309\n",
            "Train Epoch: 10 [6400/60000 (11%)]\tLoss: 0.334674\n",
            "Train Epoch: 10 [12800/60000 (21%)]\tLoss: 0.208907\n",
            "Train Epoch: 10 [19200/60000 (32%)]\tLoss: 0.151361\n",
            "Train Epoch: 10 [25600/60000 (43%)]\tLoss: 0.158668\n",
            "Train Epoch: 10 [32000/60000 (53%)]\tLoss: 0.217947\n",
            "Train Epoch: 10 [38400/60000 (64%)]\tLoss: 0.185613\n",
            "Train Epoch: 10 [44800/60000 (75%)]\tLoss: 0.111374\n",
            "Train Epoch: 10 [51200/60000 (85%)]\tLoss: 0.082813\n",
            "Train Epoch: 10 [57600/60000 (96%)]\tLoss: 0.096657\n"
          ],
          "name": "stdout"
        }
      ]
    },
    {
      "cell_type": "code",
      "metadata": {
        "colab": {
          "base_uri": "https://localhost:8080/"
        },
        "id": "4Z6FOwGKBtVo",
        "outputId": "5a5d6e18-8277-4281-a541-9325b3d2979d"
      },
      "source": [
        "# Testing\n",
        "test()"
      ],
      "execution_count": 27,
      "outputs": [
        {
          "output_type": "stream",
          "text": [
            "\n",
            "Test set: Average loss: 0.1634, Accuracy: 9529/10000 (95%)\n",
            "\n"
          ],
          "name": "stdout"
        }
      ]
    },
    {
      "cell_type": "markdown",
      "metadata": {
        "id": "dzCOky3CB3wd"
      },
      "source": [
        "## (b)"
      ]
    },
    {
      "cell_type": "code",
      "metadata": {
        "id": "RBIHF2QGB8b4"
      },
      "source": [
        "train_loader = torch.utils.data.DataLoader(trainset, batch_size = batch_size, shuffle = True, num_workers = 0)\n",
        "test_loader  = torch.utils.data.DataLoader(testset, batch_size = batch_size, shuffle = False, num_workers = 0)"
      ],
      "execution_count": 28,
      "outputs": []
    },
    {
      "cell_type": "code",
      "metadata": {
        "id": "AkEVWDDDFGam"
      },
      "source": [
        "network = Net(num_inputs, num_outputs, 1000)\n",
        "optimizer = optim.SGD(network.parameters(), lr=10) #The learning rate equal to 10"
      ],
      "execution_count": 29,
      "outputs": []
    },
    {
      "cell_type": "code",
      "metadata": {
        "colab": {
          "base_uri": "https://localhost:8080/"
        },
        "id": "LqZluGEoFKXT",
        "outputId": "e69fc0d1-fd68-4128-9f50-1459f969c49d"
      },
      "source": [
        "epochs = 10\n",
        "# Training\n",
        "for i in range(1, epochs+1):\n",
        "  train(i)"
      ],
      "execution_count": 30,
      "outputs": [
        {
          "output_type": "stream",
          "text": [
            "Train Epoch: 1 [0/60000 (0%)]\tLoss: 2.305893\n",
            "Train Epoch: 1 [6400/60000 (11%)]\tLoss: 1532.629395\n",
            "Train Epoch: 1 [12800/60000 (21%)]\tLoss: 411.121338\n",
            "Train Epoch: 1 [19200/60000 (32%)]\tLoss: 1347.235718\n",
            "Train Epoch: 1 [25600/60000 (43%)]\tLoss: 338.688660\n",
            "Train Epoch: 1 [32000/60000 (53%)]\tLoss: 280.012482\n",
            "Train Epoch: 1 [38400/60000 (64%)]\tLoss: 565.153931\n",
            "Train Epoch: 1 [44800/60000 (75%)]\tLoss: 413.150421\n",
            "Train Epoch: 1 [51200/60000 (85%)]\tLoss: 613.292847\n",
            "Train Epoch: 1 [57600/60000 (96%)]\tLoss: 417.701569\n",
            "Train Epoch: 2 [0/60000 (0%)]\tLoss: 90.628616\n",
            "Train Epoch: 2 [6400/60000 (11%)]\tLoss: 474.018616\n",
            "Train Epoch: 2 [12800/60000 (21%)]\tLoss: 76.489075\n",
            "Train Epoch: 2 [19200/60000 (32%)]\tLoss: 628.863159\n",
            "Train Epoch: 2 [25600/60000 (43%)]\tLoss: 121.709114\n",
            "Train Epoch: 2 [32000/60000 (53%)]\tLoss: 139.554230\n",
            "Train Epoch: 2 [38400/60000 (64%)]\tLoss: 378.797241\n",
            "Train Epoch: 2 [44800/60000 (75%)]\tLoss: 564.236694\n",
            "Train Epoch: 2 [51200/60000 (85%)]\tLoss: 333.240234\n",
            "Train Epoch: 2 [57600/60000 (96%)]\tLoss: 372.593048\n",
            "Train Epoch: 3 [0/60000 (0%)]\tLoss: 1123.012329\n",
            "Train Epoch: 3 [6400/60000 (11%)]\tLoss: 313.893829\n",
            "Train Epoch: 3 [12800/60000 (21%)]\tLoss: 287.564819\n",
            "Train Epoch: 3 [19200/60000 (32%)]\tLoss: 44.697674\n",
            "Train Epoch: 3 [25600/60000 (43%)]\tLoss: 207.075745\n",
            "Train Epoch: 3 [32000/60000 (53%)]\tLoss: 125.510788\n",
            "Train Epoch: 3 [38400/60000 (64%)]\tLoss: 390.129791\n",
            "Train Epoch: 3 [44800/60000 (75%)]\tLoss: 182.303284\n",
            "Train Epoch: 3 [51200/60000 (85%)]\tLoss: 256.503265\n",
            "Train Epoch: 3 [57600/60000 (96%)]\tLoss: 141.064651\n",
            "Train Epoch: 4 [0/60000 (0%)]\tLoss: 286.958069\n",
            "Train Epoch: 4 [6400/60000 (11%)]\tLoss: 189.803070\n",
            "Train Epoch: 4 [12800/60000 (21%)]\tLoss: 152.375000\n",
            "Train Epoch: 4 [19200/60000 (32%)]\tLoss: 358.049377\n",
            "Train Epoch: 4 [25600/60000 (43%)]\tLoss: 154.925964\n",
            "Train Epoch: 4 [32000/60000 (53%)]\tLoss: 202.873535\n",
            "Train Epoch: 4 [38400/60000 (64%)]\tLoss: 378.735840\n",
            "Train Epoch: 4 [44800/60000 (75%)]\tLoss: 103.145950\n",
            "Train Epoch: 4 [51200/60000 (85%)]\tLoss: 779.355469\n",
            "Train Epoch: 4 [57600/60000 (96%)]\tLoss: 187.808395\n",
            "Train Epoch: 5 [0/60000 (0%)]\tLoss: 341.027954\n",
            "Train Epoch: 5 [6400/60000 (11%)]\tLoss: 85.249908\n",
            "Train Epoch: 5 [12800/60000 (21%)]\tLoss: 297.474915\n",
            "Train Epoch: 5 [19200/60000 (32%)]\tLoss: 239.798950\n",
            "Train Epoch: 5 [25600/60000 (43%)]\tLoss: 99.917877\n",
            "Train Epoch: 5 [32000/60000 (53%)]\tLoss: 216.733353\n",
            "Train Epoch: 5 [38400/60000 (64%)]\tLoss: 386.999603\n",
            "Train Epoch: 5 [44800/60000 (75%)]\tLoss: 171.019135\n",
            "Train Epoch: 5 [51200/60000 (85%)]\tLoss: 317.778076\n",
            "Train Epoch: 5 [57600/60000 (96%)]\tLoss: 465.060577\n",
            "Train Epoch: 6 [0/60000 (0%)]\tLoss: 544.973450\n",
            "Train Epoch: 6 [6400/60000 (11%)]\tLoss: 78.397049\n",
            "Train Epoch: 6 [12800/60000 (21%)]\tLoss: 116.145943\n",
            "Train Epoch: 6 [19200/60000 (32%)]\tLoss: 369.283142\n",
            "Train Epoch: 6 [25600/60000 (43%)]\tLoss: 81.760818\n",
            "Train Epoch: 6 [32000/60000 (53%)]\tLoss: 244.698929\n",
            "Train Epoch: 6 [38400/60000 (64%)]\tLoss: 156.166962\n",
            "Train Epoch: 6 [44800/60000 (75%)]\tLoss: 275.812714\n",
            "Train Epoch: 6 [51200/60000 (85%)]\tLoss: 424.562622\n",
            "Train Epoch: 6 [57600/60000 (96%)]\tLoss: 230.673584\n",
            "Train Epoch: 7 [0/60000 (0%)]\tLoss: 384.592041\n",
            "Train Epoch: 7 [6400/60000 (11%)]\tLoss: 119.603928\n",
            "Train Epoch: 7 [12800/60000 (21%)]\tLoss: 405.326813\n",
            "Train Epoch: 7 [19200/60000 (32%)]\tLoss: 264.525360\n",
            "Train Epoch: 7 [25600/60000 (43%)]\tLoss: 115.659988\n",
            "Train Epoch: 7 [32000/60000 (53%)]\tLoss: 186.650833\n",
            "Train Epoch: 7 [38400/60000 (64%)]\tLoss: 210.568954\n",
            "Train Epoch: 7 [44800/60000 (75%)]\tLoss: 444.086243\n",
            "Train Epoch: 7 [51200/60000 (85%)]\tLoss: 333.177856\n",
            "Train Epoch: 7 [57600/60000 (96%)]\tLoss: 294.102661\n",
            "Train Epoch: 8 [0/60000 (0%)]\tLoss: 37.782883\n",
            "Train Epoch: 8 [6400/60000 (11%)]\tLoss: 66.040604\n",
            "Train Epoch: 8 [12800/60000 (21%)]\tLoss: 85.512978\n",
            "Train Epoch: 8 [19200/60000 (32%)]\tLoss: 246.884537\n",
            "Train Epoch: 8 [25600/60000 (43%)]\tLoss: 48.037678\n",
            "Train Epoch: 8 [32000/60000 (53%)]\tLoss: 145.267502\n",
            "Train Epoch: 8 [38400/60000 (64%)]\tLoss: 46.687244\n",
            "Train Epoch: 8 [44800/60000 (75%)]\tLoss: 173.268051\n",
            "Train Epoch: 8 [51200/60000 (85%)]\tLoss: 382.666962\n",
            "Train Epoch: 8 [57600/60000 (96%)]\tLoss: 529.451416\n",
            "Train Epoch: 9 [0/60000 (0%)]\tLoss: 311.713165\n",
            "Train Epoch: 9 [6400/60000 (11%)]\tLoss: 166.032944\n",
            "Train Epoch: 9 [12800/60000 (21%)]\tLoss: 380.737885\n",
            "Train Epoch: 9 [19200/60000 (32%)]\tLoss: 172.382828\n",
            "Train Epoch: 9 [25600/60000 (43%)]\tLoss: 553.370361\n",
            "Train Epoch: 9 [32000/60000 (53%)]\tLoss: 483.832977\n",
            "Train Epoch: 9 [38400/60000 (64%)]\tLoss: 226.183624\n",
            "Train Epoch: 9 [44800/60000 (75%)]\tLoss: 349.770691\n",
            "Train Epoch: 9 [51200/60000 (85%)]\tLoss: 296.058228\n",
            "Train Epoch: 9 [57600/60000 (96%)]\tLoss: 115.651611\n",
            "Train Epoch: 10 [0/60000 (0%)]\tLoss: 195.358658\n",
            "Train Epoch: 10 [6400/60000 (11%)]\tLoss: 82.533325\n",
            "Train Epoch: 10 [12800/60000 (21%)]\tLoss: 100.852348\n",
            "Train Epoch: 10 [19200/60000 (32%)]\tLoss: 132.853775\n",
            "Train Epoch: 10 [25600/60000 (43%)]\tLoss: 113.229500\n",
            "Train Epoch: 10 [32000/60000 (53%)]\tLoss: 166.014557\n",
            "Train Epoch: 10 [38400/60000 (64%)]\tLoss: 135.089188\n",
            "Train Epoch: 10 [44800/60000 (75%)]\tLoss: 241.262283\n",
            "Train Epoch: 10 [51200/60000 (85%)]\tLoss: 160.849152\n",
            "Train Epoch: 10 [57600/60000 (96%)]\tLoss: 71.338852\n"
          ],
          "name": "stdout"
        }
      ]
    },
    {
      "cell_type": "code",
      "metadata": {
        "colab": {
          "base_uri": "https://localhost:8080/"
        },
        "id": "DJY-usfFFO6W",
        "outputId": "7432171b-e5a3-4839-b96c-41ce1a89f229"
      },
      "source": [
        "# Testing\n",
        "test()"
      ],
      "execution_count": 31,
      "outputs": [
        {
          "output_type": "stream",
          "text": [
            "\n",
            "Test set: Average loss: 151.7103, Accuracy: 7092/10000 (71%)\n",
            "\n"
          ],
          "name": "stdout"
        }
      ]
    },
    {
      "cell_type": "markdown",
      "metadata": {
        "id": "dk4Q_EDORBX2"
      },
      "source": [
        "# **Answer (4):**\n"
      ]
    },
    {
      "cell_type": "markdown",
      "metadata": {
        "id": "gxqcW5hovmFU"
      },
      "source": [
        "## (a)"
      ]
    },
    {
      "cell_type": "code",
      "metadata": {
        "colab": {
          "base_uri": "https://localhost:8080/"
        },
        "id": "Xvt65NT4HFMD",
        "outputId": "ac584959-ff43-4ed4-b7e1-34945cbca63d"
      },
      "source": [
        "dataset = 'cifar10'\n",
        "\n",
        "data_transform = transforms.Compose([ transforms.ToTensor(),transforms.Normalize((0.5, 0.5, 0.5), (0.5, 0.5, 0.5)),])\n",
        "trainset = datasets.CIFAR10(root='.', train=True, download=True, transform=data_transform)\n",
        "testset = datasets.CIFAR10(root='.', train=False, download=True, transform=data_transform)\n",
        "\n",
        "train_loader = torch.utils.data.DataLoader(trainset, batch_size=batch_size, shuffle=True, num_workers=0)\n",
        "test_loader  = torch.utils.data.DataLoader(testset, batch_size=batch_size, shuffle=False, num_workers=0)"
      ],
      "execution_count": 32,
      "outputs": [
        {
          "output_type": "stream",
          "text": [
            "Files already downloaded and verified\n",
            "Files already downloaded and verified\n"
          ],
          "name": "stdout"
        }
      ]
    },
    {
      "cell_type": "code",
      "metadata": {
        "id": "C0DzK69QmQF6"
      },
      "source": [
        "class Net(nn.Module):\n",
        "    def __init__(self):\n",
        "        super(Net, self).__init__()\n",
        "        self.conv1 = nn.Conv2d(iter(train_loader).next()[0].size()[1], 16, 5)\n",
        "        self.pool = torch.nn.MaxPool2d(2, 2) # Max pooling over a (2, 2) window\n",
        "        self.conv2 = nn.Conv2d(16, 128, 5)\n",
        "        # an affine operation: y = Wx + b\n",
        "        self.fc1 = nn.Linear(128 * 5 * 5, 64) # 5*5 from image dimension\n",
        "        self.fc2 = nn.Linear(64, 10)\n",
        "\n",
        "    def forward(self, x):\n",
        "        x = self.pool(torch.tanh(self.conv1(x)))\n",
        "        x = self.pool(torch.tanh(self.conv2(x)))\n",
        "        x = torch.flatten(x, 1) # flatten all dimensions except the batch dimension\n",
        "        x = torch.tanh(self.fc1(x))\n",
        "        x = self.fc2(x)\n",
        "        return x\n",
        "\n",
        "# num_channels = iter(train_loader).next()[0].size()[1]\n",
        "network = Net()\n",
        "optimizer = optim.SGD(network.parameters(), lr=lr)"
      ],
      "execution_count": 33,
      "outputs": []
    },
    {
      "cell_type": "code",
      "metadata": {
        "colab": {
          "base_uri": "https://localhost:8080/"
        },
        "id": "TafQ3T64pZeX",
        "outputId": "7c5484de-44cc-4926-fcb8-b9414d460f08"
      },
      "source": [
        "# Train it for 20 epochs on the CIFAR-10 training set.\n",
        "epochs = 20\n",
        "# Training\n",
        "for i in range(1, epochs+1):\n",
        "  train(i)"
      ],
      "execution_count": 34,
      "outputs": [
        {
          "output_type": "stream",
          "text": [
            "/usr/local/lib/python3.7/dist-packages/torch/nn/functional.py:718: UserWarning: Named tensors and all their associated APIs are an experimental feature and subject to change. Please do not use them for anything important until they are released as stable. (Triggered internally at  /pytorch/c10/core/TensorImpl.h:1156.)\n",
            "  return torch.max_pool2d(input, kernel_size, stride, padding, dilation, ceil_mode)\n"
          ],
          "name": "stderr"
        },
        {
          "output_type": "stream",
          "text": [
            "Train Epoch: 1 [0/50000 (0%)]\tLoss: 2.314191\n",
            "Train Epoch: 1 [6400/50000 (13%)]\tLoss: 2.136389\n",
            "Train Epoch: 1 [12800/50000 (26%)]\tLoss: 2.009590\n",
            "Train Epoch: 1 [19200/50000 (38%)]\tLoss: 2.023154\n",
            "Train Epoch: 1 [25600/50000 (51%)]\tLoss: 1.817958\n",
            "Train Epoch: 1 [32000/50000 (64%)]\tLoss: 1.969661\n",
            "Train Epoch: 1 [38400/50000 (77%)]\tLoss: 2.007403\n",
            "Train Epoch: 1 [44800/50000 (90%)]\tLoss: 1.891050\n",
            "Train Epoch: 2 [0/50000 (0%)]\tLoss: 1.850033\n",
            "Train Epoch: 2 [6400/50000 (13%)]\tLoss: 1.711487\n",
            "Train Epoch: 2 [12800/50000 (26%)]\tLoss: 1.591515\n",
            "Train Epoch: 2 [19200/50000 (38%)]\tLoss: 1.579889\n",
            "Train Epoch: 2 [25600/50000 (51%)]\tLoss: 1.706171\n",
            "Train Epoch: 2 [32000/50000 (64%)]\tLoss: 1.659007\n",
            "Train Epoch: 2 [38400/50000 (77%)]\tLoss: 1.738483\n",
            "Train Epoch: 2 [44800/50000 (90%)]\tLoss: 1.385158\n",
            "Train Epoch: 3 [0/50000 (0%)]\tLoss: 1.426810\n",
            "Train Epoch: 3 [6400/50000 (13%)]\tLoss: 1.691427\n",
            "Train Epoch: 3 [12800/50000 (26%)]\tLoss: 1.713073\n",
            "Train Epoch: 3 [19200/50000 (38%)]\tLoss: 1.548568\n",
            "Train Epoch: 3 [25600/50000 (51%)]\tLoss: 1.440926\n",
            "Train Epoch: 3 [32000/50000 (64%)]\tLoss: 1.362175\n",
            "Train Epoch: 3 [38400/50000 (77%)]\tLoss: 1.653537\n",
            "Train Epoch: 3 [44800/50000 (90%)]\tLoss: 1.498951\n",
            "Train Epoch: 4 [0/50000 (0%)]\tLoss: 1.623214\n",
            "Train Epoch: 4 [6400/50000 (13%)]\tLoss: 1.237416\n",
            "Train Epoch: 4 [12800/50000 (26%)]\tLoss: 1.520485\n",
            "Train Epoch: 4 [19200/50000 (38%)]\tLoss: 1.460921\n",
            "Train Epoch: 4 [25600/50000 (51%)]\tLoss: 1.417867\n",
            "Train Epoch: 4 [32000/50000 (64%)]\tLoss: 1.252278\n",
            "Train Epoch: 4 [38400/50000 (77%)]\tLoss: 1.516740\n",
            "Train Epoch: 4 [44800/50000 (90%)]\tLoss: 1.394939\n",
            "Train Epoch: 5 [0/50000 (0%)]\tLoss: 1.359403\n",
            "Train Epoch: 5 [6400/50000 (13%)]\tLoss: 1.340099\n",
            "Train Epoch: 5 [12800/50000 (26%)]\tLoss: 1.580799\n",
            "Train Epoch: 5 [19200/50000 (38%)]\tLoss: 1.690377\n",
            "Train Epoch: 5 [25600/50000 (51%)]\tLoss: 1.377270\n",
            "Train Epoch: 5 [32000/50000 (64%)]\tLoss: 1.309730\n",
            "Train Epoch: 5 [38400/50000 (77%)]\tLoss: 1.174776\n",
            "Train Epoch: 5 [44800/50000 (90%)]\tLoss: 1.434271\n",
            "Train Epoch: 6 [0/50000 (0%)]\tLoss: 1.171794\n",
            "Train Epoch: 6 [6400/50000 (13%)]\tLoss: 1.358365\n",
            "Train Epoch: 6 [12800/50000 (26%)]\tLoss: 1.249899\n",
            "Train Epoch: 6 [19200/50000 (38%)]\tLoss: 1.216619\n",
            "Train Epoch: 6 [25600/50000 (51%)]\tLoss: 1.196563\n",
            "Train Epoch: 6 [32000/50000 (64%)]\tLoss: 1.273333\n",
            "Train Epoch: 6 [38400/50000 (77%)]\tLoss: 1.377614\n",
            "Train Epoch: 6 [44800/50000 (90%)]\tLoss: 1.106673\n",
            "Train Epoch: 7 [0/50000 (0%)]\tLoss: 1.313068\n",
            "Train Epoch: 7 [6400/50000 (13%)]\tLoss: 1.474101\n",
            "Train Epoch: 7 [12800/50000 (26%)]\tLoss: 1.432622\n",
            "Train Epoch: 7 [19200/50000 (38%)]\tLoss: 1.262921\n",
            "Train Epoch: 7 [25600/50000 (51%)]\tLoss: 1.194548\n",
            "Train Epoch: 7 [32000/50000 (64%)]\tLoss: 1.396448\n",
            "Train Epoch: 7 [38400/50000 (77%)]\tLoss: 1.247657\n",
            "Train Epoch: 7 [44800/50000 (90%)]\tLoss: 1.032114\n",
            "Train Epoch: 8 [0/50000 (0%)]\tLoss: 1.452636\n",
            "Train Epoch: 8 [6400/50000 (13%)]\tLoss: 1.321620\n",
            "Train Epoch: 8 [12800/50000 (26%)]\tLoss: 1.100538\n",
            "Train Epoch: 8 [19200/50000 (38%)]\tLoss: 1.212092\n",
            "Train Epoch: 8 [25600/50000 (51%)]\tLoss: 1.190774\n",
            "Train Epoch: 8 [32000/50000 (64%)]\tLoss: 0.995806\n",
            "Train Epoch: 8 [38400/50000 (77%)]\tLoss: 1.306048\n",
            "Train Epoch: 8 [44800/50000 (90%)]\tLoss: 1.207477\n",
            "Train Epoch: 9 [0/50000 (0%)]\tLoss: 1.064836\n",
            "Train Epoch: 9 [6400/50000 (13%)]\tLoss: 1.105872\n",
            "Train Epoch: 9 [12800/50000 (26%)]\tLoss: 1.181144\n",
            "Train Epoch: 9 [19200/50000 (38%)]\tLoss: 1.210415\n",
            "Train Epoch: 9 [25600/50000 (51%)]\tLoss: 1.065323\n",
            "Train Epoch: 9 [32000/50000 (64%)]\tLoss: 1.056899\n",
            "Train Epoch: 9 [38400/50000 (77%)]\tLoss: 1.314593\n",
            "Train Epoch: 9 [44800/50000 (90%)]\tLoss: 1.222945\n",
            "Train Epoch: 10 [0/50000 (0%)]\tLoss: 1.239434\n",
            "Train Epoch: 10 [6400/50000 (13%)]\tLoss: 1.113539\n",
            "Train Epoch: 10 [12800/50000 (26%)]\tLoss: 1.046095\n",
            "Train Epoch: 10 [19200/50000 (38%)]\tLoss: 0.969925\n",
            "Train Epoch: 10 [25600/50000 (51%)]\tLoss: 0.996286\n",
            "Train Epoch: 10 [32000/50000 (64%)]\tLoss: 1.257767\n",
            "Train Epoch: 10 [38400/50000 (77%)]\tLoss: 1.157556\n",
            "Train Epoch: 10 [44800/50000 (90%)]\tLoss: 1.435671\n",
            "Train Epoch: 11 [0/50000 (0%)]\tLoss: 1.084773\n",
            "Train Epoch: 11 [6400/50000 (13%)]\tLoss: 1.221513\n",
            "Train Epoch: 11 [12800/50000 (26%)]\tLoss: 1.004760\n",
            "Train Epoch: 11 [19200/50000 (38%)]\tLoss: 1.060085\n",
            "Train Epoch: 11 [25600/50000 (51%)]\tLoss: 0.913527\n",
            "Train Epoch: 11 [32000/50000 (64%)]\tLoss: 0.949018\n",
            "Train Epoch: 11 [38400/50000 (77%)]\tLoss: 1.152450\n",
            "Train Epoch: 11 [44800/50000 (90%)]\tLoss: 0.976752\n",
            "Train Epoch: 12 [0/50000 (0%)]\tLoss: 0.922776\n",
            "Train Epoch: 12 [6400/50000 (13%)]\tLoss: 0.973995\n",
            "Train Epoch: 12 [12800/50000 (26%)]\tLoss: 1.065640\n",
            "Train Epoch: 12 [19200/50000 (38%)]\tLoss: 0.963747\n",
            "Train Epoch: 12 [25600/50000 (51%)]\tLoss: 1.008655\n",
            "Train Epoch: 12 [32000/50000 (64%)]\tLoss: 0.817241\n",
            "Train Epoch: 12 [38400/50000 (77%)]\tLoss: 1.098436\n",
            "Train Epoch: 12 [44800/50000 (90%)]\tLoss: 1.048492\n",
            "Train Epoch: 13 [0/50000 (0%)]\tLoss: 1.140839\n",
            "Train Epoch: 13 [6400/50000 (13%)]\tLoss: 1.068791\n",
            "Train Epoch: 13 [12800/50000 (26%)]\tLoss: 1.273264\n",
            "Train Epoch: 13 [19200/50000 (38%)]\tLoss: 0.987707\n",
            "Train Epoch: 13 [25600/50000 (51%)]\tLoss: 0.913974\n",
            "Train Epoch: 13 [32000/50000 (64%)]\tLoss: 1.277721\n",
            "Train Epoch: 13 [38400/50000 (77%)]\tLoss: 0.927296\n",
            "Train Epoch: 13 [44800/50000 (90%)]\tLoss: 1.213416\n",
            "Train Epoch: 14 [0/50000 (0%)]\tLoss: 0.905943\n",
            "Train Epoch: 14 [6400/50000 (13%)]\tLoss: 1.010793\n",
            "Train Epoch: 14 [12800/50000 (26%)]\tLoss: 0.882284\n",
            "Train Epoch: 14 [19200/50000 (38%)]\tLoss: 0.767801\n",
            "Train Epoch: 14 [25600/50000 (51%)]\tLoss: 1.116509\n",
            "Train Epoch: 14 [32000/50000 (64%)]\tLoss: 1.107752\n",
            "Train Epoch: 14 [38400/50000 (77%)]\tLoss: 0.894197\n",
            "Train Epoch: 14 [44800/50000 (90%)]\tLoss: 0.805990\n",
            "Train Epoch: 15 [0/50000 (0%)]\tLoss: 1.099069\n",
            "Train Epoch: 15 [6400/50000 (13%)]\tLoss: 1.015339\n",
            "Train Epoch: 15 [12800/50000 (26%)]\tLoss: 0.861488\n",
            "Train Epoch: 15 [19200/50000 (38%)]\tLoss: 1.028812\n",
            "Train Epoch: 15 [25600/50000 (51%)]\tLoss: 0.954197\n",
            "Train Epoch: 15 [32000/50000 (64%)]\tLoss: 0.764796\n",
            "Train Epoch: 15 [38400/50000 (77%)]\tLoss: 1.077783\n",
            "Train Epoch: 15 [44800/50000 (90%)]\tLoss: 0.900934\n",
            "Train Epoch: 16 [0/50000 (0%)]\tLoss: 1.092697\n",
            "Train Epoch: 16 [6400/50000 (13%)]\tLoss: 0.782205\n",
            "Train Epoch: 16 [12800/50000 (26%)]\tLoss: 1.031491\n",
            "Train Epoch: 16 [19200/50000 (38%)]\tLoss: 0.718565\n",
            "Train Epoch: 16 [25600/50000 (51%)]\tLoss: 1.118811\n",
            "Train Epoch: 16 [32000/50000 (64%)]\tLoss: 1.141155\n",
            "Train Epoch: 16 [38400/50000 (77%)]\tLoss: 0.758841\n",
            "Train Epoch: 16 [44800/50000 (90%)]\tLoss: 0.859821\n",
            "Train Epoch: 17 [0/50000 (0%)]\tLoss: 1.008098\n",
            "Train Epoch: 17 [6400/50000 (13%)]\tLoss: 0.811142\n",
            "Train Epoch: 17 [12800/50000 (26%)]\tLoss: 1.101889\n",
            "Train Epoch: 17 [19200/50000 (38%)]\tLoss: 0.910982\n",
            "Train Epoch: 17 [25600/50000 (51%)]\tLoss: 0.845679\n",
            "Train Epoch: 17 [32000/50000 (64%)]\tLoss: 0.912539\n",
            "Train Epoch: 17 [38400/50000 (77%)]\tLoss: 0.791465\n",
            "Train Epoch: 17 [44800/50000 (90%)]\tLoss: 0.975754\n",
            "Train Epoch: 18 [0/50000 (0%)]\tLoss: 0.901284\n",
            "Train Epoch: 18 [6400/50000 (13%)]\tLoss: 0.873241\n",
            "Train Epoch: 18 [12800/50000 (26%)]\tLoss: 0.810099\n",
            "Train Epoch: 18 [19200/50000 (38%)]\tLoss: 0.593564\n",
            "Train Epoch: 18 [25600/50000 (51%)]\tLoss: 0.836974\n",
            "Train Epoch: 18 [32000/50000 (64%)]\tLoss: 0.960308\n",
            "Train Epoch: 18 [38400/50000 (77%)]\tLoss: 1.093038\n",
            "Train Epoch: 18 [44800/50000 (90%)]\tLoss: 0.715923\n",
            "Train Epoch: 19 [0/50000 (0%)]\tLoss: 0.996450\n",
            "Train Epoch: 19 [6400/50000 (13%)]\tLoss: 0.748640\n",
            "Train Epoch: 19 [12800/50000 (26%)]\tLoss: 0.823237\n",
            "Train Epoch: 19 [19200/50000 (38%)]\tLoss: 0.889506\n",
            "Train Epoch: 19 [25600/50000 (51%)]\tLoss: 0.747779\n",
            "Train Epoch: 19 [32000/50000 (64%)]\tLoss: 0.869574\n",
            "Train Epoch: 19 [38400/50000 (77%)]\tLoss: 1.098953\n",
            "Train Epoch: 19 [44800/50000 (90%)]\tLoss: 0.849348\n",
            "Train Epoch: 20 [0/50000 (0%)]\tLoss: 1.234676\n",
            "Train Epoch: 20 [6400/50000 (13%)]\tLoss: 0.732294\n",
            "Train Epoch: 20 [12800/50000 (26%)]\tLoss: 0.795535\n",
            "Train Epoch: 20 [19200/50000 (38%)]\tLoss: 0.635627\n",
            "Train Epoch: 20 [25600/50000 (51%)]\tLoss: 0.785331\n",
            "Train Epoch: 20 [32000/50000 (64%)]\tLoss: 0.764697\n",
            "Train Epoch: 20 [38400/50000 (77%)]\tLoss: 0.637608\n",
            "Train Epoch: 20 [44800/50000 (90%)]\tLoss: 0.783826\n"
          ],
          "name": "stdout"
        }
      ]
    },
    {
      "cell_type": "code",
      "metadata": {
        "id": "guoye84SvWAF",
        "colab": {
          "base_uri": "https://localhost:8080/"
        },
        "outputId": "76e49e82-5086-4eba-f39d-38d1b2f19a89"
      },
      "source": [
        "# Testing\n",
        "test()"
      ],
      "execution_count": 35,
      "outputs": [
        {
          "output_type": "stream",
          "text": [
            "\n",
            "Test set: Average loss: 0.9818, Accuracy: 6635/10000 (66%)\n",
            "\n"
          ],
          "name": "stdout"
        }
      ]
    },
    {
      "cell_type": "code",
      "metadata": {
        "id": "h4HWNkj8xEyQ",
        "colab": {
          "base_uri": "https://localhost:8080/",
          "height": 141
        },
        "outputId": "bea5c2b5-8582-4ecb-ef44-5cfbaf0c6e26"
      },
      "source": [
        "# Visualize the first layer filters.\n",
        "for x in network.modules():\n",
        "    if isinstance(x, nn.Conv2d):\n",
        "        imshow(torchvision.utils.make_grid(x.weight.data.cpu(),normalize=True, scale_each=True))\n",
        "        break"
      ],
      "execution_count": 36,
      "outputs": [
        {
          "output_type": "display_data",
          "data": {
            "image/png": "[encoded data removed]",
            "text/plain": [
              "<Figure size 432x288 with 1 Axes>"
            ]
          },
          "metadata": {
            "tags": [],
            "needs_background": "light"
          }
        }
      ]
    },
    {
      "cell_type": "markdown",
      "metadata": {
        "id": "_8W42Er2vwXO"
      },
      "source": [
        "## (b)"
      ]
    },
    {
      "cell_type": "code",
      "metadata": {
        "id": "5FOYDs8nvy8-",
        "colab": {
          "base_uri": "https://localhost:8080/"
        },
        "outputId": "15e5898f-53c1-4b04-ea38-4bc335c28c88"
      },
      "source": [
        "#Explanation in report\n",
        "overall_parameters = 0\n",
        "for p in network.parameters():\n",
        "    count = np.prod(p.size())\n",
        "    overall_parameters += count\n",
        "print(\"The overall number of parameters =\", overall_parameters)"
      ],
      "execution_count": 37,
      "outputs": [
        {
          "output_type": "stream",
          "text": [
            "The overall number of parameters = 258058\n"
          ],
          "name": "stdout"
        }
      ]
    }
  ]
}