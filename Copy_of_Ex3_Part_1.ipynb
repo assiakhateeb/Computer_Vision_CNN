{
  "nbformat": 4,
  "nbformat_minor": 0,
  "metadata": {
    "colab": {
      "name": "Copy of Ex3_Part_1.ipynb",
      "provenance": [],
      "collapsed_sections": [
        "5NwLQOFMMlev"
      ]
    },
    "kernelspec": {
      "name": "python3",
      "display_name": "Python 3"
    },
    "widgets": {
      "application/vnd.jupyter.widget-state+json": {
        "23da96d43b634bc68527cf87640bef7b": {
          "model_module": "@jupyter-widgets/controls",
          "model_name": "HBoxModel",
          "state": {
            "_view_name": "HBoxView",
            "_dom_classes": [],
            "_model_name": "HBoxModel",
            "_view_module": "@jupyter-widgets/controls",
            "_model_module_version": "1.5.0",
            "_view_count": null,
            "_view_module_version": "1.5.0",
            "box_style": "",
            "layout": "IPY_MODEL_3296d49098b241a9bd79a0b5b762bc8e",
            "_model_module": "@jupyter-widgets/controls",
            "children": [
              "IPY_MODEL_e1d3c6923c6043e697089217df64b4bb",
              "IPY_MODEL_448b6bea682a4f1ca6a73e18c9e1e87c"
            ]
          }
        },
        "3296d49098b241a9bd79a0b5b762bc8e": {
          "model_module": "@jupyter-widgets/base",
          "model_name": "LayoutModel",
          "state": {
            "_view_name": "LayoutView",
            "grid_template_rows": null,
            "right": null,
            "justify_content": null,
            "_view_module": "@jupyter-widgets/base",
            "overflow": null,
            "_model_module_version": "1.2.0",
            "_view_count": null,
            "flex_flow": null,
            "width": null,
            "min_width": null,
            "border": null,
            "align_items": null,
            "bottom": null,
            "_model_module": "@jupyter-widgets/base",
            "top": null,
            "grid_column": null,
            "overflow_y": null,
            "overflow_x": null,
            "grid_auto_flow": null,
            "grid_area": null,
            "grid_template_columns": null,
            "flex": null,
            "_model_name": "LayoutModel",
            "justify_items": null,
            "grid_row": null,
            "max_height": null,
            "align_content": null,
            "visibility": null,
            "align_self": null,
            "height": null,
            "min_height": null,
            "padding": null,
            "grid_auto_rows": null,
            "grid_gap": null,
            "max_width": null,
            "order": null,
            "_view_module_version": "1.2.0",
            "grid_template_areas": null,
            "object_position": null,
            "object_fit": null,
            "grid_auto_columns": null,
            "margin": null,
            "display": null,
            "left": null
          }
        },
        "e1d3c6923c6043e697089217df64b4bb": {
          "model_module": "@jupyter-widgets/controls",
          "model_name": "FloatProgressModel",
          "state": {
            "_view_name": "ProgressView",
            "style": "IPY_MODEL_32397aac0db74a5788482173f389a004",
            "_dom_classes": [],
            "description": "",
            "_model_name": "FloatProgressModel",
            "bar_style": "success",
            "max": 9912422,
            "_view_module": "@jupyter-widgets/controls",
            "_model_module_version": "1.5.0",
            "value": 9912422,
            "_view_count": null,
            "_view_module_version": "1.5.0",
            "orientation": "horizontal",
            "min": 0,
            "description_tooltip": null,
            "_model_module": "@jupyter-widgets/controls",
            "layout": "IPY_MODEL_b2bd9b5a5ce147ada850b081c77f1485"
          }
        },
        "448b6bea682a4f1ca6a73e18c9e1e87c": {
          "model_module": "@jupyter-widgets/controls",
          "model_name": "HTMLModel",
          "state": {
            "_view_name": "HTMLView",
            "style": "IPY_MODEL_7f68fa48baa2455398491b426091c6b8",
            "_dom_classes": [],
            "description": "",
            "_model_name": "HTMLModel",
            "placeholder": "​",
            "_view_module": "@jupyter-widgets/controls",
            "_model_module_version": "1.5.0",
            "value": " 9913344/? [06:26&lt;00:00, 25649.88it/s]",
            "_view_count": null,
            "_view_module_version": "1.5.0",
            "description_tooltip": null,
            "_model_module": "@jupyter-widgets/controls",
            "layout": "IPY_MODEL_84a9b7f84cc54d28adc4a0549c62e783"
          }
        },
        "32397aac0db74a5788482173f389a004": {
          "model_module": "@jupyter-widgets/controls",
          "model_name": "ProgressStyleModel",
          "state": {
            "_view_name": "StyleView",
            "_model_name": "ProgressStyleModel",
            "description_width": "initial",
            "_view_module": "@jupyter-widgets/base",
            "_model_module_version": "1.5.0",
            "_view_count": null,
            "_view_module_version": "1.2.0",
            "bar_color": null,
            "_model_module": "@jupyter-widgets/controls"
          }
        },
        "b2bd9b5a5ce147ada850b081c77f1485": {
          "model_module": "@jupyter-widgets/base",
          "model_name": "LayoutModel",
          "state": {
            "_view_name": "LayoutView",
            "grid_template_rows": null,
            "right": null,
            "justify_content": null,
            "_view_module": "@jupyter-widgets/base",
            "overflow": null,
            "_model_module_version": "1.2.0",
            "_view_count": null,
            "flex_flow": null,
            "width": null,
            "min_width": null,
            "border": null,
            "align_items": null,
            "bottom": null,
            "_model_module": "@jupyter-widgets/base",
            "top": null,
            "grid_column": null,
            "overflow_y": null,
            "overflow_x": null,
            "grid_auto_flow": null,
            "grid_area": null,
            "grid_template_columns": null,
            "flex": null,
            "_model_name": "LayoutModel",
            "justify_items": null,
            "grid_row": null,
            "max_height": null,
            "align_content": null,
            "visibility": null,
            "align_self": null,
            "height": null,
            "min_height": null,
            "padding": null,
            "grid_auto_rows": null,
            "grid_gap": null,
            "max_width": null,
            "order": null,
            "_view_module_version": "1.2.0",
            "grid_template_areas": null,
            "object_position": null,
            "object_fit": null,
            "grid_auto_columns": null,
            "margin": null,
            "display": null,
            "left": null
          }
        },
        "7f68fa48baa2455398491b426091c6b8": {
          "model_module": "@jupyter-widgets/controls",
          "model_name": "DescriptionStyleModel",
          "state": {
            "_view_name": "StyleView",
            "_model_name": "DescriptionStyleModel",
            "description_width": "",
            "_view_module": "@jupyter-widgets/base",
            "_model_module_version": "1.5.0",
            "_view_count": null,
            "_view_module_version": "1.2.0",
            "_model_module": "@jupyter-widgets/controls"
          }
        },
        "84a9b7f84cc54d28adc4a0549c62e783": {
          "model_module": "@jupyter-widgets/base",
          "model_name": "LayoutModel",
          "state": {
            "_view_name": "LayoutView",
            "grid_template_rows": null,
            "right": null,
            "justify_content": null,
            "_view_module": "@jupyter-widgets/base",
            "overflow": null,
            "_model_module_version": "1.2.0",
            "_view_count": null,
            "flex_flow": null,
            "width": null,
            "min_width": null,
            "border": null,
            "align_items": null,
            "bottom": null,
            "_model_module": "@jupyter-widgets/base",
            "top": null,
            "grid_column": null,
            "overflow_y": null,
            "overflow_x": null,
            "grid_auto_flow": null,
            "grid_area": null,
            "grid_template_columns": null,
            "flex": null,
            "_model_name": "LayoutModel",
            "justify_items": null,
            "grid_row": null,
            "max_height": null,
            "align_content": null,
            "visibility": null,
            "align_self": null,
            "height": null,
            "min_height": null,
            "padding": null,
            "grid_auto_rows": null,
            "grid_gap": null,
            "max_width": null,
            "order": null,
            "_view_module_version": "1.2.0",
            "grid_template_areas": null,
            "object_position": null,
            "object_fit": null,
            "grid_auto_columns": null,
            "margin": null,
            "display": null,
            "left": null
          }
        },
        "8407eb4b867a4598a443bb09fc21af8b": {
          "model_module": "@jupyter-widgets/controls",
          "model_name": "HBoxModel",
          "state": {
            "_view_name": "HBoxView",
            "_dom_classes": [],
            "_model_name": "HBoxModel",
            "_view_module": "@jupyter-widgets/controls",
            "_model_module_version": "1.5.0",
            "_view_count": null,
            "_view_module_version": "1.5.0",
            "box_style": "",
            "layout": "IPY_MODEL_e8b64cc723fe46a3947d115e36c1dbd9",
            "_model_module": "@jupyter-widgets/controls",
            "children": [
              "IPY_MODEL_0c7d4f263452474d950794edfcd01af2",
              "IPY_MODEL_20452ec71d3d4311b90fab21d3479870"
            ]
          }
        },
        "e8b64cc723fe46a3947d115e36c1dbd9": {
          "model_module": "@jupyter-widgets/base",
          "model_name": "LayoutModel",
          "state": {
            "_view_name": "LayoutView",
            "grid_template_rows": null,
            "right": null,
            "justify_content": null,
            "_view_module": "@jupyter-widgets/base",
            "overflow": null,
            "_model_module_version": "1.2.0",
            "_view_count": null,
            "flex_flow": null,
            "width": null,
            "min_width": null,
            "border": null,
            "align_items": null,
            "bottom": null,
            "_model_module": "@jupyter-widgets/base",
            "top": null,
            "grid_column": null,
            "overflow_y": null,
            "overflow_x": null,
            "grid_auto_flow": null,
            "grid_area": null,
            "grid_template_columns": null,
            "flex": null,
            "_model_name": "LayoutModel",
            "justify_items": null,
            "grid_row": null,
            "max_height": null,
            "align_content": null,
            "visibility": null,
            "align_self": null,
            "height": null,
            "min_height": null,
            "padding": null,
            "grid_auto_rows": null,
            "grid_gap": null,
            "max_width": null,
            "order": null,
            "_view_module_version": "1.2.0",
            "grid_template_areas": null,
            "object_position": null,
            "object_fit": null,
            "grid_auto_columns": null,
            "margin": null,
            "display": null,
            "left": null
          }
        },
        "0c7d4f263452474d950794edfcd01af2": {
          "model_module": "@jupyter-widgets/controls",
          "model_name": "FloatProgressModel",
          "state": {
            "_view_name": "ProgressView",
            "style": "IPY_MODEL_65e051eb7bd5494e973a9b72c2e646ae",
            "_dom_classes": [],
            "description": "",
            "_model_name": "FloatProgressModel",
            "bar_style": "success",
            "max": 28881,
            "_view_module": "@jupyter-widgets/controls",
            "_model_module_version": "1.5.0",
            "value": 28881,
            "_view_count": null,
            "_view_module_version": "1.5.0",
            "orientation": "horizontal",
            "min": 0,
            "description_tooltip": null,
            "_model_module": "@jupyter-widgets/controls",
            "layout": "IPY_MODEL_bfcfb544725b45f389186f4f4b43f4ce"
          }
        },
        "20452ec71d3d4311b90fab21d3479870": {
          "model_module": "@jupyter-widgets/controls",
          "model_name": "HTMLModel",
          "state": {
            "_view_name": "HTMLView",
            "style": "IPY_MODEL_4f0e52b8936140e9ab2f65b4ffbd29e4",
            "_dom_classes": [],
            "description": "",
            "_model_name": "HTMLModel",
            "placeholder": "​",
            "_view_module": "@jupyter-widgets/controls",
            "_model_module_version": "1.5.0",
            "value": " 29696/? [00:02&lt;00:00, 14599.83it/s]",
            "_view_count": null,
            "_view_module_version": "1.5.0",
            "description_tooltip": null,
            "_model_module": "@jupyter-widgets/controls",
            "layout": "IPY_MODEL_b8007d74d7154075a78661cb91730ed3"
          }
        },
        "65e051eb7bd5494e973a9b72c2e646ae": {
          "model_module": "@jupyter-widgets/controls",
          "model_name": "ProgressStyleModel",
          "state": {
            "_view_name": "StyleView",
            "_model_name": "ProgressStyleModel",
            "description_width": "initial",
            "_view_module": "@jupyter-widgets/base",
            "_model_module_version": "1.5.0",
            "_view_count": null,
            "_view_module_version": "1.2.0",
            "bar_color": null,
            "_model_module": "@jupyter-widgets/controls"
          }
        },
        "bfcfb544725b45f389186f4f4b43f4ce": {
          "model_module": "@jupyter-widgets/base",
          "model_name": "LayoutModel",
          "state": {
            "_view_name": "LayoutView",
            "grid_template_rows": null,
            "right": null,
            "justify_content": null,
            "_view_module": "@jupyter-widgets/base",
            "overflow": null,
            "_model_module_version": "1.2.0",
            "_view_count": null,
            "flex_flow": null,
            "width": null,
            "min_width": null,
            "border": null,
            "align_items": null,
            "bottom": null,
            "_model_module": "@jupyter-widgets/base",
            "top": null,
            "grid_column": null,
            "overflow_y": null,
            "overflow_x": null,
            "grid_auto_flow": null,
            "grid_area": null,
            "grid_template_columns": null,
            "flex": null,
            "_model_name": "LayoutModel",
            "justify_items": null,
            "grid_row": null,
            "max_height": null,
            "align_content": null,
            "visibility": null,
            "align_self": null,
            "height": null,
            "min_height": null,
            "padding": null,
            "grid_auto_rows": null,
            "grid_gap": null,
            "max_width": null,
            "order": null,
            "_view_module_version": "1.2.0",
            "grid_template_areas": null,
            "object_position": null,
            "object_fit": null,
            "grid_auto_columns": null,
            "margin": null,
            "display": null,
            "left": null
          }
        },
        "4f0e52b8936140e9ab2f65b4ffbd29e4": {
          "model_module": "@jupyter-widgets/controls",
          "model_name": "DescriptionStyleModel",
          "state": {
            "_view_name": "StyleView",
            "_model_name": "DescriptionStyleModel",
            "description_width": "",
            "_view_module": "@jupyter-widgets/base",
            "_model_module_version": "1.5.0",
            "_view_count": null,
            "_view_module_version": "1.2.0",
            "_model_module": "@jupyter-widgets/controls"
          }
        },
        "b8007d74d7154075a78661cb91730ed3": {
          "model_module": "@jupyter-widgets/base",
          "model_name": "LayoutModel",
          "state": {
            "_view_name": "LayoutView",
            "grid_template_rows": null,
            "right": null,
            "justify_content": null,
            "_view_module": "@jupyter-widgets/base",
            "overflow": null,
            "_model_module_version": "1.2.0",
            "_view_count": null,
            "flex_flow": null,
            "width": null,
            "min_width": null,
            "border": null,
            "align_items": null,
            "bottom": null,
            "_model_module": "@jupyter-widgets/base",
            "top": null,
            "grid_column": null,
            "overflow_y": null,
            "overflow_x": null,
            "grid_auto_flow": null,
            "grid_area": null,
            "grid_template_columns": null,
            "flex": null,
            "_model_name": "LayoutModel",
            "justify_items": null,
            "grid_row": null,
            "max_height": null,
            "align_content": null,
            "visibility": null,
            "align_self": null,
            "height": null,
            "min_height": null,
            "padding": null,
            "grid_auto_rows": null,
            "grid_gap": null,
            "max_width": null,
            "order": null,
            "_view_module_version": "1.2.0",
            "grid_template_areas": null,
            "object_position": null,
            "object_fit": null,
            "grid_auto_columns": null,
            "margin": null,
            "display": null,
            "left": null
          }
        },
        "77dd924cdc2b4550883db2f621ff3bf7": {
          "model_module": "@jupyter-widgets/controls",
          "model_name": "HBoxModel",
          "state": {
            "_view_name": "HBoxView",
            "_dom_classes": [],
            "_model_name": "HBoxModel",
            "_view_module": "@jupyter-widgets/controls",
            "_model_module_version": "1.5.0",
            "_view_count": null,
            "_view_module_version": "1.5.0",
            "box_style": "",
            "layout": "IPY_MODEL_80bad63d3d984333af9a2882e8f5c3ca",
            "_model_module": "@jupyter-widgets/controls",
            "children": [
              "IPY_MODEL_7436bb4c9da747b489c3eded8923fc24",
              "IPY_MODEL_386029d3220f4cc28d08e6d9448e4c67"
            ]
          }
        },
        "80bad63d3d984333af9a2882e8f5c3ca": {
          "model_module": "@jupyter-widgets/base",
          "model_name": "LayoutModel",
          "state": {
            "_view_name": "LayoutView",
            "grid_template_rows": null,
            "right": null,
            "justify_content": null,
            "_view_module": "@jupyter-widgets/base",
            "overflow": null,
            "_model_module_version": "1.2.0",
            "_view_count": null,
            "flex_flow": null,
            "width": null,
            "min_width": null,
            "border": null,
            "align_items": null,
            "bottom": null,
            "_model_module": "@jupyter-widgets/base",
            "top": null,
            "grid_column": null,
            "overflow_y": null,
            "overflow_x": null,
            "grid_auto_flow": null,
            "grid_area": null,
            "grid_template_columns": null,
            "flex": null,
            "_model_name": "LayoutModel",
            "justify_items": null,
            "grid_row": null,
            "max_height": null,
            "align_content": null,
            "visibility": null,
            "align_self": null,
            "height": null,
            "min_height": null,
            "padding": null,
            "grid_auto_rows": null,
            "grid_gap": null,
            "max_width": null,
            "order": null,
            "_view_module_version": "1.2.0",
            "grid_template_areas": null,
            "object_position": null,
            "object_fit": null,
            "grid_auto_columns": null,
            "margin": null,
            "display": null,
            "left": null
          }
        },
        "7436bb4c9da747b489c3eded8923fc24": {
          "model_module": "@jupyter-widgets/controls",
          "model_name": "FloatProgressModel",
          "state": {
            "_view_name": "ProgressView",
            "style": "IPY_MODEL_e637bca3a5234a71a2cdf25065701463",
            "_dom_classes": [],
            "description": "",
            "_model_name": "FloatProgressModel",
            "bar_style": "success",
            "max": 1648877,
            "_view_module": "@jupyter-widgets/controls",
            "_model_module_version": "1.5.0",
            "value": 1648877,
            "_view_count": null,
            "_view_module_version": "1.5.0",
            "orientation": "horizontal",
            "min": 0,
            "description_tooltip": null,
            "_model_module": "@jupyter-widgets/controls",
            "layout": "IPY_MODEL_eacc4632e8334b1b8715232772feffe9"
          }
        },
        "386029d3220f4cc28d08e6d9448e4c67": {
          "model_module": "@jupyter-widgets/controls",
          "model_name": "HTMLModel",
          "state": {
            "_view_name": "HTMLView",
            "style": "IPY_MODEL_520b6be54fdd43de8e7e13259ac43324",
            "_dom_classes": [],
            "description": "",
            "_model_name": "HTMLModel",
            "placeholder": "​",
            "_view_module": "@jupyter-widgets/controls",
            "_model_module_version": "1.5.0",
            "value": " 1649664/? [00:00&lt;00:00, 1742285.47it/s]",
            "_view_count": null,
            "_view_module_version": "1.5.0",
            "description_tooltip": null,
            "_model_module": "@jupyter-widgets/controls",
            "layout": "IPY_MODEL_0753863552ba4198a85349392b435ed4"
          }
        },
        "e637bca3a5234a71a2cdf25065701463": {
          "model_module": "@jupyter-widgets/controls",
          "model_name": "ProgressStyleModel",
          "state": {
            "_view_name": "StyleView",
            "_model_name": "ProgressStyleModel",
            "description_width": "initial",
            "_view_module": "@jupyter-widgets/base",
            "_model_module_version": "1.5.0",
            "_view_count": null,
            "_view_module_version": "1.2.0",
            "bar_color": null,
            "_model_module": "@jupyter-widgets/controls"
          }
        },
        "eacc4632e8334b1b8715232772feffe9": {
          "model_module": "@jupyter-widgets/base",
          "model_name": "LayoutModel",
          "state": {
            "_view_name": "LayoutView",
            "grid_template_rows": null,
            "right": null,
            "justify_content": null,
            "_view_module": "@jupyter-widgets/base",
            "overflow": null,
            "_model_module_version": "1.2.0",
            "_view_count": null,
            "flex_flow": null,
            "width": null,
            "min_width": null,
            "border": null,
            "align_items": null,
            "bottom": null,
            "_model_module": "@jupyter-widgets/base",
            "top": null,
            "grid_column": null,
            "overflow_y": null,
            "overflow_x": null,
            "grid_auto_flow": null,
            "grid_area": null,
            "grid_template_columns": null,
            "flex": null,
            "_model_name": "LayoutModel",
            "justify_items": null,
            "grid_row": null,
            "max_height": null,
            "align_content": null,
            "visibility": null,
            "align_self": null,
            "height": null,
            "min_height": null,
            "padding": null,
            "grid_auto_rows": null,
            "grid_gap": null,
            "max_width": null,
            "order": null,
            "_view_module_version": "1.2.0",
            "grid_template_areas": null,
            "object_position": null,
            "object_fit": null,
            "grid_auto_columns": null,
            "margin": null,
            "display": null,
            "left": null
          }
        },
        "520b6be54fdd43de8e7e13259ac43324": {
          "model_module": "@jupyter-widgets/controls",
          "model_name": "DescriptionStyleModel",
          "state": {
            "_view_name": "StyleView",
            "_model_name": "DescriptionStyleModel",
            "description_width": "",
            "_view_module": "@jupyter-widgets/base",
            "_model_module_version": "1.5.0",
            "_view_count": null,
            "_view_module_version": "1.2.0",
            "_model_module": "@jupyter-widgets/controls"
          }
        },
        "0753863552ba4198a85349392b435ed4": {
          "model_module": "@jupyter-widgets/base",
          "model_name": "LayoutModel",
          "state": {
            "_view_name": "LayoutView",
            "grid_template_rows": null,
            "right": null,
            "justify_content": null,
            "_view_module": "@jupyter-widgets/base",
            "overflow": null,
            "_model_module_version": "1.2.0",
            "_view_count": null,
            "flex_flow": null,
            "width": null,
            "min_width": null,
            "border": null,
            "align_items": null,
            "bottom": null,
            "_model_module": "@jupyter-widgets/base",
            "top": null,
            "grid_column": null,
            "overflow_y": null,
            "overflow_x": null,
            "grid_auto_flow": null,
            "grid_area": null,
            "grid_template_columns": null,
            "flex": null,
            "_model_name": "LayoutModel",
            "justify_items": null,
            "grid_row": null,
            "max_height": null,
            "align_content": null,
            "visibility": null,
            "align_self": null,
            "height": null,
            "min_height": null,
            "padding": null,
            "grid_auto_rows": null,
            "grid_gap": null,
            "max_width": null,
            "order": null,
            "_view_module_version": "1.2.0",
            "grid_template_areas": null,
            "object_position": null,
            "object_fit": null,
            "grid_auto_columns": null,
            "margin": null,
            "display": null,
            "left": null
          }
        },
        "8883656bce8b43c58e3c4ed0d976350e": {
          "model_module": "@jupyter-widgets/controls",
          "model_name": "HBoxModel",
          "state": {
            "_view_name": "HBoxView",
            "_dom_classes": [],
            "_model_name": "HBoxModel",
            "_view_module": "@jupyter-widgets/controls",
            "_model_module_version": "1.5.0",
            "_view_count": null,
            "_view_module_version": "1.5.0",
            "box_style": "",
            "layout": "IPY_MODEL_16cd870203af4108b7b148482901eddc",
            "_model_module": "@jupyter-widgets/controls",
            "children": [
              "IPY_MODEL_f7eb52d2a87d45b1b5417a919c3c0310",
              "IPY_MODEL_2a48b25fd27a407db40ff2710712e3f4"
            ]
          }
        },
        "16cd870203af4108b7b148482901eddc": {
          "model_module": "@jupyter-widgets/base",
          "model_name": "LayoutModel",
          "state": {
            "_view_name": "LayoutView",
            "grid_template_rows": null,
            "right": null,
            "justify_content": null,
            "_view_module": "@jupyter-widgets/base",
            "overflow": null,
            "_model_module_version": "1.2.0",
            "_view_count": null,
            "flex_flow": null,
            "width": null,
            "min_width": null,
            "border": null,
            "align_items": null,
            "bottom": null,
            "_model_module": "@jupyter-widgets/base",
            "top": null,
            "grid_column": null,
            "overflow_y": null,
            "overflow_x": null,
            "grid_auto_flow": null,
            "grid_area": null,
            "grid_template_columns": null,
            "flex": null,
            "_model_name": "LayoutModel",
            "justify_items": null,
            "grid_row": null,
            "max_height": null,
            "align_content": null,
            "visibility": null,
            "align_self": null,
            "height": null,
            "min_height": null,
            "padding": null,
            "grid_auto_rows": null,
            "grid_gap": null,
            "max_width": null,
            "order": null,
            "_view_module_version": "1.2.0",
            "grid_template_areas": null,
            "object_position": null,
            "object_fit": null,
            "grid_auto_columns": null,
            "margin": null,
            "display": null,
            "left": null
          }
        },
        "f7eb52d2a87d45b1b5417a919c3c0310": {
          "model_module": "@jupyter-widgets/controls",
          "model_name": "FloatProgressModel",
          "state": {
            "_view_name": "ProgressView",
            "style": "IPY_MODEL_7873de94582b43ebb3301e50dec47aa4",
            "_dom_classes": [],
            "description": "",
            "_model_name": "FloatProgressModel",
            "bar_style": "success",
            "max": 4542,
            "_view_module": "@jupyter-widgets/controls",
            "_model_module_version": "1.5.0",
            "value": 4542,
            "_view_count": null,
            "_view_module_version": "1.5.0",
            "orientation": "horizontal",
            "min": 0,
            "description_tooltip": null,
            "_model_module": "@jupyter-widgets/controls",
            "layout": "IPY_MODEL_863847ac7956442da95d3a913d67007d"
          }
        },
        "2a48b25fd27a407db40ff2710712e3f4": {
          "model_module": "@jupyter-widgets/controls",
          "model_name": "HTMLModel",
          "state": {
            "_view_name": "HTMLView",
            "style": "IPY_MODEL_c8c4fd790cbd4ff88efb763b6bfca7f9",
            "_dom_classes": [],
            "description": "",
            "_model_name": "HTMLModel",
            "placeholder": "​",
            "_view_module": "@jupyter-widgets/controls",
            "_model_module_version": "1.5.0",
            "value": " 5120/? [01:48&lt;00:00, 47.17it/s]",
            "_view_count": null,
            "_view_module_version": "1.5.0",
            "description_tooltip": null,
            "_model_module": "@jupyter-widgets/controls",
            "layout": "IPY_MODEL_01b7b26fa7224c0ba380a20ffc17278a"
          }
        },
        "7873de94582b43ebb3301e50dec47aa4": {
          "model_module": "@jupyter-widgets/controls",
          "model_name": "ProgressStyleModel",
          "state": {
            "_view_name": "StyleView",
            "_model_name": "ProgressStyleModel",
            "description_width": "initial",
            "_view_module": "@jupyter-widgets/base",
            "_model_module_version": "1.5.0",
            "_view_count": null,
            "_view_module_version": "1.2.0",
            "bar_color": null,
            "_model_module": "@jupyter-widgets/controls"
          }
        },
        "863847ac7956442da95d3a913d67007d": {
          "model_module": "@jupyter-widgets/base",
          "model_name": "LayoutModel",
          "state": {
            "_view_name": "LayoutView",
            "grid_template_rows": null,
            "right": null,
            "justify_content": null,
            "_view_module": "@jupyter-widgets/base",
            "overflow": null,
            "_model_module_version": "1.2.0",
            "_view_count": null,
            "flex_flow": null,
            "width": null,
            "min_width": null,
            "border": null,
            "align_items": null,
            "bottom": null,
            "_model_module": "@jupyter-widgets/base",
            "top": null,
            "grid_column": null,
            "overflow_y": null,
            "overflow_x": null,
            "grid_auto_flow": null,
            "grid_area": null,
            "grid_template_columns": null,
            "flex": null,
            "_model_name": "LayoutModel",
            "justify_items": null,
            "grid_row": null,
            "max_height": null,
            "align_content": null,
            "visibility": null,
            "align_self": null,
            "height": null,
            "min_height": null,
            "padding": null,
            "grid_auto_rows": null,
            "grid_gap": null,
            "max_width": null,
            "order": null,
            "_view_module_version": "1.2.0",
            "grid_template_areas": null,
            "object_position": null,
            "object_fit": null,
            "grid_auto_columns": null,
            "margin": null,
            "display": null,
            "left": null
          }
        },
        "c8c4fd790cbd4ff88efb763b6bfca7f9": {
          "model_module": "@jupyter-widgets/controls",
          "model_name": "DescriptionStyleModel",
          "state": {
            "_view_name": "StyleView",
            "_model_name": "DescriptionStyleModel",
            "description_width": "",
            "_view_module": "@jupyter-widgets/base",
            "_model_module_version": "1.5.0",
            "_view_count": null,
            "_view_module_version": "1.2.0",
            "_model_module": "@jupyter-widgets/controls"
          }
        },
        "01b7b26fa7224c0ba380a20ffc17278a": {
          "model_module": "@jupyter-widgets/base",
          "model_name": "LayoutModel",
          "state": {
            "_view_name": "LayoutView",
            "grid_template_rows": null,
            "right": null,
            "justify_content": null,
            "_view_module": "@jupyter-widgets/base",
            "overflow": null,
            "_model_module_version": "1.2.0",
            "_view_count": null,
            "flex_flow": null,
            "width": null,
            "min_width": null,
            "border": null,
            "align_items": null,
            "bottom": null,
            "_model_module": "@jupyter-widgets/base",
            "top": null,
            "grid_column": null,
            "overflow_y": null,
            "overflow_x": null,
            "grid_auto_flow": null,
            "grid_area": null,
            "grid_template_columns": null,
            "flex": null,
            "_model_name": "LayoutModel",
            "justify_items": null,
            "grid_row": null,
            "max_height": null,
            "align_content": null,
            "visibility": null,
            "align_self": null,
            "height": null,
            "min_height": null,
            "padding": null,
            "grid_auto_rows": null,
            "grid_gap": null,
            "max_width": null,
            "order": null,
            "_view_module_version": "1.2.0",
            "grid_template_areas": null,
            "object_position": null,
            "object_fit": null,
            "grid_auto_columns": null,
            "margin": null,
            "display": null,
            "left": null
          }
        },
        "1ab8cd0cdb7041b4a56650d2bdfdb3ed": {
          "model_module": "@jupyter-widgets/controls",
          "model_name": "HBoxModel",
          "state": {
            "_view_name": "HBoxView",
            "_dom_classes": [],
            "_model_name": "HBoxModel",
            "_view_module": "@jupyter-widgets/controls",
            "_model_module_version": "1.5.0",
            "_view_count": null,
            "_view_module_version": "1.5.0",
            "box_style": "",
            "layout": "IPY_MODEL_1b3e2423d703472bab20e94c978e1746",
            "_model_module": "@jupyter-widgets/controls",
            "children": [
              "IPY_MODEL_c7f5d9222c404ac7929f1c1c58194894",
              "IPY_MODEL_6e1dd0042b484ac0bc6eb6d411945d84"
            ]
          }
        },
        "1b3e2423d703472bab20e94c978e1746": {
          "model_module": "@jupyter-widgets/base",
          "model_name": "LayoutModel",
          "state": {
            "_view_name": "LayoutView",
            "grid_template_rows": null,
            "right": null,
            "justify_content": null,
            "_view_module": "@jupyter-widgets/base",
            "overflow": null,
            "_model_module_version": "1.2.0",
            "_view_count": null,
            "flex_flow": null,
            "width": null,
            "min_width": null,
            "border": null,
            "align_items": null,
            "bottom": null,
            "_model_module": "@jupyter-widgets/base",
            "top": null,
            "grid_column": null,
            "overflow_y": null,
            "overflow_x": null,
            "grid_auto_flow": null,
            "grid_area": null,
            "grid_template_columns": null,
            "flex": null,
            "_model_name": "LayoutModel",
            "justify_items": null,
            "grid_row": null,
            "max_height": null,
            "align_content": null,
            "visibility": null,
            "align_self": null,
            "height": null,
            "min_height": null,
            "padding": null,
            "grid_auto_rows": null,
            "grid_gap": null,
            "max_width": null,
            "order": null,
            "_view_module_version": "1.2.0",
            "grid_template_areas": null,
            "object_position": null,
            "object_fit": null,
            "grid_auto_columns": null,
            "margin": null,
            "display": null,
            "left": null
          }
        },
        "c7f5d9222c404ac7929f1c1c58194894": {
          "model_module": "@jupyter-widgets/controls",
          "model_name": "FloatProgressModel",
          "state": {
            "_view_name": "ProgressView",
            "style": "IPY_MODEL_5a6925557c7b4008bf6c365b83d65ce2",
            "_dom_classes": [],
            "description": "",
            "_model_name": "FloatProgressModel",
            "bar_style": "success",
            "max": 170498071,
            "_view_module": "@jupyter-widgets/controls",
            "_model_module_version": "1.5.0",
            "value": 170498071,
            "_view_count": null,
            "_view_module_version": "1.5.0",
            "orientation": "horizontal",
            "min": 0,
            "description_tooltip": null,
            "_model_module": "@jupyter-widgets/controls",
            "layout": "IPY_MODEL_fc4644fc8ca14f6490dbe2f1038bf979"
          }
        },
        "6e1dd0042b484ac0bc6eb6d411945d84": {
          "model_module": "@jupyter-widgets/controls",
          "model_name": "HTMLModel",
          "state": {
            "_view_name": "HTMLView",
            "style": "IPY_MODEL_20cc3ddac9ae421fb597bd6ba9262d65",
            "_dom_classes": [],
            "description": "",
            "_model_name": "HTMLModel",
            "placeholder": "​",
            "_view_module": "@jupyter-widgets/controls",
            "_model_module_version": "1.5.0",
            "value": " 170499072/? [00:08&lt;00:00, 20344187.40it/s]",
            "_view_count": null,
            "_view_module_version": "1.5.0",
            "description_tooltip": null,
            "_model_module": "@jupyter-widgets/controls",
            "layout": "IPY_MODEL_4ffebf57f2ca4636b5d92ae336430545"
          }
        },
        "5a6925557c7b4008bf6c365b83d65ce2": {
          "model_module": "@jupyter-widgets/controls",
          "model_name": "ProgressStyleModel",
          "state": {
            "_view_name": "StyleView",
            "_model_name": "ProgressStyleModel",
            "description_width": "initial",
            "_view_module": "@jupyter-widgets/base",
            "_model_module_version": "1.5.0",
            "_view_count": null,
            "_view_module_version": "1.2.0",
            "bar_color": null,
            "_model_module": "@jupyter-widgets/controls"
          }
        },
        "fc4644fc8ca14f6490dbe2f1038bf979": {
          "model_module": "@jupyter-widgets/base",
          "model_name": "LayoutModel",
          "state": {
            "_view_name": "LayoutView",
            "grid_template_rows": null,
            "right": null,
            "justify_content": null,
            "_view_module": "@jupyter-widgets/base",
            "overflow": null,
            "_model_module_version": "1.2.0",
            "_view_count": null,
            "flex_flow": null,
            "width": null,
            "min_width": null,
            "border": null,
            "align_items": null,
            "bottom": null,
            "_model_module": "@jupyter-widgets/base",
            "top": null,
            "grid_column": null,
            "overflow_y": null,
            "overflow_x": null,
            "grid_auto_flow": null,
            "grid_area": null,
            "grid_template_columns": null,
            "flex": null,
            "_model_name": "LayoutModel",
            "justify_items": null,
            "grid_row": null,
            "max_height": null,
            "align_content": null,
            "visibility": null,
            "align_self": null,
            "height": null,
            "min_height": null,
            "padding": null,
            "grid_auto_rows": null,
            "grid_gap": null,
            "max_width": null,
            "order": null,
            "_view_module_version": "1.2.0",
            "grid_template_areas": null,
            "object_position": null,
            "object_fit": null,
            "grid_auto_columns": null,
            "margin": null,
            "display": null,
            "left": null
          }
        },
        "20cc3ddac9ae421fb597bd6ba9262d65": {
          "model_module": "@jupyter-widgets/controls",
          "model_name": "DescriptionStyleModel",
          "state": {
            "_view_name": "StyleView",
            "_model_name": "DescriptionStyleModel",
            "description_width": "",
            "_view_module": "@jupyter-widgets/base",
            "_model_module_version": "1.5.0",
            "_view_count": null,
            "_view_module_version": "1.2.0",
            "_model_module": "@jupyter-widgets/controls"
          }
        },
        "4ffebf57f2ca4636b5d92ae336430545": {
          "model_module": "@jupyter-widgets/base",
          "model_name": "LayoutModel",
          "state": {
            "_view_name": "LayoutView",
            "grid_template_rows": null,
            "right": null,
            "justify_content": null,
            "_view_module": "@jupyter-widgets/base",
            "overflow": null,
            "_model_module_version": "1.2.0",
            "_view_count": null,
            "flex_flow": null,
            "width": null,
            "min_width": null,
            "border": null,
            "align_items": null,
            "bottom": null,
            "_model_module": "@jupyter-widgets/base",
            "top": null,
            "grid_column": null,
            "overflow_y": null,
            "overflow_x": null,
            "grid_auto_flow": null,
            "grid_area": null,
            "grid_template_columns": null,
            "flex": null,
            "_model_name": "LayoutModel",
            "justify_items": null,
            "grid_row": null,
            "max_height": null,
            "align_content": null,
            "visibility": null,
            "align_self": null,
            "height": null,
            "min_height": null,
            "padding": null,
            "grid_auto_rows": null,
            "grid_gap": null,
            "max_width": null,
            "order": null,
            "_view_module_version": "1.2.0",
            "grid_template_areas": null,
            "object_position": null,
            "object_fit": null,
            "grid_auto_columns": null,
            "margin": null,
            "display": null,
            "left": null
          }
        }
      }
    }
  },
  "cells": [
    {
      "cell_type": "markdown",
      "metadata": {
        "id": "5NwLQOFMMlev"
      },
      "source": [
        "# Computer Vision: Assignment 3 Part 1 - Some CNN Basics [40%]\n",
        "\n",
        "Spring 2021 semester.\n",
        "\n",
        "Due date: **July 19th 2021.**\n",
        "\n",
        "## Introduction\n",
        "\n",
        "This question is an introduction to using PyTorch for training simple neural net models. \n",
        "\n",
        "Two different datasets will be used: \n",
        "- MNIST digits [handwritten digits]\n",
        "- CIFAR-10 [32x32 resolution color images of 10 object classes].\n",
        "\n",
        "## Requirements\n",
        "\n",
        "Perform this assignment in PyTorch, modifying the baseline code, producing outputs and adding required explanations - *all within this ipython notebook*.\n",
        "\n",
        "Finally, submit this iPython notebook, including outputs, as an .ipynb file (exact submission guidelines will be given in the next couple of days). \n",
        "\n",
        "## Question (1): Warmup [5%]\n",
        "\n",
        "It is always good practice to visually inspect your data before trying to train a model, since it lets you check for problems and get a feel for the task at hand.\n",
        "\n",
        "MNIST is a dataset of 70,000 grayscale hand-written digits (0 through 9).\n",
        "60,000 of these are training images. 10,000 are a held out test set. \n",
        "\n",
        "CIFAR-10 is a dataset of 60,000 color images (32 by 32 resolution) across 10 classes (airplane, automobile, bird, cat, deer, dog, frog, horse, ship, truck). \n",
        "The train/test split is 50k/10k.\n",
        "\n",
        "**a)**  Use `matplotlib` and ipython notebook's visualization capabilities to display one train and one test image of each class, for each of the two datasets.\n",
        "[See this PyTorch tutorial page](http://pytorch.org/tutorials/beginner/blitz/cifar10_tutorial.html#sphx-glr-beginner-blitz-cifar10-tutorial-py) for hints on how to achieve this.\n",
        "\n",
        "** Relevant Cell: \"Data Loading\" **\n",
        "\n",
        "## Question (2): Training a Single Layer Network on MNIST [10%]\n",
        "\n",
        "Start by running the training on MNIST. By default if you run this notebook successfully, it will train on MNIST.\n",
        "\n",
        "This will initialize a single layer model train it on the 60,000 MNIST training images for 10 epochs (passes through the training data). \n",
        "\n",
        "The loss function [cross_entropy](http://pytorch.org/docs/master/nn.html?highlight=cross_entropy#torch.nn.functional.cross_entropy) computes a Logarithm of the Softmax on the output of the neural network, and then computes the negative log-likelihood w.r.t. the given `target`.\n",
        "\n",
        "The default values for the learning rate, batch size and number of epochs are given in the \"options\" cell of this notebook. Unless otherwise specified, use the default values throughout this assignment. \n",
        "\n",
        "Note the decrease in training loss and corresponding decrease in validation errors.\n",
        "\n",
        "**a)** Add code to plot out the network weights as images (one for each output, of size 28 by 28) after the last epoch. (Hint threads: [#1](https://discuss.pytorch.org/t/understanding-deep-network-visualize-weights/2060/2?u=smth) [#2](https://github.com/pytorch/vision#utils) )\n",
        "\n",
        "**b)** Reduce the number of training examples to just 50. [Hint: limit the iterator in the `train` function]. \n",
        "Paste the output into your report and explain what is happening to the model.\n",
        "\n",
        "## Question (3): Training a Multi-Layer Network on MNIST [10%]\n",
        "\n",
        "**a)**  Add an extra layer to the network with 1000 hidden units and a `tanh` non-linearity. [Hint: modify the `Net` class] and train the model for 10 epochs.\n",
        "\n",
        "**b)**   Now set the learning rate to 10 and retrain. Give a brief explanation to the observed results.\n",
        "\n",
        "## Question (4): Training a Convolutional Network on CIFAR [15%]\n",
        "\n",
        "To change over to the CIFAR-10 dataset, change the `options` cell's `dataset` variable to `'cifar10'`.\n",
        "\n",
        "- Create a convolutional network with the following architecture:\n",
        "  - Convolution with 5 by 5 filters, 16 feature maps + Tanh nonlinearity.\n",
        "  - 2 by 2 max pooling (non-overlapping).\n",
        "  - Convolution with 5 by 5 filters, 128 feature maps + Tanh nonlinearity.\n",
        "  - 2 by 2 max pooling (non-overlapping).\n",
        "  - Flatten to vector.\n",
        "  - Linear layer with 64 hidden units + Tanh nonlinearity.\n",
        "  - Linear layer to 10 output units.\n",
        "\n",
        "**a)** Train it for 20 epochs on the CIFAR-10 training set and Visualize the first layer filters.\n",
        "\n",
        "Hints: [Follow the first PyTorch tutorial](http://pytorch.org/tutorials/beginner/blitz/neural_networks_tutorial.html#sphx-glr-beginner-blitz-neural-networks-tutorial-py) or look at the [MNIST example](https://github.com/pytorch/examples/tree/master/mnist)\n",
        "\n",
        "**b)**  Give a breakdown of the number of parameters within the above model, as well as the overall number."
      ]
    },
    {
      "cell_type": "markdown",
      "metadata": {
        "id": "69bRRf3hIHQo"
      },
      "source": [
        "# ***Example Code***"
      ]
    },
    {
      "cell_type": "code",
      "metadata": {
        "id": "CrnqiscEKGWv"
      },
      "source": [
        "# imports\n",
        "from __future__ import print_function\n",
        "import argparse\n",
        "import torch\n",
        "import torch.nn as nn\n",
        "import torch.nn.functional as F\n",
        "import torch.optim as optim\n",
        "from torchvision import datasets, transforms\n",
        "from torch.autograd import Variable"
      ],
      "execution_count": 1,
      "outputs": []
    },
    {
      "cell_type": "code",
      "metadata": {
        "id": "V0NBWksLKRD7"
      },
      "source": [
        "# options\n",
        "dataset = 'mnist' # options: 'mnist' | 'cifar10'\n",
        "batch_size = 64   # input batch size for training\n",
        "epochs = 10       # number of epochs to train\n",
        "lr = 0.01        # learning rate"
      ],
      "execution_count": 2,
      "outputs": []
    },
    {
      "cell_type": "code",
      "metadata": {
        "id": "ab7pqvGUKVVf",
        "colab": {
          "base_uri": "https://localhost:8080/",
          "height": 673,
          "referenced_widgets": [
            "23da96d43b634bc68527cf87640bef7b",
            "3296d49098b241a9bd79a0b5b762bc8e",
            "e1d3c6923c6043e697089217df64b4bb",
            "448b6bea682a4f1ca6a73e18c9e1e87c",
            "32397aac0db74a5788482173f389a004",
            "b2bd9b5a5ce147ada850b081c77f1485",
            "7f68fa48baa2455398491b426091c6b8",
            "84a9b7f84cc54d28adc4a0549c62e783",
            "8407eb4b867a4598a443bb09fc21af8b",
            "e8b64cc723fe46a3947d115e36c1dbd9",
            "0c7d4f263452474d950794edfcd01af2",
            "20452ec71d3d4311b90fab21d3479870",
            "65e051eb7bd5494e973a9b72c2e646ae",
            "bfcfb544725b45f389186f4f4b43f4ce",
            "4f0e52b8936140e9ab2f65b4ffbd29e4",
            "b8007d74d7154075a78661cb91730ed3",
            "77dd924cdc2b4550883db2f621ff3bf7",
            "80bad63d3d984333af9a2882e8f5c3ca",
            "7436bb4c9da747b489c3eded8923fc24",
            "386029d3220f4cc28d08e6d9448e4c67",
            "e637bca3a5234a71a2cdf25065701463",
            "eacc4632e8334b1b8715232772feffe9",
            "520b6be54fdd43de8e7e13259ac43324",
            "0753863552ba4198a85349392b435ed4",
            "8883656bce8b43c58e3c4ed0d976350e",
            "16cd870203af4108b7b148482901eddc",
            "f7eb52d2a87d45b1b5417a919c3c0310",
            "2a48b25fd27a407db40ff2710712e3f4",
            "7873de94582b43ebb3301e50dec47aa4",
            "863847ac7956442da95d3a913d67007d",
            "c8c4fd790cbd4ff88efb763b6bfca7f9",
            "01b7b26fa7224c0ba380a20ffc17278a"
          ]
        },
        "outputId": "2f56b6c8-420f-4e46-d9c9-76e88109c5e7"
      },
      "source": [
        "# Data Loading\n",
        "# Warning: this cell might take some time when you run it for the first time, \n",
        "#          because it will download the datasets from the internet\n",
        "if dataset == 'mnist':\n",
        "    data_transform = transforms.Compose([\n",
        "        transforms.ToTensor(),\n",
        "        transforms.Normalize((0.1307,), (0.3081,))\n",
        "    ])\n",
        "    trainset = datasets.MNIST(root='.', train=True, download=True, transform=data_transform)\n",
        "    testset = datasets.MNIST(root='.', train=False, download=True, transform=data_transform)\n",
        "\n",
        "elif dataset == 'cifar10':\n",
        "    data_transform = transforms.Compose([\n",
        "        transforms.ToTensor(),\n",
        "        transforms.Normalize((0.5, 0.5, 0.5), (0.5, 0.5, 0.5)),\n",
        "    ])\n",
        "    trainset = datasets.CIFAR10(root='.', train=True, download=True, transform=data_transform)\n",
        "    testset = datasets.CIFAR10(root='.', train=False, download=True, transform=data_transform)\n",
        "\n",
        "train_loader = torch.utils.data.DataLoader(trainset, batch_size=batch_size, shuffle=True, num_workers=0)\n",
        "test_loader  = torch.utils.data.DataLoader(testset, batch_size=batch_size, shuffle=False, num_workers=0)"
      ],
      "execution_count": 3,
      "outputs": [
        {
          "output_type": "stream",
          "text": [
            "Downloading http://yann.lecun.com/exdb/mnist/train-images-idx3-ubyte.gz\n",
            "Downloading http://yann.lecun.com/exdb/mnist/train-images-idx3-ubyte.gz to ./MNIST/raw/train-images-idx3-ubyte.gz\n"
          ],
          "name": "stdout"
        },
        {
          "output_type": "display_data",
          "data": {
            "application/vnd.jupyter.widget-view+json": {
              "model_id": "23da96d43b634bc68527cf87640bef7b",
              "version_minor": 0,
              "version_major": 2
            },
            "text/plain": [
              "HBox(children=(FloatProgress(value=0.0, max=9912422.0), HTML(value='')))"
            ]
          },
          "metadata": {
            "tags": []
          }
        },
        {
          "output_type": "stream",
          "text": [
            "\n",
            "Extracting ./MNIST/raw/train-images-idx3-ubyte.gz to ./MNIST/raw\n",
            "\n",
            "Downloading http://yann.lecun.com/exdb/mnist/train-labels-idx1-ubyte.gz\n",
            "Downloading http://yann.lecun.com/exdb/mnist/train-labels-idx1-ubyte.gz to ./MNIST/raw/train-labels-idx1-ubyte.gz\n"
          ],
          "name": "stdout"
        },
        {
          "output_type": "display_data",
          "data": {
            "application/vnd.jupyter.widget-view+json": {
              "model_id": "8407eb4b867a4598a443bb09fc21af8b",
              "version_minor": 0,
              "version_major": 2
            },
            "text/plain": [
              "HBox(children=(FloatProgress(value=0.0, max=28881.0), HTML(value='')))"
            ]
          },
          "metadata": {
            "tags": []
          }
        },
        {
          "output_type": "stream",
          "text": [
            "\n",
            "Extracting ./MNIST/raw/train-labels-idx1-ubyte.gz to ./MNIST/raw\n",
            "\n",
            "Downloading http://yann.lecun.com/exdb/mnist/t10k-images-idx3-ubyte.gz\n",
            "Downloading http://yann.lecun.com/exdb/mnist/t10k-images-idx3-ubyte.gz to ./MNIST/raw/t10k-images-idx3-ubyte.gz\n",
            "Failed to download (trying next):\n",
            "HTTP Error 503: Service Unavailable\n",
            "\n",
            "Downloading https://ossci-datasets.s3.amazonaws.com/mnist/t10k-images-idx3-ubyte.gz\n",
            "Downloading https://ossci-datasets.s3.amazonaws.com/mnist/t10k-images-idx3-ubyte.gz to ./MNIST/raw/t10k-images-idx3-ubyte.gz\n"
          ],
          "name": "stdout"
        },
        {
          "output_type": "display_data",
          "data": {
            "application/vnd.jupyter.widget-view+json": {
              "model_id": "77dd924cdc2b4550883db2f621ff3bf7",
              "version_minor": 0,
              "version_major": 2
            },
            "text/plain": [
              "HBox(children=(FloatProgress(value=0.0, max=1648877.0), HTML(value='')))"
            ]
          },
          "metadata": {
            "tags": []
          }
        },
        {
          "output_type": "stream",
          "text": [
            "\n",
            "Extracting ./MNIST/raw/t10k-images-idx3-ubyte.gz to ./MNIST/raw\n",
            "\n",
            "Downloading http://yann.lecun.com/exdb/mnist/t10k-labels-idx1-ubyte.gz\n",
            "Downloading http://yann.lecun.com/exdb/mnist/t10k-labels-idx1-ubyte.gz to ./MNIST/raw/t10k-labels-idx1-ubyte.gz\n"
          ],
          "name": "stdout"
        },
        {
          "output_type": "display_data",
          "data": {
            "application/vnd.jupyter.widget-view+json": {
              "model_id": "8883656bce8b43c58e3c4ed0d976350e",
              "version_minor": 0,
              "version_major": 2
            },
            "text/plain": [
              "HBox(children=(FloatProgress(value=0.0, max=4542.0), HTML(value='')))"
            ]
          },
          "metadata": {
            "tags": []
          }
        },
        {
          "output_type": "stream",
          "text": [
            "\n",
            "Extracting ./MNIST/raw/t10k-labels-idx1-ubyte.gz to ./MNIST/raw\n",
            "\n"
          ],
          "name": "stdout"
        },
        {
          "output_type": "stream",
          "text": [
            "/usr/local/lib/python3.7/dist-packages/torchvision/datasets/mnist.py:498: UserWarning: The given NumPy array is not writeable, and PyTorch does not support non-writeable tensors. This means you can write to the underlying (supposedly non-writeable) NumPy array using the tensor. You may want to copy the array to protect its data or make it writeable before converting it to a tensor. This type of warning will be suppressed for the rest of this program. (Triggered internally at  /pytorch/torch/csrc/utils/tensor_numpy.cpp:180.)\n",
            "  return torch.from_numpy(parsed.astype(m[2], copy=False)).view(*s)\n"
          ],
          "name": "stderr"
        }
      ]
    },
    {
      "cell_type": "code",
      "metadata": {
        "id": "mRkBGjAEKZM0"
      },
      "source": [
        "## network and optimizer\n",
        "if dataset == 'mnist':\n",
        "    num_inputs = 784\n",
        "elif dataset == 'cifar10':\n",
        "    num_inputs = 3072\n",
        "\n",
        "num_outputs = 10 # same for both CIFAR10 and MNIST, both have 10 classes as outputs\n",
        "\n",
        "class Net(nn.Module):\n",
        "    def __init__(self, num_inputs, num_outputs):\n",
        "        super(Net, self).__init__()\n",
        "        self.linear = nn.Linear(num_inputs, num_outputs)\n",
        "\n",
        "    def forward(self, input):\n",
        "        input = input.view(-1, num_inputs) # reshape input to batch x num_inputs\n",
        "        output = self.linear(input)\n",
        "        return output\n",
        "\n",
        "network = Net(num_inputs, num_outputs)\n",
        "optimizer = optim.SGD(network.parameters(), lr=lr)"
      ],
      "execution_count": 4,
      "outputs": []
    },
    {
      "cell_type": "code",
      "metadata": {
        "id": "3DfrCg4-Kfq6"
      },
      "source": [
        "# train and test functions\n",
        "def train(epoch):\n",
        "    network.train()\n",
        "    for batch_idx, (data, target) in enumerate(train_loader):\n",
        "        data, target = Variable(data), Variable(target)\n",
        "        optimizer.zero_grad()\n",
        "        output = network(data)\n",
        "        loss = F.cross_entropy(output, target)\n",
        "        loss.backward()\n",
        "        optimizer.step()\n",
        "        if batch_idx % 100 == 0:\n",
        "            print('Train Epoch: {} [{}/{} ({:.0f}%)]\\tLoss: {:.6f}'.format(\n",
        "                epoch, batch_idx * len(data), len(train_loader.dataset),\n",
        "                100. * batch_idx / len(train_loader), loss.item()))\n",
        "\n",
        "def test():\n",
        "    network.eval()\n",
        "    test_loss = 0\n",
        "    correct = 0\n",
        "    for data, target in test_loader:\n",
        "        #data, target = Variable(data, volatile=True), Variable(target)\n",
        "        output = network(data)\n",
        "        test_loss += F.cross_entropy(output, target, reduction='sum').item() # sum up batch loss\n",
        "        #test_loss += F.cross_entropy(output, target, sum=True).item() # sum up batch loss\n",
        "        pred = output.data.max(1, keepdim=True)[1] # get the index of the max log-probability\n",
        "        correct += pred.eq(target.data.view_as(pred)).cpu().sum()\n",
        "\n",
        "    test_loss /= len(test_loader.dataset)\n",
        "    print('\\nTest set: Average loss: {:.4f}, Accuracy: {}/{} ({:.0f}%)\\n'.format(\n",
        "        test_loss, correct, len(test_loader.dataset),\n",
        "        100. * correct / len(test_loader.dataset)))\n"
      ],
      "execution_count": 5,
      "outputs": []
    },
    {
      "cell_type": "code",
      "metadata": {
        "id": "c52XmoeCKja2",
        "colab": {
          "base_uri": "https://localhost:8080/"
        },
        "outputId": "c5d6d0f0-6d4e-4164-b004-48435078e69f"
      },
      "source": [
        "# Training\n",
        "for i in range(1, epochs+1):\n",
        "  train(i)"
      ],
      "execution_count": 6,
      "outputs": [
        {
          "output_type": "stream",
          "text": [
            "Train Epoch: 1 [0/60000 (0%)]\tLoss: 2.432031\n",
            "Train Epoch: 1 [6400/60000 (11%)]\tLoss: 0.576757\n",
            "Train Epoch: 1 [12800/60000 (21%)]\tLoss: 0.486315\n",
            "Train Epoch: 1 [19200/60000 (32%)]\tLoss: 0.444516\n",
            "Train Epoch: 1 [25600/60000 (43%)]\tLoss: 0.324351\n",
            "Train Epoch: 1 [32000/60000 (53%)]\tLoss: 0.383382\n",
            "Train Epoch: 1 [38400/60000 (64%)]\tLoss: 0.256830\n",
            "Train Epoch: 1 [44800/60000 (75%)]\tLoss: 0.430398\n",
            "Train Epoch: 1 [51200/60000 (85%)]\tLoss: 0.351442\n",
            "Train Epoch: 1 [57600/60000 (96%)]\tLoss: 0.444126\n",
            "Train Epoch: 2 [0/60000 (0%)]\tLoss: 0.447588\n",
            "Train Epoch: 2 [6400/60000 (11%)]\tLoss: 0.269341\n",
            "Train Epoch: 2 [12800/60000 (21%)]\tLoss: 0.249097\n",
            "Train Epoch: 2 [19200/60000 (32%)]\tLoss: 0.211131\n",
            "Train Epoch: 2 [25600/60000 (43%)]\tLoss: 0.308074\n",
            "Train Epoch: 2 [32000/60000 (53%)]\tLoss: 0.344421\n",
            "Train Epoch: 2 [38400/60000 (64%)]\tLoss: 0.370573\n",
            "Train Epoch: 2 [44800/60000 (75%)]\tLoss: 0.412838\n",
            "Train Epoch: 2 [51200/60000 (85%)]\tLoss: 0.311482\n",
            "Train Epoch: 2 [57600/60000 (96%)]\tLoss: 0.268119\n",
            "Train Epoch: 3 [0/60000 (0%)]\tLoss: 0.261986\n",
            "Train Epoch: 3 [6400/60000 (11%)]\tLoss: 0.367827\n",
            "Train Epoch: 3 [12800/60000 (21%)]\tLoss: 0.161505\n",
            "Train Epoch: 3 [19200/60000 (32%)]\tLoss: 0.312125\n",
            "Train Epoch: 3 [25600/60000 (43%)]\tLoss: 0.519866\n",
            "Train Epoch: 3 [32000/60000 (53%)]\tLoss: 0.694851\n",
            "Train Epoch: 3 [38400/60000 (64%)]\tLoss: 0.214539\n",
            "Train Epoch: 3 [44800/60000 (75%)]\tLoss: 0.576005\n",
            "Train Epoch: 3 [51200/60000 (85%)]\tLoss: 0.425876\n",
            "Train Epoch: 3 [57600/60000 (96%)]\tLoss: 0.364574\n",
            "Train Epoch: 4 [0/60000 (0%)]\tLoss: 0.432749\n",
            "Train Epoch: 4 [6400/60000 (11%)]\tLoss: 0.252857\n",
            "Train Epoch: 4 [12800/60000 (21%)]\tLoss: 0.140467\n",
            "Train Epoch: 4 [19200/60000 (32%)]\tLoss: 0.375830\n",
            "Train Epoch: 4 [25600/60000 (43%)]\tLoss: 0.321030\n",
            "Train Epoch: 4 [32000/60000 (53%)]\tLoss: 0.215645\n",
            "Train Epoch: 4 [38400/60000 (64%)]\tLoss: 0.258001\n",
            "Train Epoch: 4 [44800/60000 (75%)]\tLoss: 0.555399\n",
            "Train Epoch: 4 [51200/60000 (85%)]\tLoss: 0.328721\n",
            "Train Epoch: 4 [57600/60000 (96%)]\tLoss: 0.220885\n",
            "Train Epoch: 5 [0/60000 (0%)]\tLoss: 0.198148\n",
            "Train Epoch: 5 [6400/60000 (11%)]\tLoss: 0.412677\n",
            "Train Epoch: 5 [12800/60000 (21%)]\tLoss: 0.240747\n",
            "Train Epoch: 5 [19200/60000 (32%)]\tLoss: 0.175468\n",
            "Train Epoch: 5 [25600/60000 (43%)]\tLoss: 0.382705\n",
            "Train Epoch: 5 [32000/60000 (53%)]\tLoss: 0.304281\n",
            "Train Epoch: 5 [38400/60000 (64%)]\tLoss: 0.298651\n",
            "Train Epoch: 5 [44800/60000 (75%)]\tLoss: 0.258224\n",
            "Train Epoch: 5 [51200/60000 (85%)]\tLoss: 0.501865\n",
            "Train Epoch: 5 [57600/60000 (96%)]\tLoss: 0.325928\n",
            "Train Epoch: 6 [0/60000 (0%)]\tLoss: 0.260169\n",
            "Train Epoch: 6 [6400/60000 (11%)]\tLoss: 0.322603\n",
            "Train Epoch: 6 [12800/60000 (21%)]\tLoss: 0.275204\n",
            "Train Epoch: 6 [19200/60000 (32%)]\tLoss: 0.148776\n",
            "Train Epoch: 6 [25600/60000 (43%)]\tLoss: 0.237561\n",
            "Train Epoch: 6 [32000/60000 (53%)]\tLoss: 0.244346\n",
            "Train Epoch: 6 [38400/60000 (64%)]\tLoss: 0.234112\n",
            "Train Epoch: 6 [44800/60000 (75%)]\tLoss: 0.294830\n",
            "Train Epoch: 6 [51200/60000 (85%)]\tLoss: 0.202936\n",
            "Train Epoch: 6 [57600/60000 (96%)]\tLoss: 0.447674\n",
            "Train Epoch: 7 [0/60000 (0%)]\tLoss: 0.136368\n",
            "Train Epoch: 7 [6400/60000 (11%)]\tLoss: 0.164801\n",
            "Train Epoch: 7 [12800/60000 (21%)]\tLoss: 0.280221\n",
            "Train Epoch: 7 [19200/60000 (32%)]\tLoss: 0.154235\n",
            "Train Epoch: 7 [25600/60000 (43%)]\tLoss: 0.263183\n",
            "Train Epoch: 7 [32000/60000 (53%)]\tLoss: 0.336837\n",
            "Train Epoch: 7 [38400/60000 (64%)]\tLoss: 0.299628\n",
            "Train Epoch: 7 [44800/60000 (75%)]\tLoss: 0.183914\n",
            "Train Epoch: 7 [51200/60000 (85%)]\tLoss: 0.155626\n",
            "Train Epoch: 7 [57600/60000 (96%)]\tLoss: 0.267227\n",
            "Train Epoch: 8 [0/60000 (0%)]\tLoss: 0.189255\n",
            "Train Epoch: 8 [6400/60000 (11%)]\tLoss: 0.288833\n",
            "Train Epoch: 8 [12800/60000 (21%)]\tLoss: 0.273375\n",
            "Train Epoch: 8 [19200/60000 (32%)]\tLoss: 0.221859\n",
            "Train Epoch: 8 [25600/60000 (43%)]\tLoss: 0.367815\n",
            "Train Epoch: 8 [32000/60000 (53%)]\tLoss: 0.205066\n",
            "Train Epoch: 8 [38400/60000 (64%)]\tLoss: 0.386491\n",
            "Train Epoch: 8 [44800/60000 (75%)]\tLoss: 0.403934\n",
            "Train Epoch: 8 [51200/60000 (85%)]\tLoss: 0.229616\n",
            "Train Epoch: 8 [57600/60000 (96%)]\tLoss: 0.219347\n",
            "Train Epoch: 9 [0/60000 (0%)]\tLoss: 0.490107\n",
            "Train Epoch: 9 [6400/60000 (11%)]\tLoss: 0.363483\n",
            "Train Epoch: 9 [12800/60000 (21%)]\tLoss: 0.194968\n",
            "Train Epoch: 9 [19200/60000 (32%)]\tLoss: 0.280040\n",
            "Train Epoch: 9 [25600/60000 (43%)]\tLoss: 0.161487\n",
            "Train Epoch: 9 [32000/60000 (53%)]\tLoss: 0.139374\n",
            "Train Epoch: 9 [38400/60000 (64%)]\tLoss: 0.794918\n",
            "Train Epoch: 9 [44800/60000 (75%)]\tLoss: 0.296863\n",
            "Train Epoch: 9 [51200/60000 (85%)]\tLoss: 0.195521\n",
            "Train Epoch: 9 [57600/60000 (96%)]\tLoss: 0.352873\n",
            "Train Epoch: 10 [0/60000 (0%)]\tLoss: 0.118865\n",
            "Train Epoch: 10 [6400/60000 (11%)]\tLoss: 0.541338\n",
            "Train Epoch: 10 [12800/60000 (21%)]\tLoss: 0.210937\n",
            "Train Epoch: 10 [19200/60000 (32%)]\tLoss: 0.531803\n",
            "Train Epoch: 10 [25600/60000 (43%)]\tLoss: 0.147940\n",
            "Train Epoch: 10 [32000/60000 (53%)]\tLoss: 0.074590\n",
            "Train Epoch: 10 [38400/60000 (64%)]\tLoss: 0.090186\n",
            "Train Epoch: 10 [44800/60000 (75%)]\tLoss: 0.360412\n",
            "Train Epoch: 10 [51200/60000 (85%)]\tLoss: 0.239867\n",
            "Train Epoch: 10 [57600/60000 (96%)]\tLoss: 0.331737\n"
          ],
          "name": "stdout"
        }
      ]
    },
    {
      "cell_type": "code",
      "metadata": {
        "id": "4Nfl06zkKmfX",
        "colab": {
          "base_uri": "https://localhost:8080/"
        },
        "outputId": "ddb4cc3f-4b41-43bc-dcc1-3a2a230062e6"
      },
      "source": [
        "# Testing\n",
        "test()"
      ],
      "execution_count": 7,
      "outputs": [
        {
          "output_type": "stream",
          "text": [
            "\n",
            "Test set: Average loss: 0.2770, Accuracy: 9223/10000 (92%)\n",
            "\n"
          ],
          "name": "stdout"
        }
      ]
    },
    {
      "cell_type": "markdown",
      "metadata": {
        "id": "_TguAK3vIgJ_"
      },
      "source": [
        "# **Answer (1):**\n"
      ]
    },
    {
      "cell_type": "code",
      "metadata": {
        "id": "gtQ-2AnnxCCE"
      },
      "source": [
        "import matplotlib.pyplot as plt\n",
        "import numpy as np\n",
        "import torchvision\n",
        "\n",
        "def imshow(img):\n",
        "    if dataset =='mnist':\n",
        "        img = img*0.3081 + 0.1307 # unnormalize\n",
        "    elif dataset == 'cifar10':\n",
        "        img = img / 2 + 0.5     # unnormalize\n",
        "    npimg = img.numpy()\n",
        "    plt.imshow(np.transpose(npimg, (1, 2, 0)))\n",
        "    plt.show()"
      ],
      "execution_count": 8,
      "outputs": []
    },
    {
      "cell_type": "code",
      "metadata": {
        "id": "a1rXPt9VF4fo"
      },
      "source": [
        "dataset = 'mnist'\n",
        "\n",
        "data_transform = transforms.Compose([transforms.ToTensor(),transforms.Normalize((0.1307,), (0.3081,))])\n",
        "trainset = datasets.MNIST(root='.', train=True, download=True, transform=data_transform)\n",
        "testset = datasets.MNIST(root='.', train=False, download=True, transform=data_transform)\n",
        "\n",
        "train_loader = torch.utils.data.DataLoader(trainset, batch_size=batch_size, shuffle=True, num_workers=0)\n",
        "test_loader  = torch.utils.data.DataLoader(testset, batch_size=batch_size, shuffle=False, num_workers=0)"
      ],
      "execution_count": 9,
      "outputs": []
    },
    {
      "cell_type": "code",
      "metadata": {
        "colab": {
          "base_uri": "https://localhost:8080/",
          "height": 265
        },
        "id": "Owq8OyqfxM3J",
        "outputId": "d4f05a41-45b9-4af8-e87d-8e9aea650d34"
      },
      "source": [
        "# get some random training images for mnist dataset\n",
        "dataiter = iter(train_loader)\n",
        "images, labels = dataiter.next()\n",
        "imshow(torchvision.utils.make_grid(images[0]))"
      ],
      "execution_count": 10,
      "outputs": [
        {
          "output_type": "display_data",
          "data": {
            "image/png": "[encoded data removed]",
            "text/plain": [
              "<Figure size 432x288 with 1 Axes>"
            ]
          },
          "metadata": {
            "tags": [],
            "needs_background": "light"
          }
        }
      ]
    },
    {
      "cell_type": "code",
      "metadata": {
        "colab": {
          "base_uri": "https://localhost:8080/",
          "height": 265
        },
        "id": "ZZ6Hw-OexWM-",
        "outputId": "474ef51c-d96b-4faa-87ca-0afe4da0c96d"
      },
      "source": [
        "# get some random test images for mnist dataset\n",
        "dataiter = iter(test_loader)\n",
        "images, labels = dataiter.next()\n",
        "imshow(torchvision.utils.make_grid(images[0]))"
      ],
      "execution_count": 11,
      "outputs": [
        {
          "output_type": "display_data",
          "data": {
            "image/png": "[encoded data removed]",
            "text/plain": [
              "<Figure size 432x288 with 1 Axes>"
            ]
          },
          "metadata": {
            "tags": [],
            "needs_background": "light"
          }
        }
      ]
    },
    {
      "cell_type": "code",
      "metadata": {
        "colab": {
          "base_uri": "https://localhost:8080/",
          "height": 124,
          "referenced_widgets": [
            "1ab8cd0cdb7041b4a56650d2bdfdb3ed",
            "1b3e2423d703472bab20e94c978e1746",
            "c7f5d9222c404ac7929f1c1c58194894",
            "6e1dd0042b484ac0bc6eb6d411945d84",
            "5a6925557c7b4008bf6c365b83d65ce2",
            "fc4644fc8ca14f6490dbe2f1038bf979",
            "20cc3ddac9ae421fb597bd6ba9262d65",
            "4ffebf57f2ca4636b5d92ae336430545"
          ]
        },
        "id": "jd_P8PyqGMiG",
        "outputId": "7707e245-9863-41e6-e4fb-9c5e2186dbe4"
      },
      "source": [
        "dataset = 'cifar10'\n",
        "\n",
        "data_transform = transforms.Compose([ transforms.ToTensor(),transforms.Normalize((0.5, 0.5, 0.5), (0.5, 0.5, 0.5)),])\n",
        "trainset = datasets.CIFAR10(root='.', train=True, download=True, transform=data_transform)\n",
        "testset = datasets.CIFAR10(root='.', train=False, download=True, transform=data_transform)\n",
        "\n",
        "train_loader = torch.utils.data.DataLoader(trainset, batch_size=batch_size, shuffle=True, num_workers=0)\n",
        "test_loader  = torch.utils.data.DataLoader(testset, batch_size=batch_size, shuffle=False, num_workers=0)"
      ],
      "execution_count": 12,
      "outputs": [
        {
          "output_type": "stream",
          "text": [
            "Downloading https://www.cs.toronto.edu/~kriz/cifar-10-python.tar.gz to ./cifar-10-python.tar.gz\n"
          ],
          "name": "stdout"
        },
        {
          "output_type": "display_data",
          "data": {
            "application/vnd.jupyter.widget-view+json": {
              "model_id": "1ab8cd0cdb7041b4a56650d2bdfdb3ed",
              "version_minor": 0,
              "version_major": 2
            },
            "text/plain": [
              "HBox(children=(FloatProgress(value=0.0, max=170498071.0), HTML(value='')))"
            ]
          },
          "metadata": {
            "tags": []
          }
        },
        {
          "output_type": "stream",
          "text": [
            "\n",
            "Extracting ./cifar-10-python.tar.gz to .\n",
            "Files already downloaded and verified\n"
          ],
          "name": "stdout"
        }
      ]
    },
    {
      "cell_type": "code",
      "metadata": {
        "colab": {
          "base_uri": "https://localhost:8080/",
          "height": 266
        },
        "id": "8vmg1UeoxchW",
        "outputId": "9f2c0a33-d743-44fd-ebe9-1495f4386ca9"
      },
      "source": [
        "# get some random training images for cifar10 dataset\n",
        "dataiter = iter(train_loader)\n",
        "images, labels = dataiter.next()\n",
        "imshow(torchvision.utils.make_grid(images[0]))"
      ],
      "execution_count": 13,
      "outputs": [
        {
          "output_type": "display_data",
          "data": {
            "image/png": "[encoded data removed]",
            "text/plain": [
              "<Figure size 432x288 with 1 Axes>"
            ]
          },
          "metadata": {
            "tags": [],
            "needs_background": "light"
          }
        }
      ]
    },
    {
      "cell_type": "code",
      "metadata": {
        "colab": {
          "base_uri": "https://localhost:8080/",
          "height": 266
        },
        "id": "CM6ccErm5LWJ",
        "outputId": "fa158f39-c826-4ddb-9113-00227fa5810e"
      },
      "source": [
        "# get some random test images for cifar10 dataset\n",
        "dataiter = iter(test_loader)\n",
        "images, labels = dataiter.next()\n",
        "imshow(torchvision.utils.make_grid(images[0]))"
      ],
      "execution_count": 14,
      "outputs": [
        {
          "output_type": "display_data",
          "data": {
            "image/png": "[encoded data removed]",
            "text/plain": [
              "<Figure size 432x288 with 1 Axes>"
            ]
          },
          "metadata": {
            "tags": [],
            "needs_background": "light"
          }
        }
      ]
    },
    {
      "cell_type": "markdown",
      "metadata": {
        "id": "feeFGXsqI8hP"
      },
      "source": [
        "# **Answer (2):**\n"
      ]
    },
    {
      "cell_type": "code",
      "metadata": {
        "id": "YAPYAPjuGdyM"
      },
      "source": [
        "dataset = 'mnist'\n",
        "\n",
        "data_transform = transforms.Compose([transforms.ToTensor(),transforms.Normalize((0.1307,), (0.3081,))])\n",
        "trainset = datasets.MNIST(root='.', train=True, download=True, transform=data_transform)\n",
        "testset = datasets.MNIST(root='.', train=False, download=True, transform=data_transform)\n",
        "\n",
        "train_loader = torch.utils.data.DataLoader(trainset, batch_size=batch_size, shuffle=True, num_workers=0)\n",
        "test_loader  = torch.utils.data.DataLoader(testset, batch_size=batch_size, shuffle=False, num_workers=0)"
      ],
      "execution_count": 15,
      "outputs": []
    },
    {
      "cell_type": "markdown",
      "metadata": {
        "id": "ylfJWCNsGCoq"
      },
      "source": [
        "## (a)"
      ]
    },
    {
      "cell_type": "code",
      "metadata": {
        "id": "erjyHuEgDXV6"
      },
      "source": [
        "# plot out the network weights as images (one for each output, of size 28 by 28) after the last epoch.\n",
        "def plot_network_weights(num_outputs, size):\n",
        "    for m in network.modules():\n",
        "        if isinstance(m, nn.Linear):           \n",
        "            imshow(torchvision.utils.make_grid(m.weight.data.cpu().view(num_outputs,1,size,size),normalize=True, scale_each=True))"
      ],
      "execution_count": 16,
      "outputs": []
    },
    {
      "cell_type": "code",
      "metadata": {
        "colab": {
          "base_uri": "https://localhost:8080/",
          "height": 137
        },
        "id": "7thzO-muHe2b",
        "outputId": "6ff22c15-09eb-4c4a-f89d-a49721b2f8aa"
      },
      "source": [
        "plot_network_weights(10,28)"
      ],
      "execution_count": 17,
      "outputs": [
        {
          "output_type": "display_data",
          "data": {
            "image/png": "[encoded data removed]",
            "text/plain": [
              "<Figure size 432x288 with 1 Axes>"
            ]
          },
          "metadata": {
            "tags": [],
            "needs_background": "light"
          }
        }
      ]
    },
    {
      "cell_type": "markdown",
      "metadata": {
        "id": "OR3vm3lqGFpS"
      },
      "source": [
        "## (b)"
      ]
    },
    {
      "cell_type": "code",
      "metadata": {
        "id": "2WoeoNsKHw67"
      },
      "source": [
        "import torch.utils.data.sampler as samplers\n",
        "\n",
        "class SubsetSampler(samplers.Sampler):\n",
        "    def __init__(self, data_source, num_samples):\n",
        "        self.data_source = data_source\n",
        "        if num_samples < len(self.data_source):\n",
        "            self.num_samples = num_samples\n",
        "        else:\n",
        "            self.num_samples = len(self.data_source)\n",
        "            \n",
        "    def __iter__(self):\n",
        "        return iter(range(self.num_samples))\n",
        "\n",
        "    def __len__(self):\n",
        "        return self.num_samples"
      ],
      "execution_count": 18,
      "outputs": []
    },
    {
      "cell_type": "code",
      "metadata": {
        "id": "JVtTfbLRcmAh"
      },
      "source": [
        "examples = 50\n",
        "train_loader = torch.utils.data.DataLoader(trainset, batch_size = batch_size, shuffle = False, sampler = SubsetSampler(trainset, examples), num_workers = 0)\n",
        "test_loader  = torch.utils.data.DataLoader(testset, batch_size = batch_size, shuffle = False, sampler = SubsetSampler(testset, examples), num_workers = 0)\n",
        "\n",
        "network = Net(num_inputs, num_outputs)\n",
        "optimizer = optim.SGD(network.parameters(), lr = lr)"
      ],
      "execution_count": 19,
      "outputs": []
    },
    {
      "cell_type": "code",
      "metadata": {
        "colab": {
          "base_uri": "https://localhost:8080/"
        },
        "id": "S92kIkATg5LF",
        "outputId": "3ac40a29-bae6-4d88-bd7e-af4a863600f0"
      },
      "source": [
        "epochs = 70\n",
        "# Training\n",
        "for i in range(1, epochs+1):\n",
        "  train(i)"
      ],
      "execution_count": 20,
      "outputs": [
        {
          "output_type": "stream",
          "text": [
            "Train Epoch: 1 [0/60000 (0%)]\tLoss: 2.497602\n",
            "Train Epoch: 2 [0/60000 (0%)]\tLoss: 2.281253\n",
            "Train Epoch: 3 [0/60000 (0%)]\tLoss: 2.091569\n",
            "Train Epoch: 4 [0/60000 (0%)]\tLoss: 1.925144\n",
            "Train Epoch: 5 [0/60000 (0%)]\tLoss: 1.778587\n",
            "Train Epoch: 6 [0/60000 (0%)]\tLoss: 1.648560\n",
            "Train Epoch: 7 [0/60000 (0%)]\tLoss: 1.532374\n",
            "Train Epoch: 8 [0/60000 (0%)]\tLoss: 1.428071\n",
            "Train Epoch: 9 [0/60000 (0%)]\tLoss: 1.334170\n",
            "Train Epoch: 10 [0/60000 (0%)]\tLoss: 1.249454\n",
            "Train Epoch: 11 [0/60000 (0%)]\tLoss: 1.172873\n",
            "Train Epoch: 12 [0/60000 (0%)]\tLoss: 1.103496\n",
            "Train Epoch: 13 [0/60000 (0%)]\tLoss: 1.040497\n",
            "Train Epoch: 14 [0/60000 (0%)]\tLoss: 0.983143\n",
            "Train Epoch: 15 [0/60000 (0%)]\tLoss: 0.930791\n",
            "Train Epoch: 16 [0/60000 (0%)]\tLoss: 0.882877\n",
            "Train Epoch: 17 [0/60000 (0%)]\tLoss: 0.838908\n",
            "Train Epoch: 18 [0/60000 (0%)]\tLoss: 0.798454\n",
            "Train Epoch: 19 [0/60000 (0%)]\tLoss: 0.761141\n",
            "Train Epoch: 20 [0/60000 (0%)]\tLoss: 0.726640\n",
            "Train Epoch: 21 [0/60000 (0%)]\tLoss: 0.694668\n",
            "Train Epoch: 22 [0/60000 (0%)]\tLoss: 0.664972\n",
            "Train Epoch: 23 [0/60000 (0%)]\tLoss: 0.637333\n",
            "Train Epoch: 24 [0/60000 (0%)]\tLoss: 0.611558\n",
            "Train Epoch: 25 [0/60000 (0%)]\tLoss: 0.587476\n",
            "Train Epoch: 26 [0/60000 (0%)]\tLoss: 0.564935\n",
            "Train Epoch: 27 [0/60000 (0%)]\tLoss: 0.543801\n",
            "Train Epoch: 28 [0/60000 (0%)]\tLoss: 0.523955\n",
            "Train Epoch: 29 [0/60000 (0%)]\tLoss: 0.505291\n",
            "Train Epoch: 30 [0/60000 (0%)]\tLoss: 0.487713\n",
            "Train Epoch: 31 [0/60000 (0%)]\tLoss: 0.471135\n",
            "Train Epoch: 32 [0/60000 (0%)]\tLoss: 0.455480\n",
            "Train Epoch: 33 [0/60000 (0%)]\tLoss: 0.440680\n",
            "Train Epoch: 34 [0/60000 (0%)]\tLoss: 0.426670\n",
            "Train Epoch: 35 [0/60000 (0%)]\tLoss: 0.413394\n",
            "Train Epoch: 36 [0/60000 (0%)]\tLoss: 0.400801\n",
            "Train Epoch: 37 [0/60000 (0%)]\tLoss: 0.388842\n",
            "Train Epoch: 38 [0/60000 (0%)]\tLoss: 0.377476\n",
            "Train Epoch: 39 [0/60000 (0%)]\tLoss: 0.366662\n",
            "Train Epoch: 40 [0/60000 (0%)]\tLoss: 0.356366\n",
            "Train Epoch: 41 [0/60000 (0%)]\tLoss: 0.346552\n",
            "Train Epoch: 42 [0/60000 (0%)]\tLoss: 0.337192\n",
            "Train Epoch: 43 [0/60000 (0%)]\tLoss: 0.328257\n",
            "Train Epoch: 44 [0/60000 (0%)]\tLoss: 0.319721\n",
            "Train Epoch: 45 [0/60000 (0%)]\tLoss: 0.311561\n",
            "Train Epoch: 46 [0/60000 (0%)]\tLoss: 0.303754\n",
            "Train Epoch: 47 [0/60000 (0%)]\tLoss: 0.296279\n",
            "Train Epoch: 48 [0/60000 (0%)]\tLoss: 0.289118\n",
            "Train Epoch: 49 [0/60000 (0%)]\tLoss: 0.282252\n",
            "Train Epoch: 50 [0/60000 (0%)]\tLoss: 0.275667\n",
            "Train Epoch: 51 [0/60000 (0%)]\tLoss: 0.269345\n",
            "Train Epoch: 52 [0/60000 (0%)]\tLoss: 0.263273\n",
            "Train Epoch: 53 [0/60000 (0%)]\tLoss: 0.257438\n",
            "Train Epoch: 54 [0/60000 (0%)]\tLoss: 0.251827\n",
            "Train Epoch: 55 [0/60000 (0%)]\tLoss: 0.246429\n",
            "Train Epoch: 56 [0/60000 (0%)]\tLoss: 0.241232\n",
            "Train Epoch: 57 [0/60000 (0%)]\tLoss: 0.236226\n",
            "Train Epoch: 58 [0/60000 (0%)]\tLoss: 0.231402\n",
            "Train Epoch: 59 [0/60000 (0%)]\tLoss: 0.226751\n",
            "Train Epoch: 60 [0/60000 (0%)]\tLoss: 0.222265\n",
            "Train Epoch: 61 [0/60000 (0%)]\tLoss: 0.217934\n",
            "Train Epoch: 62 [0/60000 (0%)]\tLoss: 0.213753\n",
            "Train Epoch: 63 [0/60000 (0%)]\tLoss: 0.209714\n",
            "Train Epoch: 64 [0/60000 (0%)]\tLoss: 0.205811\n",
            "Train Epoch: 65 [0/60000 (0%)]\tLoss: 0.202036\n",
            "Train Epoch: 66 [0/60000 (0%)]\tLoss: 0.198385\n",
            "Train Epoch: 67 [0/60000 (0%)]\tLoss: 0.194852\n",
            "Train Epoch: 68 [0/60000 (0%)]\tLoss: 0.191431\n",
            "Train Epoch: 69 [0/60000 (0%)]\tLoss: 0.188118\n",
            "Train Epoch: 70 [0/60000 (0%)]\tLoss: 0.184908\n"
          ],
          "name": "stdout"
        }
      ]
    },
    {
      "cell_type": "code",
      "metadata": {
        "colab": {
          "base_uri": "https://localhost:8080/"
        },
        "id": "HNa9feGYg_gt",
        "outputId": "c2c49f7e-d279-40b9-e92c-4c2c96b8614c"
      },
      "source": [
        "# Testing\n",
        "test()"
      ],
      "execution_count": 21,
      "outputs": [
        {
          "output_type": "stream",
          "text": [
            "\n",
            "Test set: Average loss: 0.0052, Accuracy: 32/10000 (0%)\n",
            "\n"
          ],
          "name": "stdout"
        }
      ]
    },
    {
      "cell_type": "code",
      "metadata": {
        "colab": {
          "base_uri": "https://localhost:8080/",
          "height": 137
        },
        "id": "ZQHLkVc6hE4S",
        "outputId": "79391d71-2b73-4a16-efeb-52438dd17bba"
      },
      "source": [
        "plot_network_weights(10,28)"
      ],
      "execution_count": 22,
      "outputs": [
        {
          "output_type": "display_data",
          "data": {
            "image/png": "[encoded data removed]",
            "text/plain": [
              "<Figure size 432x288 with 1 Axes>"
            ]
          },
          "metadata": {
            "tags": [],
            "needs_background": "light"
          }
        }
      ]
    },
    {
      "cell_type": "markdown",
      "metadata": {
        "id": "en_GCPLkQ_00"
      },
      "source": [
        "# **Answer (3):**\n"
      ]
    },
    {
      "cell_type": "markdown",
      "metadata": {
        "id": "VjRV3TSi_iez"
      },
      "source": [
        "## (a) "
      ]
    },
    {
      "cell_type": "code",
      "metadata": {
        "id": "QyinTKo6_hnx"
      },
      "source": [
        "train_loader = torch.utils.data.DataLoader(trainset, batch_size = batch_size, shuffle = True, num_workers = 0)\n",
        "test_loader  = torch.utils.data.DataLoader(testset, batch_size = batch_size, shuffle = False, num_workers = 0)"
      ],
      "execution_count": 23,
      "outputs": []
    },
    {
      "cell_type": "code",
      "metadata": {
        "id": "Eb9-Ic0kAt42"
      },
      "source": [
        "class Net(nn.Module):\n",
        "    def __init__(self, num_inputs, num_outputs, H):\n",
        "        super(Net, self).__init__()\n",
        "        self.fc1 = nn.Linear(num_inputs, H)\n",
        "        self.fc2 = nn.Linear(H, num_outputs)\n",
        "\n",
        "    def forward(self, x):\n",
        "        x = x.view(-1, num_inputs) # reshape input to batch x num_inputs\n",
        "        x = self.fc1(x)\n",
        "        x = torch.tanh(x)\n",
        "        x = self.fc2(x)\n",
        "        return x"
      ],
      "execution_count": 24,
      "outputs": []
    },
    {
      "cell_type": "code",
      "metadata": {
        "id": "mxRy5ZvsAuMl"
      },
      "source": [
        "#Network with 1000 hidden units and a tanh non-linearity. \n",
        "network = Net(num_inputs, num_outputs, 1000)\n",
        "optimizer = optim.SGD(network.parameters(), lr=lr)"
      ],
      "execution_count": 25,
      "outputs": []
    },
    {
      "cell_type": "code",
      "metadata": {
        "colab": {
          "base_uri": "https://localhost:8080/"
        },
        "id": "1XD_UqpDA8My",
        "outputId": "4bc000ad-6ed1-4dd4-85c4-6bae86e48433"
      },
      "source": [
        "#Train the model for 10 epochs\n",
        "epochs = 10\n",
        "# Training\n",
        "for i in range(1, epochs+1):\n",
        "  train(i)"
      ],
      "execution_count": 26,
      "outputs": [
        {
          "output_type": "stream",
          "text": [
            "Train Epoch: 1 [0/60000 (0%)]\tLoss: 2.330380\n",
            "Train Epoch: 1 [6400/60000 (11%)]\tLoss: 0.676925\n",
            "Train Epoch: 1 [12800/60000 (21%)]\tLoss: 0.676380\n",
            "Train Epoch: 1 [19200/60000 (32%)]\tLoss: 0.436863\n",
            "Train Epoch: 1 [25600/60000 (43%)]\tLoss: 0.422770\n",
            "Train Epoch: 1 [32000/60000 (53%)]\tLoss: 0.378343\n",
            "Train Epoch: 1 [38400/60000 (64%)]\tLoss: 0.483535\n",
            "Train Epoch: 1 [44800/60000 (75%)]\tLoss: 0.345586\n",
            "Train Epoch: 1 [51200/60000 (85%)]\tLoss: 0.223098\n",
            "Train Epoch: 1 [57600/60000 (96%)]\tLoss: 0.278704\n",
            "Train Epoch: 2 [0/60000 (0%)]\tLoss: 0.191411\n",
            "Train Epoch: 2 [6400/60000 (11%)]\tLoss: 0.296515\n",
            "Train Epoch: 2 [12800/60000 (21%)]\tLoss: 0.241083\n",
            "Train Epoch: 2 [19200/60000 (32%)]\tLoss: 0.249882\n",
            "Train Epoch: 2 [25600/60000 (43%)]\tLoss: 0.278695\n",
            "Train Epoch: 2 [32000/60000 (53%)]\tLoss: 0.315240\n",
            "Train Epoch: 2 [38400/60000 (64%)]\tLoss: 0.257649\n",
            "Train Epoch: 2 [44800/60000 (75%)]\tLoss: 0.380494\n",
            "Train Epoch: 2 [51200/60000 (85%)]\tLoss: 0.666147\n",
            "Train Epoch: 2 [57600/60000 (96%)]\tLoss: 0.395686\n",
            "Train Epoch: 3 [0/60000 (0%)]\tLoss: 0.217042\n",
            "Train Epoch: 3 [6400/60000 (11%)]\tLoss: 0.200375\n",
            "Train Epoch: 3 [12800/60000 (21%)]\tLoss: 0.430618\n",
            "Train Epoch: 3 [19200/60000 (32%)]\tLoss: 0.180957\n",
            "Train Epoch: 3 [25600/60000 (43%)]\tLoss: 0.223936\n",
            "Train Epoch: 3 [32000/60000 (53%)]\tLoss: 0.306127\n",
            "Train Epoch: 3 [38400/60000 (64%)]\tLoss: 0.230328\n",
            "Train Epoch: 3 [44800/60000 (75%)]\tLoss: 0.213128\n",
            "Train Epoch: 3 [51200/60000 (85%)]\tLoss: 0.121842\n",
            "Train Epoch: 3 [57600/60000 (96%)]\tLoss: 0.256147\n",
            "Train Epoch: 4 [0/60000 (0%)]\tLoss: 0.058521\n",
            "Train Epoch: 4 [6400/60000 (11%)]\tLoss: 0.181201\n",
            "Train Epoch: 4 [12800/60000 (21%)]\tLoss: 0.277569\n",
            "Train Epoch: 4 [19200/60000 (32%)]\tLoss: 0.162818\n",
            "Train Epoch: 4 [25600/60000 (43%)]\tLoss: 0.152832\n",
            "Train Epoch: 4 [32000/60000 (53%)]\tLoss: 0.296426\n",
            "Train Epoch: 4 [38400/60000 (64%)]\tLoss: 0.389577\n",
            "Train Epoch: 4 [44800/60000 (75%)]\tLoss: 0.135157\n",
            "Train Epoch: 4 [51200/60000 (85%)]\tLoss: 0.138203\n",
            "Train Epoch: 4 [57600/60000 (96%)]\tLoss: 0.274095\n",
            "Train Epoch: 5 [0/60000 (0%)]\tLoss: 0.190952\n",
            "Train Epoch: 5 [6400/60000 (11%)]\tLoss: 0.306413\n",
            "Train Epoch: 5 [12800/60000 (21%)]\tLoss: 0.251837\n",
            "Train Epoch: 5 [19200/60000 (32%)]\tLoss: 0.282243\n",
            "Train Epoch: 5 [25600/60000 (43%)]\tLoss: 0.396344\n",
            "Train Epoch: 5 [32000/60000 (53%)]\tLoss: 0.184369\n",
            "Train Epoch: 5 [38400/60000 (64%)]\tLoss: 0.136032\n",
            "Train Epoch: 5 [44800/60000 (75%)]\tLoss: 0.245051\n",
            "Train Epoch: 5 [51200/60000 (85%)]\tLoss: 0.262921\n",
            "Train Epoch: 5 [57600/60000 (96%)]\tLoss: 0.204537\n",
            "Train Epoch: 6 [0/60000 (0%)]\tLoss: 0.318579\n",
            "Train Epoch: 6 [6400/60000 (11%)]\tLoss: 0.222010\n",
            "Train Epoch: 6 [12800/60000 (21%)]\tLoss: 0.086150\n",
            "Train Epoch: 6 [19200/60000 (32%)]\tLoss: 0.268863\n",
            "Train Epoch: 6 [25600/60000 (43%)]\tLoss: 0.393765\n",
            "Train Epoch: 6 [32000/60000 (53%)]\tLoss: 0.208756\n",
            "Train Epoch: 6 [38400/60000 (64%)]\tLoss: 0.279000\n",
            "Train Epoch: 6 [44800/60000 (75%)]\tLoss: 0.070782\n",
            "Train Epoch: 6 [51200/60000 (85%)]\tLoss: 0.236522\n",
            "Train Epoch: 6 [57600/60000 (96%)]\tLoss: 0.170928\n",
            "Train Epoch: 7 [0/60000 (0%)]\tLoss: 0.241378\n",
            "Train Epoch: 7 [6400/60000 (11%)]\tLoss: 0.279491\n",
            "Train Epoch: 7 [12800/60000 (21%)]\tLoss: 0.234851\n",
            "Train Epoch: 7 [19200/60000 (32%)]\tLoss: 0.155178\n",
            "Train Epoch: 7 [25600/60000 (43%)]\tLoss: 0.186001\n",
            "Train Epoch: 7 [32000/60000 (53%)]\tLoss: 0.307512\n",
            "Train Epoch: 7 [38400/60000 (64%)]\tLoss: 0.096779\n",
            "Train Epoch: 7 [44800/60000 (75%)]\tLoss: 0.366774\n",
            "Train Epoch: 7 [51200/60000 (85%)]\tLoss: 0.136620\n",
            "Train Epoch: 7 [57600/60000 (96%)]\tLoss: 0.174862\n",
            "Train Epoch: 8 [0/60000 (0%)]\tLoss: 0.187073\n",
            "Train Epoch: 8 [6400/60000 (11%)]\tLoss: 0.189401\n",
            "Train Epoch: 8 [12800/60000 (21%)]\tLoss: 0.262307\n",
            "Train Epoch: 8 [19200/60000 (32%)]\tLoss: 0.221818\n",
            "Train Epoch: 8 [25600/60000 (43%)]\tLoss: 0.122231\n",
            "Train Epoch: 8 [32000/60000 (53%)]\tLoss: 0.153948\n",
            "Train Epoch: 8 [38400/60000 (64%)]\tLoss: 0.102785\n",
            "Train Epoch: 8 [44800/60000 (75%)]\tLoss: 0.144920\n",
            "Train Epoch: 8 [51200/60000 (85%)]\tLoss: 0.147657\n",
            "Train Epoch: 8 [57600/60000 (96%)]\tLoss: 0.148346\n",
            "Train Epoch: 9 [0/60000 (0%)]\tLoss: 0.182507\n",
            "Train Epoch: 9 [6400/60000 (11%)]\tLoss: 0.201801\n",
            "Train Epoch: 9 [12800/60000 (21%)]\tLoss: 0.077154\n",
            "Train Epoch: 9 [19200/60000 (32%)]\tLoss: 0.123058\n",
            "Train Epoch: 9 [25600/60000 (43%)]\tLoss: 0.158136\n",
            "Train Epoch: 9 [32000/60000 (53%)]\tLoss: 0.129725\n",
            "Train Epoch: 9 [38400/60000 (64%)]\tLoss: 0.171242\n",
            "Train Epoch: 9 [44800/60000 (75%)]\tLoss: 0.070167\n",
            "Train Epoch: 9 [51200/60000 (85%)]\tLoss: 0.225377\n",
            "Train Epoch: 9 [57600/60000 (96%)]\tLoss: 0.270579\n",
            "Train Epoch: 10 [0/60000 (0%)]\tLoss: 0.114134\n",
            "Train Epoch: 10 [6400/60000 (11%)]\tLoss: 0.152460\n",
            "Train Epoch: 10 [12800/60000 (21%)]\tLoss: 0.135404\n",
            "Train Epoch: 10 [19200/60000 (32%)]\tLoss: 0.332577\n",
            "Train Epoch: 10 [25600/60000 (43%)]\tLoss: 0.152969\n",
            "Train Epoch: 10 [32000/60000 (53%)]\tLoss: 0.183889\n",
            "Train Epoch: 10 [38400/60000 (64%)]\tLoss: 0.142092\n",
            "Train Epoch: 10 [44800/60000 (75%)]\tLoss: 0.072657\n",
            "Train Epoch: 10 [51200/60000 (85%)]\tLoss: 0.226908\n",
            "Train Epoch: 10 [57600/60000 (96%)]\tLoss: 0.082914\n"
          ],
          "name": "stdout"
        }
      ]
    },
    {
      "cell_type": "code",
      "metadata": {
        "colab": {
          "base_uri": "https://localhost:8080/"
        },
        "id": "4Z6FOwGKBtVo",
        "outputId": "74fb9212-73ed-433e-d471-d472cb576e23"
      },
      "source": [
        "# Testing\n",
        "test()"
      ],
      "execution_count": 27,
      "outputs": [
        {
          "output_type": "stream",
          "text": [
            "\n",
            "Test set: Average loss: 0.1625, Accuracy: 9529/10000 (95%)\n",
            "\n"
          ],
          "name": "stdout"
        }
      ]
    },
    {
      "cell_type": "markdown",
      "metadata": {
        "id": "dzCOky3CB3wd"
      },
      "source": [
        "## (b)"
      ]
    },
    {
      "cell_type": "code",
      "metadata": {
        "id": "RBIHF2QGB8b4"
      },
      "source": [
        "train_loader = torch.utils.data.DataLoader(trainset, batch_size = batch_size, shuffle = True, num_workers = 0)\n",
        "test_loader  = torch.utils.data.DataLoader(testset, batch_size = batch_size, shuffle = False, num_workers = 0)"
      ],
      "execution_count": 28,
      "outputs": []
    },
    {
      "cell_type": "code",
      "metadata": {
        "id": "AkEVWDDDFGam"
      },
      "source": [
        "network = Net(num_inputs, num_outputs, 1000)\n",
        "optimizer = optim.SGD(network.parameters(), lr=10) #The learning rate equal to 10"
      ],
      "execution_count": 29,
      "outputs": []
    },
    {
      "cell_type": "code",
      "metadata": {
        "colab": {
          "base_uri": "https://localhost:8080/"
        },
        "id": "LqZluGEoFKXT",
        "outputId": "f9bced55-9226-4811-8db6-3f1664e55fa0"
      },
      "source": [
        "epochs = 10\n",
        "# Training\n",
        "for i in range(1, epochs+1):\n",
        "  train(i)"
      ],
      "execution_count": 30,
      "outputs": [
        {
          "output_type": "stream",
          "text": [
            "Train Epoch: 1 [0/60000 (0%)]\tLoss: 2.376049\n",
            "Train Epoch: 1 [6400/60000 (11%)]\tLoss: 1262.185059\n",
            "Train Epoch: 1 [12800/60000 (21%)]\tLoss: 1167.068726\n",
            "Train Epoch: 1 [19200/60000 (32%)]\tLoss: 1128.655884\n",
            "Train Epoch: 1 [25600/60000 (43%)]\tLoss: 398.301453\n",
            "Train Epoch: 1 [32000/60000 (53%)]\tLoss: 250.957733\n",
            "Train Epoch: 1 [38400/60000 (64%)]\tLoss: 401.769470\n",
            "Train Epoch: 1 [44800/60000 (75%)]\tLoss: 469.963867\n",
            "Train Epoch: 1 [51200/60000 (85%)]\tLoss: 352.248688\n",
            "Train Epoch: 1 [57600/60000 (96%)]\tLoss: 609.857849\n",
            "Train Epoch: 2 [0/60000 (0%)]\tLoss: 215.119568\n",
            "Train Epoch: 2 [6400/60000 (11%)]\tLoss: 204.905182\n",
            "Train Epoch: 2 [12800/60000 (21%)]\tLoss: 250.299561\n",
            "Train Epoch: 2 [19200/60000 (32%)]\tLoss: 154.591644\n",
            "Train Epoch: 2 [25600/60000 (43%)]\tLoss: 372.659119\n",
            "Train Epoch: 2 [32000/60000 (53%)]\tLoss: 209.447418\n",
            "Train Epoch: 2 [38400/60000 (64%)]\tLoss: 379.861603\n",
            "Train Epoch: 2 [44800/60000 (75%)]\tLoss: 290.590790\n",
            "Train Epoch: 2 [51200/60000 (85%)]\tLoss: 103.961754\n",
            "Train Epoch: 2 [57600/60000 (96%)]\tLoss: 284.732910\n",
            "Train Epoch: 3 [0/60000 (0%)]\tLoss: 444.967316\n",
            "Train Epoch: 3 [6400/60000 (11%)]\tLoss: 312.008331\n",
            "Train Epoch: 3 [12800/60000 (21%)]\tLoss: 362.011841\n",
            "Train Epoch: 3 [19200/60000 (32%)]\tLoss: 674.226074\n",
            "Train Epoch: 3 [25600/60000 (43%)]\tLoss: 188.734467\n",
            "Train Epoch: 3 [32000/60000 (53%)]\tLoss: 192.892395\n",
            "Train Epoch: 3 [38400/60000 (64%)]\tLoss: 316.101196\n",
            "Train Epoch: 3 [44800/60000 (75%)]\tLoss: 515.023071\n",
            "Train Epoch: 3 [51200/60000 (85%)]\tLoss: 276.062744\n",
            "Train Epoch: 3 [57600/60000 (96%)]\tLoss: 139.763687\n",
            "Train Epoch: 4 [0/60000 (0%)]\tLoss: 160.978592\n",
            "Train Epoch: 4 [6400/60000 (11%)]\tLoss: 138.348572\n",
            "Train Epoch: 4 [12800/60000 (21%)]\tLoss: 152.383209\n",
            "Train Epoch: 4 [19200/60000 (32%)]\tLoss: 279.843475\n",
            "Train Epoch: 4 [25600/60000 (43%)]\tLoss: 256.828186\n",
            "Train Epoch: 4 [32000/60000 (53%)]\tLoss: 151.766113\n",
            "Train Epoch: 4 [38400/60000 (64%)]\tLoss: 214.731003\n",
            "Train Epoch: 4 [44800/60000 (75%)]\tLoss: 105.620461\n",
            "Train Epoch: 4 [51200/60000 (85%)]\tLoss: 333.973755\n",
            "Train Epoch: 4 [57600/60000 (96%)]\tLoss: 235.127258\n",
            "Train Epoch: 5 [0/60000 (0%)]\tLoss: 125.297501\n",
            "Train Epoch: 5 [6400/60000 (11%)]\tLoss: 68.683723\n",
            "Train Epoch: 5 [12800/60000 (21%)]\tLoss: 294.311127\n",
            "Train Epoch: 5 [19200/60000 (32%)]\tLoss: 138.242126\n",
            "Train Epoch: 5 [25600/60000 (43%)]\tLoss: 169.829300\n",
            "Train Epoch: 5 [32000/60000 (53%)]\tLoss: 215.933990\n",
            "Train Epoch: 5 [38400/60000 (64%)]\tLoss: 322.826416\n",
            "Train Epoch: 5 [44800/60000 (75%)]\tLoss: 137.425034\n",
            "Train Epoch: 5 [51200/60000 (85%)]\tLoss: 248.202225\n",
            "Train Epoch: 5 [57600/60000 (96%)]\tLoss: 96.518799\n",
            "Train Epoch: 6 [0/60000 (0%)]\tLoss: 114.547913\n",
            "Train Epoch: 6 [6400/60000 (11%)]\tLoss: 109.988670\n",
            "Train Epoch: 6 [12800/60000 (21%)]\tLoss: 363.722687\n",
            "Train Epoch: 6 [19200/60000 (32%)]\tLoss: 191.294266\n",
            "Train Epoch: 6 [25600/60000 (43%)]\tLoss: 173.573059\n",
            "Train Epoch: 6 [32000/60000 (53%)]\tLoss: 128.019897\n",
            "Train Epoch: 6 [38400/60000 (64%)]\tLoss: 215.089203\n",
            "Train Epoch: 6 [44800/60000 (75%)]\tLoss: 346.083496\n",
            "Train Epoch: 6 [51200/60000 (85%)]\tLoss: 164.144867\n",
            "Train Epoch: 6 [57600/60000 (96%)]\tLoss: 141.139832\n",
            "Train Epoch: 7 [0/60000 (0%)]\tLoss: 360.953583\n",
            "Train Epoch: 7 [6400/60000 (11%)]\tLoss: 313.462646\n",
            "Train Epoch: 7 [12800/60000 (21%)]\tLoss: 70.614220\n",
            "Train Epoch: 7 [19200/60000 (32%)]\tLoss: 282.068909\n",
            "Train Epoch: 7 [25600/60000 (43%)]\tLoss: 145.819931\n",
            "Train Epoch: 7 [32000/60000 (53%)]\tLoss: 247.417099\n",
            "Train Epoch: 7 [38400/60000 (64%)]\tLoss: 328.887878\n",
            "Train Epoch: 7 [44800/60000 (75%)]\tLoss: 67.280449\n",
            "Train Epoch: 7 [51200/60000 (85%)]\tLoss: 308.683136\n",
            "Train Epoch: 7 [57600/60000 (96%)]\tLoss: 74.711220\n",
            "Train Epoch: 8 [0/60000 (0%)]\tLoss: 108.698624\n",
            "Train Epoch: 8 [6400/60000 (11%)]\tLoss: 239.318604\n",
            "Train Epoch: 8 [12800/60000 (21%)]\tLoss: 88.739021\n",
            "Train Epoch: 8 [19200/60000 (32%)]\tLoss: 65.319565\n",
            "Train Epoch: 8 [25600/60000 (43%)]\tLoss: 144.555695\n",
            "Train Epoch: 8 [32000/60000 (53%)]\tLoss: 193.444458\n",
            "Train Epoch: 8 [38400/60000 (64%)]\tLoss: 56.196686\n",
            "Train Epoch: 8 [44800/60000 (75%)]\tLoss: 179.700226\n",
            "Train Epoch: 8 [51200/60000 (85%)]\tLoss: 104.664207\n",
            "Train Epoch: 8 [57600/60000 (96%)]\tLoss: 42.459282\n",
            "Train Epoch: 9 [0/60000 (0%)]\tLoss: 133.358383\n",
            "Train Epoch: 9 [6400/60000 (11%)]\tLoss: 142.785156\n",
            "Train Epoch: 9 [12800/60000 (21%)]\tLoss: 61.576736\n",
            "Train Epoch: 9 [19200/60000 (32%)]\tLoss: 137.173798\n",
            "Train Epoch: 9 [25600/60000 (43%)]\tLoss: 31.640327\n",
            "Train Epoch: 9 [32000/60000 (53%)]\tLoss: 199.340805\n",
            "Train Epoch: 9 [38400/60000 (64%)]\tLoss: 201.156616\n",
            "Train Epoch: 9 [44800/60000 (75%)]\tLoss: 64.246155\n",
            "Train Epoch: 9 [51200/60000 (85%)]\tLoss: 128.153061\n",
            "Train Epoch: 9 [57600/60000 (96%)]\tLoss: 71.799789\n",
            "Train Epoch: 10 [0/60000 (0%)]\tLoss: 274.470673\n",
            "Train Epoch: 10 [6400/60000 (11%)]\tLoss: 153.559937\n",
            "Train Epoch: 10 [12800/60000 (21%)]\tLoss: 197.933685\n",
            "Train Epoch: 10 [19200/60000 (32%)]\tLoss: 91.568497\n",
            "Train Epoch: 10 [25600/60000 (43%)]\tLoss: 77.956818\n",
            "Train Epoch: 10 [32000/60000 (53%)]\tLoss: 98.857498\n",
            "Train Epoch: 10 [38400/60000 (64%)]\tLoss: 168.968903\n",
            "Train Epoch: 10 [44800/60000 (75%)]\tLoss: 99.319740\n",
            "Train Epoch: 10 [51200/60000 (85%)]\tLoss: 242.119431\n",
            "Train Epoch: 10 [57600/60000 (96%)]\tLoss: 259.425964\n"
          ],
          "name": "stdout"
        }
      ]
    },
    {
      "cell_type": "code",
      "metadata": {
        "colab": {
          "base_uri": "https://localhost:8080/"
        },
        "id": "DJY-usfFFO6W",
        "outputId": "eaa538f6-537a-4962-a8c5-3e5da9bad15c"
      },
      "source": [
        "# Testing\n",
        "test()"
      ],
      "execution_count": 31,
      "outputs": [
        {
          "output_type": "stream",
          "text": [
            "\n",
            "Test set: Average loss: 253.7118, Accuracy: 6164/10000 (62%)\n",
            "\n"
          ],
          "name": "stdout"
        }
      ]
    },
    {
      "cell_type": "markdown",
      "metadata": {
        "id": "dk4Q_EDORBX2"
      },
      "source": [
        "# **Answer (4):**\n"
      ]
    },
    {
      "cell_type": "markdown",
      "metadata": {
        "id": "gxqcW5hovmFU"
      },
      "source": [
        "## (a)"
      ]
    },
    {
      "cell_type": "code",
      "metadata": {
        "colab": {
          "base_uri": "https://localhost:8080/"
        },
        "id": "Xvt65NT4HFMD",
        "outputId": "64d3c068-b6f2-4da0-b534-c8aa7430bff0"
      },
      "source": [
        "dataset = 'cifar10'\n",
        "\n",
        "data_transform = transforms.Compose([ transforms.ToTensor(),transforms.Normalize((0.5, 0.5, 0.5), (0.5, 0.5, 0.5)),])\n",
        "trainset = datasets.CIFAR10(root='.', train=True, download=True, transform=data_transform)\n",
        "testset = datasets.CIFAR10(root='.', train=False, download=True, transform=data_transform)\n",
        "\n",
        "train_loader = torch.utils.data.DataLoader(trainset, batch_size=batch_size, shuffle=True, num_workers=0)\n",
        "test_loader  = torch.utils.data.DataLoader(testset, batch_size=batch_size, shuffle=False, num_workers=0)"
      ],
      "execution_count": 32,
      "outputs": [
        {
          "output_type": "stream",
          "text": [
            "Files already downloaded and verified\n",
            "Files already downloaded and verified\n"
          ],
          "name": "stdout"
        }
      ]
    },
    {
      "cell_type": "code",
      "metadata": {
        "id": "C0DzK69QmQF6"
      },
      "source": [
        "class Net(nn.Module):\n",
        "    def __init__(self):\n",
        "        super(Net, self).__init__()\n",
        "        self.conv1 = nn.Conv2d(iter(train_loader).next()[0].size()[1], 16, 5)\n",
        "        self.pool = nn.MaxPool2d(2, 2) # Max pooling over a (2, 2) window\n",
        "        self.conv2 = nn.Conv2d(16, 128, 5)\n",
        "        # an affine operation: y = Wx + b\n",
        "        self.fc1 = nn.Linear(128 * 5 * 5, 64) # 5*5 from image dimension\n",
        "        self.fc2 = nn.Linear(64, 10)\n",
        "\n",
        "    def forward(self, x):\n",
        "        x = self.pool(torch.tanh(self.conv1(x)))\n",
        "        x = self.pool(torch.tanh(self.conv2(x)))\n",
        "        x = torch.flatten(x, 1) # flatten all dimensions except the batch dimension\n",
        "        x = torch.tanh(self.fc1(x))\n",
        "        x = self.fc2(x)\n",
        "        return x\n",
        "\n",
        "# num_channels = iter(train_loader).next()[0].size()[1]\n",
        "network = Net()\n",
        "optimizer = optim.SGD(network.parameters(), lr=lr)"
      ],
      "execution_count": 33,
      "outputs": []
    },
    {
      "cell_type": "code",
      "metadata": {
        "colab": {
          "base_uri": "https://localhost:8080/"
        },
        "id": "TafQ3T64pZeX",
        "outputId": "5a5fc7c5-ee61-42d6-8c2c-2cb7057bf263"
      },
      "source": [
        "# Train it for 20 epochs on the CIFAR-10 training set.\n",
        "epochs = 20\n",
        "# Training\n",
        "for i in range(1, epochs+1):\n",
        "  train(i)"
      ],
      "execution_count": 34,
      "outputs": [
        {
          "output_type": "stream",
          "text": [
            "/usr/local/lib/python3.7/dist-packages/torch/nn/functional.py:718: UserWarning: Named tensors and all their associated APIs are an experimental feature and subject to change. Please do not use them for anything important until they are released as stable. (Triggered internally at  /pytorch/c10/core/TensorImpl.h:1156.)\n",
            "  return torch.max_pool2d(input, kernel_size, stride, padding, dilation, ceil_mode)\n"
          ],
          "name": "stderr"
        },
        {
          "output_type": "stream",
          "text": [
            "Train Epoch: 1 [0/50000 (0%)]\tLoss: 2.315946\n",
            "Train Epoch: 1 [6400/50000 (13%)]\tLoss: 2.155160\n",
            "Train Epoch: 1 [12800/50000 (26%)]\tLoss: 2.022368\n",
            "Train Epoch: 1 [19200/50000 (38%)]\tLoss: 1.972038\n",
            "Train Epoch: 1 [25600/50000 (51%)]\tLoss: 1.856323\n",
            "Train Epoch: 1 [32000/50000 (64%)]\tLoss: 1.876755\n",
            "Train Epoch: 1 [38400/50000 (77%)]\tLoss: 1.813987\n",
            "Train Epoch: 1 [44800/50000 (90%)]\tLoss: 1.908056\n",
            "Train Epoch: 2 [0/50000 (0%)]\tLoss: 1.834236\n",
            "Train Epoch: 2 [6400/50000 (13%)]\tLoss: 1.806534\n",
            "Train Epoch: 2 [12800/50000 (26%)]\tLoss: 1.767508\n",
            "Train Epoch: 2 [19200/50000 (38%)]\tLoss: 1.766748\n",
            "Train Epoch: 2 [25600/50000 (51%)]\tLoss: 1.635646\n",
            "Train Epoch: 2 [32000/50000 (64%)]\tLoss: 1.706876\n",
            "Train Epoch: 2 [38400/50000 (77%)]\tLoss: 1.820709\n",
            "Train Epoch: 2 [44800/50000 (90%)]\tLoss: 1.633419\n",
            "Train Epoch: 3 [0/50000 (0%)]\tLoss: 1.611942\n",
            "Train Epoch: 3 [6400/50000 (13%)]\tLoss: 1.605662\n",
            "Train Epoch: 3 [12800/50000 (26%)]\tLoss: 1.461184\n",
            "Train Epoch: 3 [19200/50000 (38%)]\tLoss: 1.440497\n",
            "Train Epoch: 3 [25600/50000 (51%)]\tLoss: 1.566723\n",
            "Train Epoch: 3 [32000/50000 (64%)]\tLoss: 1.445375\n",
            "Train Epoch: 3 [38400/50000 (77%)]\tLoss: 1.530012\n",
            "Train Epoch: 3 [44800/50000 (90%)]\tLoss: 1.491478\n",
            "Train Epoch: 4 [0/50000 (0%)]\tLoss: 1.506702\n",
            "Train Epoch: 4 [6400/50000 (13%)]\tLoss: 1.509061\n",
            "Train Epoch: 4 [12800/50000 (26%)]\tLoss: 1.235446\n",
            "Train Epoch: 4 [19200/50000 (38%)]\tLoss: 1.294142\n",
            "Train Epoch: 4 [25600/50000 (51%)]\tLoss: 1.288647\n",
            "Train Epoch: 4 [32000/50000 (64%)]\tLoss: 1.417617\n",
            "Train Epoch: 4 [38400/50000 (77%)]\tLoss: 1.400288\n",
            "Train Epoch: 4 [44800/50000 (90%)]\tLoss: 1.588344\n",
            "Train Epoch: 5 [0/50000 (0%)]\tLoss: 1.346584\n",
            "Train Epoch: 5 [6400/50000 (13%)]\tLoss: 1.273312\n",
            "Train Epoch: 5 [12800/50000 (26%)]\tLoss: 1.203779\n",
            "Train Epoch: 5 [19200/50000 (38%)]\tLoss: 1.305780\n",
            "Train Epoch: 5 [25600/50000 (51%)]\tLoss: 1.355436\n",
            "Train Epoch: 5 [32000/50000 (64%)]\tLoss: 1.208487\n",
            "Train Epoch: 5 [38400/50000 (77%)]\tLoss: 1.491886\n",
            "Train Epoch: 5 [44800/50000 (90%)]\tLoss: 1.195599\n",
            "Train Epoch: 6 [0/50000 (0%)]\tLoss: 1.412013\n",
            "Train Epoch: 6 [6400/50000 (13%)]\tLoss: 1.192170\n",
            "Train Epoch: 6 [12800/50000 (26%)]\tLoss: 1.362416\n",
            "Train Epoch: 6 [19200/50000 (38%)]\tLoss: 1.659313\n",
            "Train Epoch: 6 [25600/50000 (51%)]\tLoss: 1.178477\n",
            "Train Epoch: 6 [32000/50000 (64%)]\tLoss: 1.400302\n",
            "Train Epoch: 6 [38400/50000 (77%)]\tLoss: 1.369547\n",
            "Train Epoch: 6 [44800/50000 (90%)]\tLoss: 1.262438\n",
            "Train Epoch: 7 [0/50000 (0%)]\tLoss: 1.399364\n",
            "Train Epoch: 7 [6400/50000 (13%)]\tLoss: 1.397990\n",
            "Train Epoch: 7 [12800/50000 (26%)]\tLoss: 1.186316\n",
            "Train Epoch: 7 [19200/50000 (38%)]\tLoss: 1.203067\n",
            "Train Epoch: 7 [25600/50000 (51%)]\tLoss: 1.369722\n",
            "Train Epoch: 7 [32000/50000 (64%)]\tLoss: 1.438834\n",
            "Train Epoch: 7 [38400/50000 (77%)]\tLoss: 1.422989\n",
            "Train Epoch: 7 [44800/50000 (90%)]\tLoss: 1.163891\n",
            "Train Epoch: 8 [0/50000 (0%)]\tLoss: 1.236046\n",
            "Train Epoch: 8 [6400/50000 (13%)]\tLoss: 1.197221\n",
            "Train Epoch: 8 [12800/50000 (26%)]\tLoss: 1.311685\n",
            "Train Epoch: 8 [19200/50000 (38%)]\tLoss: 1.202251\n",
            "Train Epoch: 8 [25600/50000 (51%)]\tLoss: 1.103660\n",
            "Train Epoch: 8 [32000/50000 (64%)]\tLoss: 1.013862\n",
            "Train Epoch: 8 [38400/50000 (77%)]\tLoss: 1.058730\n",
            "Train Epoch: 8 [44800/50000 (90%)]\tLoss: 0.975722\n",
            "Train Epoch: 9 [0/50000 (0%)]\tLoss: 0.969592\n",
            "Train Epoch: 9 [6400/50000 (13%)]\tLoss: 1.019471\n",
            "Train Epoch: 9 [12800/50000 (26%)]\tLoss: 1.013220\n",
            "Train Epoch: 9 [19200/50000 (38%)]\tLoss: 1.118831\n",
            "Train Epoch: 9 [25600/50000 (51%)]\tLoss: 1.067562\n",
            "Train Epoch: 9 [32000/50000 (64%)]\tLoss: 1.243416\n",
            "Train Epoch: 9 [38400/50000 (77%)]\tLoss: 1.024368\n",
            "Train Epoch: 9 [44800/50000 (90%)]\tLoss: 1.139252\n",
            "Train Epoch: 10 [0/50000 (0%)]\tLoss: 1.099897\n",
            "Train Epoch: 10 [6400/50000 (13%)]\tLoss: 0.970018\n",
            "Train Epoch: 10 [12800/50000 (26%)]\tLoss: 1.001322\n",
            "Train Epoch: 10 [19200/50000 (38%)]\tLoss: 1.111828\n",
            "Train Epoch: 10 [25600/50000 (51%)]\tLoss: 1.089835\n",
            "Train Epoch: 10 [32000/50000 (64%)]\tLoss: 1.108395\n",
            "Train Epoch: 10 [38400/50000 (77%)]\tLoss: 1.153352\n",
            "Train Epoch: 10 [44800/50000 (90%)]\tLoss: 1.234392\n",
            "Train Epoch: 11 [0/50000 (0%)]\tLoss: 1.082379\n",
            "Train Epoch: 11 [6400/50000 (13%)]\tLoss: 1.034557\n",
            "Train Epoch: 11 [12800/50000 (26%)]\tLoss: 1.068460\n",
            "Train Epoch: 11 [19200/50000 (38%)]\tLoss: 1.007535\n",
            "Train Epoch: 11 [25600/50000 (51%)]\tLoss: 1.087596\n",
            "Train Epoch: 11 [32000/50000 (64%)]\tLoss: 0.862006\n",
            "Train Epoch: 11 [38400/50000 (77%)]\tLoss: 0.987261\n",
            "Train Epoch: 11 [44800/50000 (90%)]\tLoss: 1.065348\n",
            "Train Epoch: 12 [0/50000 (0%)]\tLoss: 1.030306\n",
            "Train Epoch: 12 [6400/50000 (13%)]\tLoss: 1.038774\n",
            "Train Epoch: 12 [12800/50000 (26%)]\tLoss: 0.752029\n",
            "Train Epoch: 12 [19200/50000 (38%)]\tLoss: 0.887336\n",
            "Train Epoch: 12 [25600/50000 (51%)]\tLoss: 0.822061\n",
            "Train Epoch: 12 [32000/50000 (64%)]\tLoss: 0.987704\n",
            "Train Epoch: 12 [38400/50000 (77%)]\tLoss: 0.937467\n",
            "Train Epoch: 12 [44800/50000 (90%)]\tLoss: 0.924599\n",
            "Train Epoch: 13 [0/50000 (0%)]\tLoss: 1.189939\n",
            "Train Epoch: 13 [6400/50000 (13%)]\tLoss: 1.083063\n",
            "Train Epoch: 13 [12800/50000 (26%)]\tLoss: 0.979113\n",
            "Train Epoch: 13 [19200/50000 (38%)]\tLoss: 0.922139\n",
            "Train Epoch: 13 [25600/50000 (51%)]\tLoss: 1.013711\n",
            "Train Epoch: 13 [32000/50000 (64%)]\tLoss: 0.859901\n",
            "Train Epoch: 13 [38400/50000 (77%)]\tLoss: 1.030327\n",
            "Train Epoch: 13 [44800/50000 (90%)]\tLoss: 1.031428\n",
            "Train Epoch: 14 [0/50000 (0%)]\tLoss: 1.037505\n",
            "Train Epoch: 14 [6400/50000 (13%)]\tLoss: 0.883961\n",
            "Train Epoch: 14 [12800/50000 (26%)]\tLoss: 0.946966\n",
            "Train Epoch: 14 [19200/50000 (38%)]\tLoss: 1.085520\n",
            "Train Epoch: 14 [25600/50000 (51%)]\tLoss: 1.096915\n",
            "Train Epoch: 14 [32000/50000 (64%)]\tLoss: 0.903216\n",
            "Train Epoch: 14 [38400/50000 (77%)]\tLoss: 0.953438\n",
            "Train Epoch: 14 [44800/50000 (90%)]\tLoss: 0.991790\n",
            "Train Epoch: 15 [0/50000 (0%)]\tLoss: 1.138109\n",
            "Train Epoch: 15 [6400/50000 (13%)]\tLoss: 0.968281\n",
            "Train Epoch: 15 [12800/50000 (26%)]\tLoss: 0.727129\n",
            "Train Epoch: 15 [19200/50000 (38%)]\tLoss: 0.774667\n",
            "Train Epoch: 15 [25600/50000 (51%)]\tLoss: 0.920007\n",
            "Train Epoch: 15 [32000/50000 (64%)]\tLoss: 0.687411\n",
            "Train Epoch: 15 [38400/50000 (77%)]\tLoss: 0.951391\n",
            "Train Epoch: 15 [44800/50000 (90%)]\tLoss: 0.900840\n",
            "Train Epoch: 16 [0/50000 (0%)]\tLoss: 0.793569\n",
            "Train Epoch: 16 [6400/50000 (13%)]\tLoss: 0.797313\n",
            "Train Epoch: 16 [12800/50000 (26%)]\tLoss: 0.717362\n",
            "Train Epoch: 16 [19200/50000 (38%)]\tLoss: 0.965181\n",
            "Train Epoch: 16 [25600/50000 (51%)]\tLoss: 1.002628\n",
            "Train Epoch: 16 [32000/50000 (64%)]\tLoss: 0.915700\n",
            "Train Epoch: 16 [38400/50000 (77%)]\tLoss: 0.947320\n",
            "Train Epoch: 16 [44800/50000 (90%)]\tLoss: 0.831367\n",
            "Train Epoch: 17 [0/50000 (0%)]\tLoss: 0.724360\n",
            "Train Epoch: 17 [6400/50000 (13%)]\tLoss: 0.862651\n",
            "Train Epoch: 17 [12800/50000 (26%)]\tLoss: 0.937907\n",
            "Train Epoch: 17 [19200/50000 (38%)]\tLoss: 1.079599\n",
            "Train Epoch: 17 [25600/50000 (51%)]\tLoss: 0.809289\n",
            "Train Epoch: 17 [32000/50000 (64%)]\tLoss: 1.023023\n",
            "Train Epoch: 17 [38400/50000 (77%)]\tLoss: 0.655041\n",
            "Train Epoch: 17 [44800/50000 (90%)]\tLoss: 0.790740\n",
            "Train Epoch: 18 [0/50000 (0%)]\tLoss: 0.790239\n",
            "Train Epoch: 18 [6400/50000 (13%)]\tLoss: 0.820948\n",
            "Train Epoch: 18 [12800/50000 (26%)]\tLoss: 1.064193\n",
            "Train Epoch: 18 [19200/50000 (38%)]\tLoss: 1.126224\n",
            "Train Epoch: 18 [25600/50000 (51%)]\tLoss: 0.969540\n",
            "Train Epoch: 18 [32000/50000 (64%)]\tLoss: 0.690082\n",
            "Train Epoch: 18 [38400/50000 (77%)]\tLoss: 0.762018\n",
            "Train Epoch: 18 [44800/50000 (90%)]\tLoss: 0.673125\n",
            "Train Epoch: 19 [0/50000 (0%)]\tLoss: 0.795387\n",
            "Train Epoch: 19 [6400/50000 (13%)]\tLoss: 0.968252\n",
            "Train Epoch: 19 [12800/50000 (26%)]\tLoss: 0.905425\n",
            "Train Epoch: 19 [19200/50000 (38%)]\tLoss: 0.710727\n",
            "Train Epoch: 19 [25600/50000 (51%)]\tLoss: 0.749820\n",
            "Train Epoch: 19 [32000/50000 (64%)]\tLoss: 0.656094\n",
            "Train Epoch: 19 [38400/50000 (77%)]\tLoss: 0.673134\n",
            "Train Epoch: 19 [44800/50000 (90%)]\tLoss: 0.761987\n",
            "Train Epoch: 20 [0/50000 (0%)]\tLoss: 0.673687\n",
            "Train Epoch: 20 [6400/50000 (13%)]\tLoss: 0.713561\n",
            "Train Epoch: 20 [12800/50000 (26%)]\tLoss: 0.795525\n",
            "Train Epoch: 20 [19200/50000 (38%)]\tLoss: 0.892490\n",
            "Train Epoch: 20 [25600/50000 (51%)]\tLoss: 0.683237\n",
            "Train Epoch: 20 [32000/50000 (64%)]\tLoss: 0.651970\n",
            "Train Epoch: 20 [38400/50000 (77%)]\tLoss: 0.667964\n",
            "Train Epoch: 20 [44800/50000 (90%)]\tLoss: 0.792898\n"
          ],
          "name": "stdout"
        }
      ]
    },
    {
      "cell_type": "code",
      "metadata": {
        "colab": {
          "base_uri": "https://localhost:8080/"
        },
        "id": "guoye84SvWAF",
        "outputId": "f0ab99e4-8d0a-4b25-ecd2-942daa2c68b7"
      },
      "source": [
        "# Testing\n",
        "test()"
      ],
      "execution_count": 35,
      "outputs": [
        {
          "output_type": "stream",
          "text": [
            "\n",
            "Test set: Average loss: 0.9584, Accuracy: 6687/10000 (67%)\n",
            "\n"
          ],
          "name": "stdout"
        }
      ]
    },
    {
      "cell_type": "code",
      "metadata": {
        "colab": {
          "base_uri": "https://localhost:8080/",
          "height": 141
        },
        "id": "h4HWNkj8xEyQ",
        "outputId": "dc47a097-78f3-4b39-91af-fb135a6be4bd"
      },
      "source": [
        "# Visualize the first layer filters.\n",
        "for x in network.modules():\n",
        "    if isinstance(x, nn.Conv2d):\n",
        "        imshow(torchvision.utils.make_grid(x.weight.data.cpu(),normalize=True, scale_each=True))\n",
        "        break"
      ],
      "execution_count": 36,
      "outputs": [
        {
          "output_type": "display_data",
          "data": {
            "image/png": "[encoded data removed]",
            "text/plain": [
              "<Figure size 432x288 with 1 Axes>"
            ]
          },
          "metadata": {
            "tags": [],
            "needs_background": "light"
          }
        }
      ]
    },
    {
      "cell_type": "markdown",
      "metadata": {
        "id": "_8W42Er2vwXO"
      },
      "source": [
        "## (b)"
      ]
    },
    {
      "cell_type": "code",
      "metadata": {
        "colab": {
          "base_uri": "https://localhost:8080/"
        },
        "id": "5FOYDs8nvy8-",
        "outputId": "59c6f99b-461b-405a-dc1c-8a234861cfd9"
      },
      "source": [
        "#Explanation in report\n",
        "overall_parameters = 0\n",
        "for p in network.parameters():\n",
        "    count = np.prod(p.size())\n",
        "    overall_parameters += count\n",
        "print(\"The overall number of parameters:\", overall_parameters)"
      ],
      "execution_count": 46,
      "outputs": [
        {
          "output_type": "stream",
          "text": [
            "The overall number of parameters: 258058\n"
          ],
          "name": "stdout"
        }
      ]
    }
  ]
}