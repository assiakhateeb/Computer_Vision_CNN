{
  "nbformat": 4,
  "nbformat_minor": 0,
  "metadata": {
    "colab": {
      "name": "Copy of Ex3_Part_1.ipynb",
      "provenance": [],
      "collapsed_sections": [
        "5NwLQOFMMlev"
      ]
    },
    "kernelspec": {
      "name": "python3",
      "display_name": "Python 3"
    }
  },
  "cells": [
    {
      "cell_type": "markdown",
      "metadata": {
        "id": "5NwLQOFMMlev"
      },
      "source": [
        "# Computer Vision: Assignment 3 Part 1 - Some CNN Basics [40%]\n",
        "\n",
        "Spring 2021 semester.\n",
        "\n",
        "Due date: **July 19th 2021.**\n",
        "\n",
        "## Introduction\n",
        "\n",
        "This question is an introduction to using PyTorch for training simple neural net models. \n",
        "\n",
        "Two different datasets will be used: \n",
        "- MNIST digits [handwritten digits]\n",
        "- CIFAR-10 [32x32 resolution color images of 10 object classes].\n",
        "\n",
        "## Requirements\n",
        "\n",
        "Perform this assignment in PyTorch, modifying the baseline code, producing outputs and adding required explanations - *all within this ipython notebook*.\n",
        "\n",
        "Finally, submit this iPython notebook, including outputs, as an .ipynb file (exact submission guidelines will be given in the next couple of days). \n",
        "\n",
        "## Question (1): Warmup [5%]\n",
        "\n",
        "It is always good practice to visually inspect your data before trying to train a model, since it lets you check for problems and get a feel for the task at hand.\n",
        "\n",
        "MNIST is a dataset of 70,000 grayscale hand-written digits (0 through 9).\n",
        "60,000 of these are training images. 10,000 are a held out test set. \n",
        "\n",
        "CIFAR-10 is a dataset of 60,000 color images (32 by 32 resolution) across 10 classes (airplane, automobile, bird, cat, deer, dog, frog, horse, ship, truck). \n",
        "The train/test split is 50k/10k.\n",
        "\n",
        "**a)**  Use `matplotlib` and ipython notebook's visualization capabilities to display one train and one test image of each class, for each of the two datasets.\n",
        "[See this PyTorch tutorial page](http://pytorch.org/tutorials/beginner/blitz/cifar10_tutorial.html#sphx-glr-beginner-blitz-cifar10-tutorial-py) for hints on how to achieve this.\n",
        "\n",
        "** Relevant Cell: \"Data Loading\" **\n",
        "\n",
        "## Question (2): Training a Single Layer Network on MNIST [10%]\n",
        "\n",
        "Start by running the training on MNIST. By default if you run this notebook successfully, it will train on MNIST.\n",
        "\n",
        "This will initialize a single layer model train it on the 60,000 MNIST training images for 10 epochs (passes through the training data). \n",
        "\n",
        "The loss function [cross_entropy](http://pytorch.org/docs/master/nn.html?highlight=cross_entropy#torch.nn.functional.cross_entropy) computes a Logarithm of the Softmax on the output of the neural network, and then computes the negative log-likelihood w.r.t. the given `target`.\n",
        "\n",
        "The default values for the learning rate, batch size and number of epochs are given in the \"options\" cell of this notebook. Unless otherwise specified, use the default values throughout this assignment. \n",
        "\n",
        "Note the decrease in training loss and corresponding decrease in validation errors.\n",
        "\n",
        "**a)** Add code to plot out the network weights as images (one for each output, of size 28 by 28) after the last epoch. (Hint threads: [#1](https://discuss.pytorch.org/t/understanding-deep-network-visualize-weights/2060/2?u=smth) [#2](https://github.com/pytorch/vision#utils) )\n",
        "\n",
        "**b)** Reduce the number of training examples to just 50. [Hint: limit the iterator in the `train` function]. \n",
        "Paste the output into your report and explain what is happening to the model.\n",
        "\n",
        "## Question (3): Training a Multi-Layer Network on MNIST [10%]\n",
        "\n",
        "**a)**  Add an extra layer to the network with 1000 hidden units and a `tanh` non-linearity. [Hint: modify the `Net` class] and train the model for 10 epochs.\n",
        "\n",
        "**b)**   Now set the learning rate to 10 and retrain. Give a brief explanation to the observed results.\n",
        "\n",
        "## Question (4): Training a Convolutional Network on CIFAR [15%]\n",
        "\n",
        "To change over to the CIFAR-10 dataset, change the `options` cell's `dataset` variable to `'cifar10'`.\n",
        "\n",
        "- Create a convolutional network with the following architecture:\n",
        "  - Convolution with 5 by 5 filters, 16 feature maps + Tanh nonlinearity.\n",
        "  - 2 by 2 max pooling (non-overlapping).\n",
        "  - Convolution with 5 by 5 filters, 128 feature maps + Tanh nonlinearity.\n",
        "  - 2 by 2 max pooling (non-overlapping).\n",
        "  - Flatten to vector.\n",
        "  - Linear layer with 64 hidden units + Tanh nonlinearity.\n",
        "  - Linear layer to 10 output units.\n",
        "\n",
        "**a)** Train it for 20 epochs on the CIFAR-10 training set and Visualize the first layer filters.\n",
        "\n",
        "Hints: [Follow the first PyTorch tutorial](http://pytorch.org/tutorials/beginner/blitz/neural_networks_tutorial.html#sphx-glr-beginner-blitz-neural-networks-tutorial-py) or look at the [MNIST example](https://github.com/pytorch/examples/tree/master/mnist)\n",
        "\n",
        "**b)**  Give a breakdown of the number of parameters within the above model, as well as the overall number."
      ]
    },
    {
      "cell_type": "markdown",
      "metadata": {
        "id": "69bRRf3hIHQo"
      },
      "source": [
        "# ***Example Code***"
      ]
    },
    {
      "cell_type": "code",
      "metadata": {
        "id": "CrnqiscEKGWv"
      },
      "source": [
        "# imports\n",
        "from __future__ import print_function\n",
        "import argparse\n",
        "import torch\n",
        "import torch.nn as nn\n",
        "import torch.nn.functional as F\n",
        "import torch.optim as optim\n",
        "from torchvision import datasets, transforms\n",
        "from torch.autograd import Variable"
      ],
      "execution_count": 1,
      "outputs": []
    },
    {
      "cell_type": "code",
      "metadata": {
        "id": "V0NBWksLKRD7"
      },
      "source": [
        "# options\n",
        "dataset = 'mnist' # options: 'mnist' | 'cifar10'\n",
        "batch_size = 64   # input batch size for training\n",
        "epochs = 10       # number of epochs to train\n",
        "lr = 0.01        # learning rate"
      ],
      "execution_count": 35,
      "outputs": []
    },
    {
      "cell_type": "code",
      "metadata": {
        "id": "ab7pqvGUKVVf"
      },
      "source": [
        "# Data Loading\n",
        "# Warning: this cell might take some time when you run it for the first time, \n",
        "#          because it will download the datasets from the internet\n",
        "if dataset == 'mnist':\n",
        "    data_transform = transforms.Compose([\n",
        "        transforms.ToTensor(),\n",
        "        transforms.Normalize((0.1307,), (0.3081,))\n",
        "    ])\n",
        "    trainset = datasets.MNIST(root='.', train=True, download=True, transform=data_transform)\n",
        "    testset = datasets.MNIST(root='.', train=False, download=True, transform=data_transform)\n",
        "\n",
        "elif dataset == 'cifar10':\n",
        "    data_transform = transforms.Compose([\n",
        "        transforms.ToTensor(),\n",
        "        transforms.Normalize((0.5, 0.5, 0.5), (0.5, 0.5, 0.5)),\n",
        "    ])\n",
        "    trainset = datasets.CIFAR10(root='.', train=True, download=True, transform=data_transform)\n",
        "    testset = datasets.CIFAR10(root='.', train=False, download=True, transform=data_transform)\n",
        "\n",
        "train_loader = torch.utils.data.DataLoader(trainset, batch_size=batch_size, shuffle=True, num_workers=0)\n",
        "test_loader  = torch.utils.data.DataLoader(testset, batch_size=batch_size, shuffle=False, num_workers=0)"
      ],
      "execution_count": 36,
      "outputs": []
    },
    {
      "cell_type": "code",
      "metadata": {
        "id": "mRkBGjAEKZM0"
      },
      "source": [
        "## network and optimizer\n",
        "if dataset == 'mnist':\n",
        "    num_inputs = 784\n",
        "elif dataset == 'cifar10':\n",
        "    num_inputs = 3072\n",
        "\n",
        "num_outputs = 10 # same for both CIFAR10 and MNIST, both have 10 classes as outputs\n",
        "\n",
        "class Net(nn.Module):\n",
        "    def __init__(self, num_inputs, num_outputs):\n",
        "        super(Net, self).__init__()\n",
        "        self.linear = nn.Linear(num_inputs, num_outputs)\n",
        "\n",
        "    def forward(self, input):\n",
        "        input = input.view(-1, num_inputs) # reshape input to batch x num_inputs\n",
        "        output = self.linear(input)\n",
        "        return output\n",
        "\n",
        "network = Net(num_inputs, num_outputs)\n",
        "optimizer = optim.SGD(network.parameters(), lr=lr)"
      ],
      "execution_count": 37,
      "outputs": []
    },
    {
      "cell_type": "code",
      "metadata": {
        "id": "3DfrCg4-Kfq6"
      },
      "source": [
        "# train and test functions\n",
        "def train(epoch):\n",
        "    network.train()\n",
        "    for batch_idx, (data, target) in enumerate(train_loader):\n",
        "        data, target = Variable(data), Variable(target)\n",
        "        optimizer.zero_grad()\n",
        "        output = network(data)\n",
        "        loss = F.cross_entropy(output, target)\n",
        "        loss.backward()\n",
        "        optimizer.step()\n",
        "        if batch_idx % 100 == 0:\n",
        "            print('Train Epoch: {} [{}/{} ({:.0f}%)]\\tLoss: {:.6f}'.format(\n",
        "                epoch, batch_idx * len(data), len(train_loader.dataset),\n",
        "                100. * batch_idx / len(train_loader), loss.item()))\n",
        "\n",
        "def test():\n",
        "    network.eval()\n",
        "    test_loss = 0\n",
        "    correct = 0\n",
        "    for data, target in test_loader:\n",
        "        #data, target = Variable(data, volatile=True), Variable(target)\n",
        "        output = network(data)\n",
        "        test_loss += F.cross_entropy(output, target, reduction='sum').item() # sum up batch loss\n",
        "        #test_loss += F.cross_entropy(output, target, sum=True).item() # sum up batch loss\n",
        "        pred = output.data.max(1, keepdim=True)[1] # get the index of the max log-probability\n",
        "        correct += pred.eq(target.data.view_as(pred)).cpu().sum()\n",
        "\n",
        "    test_loss /= len(test_loader.dataset)\n",
        "    print('\\nTest set: Average loss: {:.4f}, Accuracy: {}/{} ({:.0f}%)\\n'.format(\n",
        "        test_loss, correct, len(test_loader.dataset),\n",
        "        100. * correct / len(test_loader.dataset)))\n"
      ],
      "execution_count": 38,
      "outputs": []
    },
    {
      "cell_type": "code",
      "metadata": {
        "id": "c52XmoeCKja2",
        "colab": {
          "base_uri": "https://localhost:8080/"
        },
        "outputId": "58a5cae2-b791-4ebd-96d8-0c11b76073e8"
      },
      "source": [
        "# Training\n",
        "for i in range(1, epochs+1):\n",
        "  train(i)"
      ],
      "execution_count": 39,
      "outputs": [
        {
          "output_type": "stream",
          "text": [
            "Train Epoch: 1 [0/60000 (0%)]\tLoss: 2.452950\n",
            "Train Epoch: 1 [6400/60000 (11%)]\tLoss: 0.549214\n",
            "Train Epoch: 1 [12800/60000 (21%)]\tLoss: 0.429793\n",
            "Train Epoch: 1 [19200/60000 (32%)]\tLoss: 0.385646\n",
            "Train Epoch: 1 [25600/60000 (43%)]\tLoss: 0.361336\n",
            "Train Epoch: 1 [32000/60000 (53%)]\tLoss: 0.404054\n",
            "Train Epoch: 1 [38400/60000 (64%)]\tLoss: 0.287477\n",
            "Train Epoch: 1 [44800/60000 (75%)]\tLoss: 0.354044\n",
            "Train Epoch: 1 [51200/60000 (85%)]\tLoss: 0.400488\n",
            "Train Epoch: 1 [57600/60000 (96%)]\tLoss: 0.332022\n",
            "Train Epoch: 2 [0/60000 (0%)]\tLoss: 0.354786\n",
            "Train Epoch: 2 [6400/60000 (11%)]\tLoss: 0.345379\n",
            "Train Epoch: 2 [12800/60000 (21%)]\tLoss: 0.308421\n",
            "Train Epoch: 2 [19200/60000 (32%)]\tLoss: 0.391875\n",
            "Train Epoch: 2 [25600/60000 (43%)]\tLoss: 0.366238\n",
            "Train Epoch: 2 [32000/60000 (53%)]\tLoss: 0.272476\n",
            "Train Epoch: 2 [38400/60000 (64%)]\tLoss: 0.344385\n",
            "Train Epoch: 2 [44800/60000 (75%)]\tLoss: 0.349604\n",
            "Train Epoch: 2 [51200/60000 (85%)]\tLoss: 0.275355\n",
            "Train Epoch: 2 [57600/60000 (96%)]\tLoss: 0.417278\n",
            "Train Epoch: 3 [0/60000 (0%)]\tLoss: 0.243810\n",
            "Train Epoch: 3 [6400/60000 (11%)]\tLoss: 0.344899\n",
            "Train Epoch: 3 [12800/60000 (21%)]\tLoss: 0.203977\n",
            "Train Epoch: 3 [19200/60000 (32%)]\tLoss: 0.129450\n",
            "Train Epoch: 3 [25600/60000 (43%)]\tLoss: 0.341462\n",
            "Train Epoch: 3 [32000/60000 (53%)]\tLoss: 0.206071\n",
            "Train Epoch: 3 [38400/60000 (64%)]\tLoss: 0.152597\n",
            "Train Epoch: 3 [44800/60000 (75%)]\tLoss: 0.262973\n",
            "Train Epoch: 3 [51200/60000 (85%)]\tLoss: 0.273132\n",
            "Train Epoch: 3 [57600/60000 (96%)]\tLoss: 0.181991\n",
            "Train Epoch: 4 [0/60000 (0%)]\tLoss: 0.272129\n",
            "Train Epoch: 4 [6400/60000 (11%)]\tLoss: 0.240227\n",
            "Train Epoch: 4 [12800/60000 (21%)]\tLoss: 0.308641\n",
            "Train Epoch: 4 [19200/60000 (32%)]\tLoss: 0.144876\n",
            "Train Epoch: 4 [25600/60000 (43%)]\tLoss: 0.222813\n",
            "Train Epoch: 4 [32000/60000 (53%)]\tLoss: 0.203748\n",
            "Train Epoch: 4 [38400/60000 (64%)]\tLoss: 0.237822\n",
            "Train Epoch: 4 [44800/60000 (75%)]\tLoss: 0.320923\n",
            "Train Epoch: 4 [51200/60000 (85%)]\tLoss: 0.353011\n",
            "Train Epoch: 4 [57600/60000 (96%)]\tLoss: 0.213982\n",
            "Train Epoch: 5 [0/60000 (0%)]\tLoss: 0.246531\n",
            "Train Epoch: 5 [6400/60000 (11%)]\tLoss: 0.268671\n",
            "Train Epoch: 5 [12800/60000 (21%)]\tLoss: 0.293952\n",
            "Train Epoch: 5 [19200/60000 (32%)]\tLoss: 0.303079\n",
            "Train Epoch: 5 [25600/60000 (43%)]\tLoss: 0.193532\n",
            "Train Epoch: 5 [32000/60000 (53%)]\tLoss: 0.355609\n",
            "Train Epoch: 5 [38400/60000 (64%)]\tLoss: 0.281434\n",
            "Train Epoch: 5 [44800/60000 (75%)]\tLoss: 0.217619\n",
            "Train Epoch: 5 [51200/60000 (85%)]\tLoss: 0.326672\n",
            "Train Epoch: 5 [57600/60000 (96%)]\tLoss: 0.208605\n",
            "Train Epoch: 6 [0/60000 (0%)]\tLoss: 0.329742\n",
            "Train Epoch: 6 [6400/60000 (11%)]\tLoss: 0.536101\n",
            "Train Epoch: 6 [12800/60000 (21%)]\tLoss: 0.146058\n",
            "Train Epoch: 6 [19200/60000 (32%)]\tLoss: 0.348504\n",
            "Train Epoch: 6 [25600/60000 (43%)]\tLoss: 0.225891\n",
            "Train Epoch: 6 [32000/60000 (53%)]\tLoss: 0.224726\n",
            "Train Epoch: 6 [38400/60000 (64%)]\tLoss: 0.289833\n",
            "Train Epoch: 6 [44800/60000 (75%)]\tLoss: 0.323776\n",
            "Train Epoch: 6 [51200/60000 (85%)]\tLoss: 0.250710\n",
            "Train Epoch: 6 [57600/60000 (96%)]\tLoss: 0.208784\n",
            "Train Epoch: 7 [0/60000 (0%)]\tLoss: 0.417636\n",
            "Train Epoch: 7 [6400/60000 (11%)]\tLoss: 0.240732\n",
            "Train Epoch: 7 [12800/60000 (21%)]\tLoss: 0.232174\n",
            "Train Epoch: 7 [19200/60000 (32%)]\tLoss: 0.347345\n",
            "Train Epoch: 7 [25600/60000 (43%)]\tLoss: 0.468585\n",
            "Train Epoch: 7 [32000/60000 (53%)]\tLoss: 0.315040\n",
            "Train Epoch: 7 [38400/60000 (64%)]\tLoss: 0.219865\n",
            "Train Epoch: 7 [44800/60000 (75%)]\tLoss: 0.241230\n",
            "Train Epoch: 7 [51200/60000 (85%)]\tLoss: 0.262198\n",
            "Train Epoch: 7 [57600/60000 (96%)]\tLoss: 0.404356\n",
            "Train Epoch: 8 [0/60000 (0%)]\tLoss: 0.363275\n",
            "Train Epoch: 8 [6400/60000 (11%)]\tLoss: 0.319833\n",
            "Train Epoch: 8 [12800/60000 (21%)]\tLoss: 0.234558\n",
            "Train Epoch: 8 [19200/60000 (32%)]\tLoss: 0.204355\n",
            "Train Epoch: 8 [25600/60000 (43%)]\tLoss: 0.373287\n",
            "Train Epoch: 8 [32000/60000 (53%)]\tLoss: 0.381280\n",
            "Train Epoch: 8 [38400/60000 (64%)]\tLoss: 0.291965\n",
            "Train Epoch: 8 [44800/60000 (75%)]\tLoss: 0.304143\n",
            "Train Epoch: 8 [51200/60000 (85%)]\tLoss: 0.233371\n",
            "Train Epoch: 8 [57600/60000 (96%)]\tLoss: 0.218437\n",
            "Train Epoch: 9 [0/60000 (0%)]\tLoss: 0.266798\n",
            "Train Epoch: 9 [6400/60000 (11%)]\tLoss: 0.156689\n",
            "Train Epoch: 9 [12800/60000 (21%)]\tLoss: 0.278225\n",
            "Train Epoch: 9 [19200/60000 (32%)]\tLoss: 0.160017\n",
            "Train Epoch: 9 [25600/60000 (43%)]\tLoss: 0.221991\n",
            "Train Epoch: 9 [32000/60000 (53%)]\tLoss: 0.488071\n",
            "Train Epoch: 9 [38400/60000 (64%)]\tLoss: 0.259398\n",
            "Train Epoch: 9 [44800/60000 (75%)]\tLoss: 0.429118\n",
            "Train Epoch: 9 [51200/60000 (85%)]\tLoss: 0.313821\n",
            "Train Epoch: 9 [57600/60000 (96%)]\tLoss: 0.337623\n",
            "Train Epoch: 10 [0/60000 (0%)]\tLoss: 0.319253\n",
            "Train Epoch: 10 [6400/60000 (11%)]\tLoss: 0.325507\n",
            "Train Epoch: 10 [12800/60000 (21%)]\tLoss: 0.214658\n",
            "Train Epoch: 10 [19200/60000 (32%)]\tLoss: 0.309452\n",
            "Train Epoch: 10 [25600/60000 (43%)]\tLoss: 0.271273\n",
            "Train Epoch: 10 [32000/60000 (53%)]\tLoss: 0.438766\n",
            "Train Epoch: 10 [38400/60000 (64%)]\tLoss: 0.275648\n",
            "Train Epoch: 10 [44800/60000 (75%)]\tLoss: 0.514298\n",
            "Train Epoch: 10 [51200/60000 (85%)]\tLoss: 0.106745\n",
            "Train Epoch: 10 [57600/60000 (96%)]\tLoss: 0.281842\n"
          ],
          "name": "stdout"
        }
      ]
    },
    {
      "cell_type": "code",
      "metadata": {
        "id": "4Nfl06zkKmfX",
        "colab": {
          "base_uri": "https://localhost:8080/"
        },
        "outputId": "2fc3df6d-6b97-4d93-8546-c968652dc715"
      },
      "source": [
        "# Testing\n",
        "test()"
      ],
      "execution_count": 40,
      "outputs": [
        {
          "output_type": "stream",
          "text": [
            "\n",
            "Test set: Average loss: 0.2777, Accuracy: 9216/10000 (92%)\n",
            "\n"
          ],
          "name": "stdout"
        }
      ]
    },
    {
      "cell_type": "markdown",
      "metadata": {
        "id": "_TguAK3vIgJ_"
      },
      "source": [
        "# **Answer (1):**\n"
      ]
    },
    {
      "cell_type": "code",
      "metadata": {
        "id": "gtQ-2AnnxCCE"
      },
      "source": [
        "import matplotlib.pyplot as plt\n",
        "import numpy as np\n",
        "import torchvision\n",
        "\n",
        "def imshow(img):\n",
        "    if dataset =='mnist':\n",
        "        img = img*0.3081 + 0.1307 # unnormalize\n",
        "    elif dataset == 'cifar10':\n",
        "        img = img / 2 + 0.5     # unnormalize\n",
        "    npimg = img.numpy()\n",
        "    plt.imshow(np.transpose(npimg, (1, 2, 0)))\n",
        "    plt.show()"
      ],
      "execution_count": 13,
      "outputs": []
    },
    {
      "cell_type": "code",
      "metadata": {
        "colab": {
          "base_uri": "https://localhost:8080/",
          "height": 265
        },
        "id": "Owq8OyqfxM3J",
        "outputId": "4a25f815-a1d1-41f7-8d25-b3a227cf0b1d"
      },
      "source": [
        "# get some random training images for mnist dataset\n",
        "dataiter = iter(train_loader)\n",
        "images, labels = dataiter.next()\n",
        "imshow(torchvision.utils.make_grid(images[0]))"
      ],
      "execution_count": 14,
      "outputs": [
        {
          "output_type": "display_data",
          "data": {
            "image/png": "[encoded data removed]",
            "text/plain": [
              "<Figure size 432x288 with 1 Axes>"
            ]
          },
          "metadata": {
            "tags": [],
            "needs_background": "light"
          }
        }
      ]
    },
    {
      "cell_type": "code",
      "metadata": {
        "colab": {
          "base_uri": "https://localhost:8080/",
          "height": 265
        },
        "id": "ZZ6Hw-OexWM-",
        "outputId": "3355fca2-6cf8-4629-b91c-20f15287865f"
      },
      "source": [
        "# get some random test images for mnist dataset\n",
        "dataiter = iter(test_loader)\n",
        "images, labels = dataiter.next()\n",
        "imshow(torchvision.utils.make_grid(images[0]))"
      ],
      "execution_count": 15,
      "outputs": [
        {
          "output_type": "display_data",
          "data": {
            "image/png": "[encoded data removed]",
            "text/plain": [
              "<Figure size 432x288 with 1 Axes>"
            ]
          },
          "metadata": {
            "tags": [],
            "needs_background": "light"
          }
        }
      ]
    },
    {
      "cell_type": "code",
      "metadata": {
        "colab": {
          "base_uri": "https://localhost:8080/",
          "height": 266
        },
        "id": "8vmg1UeoxchW",
        "outputId": "44345931-fa36-4758-d71b-04e5f2cefa91"
      },
      "source": [
        "# get some random training images for cifar10 dataset\n",
        "dataiter = iter(train_loader)\n",
        "images, labels = dataiter.next()\n",
        "imshow(torchvision.utils.make_grid(images[0]))"
      ],
      "execution_count": 19,
      "outputs": [
        {
          "output_type": "display_data",
          "data": {
            "image/png": "[encoded data removed]",
            "text/plain": [
              "<Figure size 432x288 with 1 Axes>"
            ]
          },
          "metadata": {
            "tags": [],
            "needs_background": "light"
          }
        }
      ]
    },
    {
      "cell_type": "code",
      "metadata": {
        "colab": {
          "base_uri": "https://localhost:8080/",
          "height": 266
        },
        "id": "CM6ccErm5LWJ",
        "outputId": "23797e64-f998-4786-d869-afbdf9052b3e"
      },
      "source": [
        "# get some random test images for cifar10 dataset\n",
        "dataiter = iter(test_loader)\n",
        "images, labels = dataiter.next()\n",
        "imshow(torchvision.utils.make_grid(images[0]))"
      ],
      "execution_count": 20,
      "outputs": [
        {
          "output_type": "display_data",
          "data": {
            "image/png": "[encoded data removed]",
            "text/plain": [
              "<Figure size 432x288 with 1 Axes>"
            ]
          },
          "metadata": {
            "tags": [],
            "needs_background": "light"
          }
        }
      ]
    },
    {
      "cell_type": "markdown",
      "metadata": {
        "id": "feeFGXsqI8hP"
      },
      "source": [
        "# **Answer (2):**\n"
      ]
    },
    {
      "cell_type": "markdown",
      "metadata": {
        "id": "ylfJWCNsGCoq"
      },
      "source": [
        "## (a)"
      ]
    },
    {
      "cell_type": "code",
      "metadata": {
        "id": "erjyHuEgDXV6"
      },
      "source": [
        "# plot out the network weights as images (one for each output, of size 28 by 28) after the last epoch.\n",
        "def plot_network_weights(num_outputs, size):\n",
        "    for m in network.modules():\n",
        "        if isinstance(m, nn.Linear):           \n",
        "            imshow(torchvision.utils.make_grid(m.weight.data.cpu().view(num_outputs,1,size,size),normalize=True, scale_each=True))"
      ],
      "execution_count": 41,
      "outputs": []
    },
    {
      "cell_type": "code",
      "metadata": {
        "colab": {
          "base_uri": "https://localhost:8080/",
          "height": 137
        },
        "id": "7thzO-muHe2b",
        "outputId": "b17741f0-f406-4296-9327-b481510f32f4"
      },
      "source": [
        "plot_network_weights(10,28)"
      ],
      "execution_count": 42,
      "outputs": [
        {
          "output_type": "display_data",
          "data": {
            "image/png": "[encoded data removed]",
            "text/plain": [
              "<Figure size 432x288 with 1 Axes>"
            ]
          },
          "metadata": {
            "tags": [],
            "needs_background": "light"
          }
        }
      ]
    },
    {
      "cell_type": "markdown",
      "metadata": {
        "id": "OR3vm3lqGFpS"
      },
      "source": [
        "## (b)"
      ]
    },
    {
      "cell_type": "code",
      "metadata": {
        "id": "2WoeoNsKHw67"
      },
      "source": [
        "import torch.utils.data.sampler as samplers\n",
        "\n",
        "class SubsetSampler(samplers.Sampler):\n",
        "    def __init__(self, data_source, num_samples):\n",
        "        self.data_source = data_source\n",
        "        if num_samples < len(self.data_source):\n",
        "            self.num_samples = num_samples\n",
        "        else:\n",
        "            self.num_samples = len(self.data_source)\n",
        "            \n",
        "    def __iter__(self):\n",
        "        return iter(range(self.num_samples))\n",
        "\n",
        "    def __len__(self):\n",
        "        return self.num_samples"
      ],
      "execution_count": 43,
      "outputs": []
    },
    {
      "cell_type": "code",
      "metadata": {
        "id": "JVtTfbLRcmAh"
      },
      "source": [
        "examples = 50\n",
        "train_loader = torch.utils.data.DataLoader(trainset, batch_size=batch_size, shuffle=False, sampler=SubsetSampler(trainset, examples), num_workers=0)\n",
        "test_loader  = torch.utils.data.DataLoader(testset, batch_size=batch_size, shuffle=False, sampler=SubsetSampler(testset, examples), num_workers=0)\n",
        "\n",
        "network = Net(num_inputs, num_outputs)\n",
        "optimizer = optim.SGD(network.parameters(), lr=lr)"
      ],
      "execution_count": 44,
      "outputs": []
    },
    {
      "cell_type": "code",
      "metadata": {
        "colab": {
          "base_uri": "https://localhost:8080/"
        },
        "id": "S92kIkATg5LF",
        "outputId": "a97a91d9-6394-4ad7-8b09-83eca792c04f"
      },
      "source": [
        "epochs = 70\n",
        "# Training\n",
        "for i in range(1, epochs+1):\n",
        "  train(i)"
      ],
      "execution_count": 45,
      "outputs": [
        {
          "output_type": "stream",
          "text": [
            "Train Epoch: 1 [0/60000 (0%)]\tLoss: 2.356699\n",
            "Train Epoch: 2 [0/60000 (0%)]\tLoss: 2.146133\n",
            "Train Epoch: 3 [0/60000 (0%)]\tLoss: 1.971007\n",
            "Train Epoch: 4 [0/60000 (0%)]\tLoss: 1.821162\n",
            "Train Epoch: 5 [0/60000 (0%)]\tLoss: 1.689263\n",
            "Train Epoch: 6 [0/60000 (0%)]\tLoss: 1.571203\n",
            "Train Epoch: 7 [0/60000 (0%)]\tLoss: 1.464840\n",
            "Train Epoch: 8 [0/60000 (0%)]\tLoss: 1.368827\n",
            "Train Epoch: 9 [0/60000 (0%)]\tLoss: 1.282094\n",
            "Train Epoch: 10 [0/60000 (0%)]\tLoss: 1.203680\n",
            "Train Epoch: 11 [0/60000 (0%)]\tLoss: 1.132695\n",
            "Train Epoch: 12 [0/60000 (0%)]\tLoss: 1.068315\n",
            "Train Epoch: 13 [0/60000 (0%)]\tLoss: 1.009795\n",
            "Train Epoch: 14 [0/60000 (0%)]\tLoss: 0.956465\n",
            "Train Epoch: 15 [0/60000 (0%)]\tLoss: 0.907732\n",
            "Train Epoch: 16 [0/60000 (0%)]\tLoss: 0.863073\n",
            "Train Epoch: 17 [0/60000 (0%)]\tLoss: 0.822031\n",
            "Train Epoch: 18 [0/60000 (0%)]\tLoss: 0.784207\n",
            "Train Epoch: 19 [0/60000 (0%)]\tLoss: 0.749253\n",
            "Train Epoch: 20 [0/60000 (0%)]\tLoss: 0.716867\n",
            "Train Epoch: 21 [0/60000 (0%)]\tLoss: 0.686784\n",
            "Train Epoch: 22 [0/60000 (0%)]\tLoss: 0.658773\n",
            "Train Epoch: 23 [0/60000 (0%)]\tLoss: 0.632632\n",
            "Train Epoch: 24 [0/60000 (0%)]\tLoss: 0.608184\n",
            "Train Epoch: 25 [0/60000 (0%)]\tLoss: 0.585274\n",
            "Train Epoch: 26 [0/60000 (0%)]\tLoss: 0.563764\n",
            "Train Epoch: 27 [0/60000 (0%)]\tLoss: 0.543534\n",
            "Train Epoch: 28 [0/60000 (0%)]\tLoss: 0.524475\n",
            "Train Epoch: 29 [0/60000 (0%)]\tLoss: 0.506492\n",
            "Train Epoch: 30 [0/60000 (0%)]\tLoss: 0.489500\n",
            "Train Epoch: 31 [0/60000 (0%)]\tLoss: 0.473422\n",
            "Train Epoch: 32 [0/60000 (0%)]\tLoss: 0.458191\n",
            "Train Epoch: 33 [0/60000 (0%)]\tLoss: 0.443746\n",
            "Train Epoch: 34 [0/60000 (0%)]\tLoss: 0.430029\n",
            "Train Epoch: 35 [0/60000 (0%)]\tLoss: 0.416992\n",
            "Train Epoch: 36 [0/60000 (0%)]\tLoss: 0.404588\n",
            "Train Epoch: 37 [0/60000 (0%)]\tLoss: 0.392776\n",
            "Train Epoch: 38 [0/60000 (0%)]\tLoss: 0.381518\n",
            "Train Epoch: 39 [0/60000 (0%)]\tLoss: 0.370780\n",
            "Train Epoch: 40 [0/60000 (0%)]\tLoss: 0.360529\n",
            "Train Epoch: 41 [0/60000 (0%)]\tLoss: 0.350736\n",
            "Train Epoch: 42 [0/60000 (0%)]\tLoss: 0.341374\n",
            "Train Epoch: 43 [0/60000 (0%)]\tLoss: 0.332418\n",
            "Train Epoch: 44 [0/60000 (0%)]\tLoss: 0.323845\n",
            "Train Epoch: 45 [0/60000 (0%)]\tLoss: 0.315634\n",
            "Train Epoch: 46 [0/60000 (0%)]\tLoss: 0.307764\n",
            "Train Epoch: 47 [0/60000 (0%)]\tLoss: 0.300216\n",
            "Train Epoch: 48 [0/60000 (0%)]\tLoss: 0.292974\n",
            "Train Epoch: 49 [0/60000 (0%)]\tLoss: 0.286022\n",
            "Train Epoch: 50 [0/60000 (0%)]\tLoss: 0.279343\n",
            "Train Epoch: 51 [0/60000 (0%)]\tLoss: 0.272924\n",
            "Train Epoch: 52 [0/60000 (0%)]\tLoss: 0.266753\n",
            "Train Epoch: 53 [0/60000 (0%)]\tLoss: 0.260815\n",
            "Train Epoch: 54 [0/60000 (0%)]\tLoss: 0.255100\n",
            "Train Epoch: 55 [0/60000 (0%)]\tLoss: 0.249597\n",
            "Train Epoch: 56 [0/60000 (0%)]\tLoss: 0.244296\n",
            "Train Epoch: 57 [0/60000 (0%)]\tLoss: 0.239186\n",
            "Train Epoch: 58 [0/60000 (0%)]\tLoss: 0.234258\n",
            "Train Epoch: 59 [0/60000 (0%)]\tLoss: 0.229504\n",
            "Train Epoch: 60 [0/60000 (0%)]\tLoss: 0.224917\n",
            "Train Epoch: 61 [0/60000 (0%)]\tLoss: 0.220487\n",
            "Train Epoch: 62 [0/60000 (0%)]\tLoss: 0.216208\n",
            "Train Epoch: 63 [0/60000 (0%)]\tLoss: 0.212074\n",
            "Train Epoch: 64 [0/60000 (0%)]\tLoss: 0.208077\n",
            "Train Epoch: 65 [0/60000 (0%)]\tLoss: 0.204211\n",
            "Train Epoch: 66 [0/60000 (0%)]\tLoss: 0.200471\n",
            "Train Epoch: 67 [0/60000 (0%)]\tLoss: 0.196851\n",
            "Train Epoch: 68 [0/60000 (0%)]\tLoss: 0.193347\n",
            "Train Epoch: 69 [0/60000 (0%)]\tLoss: 0.189952\n",
            "Train Epoch: 70 [0/60000 (0%)]\tLoss: 0.186663\n"
          ],
          "name": "stdout"
        }
      ]
    },
    {
      "cell_type": "code",
      "metadata": {
        "colab": {
          "base_uri": "https://localhost:8080/"
        },
        "id": "HNa9feGYg_gt",
        "outputId": "1c825d14-920e-4bad-e561-db756e673581"
      },
      "source": [
        "# Testing\n",
        "test()"
      ],
      "execution_count": 46,
      "outputs": [
        {
          "output_type": "stream",
          "text": [
            "\n",
            "Test set: Average loss: 0.0056, Accuracy: 31/10000 (0%)\n",
            "\n"
          ],
          "name": "stdout"
        }
      ]
    },
    {
      "cell_type": "code",
      "metadata": {
        "colab": {
          "base_uri": "https://localhost:8080/",
          "height": 137
        },
        "id": "ZQHLkVc6hE4S",
        "outputId": "cba3884d-8d39-495c-db67-740da20be471"
      },
      "source": [
        "plot_network_weights(10,28)"
      ],
      "execution_count": 47,
      "outputs": [
        {
          "output_type": "display_data",
          "data": {
            "image/png": "[encoded data removed]",
            "text/plain": [
              "<Figure size 432x288 with 1 Axes>"
            ]
          },
          "metadata": {
            "tags": [],
            "needs_background": "light"
          }
        }
      ]
    },
    {
      "cell_type": "markdown",
      "metadata": {
        "id": "en_GCPLkQ_00"
      },
      "source": [
        "# **Answer (3):**\n",
        "create needed blocks of code (and results) below"
      ]
    },
    {
      "cell_type": "markdown",
      "metadata": {
        "id": "dk4Q_EDORBX2"
      },
      "source": [
        "# **Answer (4):**\n",
        "create needed blocks of code (and results) below"
      ]
    }
  ]
}