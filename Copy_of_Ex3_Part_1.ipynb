{
  "nbformat": 4,
  "nbformat_minor": 0,
  "metadata": {
    "colab": {
      "name": "Copy of Ex3_Part_1.ipynb",
      "provenance": [],
      "collapsed_sections": [
        "5NwLQOFMMlev"
      ]
    },
    "kernelspec": {
      "name": "python3",
      "display_name": "Python 3"
    },
    "widgets": {
      "application/vnd.jupyter.widget-state+json": {
        "f16c55f0d56f4621a797fb8f0cb8870e": {
          "model_module": "@jupyter-widgets/controls",
          "model_name": "HBoxModel",
          "state": {
            "_view_name": "HBoxView",
            "_dom_classes": [],
            "_model_name": "HBoxModel",
            "_view_module": "@jupyter-widgets/controls",
            "_model_module_version": "1.5.0",
            "_view_count": null,
            "_view_module_version": "1.5.0",
            "box_style": "",
            "layout": "IPY_MODEL_52beb46c72ec4723985165368ff599d6",
            "_model_module": "@jupyter-widgets/controls",
            "children": [
              "IPY_MODEL_a6cdcd2ab5624ff488d39852b0d1c465",
              "IPY_MODEL_f5bc0637de9a46d6a504c5123a6566f2"
            ]
          }
        },
        "52beb46c72ec4723985165368ff599d6": {
          "model_module": "@jupyter-widgets/base",
          "model_name": "LayoutModel",
          "state": {
            "_view_name": "LayoutView",
            "grid_template_rows": null,
            "right": null,
            "justify_content": null,
            "_view_module": "@jupyter-widgets/base",
            "overflow": null,
            "_model_module_version": "1.2.0",
            "_view_count": null,
            "flex_flow": null,
            "width": null,
            "min_width": null,
            "border": null,
            "align_items": null,
            "bottom": null,
            "_model_module": "@jupyter-widgets/base",
            "top": null,
            "grid_column": null,
            "overflow_y": null,
            "overflow_x": null,
            "grid_auto_flow": null,
            "grid_area": null,
            "grid_template_columns": null,
            "flex": null,
            "_model_name": "LayoutModel",
            "justify_items": null,
            "grid_row": null,
            "max_height": null,
            "align_content": null,
            "visibility": null,
            "align_self": null,
            "height": null,
            "min_height": null,
            "padding": null,
            "grid_auto_rows": null,
            "grid_gap": null,
            "max_width": null,
            "order": null,
            "_view_module_version": "1.2.0",
            "grid_template_areas": null,
            "object_position": null,
            "object_fit": null,
            "grid_auto_columns": null,
            "margin": null,
            "display": null,
            "left": null
          }
        },
        "a6cdcd2ab5624ff488d39852b0d1c465": {
          "model_module": "@jupyter-widgets/controls",
          "model_name": "FloatProgressModel",
          "state": {
            "_view_name": "ProgressView",
            "style": "IPY_MODEL_47f332f6c2d34c93a3858a78f5b0187f",
            "_dom_classes": [],
            "description": "",
            "_model_name": "FloatProgressModel",
            "bar_style": "success",
            "max": 9912422,
            "_view_module": "@jupyter-widgets/controls",
            "_model_module_version": "1.5.0",
            "value": 9912422,
            "_view_count": null,
            "_view_module_version": "1.5.0",
            "orientation": "horizontal",
            "min": 0,
            "description_tooltip": null,
            "_model_module": "@jupyter-widgets/controls",
            "layout": "IPY_MODEL_dfb64db990ee471fb055bdd62da0065e"
          }
        },
        "f5bc0637de9a46d6a504c5123a6566f2": {
          "model_module": "@jupyter-widgets/controls",
          "model_name": "HTMLModel",
          "state": {
            "_view_name": "HTMLView",
            "style": "IPY_MODEL_8743eb8bffaf448d8fa0b0e746bdd966",
            "_dom_classes": [],
            "description": "",
            "_model_name": "HTMLModel",
            "placeholder": "​",
            "_view_module": "@jupyter-widgets/controls",
            "_model_module_version": "1.5.0",
            "value": " 9913344/? [04:45&lt;00:00, 34771.50it/s]",
            "_view_count": null,
            "_view_module_version": "1.5.0",
            "description_tooltip": null,
            "_model_module": "@jupyter-widgets/controls",
            "layout": "IPY_MODEL_6f4e3b017c3f4d608e967590009ce8b2"
          }
        },
        "47f332f6c2d34c93a3858a78f5b0187f": {
          "model_module": "@jupyter-widgets/controls",
          "model_name": "ProgressStyleModel",
          "state": {
            "_view_name": "StyleView",
            "_model_name": "ProgressStyleModel",
            "description_width": "initial",
            "_view_module": "@jupyter-widgets/base",
            "_model_module_version": "1.5.0",
            "_view_count": null,
            "_view_module_version": "1.2.0",
            "bar_color": null,
            "_model_module": "@jupyter-widgets/controls"
          }
        },
        "dfb64db990ee471fb055bdd62da0065e": {
          "model_module": "@jupyter-widgets/base",
          "model_name": "LayoutModel",
          "state": {
            "_view_name": "LayoutView",
            "grid_template_rows": null,
            "right": null,
            "justify_content": null,
            "_view_module": "@jupyter-widgets/base",
            "overflow": null,
            "_model_module_version": "1.2.0",
            "_view_count": null,
            "flex_flow": null,
            "width": null,
            "min_width": null,
            "border": null,
            "align_items": null,
            "bottom": null,
            "_model_module": "@jupyter-widgets/base",
            "top": null,
            "grid_column": null,
            "overflow_y": null,
            "overflow_x": null,
            "grid_auto_flow": null,
            "grid_area": null,
            "grid_template_columns": null,
            "flex": null,
            "_model_name": "LayoutModel",
            "justify_items": null,
            "grid_row": null,
            "max_height": null,
            "align_content": null,
            "visibility": null,
            "align_self": null,
            "height": null,
            "min_height": null,
            "padding": null,
            "grid_auto_rows": null,
            "grid_gap": null,
            "max_width": null,
            "order": null,
            "_view_module_version": "1.2.0",
            "grid_template_areas": null,
            "object_position": null,
            "object_fit": null,
            "grid_auto_columns": null,
            "margin": null,
            "display": null,
            "left": null
          }
        },
        "8743eb8bffaf448d8fa0b0e746bdd966": {
          "model_module": "@jupyter-widgets/controls",
          "model_name": "DescriptionStyleModel",
          "state": {
            "_view_name": "StyleView",
            "_model_name": "DescriptionStyleModel",
            "description_width": "",
            "_view_module": "@jupyter-widgets/base",
            "_model_module_version": "1.5.0",
            "_view_count": null,
            "_view_module_version": "1.2.0",
            "_model_module": "@jupyter-widgets/controls"
          }
        },
        "6f4e3b017c3f4d608e967590009ce8b2": {
          "model_module": "@jupyter-widgets/base",
          "model_name": "LayoutModel",
          "state": {
            "_view_name": "LayoutView",
            "grid_template_rows": null,
            "right": null,
            "justify_content": null,
            "_view_module": "@jupyter-widgets/base",
            "overflow": null,
            "_model_module_version": "1.2.0",
            "_view_count": null,
            "flex_flow": null,
            "width": null,
            "min_width": null,
            "border": null,
            "align_items": null,
            "bottom": null,
            "_model_module": "@jupyter-widgets/base",
            "top": null,
            "grid_column": null,
            "overflow_y": null,
            "overflow_x": null,
            "grid_auto_flow": null,
            "grid_area": null,
            "grid_template_columns": null,
            "flex": null,
            "_model_name": "LayoutModel",
            "justify_items": null,
            "grid_row": null,
            "max_height": null,
            "align_content": null,
            "visibility": null,
            "align_self": null,
            "height": null,
            "min_height": null,
            "padding": null,
            "grid_auto_rows": null,
            "grid_gap": null,
            "max_width": null,
            "order": null,
            "_view_module_version": "1.2.0",
            "grid_template_areas": null,
            "object_position": null,
            "object_fit": null,
            "grid_auto_columns": null,
            "margin": null,
            "display": null,
            "left": null
          }
        },
        "f654addfe72e44549df3728b2989ca5f": {
          "model_module": "@jupyter-widgets/controls",
          "model_name": "HBoxModel",
          "state": {
            "_view_name": "HBoxView",
            "_dom_classes": [],
            "_model_name": "HBoxModel",
            "_view_module": "@jupyter-widgets/controls",
            "_model_module_version": "1.5.0",
            "_view_count": null,
            "_view_module_version": "1.5.0",
            "box_style": "",
            "layout": "IPY_MODEL_72f5f76141a442ecb49cb9cc6e35fd57",
            "_model_module": "@jupyter-widgets/controls",
            "children": [
              "IPY_MODEL_7abf4897f8914b8c8ad97b6798b60173",
              "IPY_MODEL_94eb90d81673446cb51ab3c7ad58d29e"
            ]
          }
        },
        "72f5f76141a442ecb49cb9cc6e35fd57": {
          "model_module": "@jupyter-widgets/base",
          "model_name": "LayoutModel",
          "state": {
            "_view_name": "LayoutView",
            "grid_template_rows": null,
            "right": null,
            "justify_content": null,
            "_view_module": "@jupyter-widgets/base",
            "overflow": null,
            "_model_module_version": "1.2.0",
            "_view_count": null,
            "flex_flow": null,
            "width": null,
            "min_width": null,
            "border": null,
            "align_items": null,
            "bottom": null,
            "_model_module": "@jupyter-widgets/base",
            "top": null,
            "grid_column": null,
            "overflow_y": null,
            "overflow_x": null,
            "grid_auto_flow": null,
            "grid_area": null,
            "grid_template_columns": null,
            "flex": null,
            "_model_name": "LayoutModel",
            "justify_items": null,
            "grid_row": null,
            "max_height": null,
            "align_content": null,
            "visibility": null,
            "align_self": null,
            "height": null,
            "min_height": null,
            "padding": null,
            "grid_auto_rows": null,
            "grid_gap": null,
            "max_width": null,
            "order": null,
            "_view_module_version": "1.2.0",
            "grid_template_areas": null,
            "object_position": null,
            "object_fit": null,
            "grid_auto_columns": null,
            "margin": null,
            "display": null,
            "left": null
          }
        },
        "7abf4897f8914b8c8ad97b6798b60173": {
          "model_module": "@jupyter-widgets/controls",
          "model_name": "FloatProgressModel",
          "state": {
            "_view_name": "ProgressView",
            "style": "IPY_MODEL_8f4abf8a00664f73b3b4390ede472ede",
            "_dom_classes": [],
            "description": "",
            "_model_name": "FloatProgressModel",
            "bar_style": "success",
            "max": 28881,
            "_view_module": "@jupyter-widgets/controls",
            "_model_module_version": "1.5.0",
            "value": 28881,
            "_view_count": null,
            "_view_module_version": "1.5.0",
            "orientation": "horizontal",
            "min": 0,
            "description_tooltip": null,
            "_model_module": "@jupyter-widgets/controls",
            "layout": "IPY_MODEL_29064760321b40989a0a625ca1de5a1f"
          }
        },
        "94eb90d81673446cb51ab3c7ad58d29e": {
          "model_module": "@jupyter-widgets/controls",
          "model_name": "HTMLModel",
          "state": {
            "_view_name": "HTMLView",
            "style": "IPY_MODEL_9a5630fcbfd04da6a4e7e9ebc505d1e1",
            "_dom_classes": [],
            "description": "",
            "_model_name": "HTMLModel",
            "placeholder": "​",
            "_view_module": "@jupyter-widgets/controls",
            "_model_module_version": "1.5.0",
            "value": " 29696/? [00:02&lt;00:00, 13517.15it/s]",
            "_view_count": null,
            "_view_module_version": "1.5.0",
            "description_tooltip": null,
            "_model_module": "@jupyter-widgets/controls",
            "layout": "IPY_MODEL_24facae6423445b59fa4c2c5eb232b88"
          }
        },
        "8f4abf8a00664f73b3b4390ede472ede": {
          "model_module": "@jupyter-widgets/controls",
          "model_name": "ProgressStyleModel",
          "state": {
            "_view_name": "StyleView",
            "_model_name": "ProgressStyleModel",
            "description_width": "initial",
            "_view_module": "@jupyter-widgets/base",
            "_model_module_version": "1.5.0",
            "_view_count": null,
            "_view_module_version": "1.2.0",
            "bar_color": null,
            "_model_module": "@jupyter-widgets/controls"
          }
        },
        "29064760321b40989a0a625ca1de5a1f": {
          "model_module": "@jupyter-widgets/base",
          "model_name": "LayoutModel",
          "state": {
            "_view_name": "LayoutView",
            "grid_template_rows": null,
            "right": null,
            "justify_content": null,
            "_view_module": "@jupyter-widgets/base",
            "overflow": null,
            "_model_module_version": "1.2.0",
            "_view_count": null,
            "flex_flow": null,
            "width": null,
            "min_width": null,
            "border": null,
            "align_items": null,
            "bottom": null,
            "_model_module": "@jupyter-widgets/base",
            "top": null,
            "grid_column": null,
            "overflow_y": null,
            "overflow_x": null,
            "grid_auto_flow": null,
            "grid_area": null,
            "grid_template_columns": null,
            "flex": null,
            "_model_name": "LayoutModel",
            "justify_items": null,
            "grid_row": null,
            "max_height": null,
            "align_content": null,
            "visibility": null,
            "align_self": null,
            "height": null,
            "min_height": null,
            "padding": null,
            "grid_auto_rows": null,
            "grid_gap": null,
            "max_width": null,
            "order": null,
            "_view_module_version": "1.2.0",
            "grid_template_areas": null,
            "object_position": null,
            "object_fit": null,
            "grid_auto_columns": null,
            "margin": null,
            "display": null,
            "left": null
          }
        },
        "9a5630fcbfd04da6a4e7e9ebc505d1e1": {
          "model_module": "@jupyter-widgets/controls",
          "model_name": "DescriptionStyleModel",
          "state": {
            "_view_name": "StyleView",
            "_model_name": "DescriptionStyleModel",
            "description_width": "",
            "_view_module": "@jupyter-widgets/base",
            "_model_module_version": "1.5.0",
            "_view_count": null,
            "_view_module_version": "1.2.0",
            "_model_module": "@jupyter-widgets/controls"
          }
        },
        "24facae6423445b59fa4c2c5eb232b88": {
          "model_module": "@jupyter-widgets/base",
          "model_name": "LayoutModel",
          "state": {
            "_view_name": "LayoutView",
            "grid_template_rows": null,
            "right": null,
            "justify_content": null,
            "_view_module": "@jupyter-widgets/base",
            "overflow": null,
            "_model_module_version": "1.2.0",
            "_view_count": null,
            "flex_flow": null,
            "width": null,
            "min_width": null,
            "border": null,
            "align_items": null,
            "bottom": null,
            "_model_module": "@jupyter-widgets/base",
            "top": null,
            "grid_column": null,
            "overflow_y": null,
            "overflow_x": null,
            "grid_auto_flow": null,
            "grid_area": null,
            "grid_template_columns": null,
            "flex": null,
            "_model_name": "LayoutModel",
            "justify_items": null,
            "grid_row": null,
            "max_height": null,
            "align_content": null,
            "visibility": null,
            "align_self": null,
            "height": null,
            "min_height": null,
            "padding": null,
            "grid_auto_rows": null,
            "grid_gap": null,
            "max_width": null,
            "order": null,
            "_view_module_version": "1.2.0",
            "grid_template_areas": null,
            "object_position": null,
            "object_fit": null,
            "grid_auto_columns": null,
            "margin": null,
            "display": null,
            "left": null
          }
        },
        "c45501a7c2304860b0697334c2ca88df": {
          "model_module": "@jupyter-widgets/controls",
          "model_name": "HBoxModel",
          "state": {
            "_view_name": "HBoxView",
            "_dom_classes": [],
            "_model_name": "HBoxModel",
            "_view_module": "@jupyter-widgets/controls",
            "_model_module_version": "1.5.0",
            "_view_count": null,
            "_view_module_version": "1.5.0",
            "box_style": "",
            "layout": "IPY_MODEL_fce351ba181b45ff84b604aece77efdf",
            "_model_module": "@jupyter-widgets/controls",
            "children": [
              "IPY_MODEL_7be76d4c83334f60abdaa62d76b34ff1",
              "IPY_MODEL_8509cdf7f3284cbb955c5c3d83f4c230"
            ]
          }
        },
        "fce351ba181b45ff84b604aece77efdf": {
          "model_module": "@jupyter-widgets/base",
          "model_name": "LayoutModel",
          "state": {
            "_view_name": "LayoutView",
            "grid_template_rows": null,
            "right": null,
            "justify_content": null,
            "_view_module": "@jupyter-widgets/base",
            "overflow": null,
            "_model_module_version": "1.2.0",
            "_view_count": null,
            "flex_flow": null,
            "width": null,
            "min_width": null,
            "border": null,
            "align_items": null,
            "bottom": null,
            "_model_module": "@jupyter-widgets/base",
            "top": null,
            "grid_column": null,
            "overflow_y": null,
            "overflow_x": null,
            "grid_auto_flow": null,
            "grid_area": null,
            "grid_template_columns": null,
            "flex": null,
            "_model_name": "LayoutModel",
            "justify_items": null,
            "grid_row": null,
            "max_height": null,
            "align_content": null,
            "visibility": null,
            "align_self": null,
            "height": null,
            "min_height": null,
            "padding": null,
            "grid_auto_rows": null,
            "grid_gap": null,
            "max_width": null,
            "order": null,
            "_view_module_version": "1.2.0",
            "grid_template_areas": null,
            "object_position": null,
            "object_fit": null,
            "grid_auto_columns": null,
            "margin": null,
            "display": null,
            "left": null
          }
        },
        "7be76d4c83334f60abdaa62d76b34ff1": {
          "model_module": "@jupyter-widgets/controls",
          "model_name": "FloatProgressModel",
          "state": {
            "_view_name": "ProgressView",
            "style": "IPY_MODEL_b11dc8b96f1e44d4a5e48f3f8e0ca272",
            "_dom_classes": [],
            "description": "",
            "_model_name": "FloatProgressModel",
            "bar_style": "success",
            "max": 1648877,
            "_view_module": "@jupyter-widgets/controls",
            "_model_module_version": "1.5.0",
            "value": 1648877,
            "_view_count": null,
            "_view_module_version": "1.5.0",
            "orientation": "horizontal",
            "min": 0,
            "description_tooltip": null,
            "_model_module": "@jupyter-widgets/controls",
            "layout": "IPY_MODEL_5055918ca2d14b99b5f1ab7afd1e47ed"
          }
        },
        "8509cdf7f3284cbb955c5c3d83f4c230": {
          "model_module": "@jupyter-widgets/controls",
          "model_name": "HTMLModel",
          "state": {
            "_view_name": "HTMLView",
            "style": "IPY_MODEL_562d1250488e4ca299d311585c3cbdd2",
            "_dom_classes": [],
            "description": "",
            "_model_name": "HTMLModel",
            "placeholder": "​",
            "_view_module": "@jupyter-widgets/controls",
            "_model_module_version": "1.5.0",
            "value": " 1649664/? [04:38&lt;00:00, 5924.70it/s]",
            "_view_count": null,
            "_view_module_version": "1.5.0",
            "description_tooltip": null,
            "_model_module": "@jupyter-widgets/controls",
            "layout": "IPY_MODEL_ed74273a245f4b7c85f3c5a09b120f1c"
          }
        },
        "b11dc8b96f1e44d4a5e48f3f8e0ca272": {
          "model_module": "@jupyter-widgets/controls",
          "model_name": "ProgressStyleModel",
          "state": {
            "_view_name": "StyleView",
            "_model_name": "ProgressStyleModel",
            "description_width": "initial",
            "_view_module": "@jupyter-widgets/base",
            "_model_module_version": "1.5.0",
            "_view_count": null,
            "_view_module_version": "1.2.0",
            "bar_color": null,
            "_model_module": "@jupyter-widgets/controls"
          }
        },
        "5055918ca2d14b99b5f1ab7afd1e47ed": {
          "model_module": "@jupyter-widgets/base",
          "model_name": "LayoutModel",
          "state": {
            "_view_name": "LayoutView",
            "grid_template_rows": null,
            "right": null,
            "justify_content": null,
            "_view_module": "@jupyter-widgets/base",
            "overflow": null,
            "_model_module_version": "1.2.0",
            "_view_count": null,
            "flex_flow": null,
            "width": null,
            "min_width": null,
            "border": null,
            "align_items": null,
            "bottom": null,
            "_model_module": "@jupyter-widgets/base",
            "top": null,
            "grid_column": null,
            "overflow_y": null,
            "overflow_x": null,
            "grid_auto_flow": null,
            "grid_area": null,
            "grid_template_columns": null,
            "flex": null,
            "_model_name": "LayoutModel",
            "justify_items": null,
            "grid_row": null,
            "max_height": null,
            "align_content": null,
            "visibility": null,
            "align_self": null,
            "height": null,
            "min_height": null,
            "padding": null,
            "grid_auto_rows": null,
            "grid_gap": null,
            "max_width": null,
            "order": null,
            "_view_module_version": "1.2.0",
            "grid_template_areas": null,
            "object_position": null,
            "object_fit": null,
            "grid_auto_columns": null,
            "margin": null,
            "display": null,
            "left": null
          }
        },
        "562d1250488e4ca299d311585c3cbdd2": {
          "model_module": "@jupyter-widgets/controls",
          "model_name": "DescriptionStyleModel",
          "state": {
            "_view_name": "StyleView",
            "_model_name": "DescriptionStyleModel",
            "description_width": "",
            "_view_module": "@jupyter-widgets/base",
            "_model_module_version": "1.5.0",
            "_view_count": null,
            "_view_module_version": "1.2.0",
            "_model_module": "@jupyter-widgets/controls"
          }
        },
        "ed74273a245f4b7c85f3c5a09b120f1c": {
          "model_module": "@jupyter-widgets/base",
          "model_name": "LayoutModel",
          "state": {
            "_view_name": "LayoutView",
            "grid_template_rows": null,
            "right": null,
            "justify_content": null,
            "_view_module": "@jupyter-widgets/base",
            "overflow": null,
            "_model_module_version": "1.2.0",
            "_view_count": null,
            "flex_flow": null,
            "width": null,
            "min_width": null,
            "border": null,
            "align_items": null,
            "bottom": null,
            "_model_module": "@jupyter-widgets/base",
            "top": null,
            "grid_column": null,
            "overflow_y": null,
            "overflow_x": null,
            "grid_auto_flow": null,
            "grid_area": null,
            "grid_template_columns": null,
            "flex": null,
            "_model_name": "LayoutModel",
            "justify_items": null,
            "grid_row": null,
            "max_height": null,
            "align_content": null,
            "visibility": null,
            "align_self": null,
            "height": null,
            "min_height": null,
            "padding": null,
            "grid_auto_rows": null,
            "grid_gap": null,
            "max_width": null,
            "order": null,
            "_view_module_version": "1.2.0",
            "grid_template_areas": null,
            "object_position": null,
            "object_fit": null,
            "grid_auto_columns": null,
            "margin": null,
            "display": null,
            "left": null
          }
        },
        "b17b8ac6d3bb492d95c66366ca154ce7": {
          "model_module": "@jupyter-widgets/controls",
          "model_name": "HBoxModel",
          "state": {
            "_view_name": "HBoxView",
            "_dom_classes": [],
            "_model_name": "HBoxModel",
            "_view_module": "@jupyter-widgets/controls",
            "_model_module_version": "1.5.0",
            "_view_count": null,
            "_view_module_version": "1.5.0",
            "box_style": "",
            "layout": "IPY_MODEL_89e115b2b8964d20848eb65517a62b95",
            "_model_module": "@jupyter-widgets/controls",
            "children": [
              "IPY_MODEL_49cb816558e24b578d5f3d0f4ed7eee1",
              "IPY_MODEL_d739891da69a42868d0bfa276d7e0bfd"
            ]
          }
        },
        "89e115b2b8964d20848eb65517a62b95": {
          "model_module": "@jupyter-widgets/base",
          "model_name": "LayoutModel",
          "state": {
            "_view_name": "LayoutView",
            "grid_template_rows": null,
            "right": null,
            "justify_content": null,
            "_view_module": "@jupyter-widgets/base",
            "overflow": null,
            "_model_module_version": "1.2.0",
            "_view_count": null,
            "flex_flow": null,
            "width": null,
            "min_width": null,
            "border": null,
            "align_items": null,
            "bottom": null,
            "_model_module": "@jupyter-widgets/base",
            "top": null,
            "grid_column": null,
            "overflow_y": null,
            "overflow_x": null,
            "grid_auto_flow": null,
            "grid_area": null,
            "grid_template_columns": null,
            "flex": null,
            "_model_name": "LayoutModel",
            "justify_items": null,
            "grid_row": null,
            "max_height": null,
            "align_content": null,
            "visibility": null,
            "align_self": null,
            "height": null,
            "min_height": null,
            "padding": null,
            "grid_auto_rows": null,
            "grid_gap": null,
            "max_width": null,
            "order": null,
            "_view_module_version": "1.2.0",
            "grid_template_areas": null,
            "object_position": null,
            "object_fit": null,
            "grid_auto_columns": null,
            "margin": null,
            "display": null,
            "left": null
          }
        },
        "49cb816558e24b578d5f3d0f4ed7eee1": {
          "model_module": "@jupyter-widgets/controls",
          "model_name": "FloatProgressModel",
          "state": {
            "_view_name": "ProgressView",
            "style": "IPY_MODEL_9181f4edb1ca427aa6a0c76a79c78525",
            "_dom_classes": [],
            "description": "",
            "_model_name": "FloatProgressModel",
            "bar_style": "success",
            "max": 4542,
            "_view_module": "@jupyter-widgets/controls",
            "_model_module_version": "1.5.0",
            "value": 4542,
            "_view_count": null,
            "_view_module_version": "1.5.0",
            "orientation": "horizontal",
            "min": 0,
            "description_tooltip": null,
            "_model_module": "@jupyter-widgets/controls",
            "layout": "IPY_MODEL_c0f1eee4116d4dffb6a2ee5dbae7489c"
          }
        },
        "d739891da69a42868d0bfa276d7e0bfd": {
          "model_module": "@jupyter-widgets/controls",
          "model_name": "HTMLModel",
          "state": {
            "_view_name": "HTMLView",
            "style": "IPY_MODEL_9dcd51873c444c618006c5126a7da80e",
            "_dom_classes": [],
            "description": "",
            "_model_name": "HTMLModel",
            "placeholder": "​",
            "_view_module": "@jupyter-widgets/controls",
            "_model_module_version": "1.5.0",
            "value": " 5120/? [00:16&lt;00:00, 315.90it/s]",
            "_view_count": null,
            "_view_module_version": "1.5.0",
            "description_tooltip": null,
            "_model_module": "@jupyter-widgets/controls",
            "layout": "IPY_MODEL_73feb35a8be04892b62682f4c19ee979"
          }
        },
        "9181f4edb1ca427aa6a0c76a79c78525": {
          "model_module": "@jupyter-widgets/controls",
          "model_name": "ProgressStyleModel",
          "state": {
            "_view_name": "StyleView",
            "_model_name": "ProgressStyleModel",
            "description_width": "initial",
            "_view_module": "@jupyter-widgets/base",
            "_model_module_version": "1.5.0",
            "_view_count": null,
            "_view_module_version": "1.2.0",
            "bar_color": null,
            "_model_module": "@jupyter-widgets/controls"
          }
        },
        "c0f1eee4116d4dffb6a2ee5dbae7489c": {
          "model_module": "@jupyter-widgets/base",
          "model_name": "LayoutModel",
          "state": {
            "_view_name": "LayoutView",
            "grid_template_rows": null,
            "right": null,
            "justify_content": null,
            "_view_module": "@jupyter-widgets/base",
            "overflow": null,
            "_model_module_version": "1.2.0",
            "_view_count": null,
            "flex_flow": null,
            "width": null,
            "min_width": null,
            "border": null,
            "align_items": null,
            "bottom": null,
            "_model_module": "@jupyter-widgets/base",
            "top": null,
            "grid_column": null,
            "overflow_y": null,
            "overflow_x": null,
            "grid_auto_flow": null,
            "grid_area": null,
            "grid_template_columns": null,
            "flex": null,
            "_model_name": "LayoutModel",
            "justify_items": null,
            "grid_row": null,
            "max_height": null,
            "align_content": null,
            "visibility": null,
            "align_self": null,
            "height": null,
            "min_height": null,
            "padding": null,
            "grid_auto_rows": null,
            "grid_gap": null,
            "max_width": null,
            "order": null,
            "_view_module_version": "1.2.0",
            "grid_template_areas": null,
            "object_position": null,
            "object_fit": null,
            "grid_auto_columns": null,
            "margin": null,
            "display": null,
            "left": null
          }
        },
        "9dcd51873c444c618006c5126a7da80e": {
          "model_module": "@jupyter-widgets/controls",
          "model_name": "DescriptionStyleModel",
          "state": {
            "_view_name": "StyleView",
            "_model_name": "DescriptionStyleModel",
            "description_width": "",
            "_view_module": "@jupyter-widgets/base",
            "_model_module_version": "1.5.0",
            "_view_count": null,
            "_view_module_version": "1.2.0",
            "_model_module": "@jupyter-widgets/controls"
          }
        },
        "73feb35a8be04892b62682f4c19ee979": {
          "model_module": "@jupyter-widgets/base",
          "model_name": "LayoutModel",
          "state": {
            "_view_name": "LayoutView",
            "grid_template_rows": null,
            "right": null,
            "justify_content": null,
            "_view_module": "@jupyter-widgets/base",
            "overflow": null,
            "_model_module_version": "1.2.0",
            "_view_count": null,
            "flex_flow": null,
            "width": null,
            "min_width": null,
            "border": null,
            "align_items": null,
            "bottom": null,
            "_model_module": "@jupyter-widgets/base",
            "top": null,
            "grid_column": null,
            "overflow_y": null,
            "overflow_x": null,
            "grid_auto_flow": null,
            "grid_area": null,
            "grid_template_columns": null,
            "flex": null,
            "_model_name": "LayoutModel",
            "justify_items": null,
            "grid_row": null,
            "max_height": null,
            "align_content": null,
            "visibility": null,
            "align_self": null,
            "height": null,
            "min_height": null,
            "padding": null,
            "grid_auto_rows": null,
            "grid_gap": null,
            "max_width": null,
            "order": null,
            "_view_module_version": "1.2.0",
            "grid_template_areas": null,
            "object_position": null,
            "object_fit": null,
            "grid_auto_columns": null,
            "margin": null,
            "display": null,
            "left": null
          }
        }
      }
    }
  },
  "cells": [
    {
      "cell_type": "markdown",
      "metadata": {
        "id": "5NwLQOFMMlev"
      },
      "source": [
        "# Computer Vision: Assignment 3 Part 1 - Some CNN Basics [40%]\n",
        "\n",
        "Spring 2021 semester.\n",
        "\n",
        "Due date: **July 19th 2021.**\n",
        "\n",
        "## Introduction\n",
        "\n",
        "This question is an introduction to using PyTorch for training simple neural net models. \n",
        "\n",
        "Two different datasets will be used: \n",
        "- MNIST digits [handwritten digits]\n",
        "- CIFAR-10 [32x32 resolution color images of 10 object classes].\n",
        "\n",
        "## Requirements\n",
        "\n",
        "Perform this assignment in PyTorch, modifying the baseline code, producing outputs and adding required explanations - *all within this ipython notebook*.\n",
        "\n",
        "Finally, submit this iPython notebook, including outputs, as an .ipynb file (exact submission guidelines will be given in the next couple of days). \n",
        "\n",
        "## Question (1): Warmup [5%]\n",
        "\n",
        "It is always good practice to visually inspect your data before trying to train a model, since it lets you check for problems and get a feel for the task at hand.\n",
        "\n",
        "MNIST is a dataset of 70,000 grayscale hand-written digits (0 through 9).\n",
        "60,000 of these are training images. 10,000 are a held out test set. \n",
        "\n",
        "CIFAR-10 is a dataset of 60,000 color images (32 by 32 resolution) across 10 classes (airplane, automobile, bird, cat, deer, dog, frog, horse, ship, truck). \n",
        "The train/test split is 50k/10k.\n",
        "\n",
        "**a)**  Use `matplotlib` and ipython notebook's visualization capabilities to display one train and one test image of each class, for each of the two datasets.\n",
        "[See this PyTorch tutorial page](http://pytorch.org/tutorials/beginner/blitz/cifar10_tutorial.html#sphx-glr-beginner-blitz-cifar10-tutorial-py) for hints on how to achieve this.\n",
        "\n",
        "** Relevant Cell: \"Data Loading\" **\n",
        "\n",
        "## Question (2): Training a Single Layer Network on MNIST [10%]\n",
        "\n",
        "Start by running the training on MNIST. By default if you run this notebook successfully, it will train on MNIST.\n",
        "\n",
        "This will initialize a single layer model train it on the 60,000 MNIST training images for 10 epochs (passes through the training data). \n",
        "\n",
        "The loss function [cross_entropy](http://pytorch.org/docs/master/nn.html?highlight=cross_entropy#torch.nn.functional.cross_entropy) computes a Logarithm of the Softmax on the output of the neural network, and then computes the negative log-likelihood w.r.t. the given `target`.\n",
        "\n",
        "The default values for the learning rate, batch size and number of epochs are given in the \"options\" cell of this notebook. Unless otherwise specified, use the default values throughout this assignment. \n",
        "\n",
        "Note the decrease in training loss and corresponding decrease in validation errors.\n",
        "\n",
        "**a)** Add code to plot out the network weights as images (one for each output, of size 28 by 28) after the last epoch. (Hint threads: [#1](https://discuss.pytorch.org/t/understanding-deep-network-visualize-weights/2060/2?u=smth) [#2](https://github.com/pytorch/vision#utils) )\n",
        "\n",
        "**b)** Reduce the number of training examples to just 50. [Hint: limit the iterator in the `train` function]. \n",
        "Paste the output into your report and explain what is happening to the model.\n",
        "\n",
        "## Question (3): Training a Multi-Layer Network on MNIST [10%]\n",
        "\n",
        "**a)**  Add an extra layer to the network with 1000 hidden units and a `tanh` non-linearity. [Hint: modify the `Net` class] and train the model for 10 epochs.\n",
        "\n",
        "**b)**   Now set the learning rate to 10 and retrain. Give a brief explanation to the observed results.\n",
        "\n",
        "## Question (4): Training a Convolutional Network on CIFAR [15%]\n",
        "\n",
        "To change over to the CIFAR-10 dataset, change the `options` cell's `dataset` variable to `'cifar10'`.\n",
        "\n",
        "- Create a convolutional network with the following architecture:\n",
        "  - Convolution with 5 by 5 filters, 16 feature maps + Tanh nonlinearity.\n",
        "  - 2 by 2 max pooling (non-overlapping).\n",
        "  - Convolution with 5 by 5 filters, 128 feature maps + Tanh nonlinearity.\n",
        "  - 2 by 2 max pooling (non-overlapping).\n",
        "  - Flatten to vector.\n",
        "  - Linear layer with 64 hidden units + Tanh nonlinearity.\n",
        "  - Linear layer to 10 output units.\n",
        "\n",
        "**a)** Train it for 20 epochs on the CIFAR-10 training set and Visualize the first layer filters.\n",
        "\n",
        "Hints: [Follow the first PyTorch tutorial](http://pytorch.org/tutorials/beginner/blitz/neural_networks_tutorial.html#sphx-glr-beginner-blitz-neural-networks-tutorial-py) or look at the [MNIST example](https://github.com/pytorch/examples/tree/master/mnist)\n",
        "\n",
        "**b)**  Give a breakdown of the number of parameters within the above model, as well as the overall number."
      ]
    },
    {
      "cell_type": "markdown",
      "metadata": {
        "id": "69bRRf3hIHQo"
      },
      "source": [
        "# ***Example Code***"
      ]
    },
    {
      "cell_type": "code",
      "metadata": {
        "id": "CrnqiscEKGWv"
      },
      "source": [
        "# imports\n",
        "from __future__ import print_function\n",
        "import argparse\n",
        "import torch\n",
        "import torch.nn as nn\n",
        "import torch.nn.functional as F\n",
        "import torch.optim as optim\n",
        "from torchvision import datasets, transforms\n",
        "from torch.autograd import Variable"
      ],
      "execution_count": 1,
      "outputs": []
    },
    {
      "cell_type": "code",
      "metadata": {
        "id": "V0NBWksLKRD7"
      },
      "source": [
        "# options\n",
        "dataset = 'mnist' # options: 'mnist' | 'cifar10'\n",
        "batch_size = 64   # input batch size for training\n",
        "epochs = 10       # number of epochs to train\n",
        "lr = 0.01        # learning rate"
      ],
      "execution_count": 5,
      "outputs": []
    },
    {
      "cell_type": "code",
      "metadata": {
        "id": "ab7pqvGUKVVf",
        "colab": {
          "base_uri": "https://localhost:8080/",
          "height": 898,
          "referenced_widgets": [
            "f16c55f0d56f4621a797fb8f0cb8870e",
            "52beb46c72ec4723985165368ff599d6",
            "a6cdcd2ab5624ff488d39852b0d1c465",
            "f5bc0637de9a46d6a504c5123a6566f2",
            "47f332f6c2d34c93a3858a78f5b0187f",
            "dfb64db990ee471fb055bdd62da0065e",
            "8743eb8bffaf448d8fa0b0e746bdd966",
            "6f4e3b017c3f4d608e967590009ce8b2",
            "f654addfe72e44549df3728b2989ca5f",
            "72f5f76141a442ecb49cb9cc6e35fd57",
            "7abf4897f8914b8c8ad97b6798b60173",
            "94eb90d81673446cb51ab3c7ad58d29e",
            "8f4abf8a00664f73b3b4390ede472ede",
            "29064760321b40989a0a625ca1de5a1f",
            "9a5630fcbfd04da6a4e7e9ebc505d1e1",
            "24facae6423445b59fa4c2c5eb232b88",
            "c45501a7c2304860b0697334c2ca88df",
            "fce351ba181b45ff84b604aece77efdf",
            "7be76d4c83334f60abdaa62d76b34ff1",
            "8509cdf7f3284cbb955c5c3d83f4c230",
            "b11dc8b96f1e44d4a5e48f3f8e0ca272",
            "5055918ca2d14b99b5f1ab7afd1e47ed",
            "562d1250488e4ca299d311585c3cbdd2",
            "ed74273a245f4b7c85f3c5a09b120f1c",
            "b17b8ac6d3bb492d95c66366ca154ce7",
            "89e115b2b8964d20848eb65517a62b95",
            "49cb816558e24b578d5f3d0f4ed7eee1",
            "d739891da69a42868d0bfa276d7e0bfd",
            "9181f4edb1ca427aa6a0c76a79c78525",
            "c0f1eee4116d4dffb6a2ee5dbae7489c",
            "9dcd51873c444c618006c5126a7da80e",
            "73feb35a8be04892b62682f4c19ee979"
          ]
        },
        "outputId": "d3cbeba8-a732-48ac-c364-eb3f67ccbc8f"
      },
      "source": [
        "# Data Loading\n",
        "# Warning: this cell might take some time when you run it for the first time, \n",
        "#          because it will download the datasets from the internet\n",
        "if dataset == 'mnist':\n",
        "    data_transform = transforms.Compose([\n",
        "        transforms.ToTensor(),\n",
        "        transforms.Normalize((0.1307,), (0.3081,))\n",
        "    ])\n",
        "    trainset = datasets.MNIST(root='.', train=True, download=True, transform=data_transform)\n",
        "    testset = datasets.MNIST(root='.', train=False, download=True, transform=data_transform)\n",
        "\n",
        "elif dataset == 'cifar10':\n",
        "    data_transform = transforms.Compose([\n",
        "        transforms.ToTensor(),\n",
        "        transforms.Normalize((0.5, 0.5, 0.5), (0.5, 0.5, 0.5)),\n",
        "    ])\n",
        "    trainset = datasets.CIFAR10(root='.', train=True, download=True, transform=data_transform)\n",
        "    testset = datasets.CIFAR10(root='.', train=False, download=True, transform=data_transform)\n",
        "\n",
        "train_loader = torch.utils.data.DataLoader(trainset, batch_size=batch_size, shuffle=True, num_workers=0)\n",
        "test_loader  = torch.utils.data.DataLoader(testset, batch_size=batch_size, shuffle=False, num_workers=0)"
      ],
      "execution_count": 6,
      "outputs": [
        {
          "output_type": "stream",
          "text": [
            "Downloading http://yann.lecun.com/exdb/mnist/train-images-idx3-ubyte.gz\n",
            "Downloading http://yann.lecun.com/exdb/mnist/train-images-idx3-ubyte.gz to ./MNIST/raw/train-images-idx3-ubyte.gz\n",
            "Failed to download (trying next):\n",
            "HTTP Error 503: Service Unavailable\n",
            "\n",
            "Downloading https://ossci-datasets.s3.amazonaws.com/mnist/train-images-idx3-ubyte.gz\n",
            "Downloading https://ossci-datasets.s3.amazonaws.com/mnist/train-images-idx3-ubyte.gz to ./MNIST/raw/train-images-idx3-ubyte.gz\n"
          ],
          "name": "stdout"
        },
        {
          "output_type": "display_data",
          "data": {
            "application/vnd.jupyter.widget-view+json": {
              "model_id": "f16c55f0d56f4621a797fb8f0cb8870e",
              "version_minor": 0,
              "version_major": 2
            },
            "text/plain": [
              "HBox(children=(FloatProgress(value=0.0, max=9912422.0), HTML(value='')))"
            ]
          },
          "metadata": {
            "tags": []
          }
        },
        {
          "output_type": "stream",
          "text": [
            "\n",
            "Extracting ./MNIST/raw/train-images-idx3-ubyte.gz to ./MNIST/raw\n",
            "\n",
            "Downloading http://yann.lecun.com/exdb/mnist/train-labels-idx1-ubyte.gz\n",
            "Failed to download (trying next):\n",
            "HTTP Error 503: Service Unavailable\n",
            "\n",
            "Downloading https://ossci-datasets.s3.amazonaws.com/mnist/train-labels-idx1-ubyte.gz\n",
            "Downloading https://ossci-datasets.s3.amazonaws.com/mnist/train-labels-idx1-ubyte.gz to ./MNIST/raw/train-labels-idx1-ubyte.gz\n"
          ],
          "name": "stdout"
        },
        {
          "output_type": "display_data",
          "data": {
            "application/vnd.jupyter.widget-view+json": {
              "model_id": "f654addfe72e44549df3728b2989ca5f",
              "version_minor": 0,
              "version_major": 2
            },
            "text/plain": [
              "HBox(children=(FloatProgress(value=0.0, max=28881.0), HTML(value='')))"
            ]
          },
          "metadata": {
            "tags": []
          }
        },
        {
          "output_type": "stream",
          "text": [
            "\n",
            "Extracting ./MNIST/raw/train-labels-idx1-ubyte.gz to ./MNIST/raw\n",
            "\n",
            "Downloading http://yann.lecun.com/exdb/mnist/t10k-images-idx3-ubyte.gz\n",
            "Failed to download (trying next):\n",
            "HTTP Error 503: Service Unavailable\n",
            "\n",
            "Downloading https://ossci-datasets.s3.amazonaws.com/mnist/t10k-images-idx3-ubyte.gz\n",
            "Downloading https://ossci-datasets.s3.amazonaws.com/mnist/t10k-images-idx3-ubyte.gz to ./MNIST/raw/t10k-images-idx3-ubyte.gz\n"
          ],
          "name": "stdout"
        },
        {
          "output_type": "display_data",
          "data": {
            "application/vnd.jupyter.widget-view+json": {
              "model_id": "c45501a7c2304860b0697334c2ca88df",
              "version_minor": 0,
              "version_major": 2
            },
            "text/plain": [
              "HBox(children=(FloatProgress(value=0.0, max=1648877.0), HTML(value='')))"
            ]
          },
          "metadata": {
            "tags": []
          }
        },
        {
          "output_type": "stream",
          "text": [
            "\n",
            "Extracting ./MNIST/raw/t10k-images-idx3-ubyte.gz to ./MNIST/raw\n",
            "\n",
            "Downloading http://yann.lecun.com/exdb/mnist/t10k-labels-idx1-ubyte.gz\n",
            "Failed to download (trying next):\n",
            "HTTP Error 503: Service Unavailable\n",
            "\n",
            "Downloading https://ossci-datasets.s3.amazonaws.com/mnist/t10k-labels-idx1-ubyte.gz\n",
            "Downloading https://ossci-datasets.s3.amazonaws.com/mnist/t10k-labels-idx1-ubyte.gz to ./MNIST/raw/t10k-labels-idx1-ubyte.gz\n"
          ],
          "name": "stdout"
        },
        {
          "output_type": "display_data",
          "data": {
            "application/vnd.jupyter.widget-view+json": {
              "model_id": "b17b8ac6d3bb492d95c66366ca154ce7",
              "version_minor": 0,
              "version_major": 2
            },
            "text/plain": [
              "HBox(children=(FloatProgress(value=0.0, max=4542.0), HTML(value='')))"
            ]
          },
          "metadata": {
            "tags": []
          }
        },
        {
          "output_type": "stream",
          "text": [
            "\n",
            "Extracting ./MNIST/raw/t10k-labels-idx1-ubyte.gz to ./MNIST/raw\n",
            "\n"
          ],
          "name": "stdout"
        },
        {
          "output_type": "stream",
          "text": [
            "/usr/local/lib/python3.7/dist-packages/torchvision/datasets/mnist.py:498: UserWarning: The given NumPy array is not writeable, and PyTorch does not support non-writeable tensors. This means you can write to the underlying (supposedly non-writeable) NumPy array using the tensor. You may want to copy the array to protect its data or make it writeable before converting it to a tensor. This type of warning will be suppressed for the rest of this program. (Triggered internally at  /pytorch/torch/csrc/utils/tensor_numpy.cpp:180.)\n",
            "  return torch.from_numpy(parsed.astype(m[2], copy=False)).view(*s)\n"
          ],
          "name": "stderr"
        }
      ]
    },
    {
      "cell_type": "code",
      "metadata": {
        "id": "mRkBGjAEKZM0"
      },
      "source": [
        "## network and optimizer\n",
        "if dataset == 'mnist':\n",
        "    num_inputs = 784\n",
        "elif dataset == 'cifar10':\n",
        "    num_inputs = 3072\n",
        "\n",
        "num_outputs = 10 # same for both CIFAR10 and MNIST, both have 10 classes as outputs\n",
        "\n",
        "class Net(nn.Module):\n",
        "    def __init__(self, num_inputs, num_outputs):\n",
        "        super(Net, self).__init__()\n",
        "        self.linear = nn.Linear(num_inputs, num_outputs)\n",
        "\n",
        "    def forward(self, input):\n",
        "        input = input.view(-1, num_inputs) # reshape input to batch x num_inputs\n",
        "        output = self.linear(input)\n",
        "        return output\n",
        "\n",
        "network = Net(num_inputs, num_outputs)\n",
        "optimizer = optim.SGD(network.parameters(), lr=lr)"
      ],
      "execution_count": 7,
      "outputs": []
    },
    {
      "cell_type": "code",
      "metadata": {
        "id": "3DfrCg4-Kfq6"
      },
      "source": [
        "# train and test functions\n",
        "def train(epoch):\n",
        "    network.train()\n",
        "    for batch_idx, (data, target) in enumerate(train_loader):\n",
        "        data, target = Variable(data), Variable(target)\n",
        "        optimizer.zero_grad()\n",
        "        output = network(data)\n",
        "        loss = F.cross_entropy(output, target)\n",
        "        loss.backward()\n",
        "        optimizer.step()\n",
        "        if batch_idx % 100 == 0:\n",
        "            print('Train Epoch: {} [{}/{} ({:.0f}%)]\\tLoss: {:.6f}'.format(\n",
        "                epoch, batch_idx * len(data), len(train_loader.dataset),\n",
        "                100. * batch_idx / len(train_loader), loss.item()))\n",
        "\n",
        "def test():\n",
        "    network.eval()\n",
        "    test_loss = 0\n",
        "    correct = 0\n",
        "    for data, target in test_loader:\n",
        "        #data, target = Variable(data, volatile=True), Variable(target)\n",
        "        output = network(data)\n",
        "        test_loss += F.cross_entropy(output, target, reduction='sum').item() # sum up batch loss\n",
        "        #test_loss += F.cross_entropy(output, target, sum=True).item() # sum up batch loss\n",
        "        pred = output.data.max(1, keepdim=True)[1] # get the index of the max log-probability\n",
        "        correct += pred.eq(target.data.view_as(pred)).cpu().sum()\n",
        "\n",
        "    test_loss /= len(test_loader.dataset)\n",
        "    print('\\nTest set: Average loss: {:.4f}, Accuracy: {}/{} ({:.0f}%)\\n'.format(\n",
        "        test_loss, correct, len(test_loader.dataset),\n",
        "        100. * correct / len(test_loader.dataset)))\n"
      ],
      "execution_count": 8,
      "outputs": []
    },
    {
      "cell_type": "code",
      "metadata": {
        "id": "c52XmoeCKja2",
        "colab": {
          "base_uri": "https://localhost:8080/"
        },
        "outputId": "5f6ec9c9-73bf-4c92-bd39-8ad979530387"
      },
      "source": [
        "# Training\n",
        "for i in range(1, epochs+1):\n",
        "  train(i)"
      ],
      "execution_count": 9,
      "outputs": [
        {
          "output_type": "stream",
          "text": [
            "Train Epoch: 1 [0/60000 (0%)]\tLoss: 2.448824\n",
            "Train Epoch: 1 [6400/60000 (11%)]\tLoss: 0.481633\n",
            "Train Epoch: 1 [12800/60000 (21%)]\tLoss: 0.553977\n",
            "Train Epoch: 1 [19200/60000 (32%)]\tLoss: 0.379229\n",
            "Train Epoch: 1 [25600/60000 (43%)]\tLoss: 0.467475\n",
            "Train Epoch: 1 [32000/60000 (53%)]\tLoss: 0.420106\n",
            "Train Epoch: 1 [38400/60000 (64%)]\tLoss: 0.522470\n",
            "Train Epoch: 1 [44800/60000 (75%)]\tLoss: 0.266648\n",
            "Train Epoch: 1 [51200/60000 (85%)]\tLoss: 0.242454\n",
            "Train Epoch: 1 [57600/60000 (96%)]\tLoss: 0.353549\n",
            "Train Epoch: 2 [0/60000 (0%)]\tLoss: 0.352709\n",
            "Train Epoch: 2 [6400/60000 (11%)]\tLoss: 0.445458\n",
            "Train Epoch: 2 [12800/60000 (21%)]\tLoss: 0.297902\n",
            "Train Epoch: 2 [19200/60000 (32%)]\tLoss: 0.353672\n",
            "Train Epoch: 2 [25600/60000 (43%)]\tLoss: 0.364688\n",
            "Train Epoch: 2 [32000/60000 (53%)]\tLoss: 0.447869\n",
            "Train Epoch: 2 [38400/60000 (64%)]\tLoss: 0.336214\n",
            "Train Epoch: 2 [44800/60000 (75%)]\tLoss: 0.202593\n",
            "Train Epoch: 2 [51200/60000 (85%)]\tLoss: 0.500653\n",
            "Train Epoch: 2 [57600/60000 (96%)]\tLoss: 0.370379\n",
            "Train Epoch: 3 [0/60000 (0%)]\tLoss: 0.247278\n",
            "Train Epoch: 3 [6400/60000 (11%)]\tLoss: 0.395545\n",
            "Train Epoch: 3 [12800/60000 (21%)]\tLoss: 0.328716\n",
            "Train Epoch: 3 [19200/60000 (32%)]\tLoss: 0.286608\n",
            "Train Epoch: 3 [25600/60000 (43%)]\tLoss: 0.327699\n",
            "Train Epoch: 3 [32000/60000 (53%)]\tLoss: 0.305729\n",
            "Train Epoch: 3 [38400/60000 (64%)]\tLoss: 0.262414\n",
            "Train Epoch: 3 [44800/60000 (75%)]\tLoss: 0.278940\n",
            "Train Epoch: 3 [51200/60000 (85%)]\tLoss: 0.330408\n",
            "Train Epoch: 3 [57600/60000 (96%)]\tLoss: 0.373704\n",
            "Train Epoch: 4 [0/60000 (0%)]\tLoss: 0.152579\n",
            "Train Epoch: 4 [6400/60000 (11%)]\tLoss: 0.194312\n",
            "Train Epoch: 4 [12800/60000 (21%)]\tLoss: 0.284043\n",
            "Train Epoch: 4 [19200/60000 (32%)]\tLoss: 0.413870\n",
            "Train Epoch: 4 [25600/60000 (43%)]\tLoss: 0.199436\n",
            "Train Epoch: 4 [32000/60000 (53%)]\tLoss: 0.272130\n",
            "Train Epoch: 4 [38400/60000 (64%)]\tLoss: 0.477916\n",
            "Train Epoch: 4 [44800/60000 (75%)]\tLoss: 0.281080\n",
            "Train Epoch: 4 [51200/60000 (85%)]\tLoss: 0.303093\n",
            "Train Epoch: 4 [57600/60000 (96%)]\tLoss: 0.395581\n",
            "Train Epoch: 5 [0/60000 (0%)]\tLoss: 0.276423\n",
            "Train Epoch: 5 [6400/60000 (11%)]\tLoss: 0.204816\n",
            "Train Epoch: 5 [12800/60000 (21%)]\tLoss: 0.219981\n",
            "Train Epoch: 5 [19200/60000 (32%)]\tLoss: 0.267018\n",
            "Train Epoch: 5 [25600/60000 (43%)]\tLoss: 0.334579\n",
            "Train Epoch: 5 [32000/60000 (53%)]\tLoss: 0.159828\n",
            "Train Epoch: 5 [38400/60000 (64%)]\tLoss: 0.188916\n",
            "Train Epoch: 5 [44800/60000 (75%)]\tLoss: 0.190327\n",
            "Train Epoch: 5 [51200/60000 (85%)]\tLoss: 0.403190\n",
            "Train Epoch: 5 [57600/60000 (96%)]\tLoss: 0.192063\n",
            "Train Epoch: 6 [0/60000 (0%)]\tLoss: 0.281835\n",
            "Train Epoch: 6 [6400/60000 (11%)]\tLoss: 0.293149\n",
            "Train Epoch: 6 [12800/60000 (21%)]\tLoss: 0.244767\n",
            "Train Epoch: 6 [19200/60000 (32%)]\tLoss: 0.195958\n",
            "Train Epoch: 6 [25600/60000 (43%)]\tLoss: 0.346395\n",
            "Train Epoch: 6 [32000/60000 (53%)]\tLoss: 0.202877\n",
            "Train Epoch: 6 [38400/60000 (64%)]\tLoss: 0.186705\n",
            "Train Epoch: 6 [44800/60000 (75%)]\tLoss: 0.332749\n",
            "Train Epoch: 6 [51200/60000 (85%)]\tLoss: 0.361968\n",
            "Train Epoch: 6 [57600/60000 (96%)]\tLoss: 0.576157\n",
            "Train Epoch: 7 [0/60000 (0%)]\tLoss: 0.215892\n",
            "Train Epoch: 7 [6400/60000 (11%)]\tLoss: 0.237352\n",
            "Train Epoch: 7 [12800/60000 (21%)]\tLoss: 0.130338\n",
            "Train Epoch: 7 [19200/60000 (32%)]\tLoss: 0.562570\n",
            "Train Epoch: 7 [25600/60000 (43%)]\tLoss: 0.258765\n",
            "Train Epoch: 7 [32000/60000 (53%)]\tLoss: 0.455886\n",
            "Train Epoch: 7 [38400/60000 (64%)]\tLoss: 0.253513\n",
            "Train Epoch: 7 [44800/60000 (75%)]\tLoss: 0.196596\n",
            "Train Epoch: 7 [51200/60000 (85%)]\tLoss: 0.229023\n",
            "Train Epoch: 7 [57600/60000 (96%)]\tLoss: 0.232193\n",
            "Train Epoch: 8 [0/60000 (0%)]\tLoss: 0.188671\n",
            "Train Epoch: 8 [6400/60000 (11%)]\tLoss: 0.369183\n",
            "Train Epoch: 8 [12800/60000 (21%)]\tLoss: 0.243453\n",
            "Train Epoch: 8 [19200/60000 (32%)]\tLoss: 0.284705\n",
            "Train Epoch: 8 [25600/60000 (43%)]\tLoss: 0.327639\n",
            "Train Epoch: 8 [32000/60000 (53%)]\tLoss: 0.188470\n",
            "Train Epoch: 8 [38400/60000 (64%)]\tLoss: 0.276693\n",
            "Train Epoch: 8 [44800/60000 (75%)]\tLoss: 0.299909\n",
            "Train Epoch: 8 [51200/60000 (85%)]\tLoss: 0.167974\n",
            "Train Epoch: 8 [57600/60000 (96%)]\tLoss: 0.636006\n",
            "Train Epoch: 9 [0/60000 (0%)]\tLoss: 0.351623\n",
            "Train Epoch: 9 [6400/60000 (11%)]\tLoss: 0.407461\n",
            "Train Epoch: 9 [12800/60000 (21%)]\tLoss: 0.317557\n",
            "Train Epoch: 9 [19200/60000 (32%)]\tLoss: 0.119826\n",
            "Train Epoch: 9 [25600/60000 (43%)]\tLoss: 0.248607\n",
            "Train Epoch: 9 [32000/60000 (53%)]\tLoss: 0.333499\n",
            "Train Epoch: 9 [38400/60000 (64%)]\tLoss: 0.169935\n",
            "Train Epoch: 9 [44800/60000 (75%)]\tLoss: 0.177581\n",
            "Train Epoch: 9 [51200/60000 (85%)]\tLoss: 0.255088\n",
            "Train Epoch: 9 [57600/60000 (96%)]\tLoss: 0.131113\n",
            "Train Epoch: 10 [0/60000 (0%)]\tLoss: 0.130688\n",
            "Train Epoch: 10 [6400/60000 (11%)]\tLoss: 0.212385\n",
            "Train Epoch: 10 [12800/60000 (21%)]\tLoss: 0.330395\n",
            "Train Epoch: 10 [19200/60000 (32%)]\tLoss: 0.246649\n",
            "Train Epoch: 10 [25600/60000 (43%)]\tLoss: 0.356300\n",
            "Train Epoch: 10 [32000/60000 (53%)]\tLoss: 0.205277\n",
            "Train Epoch: 10 [38400/60000 (64%)]\tLoss: 0.223097\n",
            "Train Epoch: 10 [44800/60000 (75%)]\tLoss: 0.276002\n",
            "Train Epoch: 10 [51200/60000 (85%)]\tLoss: 0.190782\n",
            "Train Epoch: 10 [57600/60000 (96%)]\tLoss: 0.137929\n"
          ],
          "name": "stdout"
        }
      ]
    },
    {
      "cell_type": "code",
      "metadata": {
        "id": "4Nfl06zkKmfX",
        "colab": {
          "base_uri": "https://localhost:8080/"
        },
        "outputId": "3ceb3929-9337-48a9-fed3-b0c5c086f7c9"
      },
      "source": [
        "# Testing\n",
        "test()"
      ],
      "execution_count": 10,
      "outputs": [
        {
          "output_type": "stream",
          "text": [
            "\n",
            "Test set: Average loss: 0.2754, Accuracy: 9196/10000 (92%)\n",
            "\n"
          ],
          "name": "stdout"
        }
      ]
    },
    {
      "cell_type": "markdown",
      "metadata": {
        "id": "_TguAK3vIgJ_"
      },
      "source": [
        "# **Answer (1):**\n"
      ]
    },
    {
      "cell_type": "code",
      "metadata": {
        "id": "gtQ-2AnnxCCE"
      },
      "source": [
        "import matplotlib.pyplot as plt\n",
        "import numpy as np\n",
        "import torchvision\n",
        "\n",
        "def imshow(img):\n",
        "    if dataset =='mnist':\n",
        "        img = img*0.3081 + 0.1307 # unnormalize\n",
        "    elif dataset == 'cifar10':\n",
        "        img = img / 2 + 0.5     # unnormalize\n",
        "    npimg = img.numpy()\n",
        "    plt.imshow(np.transpose(npimg, (1, 2, 0)))\n",
        "    plt.show()"
      ],
      "execution_count": 13,
      "outputs": []
    },
    {
      "cell_type": "code",
      "metadata": {
        "colab": {
          "base_uri": "https://localhost:8080/",
          "height": 265
        },
        "id": "Owq8OyqfxM3J",
        "outputId": "4a25f815-a1d1-41f7-8d25-b3a227cf0b1d"
      },
      "source": [
        "# get some random training images for mnist dataset\n",
        "dataiter = iter(train_loader)\n",
        "images, labels = dataiter.next()\n",
        "imshow(torchvision.utils.make_grid(images[0]))"
      ],
      "execution_count": 14,
      "outputs": [
        {
          "output_type": "display_data",
          "data": {
            "image/png": "[encoded data removed]",
            "text/plain": [
              "<Figure size 432x288 with 1 Axes>"
            ]
          },
          "metadata": {
            "tags": [],
            "needs_background": "light"
          }
        }
      ]
    },
    {
      "cell_type": "code",
      "metadata": {
        "colab": {
          "base_uri": "https://localhost:8080/",
          "height": 265
        },
        "id": "ZZ6Hw-OexWM-",
        "outputId": "3355fca2-6cf8-4629-b91c-20f15287865f"
      },
      "source": [
        "# get some random test images for mnist dataset\n",
        "dataiter = iter(test_loader)\n",
        "images, labels = dataiter.next()\n",
        "imshow(torchvision.utils.make_grid(images[0]))"
      ],
      "execution_count": 15,
      "outputs": [
        {
          "output_type": "display_data",
          "data": {
            "image/png": "[encoded data removed]",
            "text/plain": [
              "<Figure size 432x288 with 1 Axes>"
            ]
          },
          "metadata": {
            "tags": [],
            "needs_background": "light"
          }
        }
      ]
    },
    {
      "cell_type": "code",
      "metadata": {
        "id": "8vmg1UeoxchW"
      },
      "source": [
        "# get some random training images for cifar10 dataset\n",
        "dataiter = iter(train_loader)\n",
        "images, labels = dataiter.next()\n",
        "imshow(torchvision.utils.make_grid(images[0]))"
      ],
      "execution_count": null,
      "outputs": []
    },
    {
      "cell_type": "code",
      "metadata": {
        "id": "CM6ccErm5LWJ"
      },
      "source": [
        "# get some random test images for cifar10 dataset\n",
        "dataiter = iter(test_loader)\n",
        "images, labels = dataiter.next()\n",
        "imshow(torchvision.utils.make_grid(images[0]))"
      ],
      "execution_count": null,
      "outputs": []
    },
    {
      "cell_type": "markdown",
      "metadata": {
        "id": "feeFGXsqI8hP"
      },
      "source": [
        "# **Answer (2):**\n"
      ]
    },
    {
      "cell_type": "markdown",
      "metadata": {
        "id": "ylfJWCNsGCoq"
      },
      "source": [
        "## (a)"
      ]
    },
    {
      "cell_type": "code",
      "metadata": {
        "id": "erjyHuEgDXV6"
      },
      "source": [
        "# plot out the network weights as images (one for each output, of size 28 by 28) after the last epoch.\n",
        "def plot_network_weights(num_outputs, size):\n",
        "    for m in network.modules():\n",
        "        if isinstance(m, nn.Linear):           \n",
        "            imshow(torchvision.utils.make_grid(m.weight.data.cpu().view(num_outputs,1,size,size)))\n",
        "            imshow(torchvision.utils.make_grid(m.weight.data.cpu().view(num_outputs,1,size,size),normalize=True, scale_each=True))"
      ],
      "execution_count": 11,
      "outputs": []
    },
    {
      "cell_type": "code",
      "metadata": {
        "colab": {
          "base_uri": "https://localhost:8080/",
          "height": 257
        },
        "id": "7thzO-muHe2b",
        "outputId": "4b2339e6-d393-47dd-c045-ed84a5fe3cc4"
      },
      "source": [
        "plot_network_weights(10,28)"
      ],
      "execution_count": 16,
      "outputs": [
        {
          "output_type": "display_data",
          "data": {
            "image/png": "[encoded data removed]",
            "text/plain": [
              "<Figure size 432x288 with 1 Axes>"
            ]
          },
          "metadata": {
            "tags": [],
            "needs_background": "light"
          }
        },
        {
          "output_type": "display_data",
          "data": {
            "image/png": "[encoded data removed]",
            "text/plain": [
              "<Figure size 432x288 with 1 Axes>"
            ]
          },
          "metadata": {
            "tags": [],
            "needs_background": "light"
          }
        }
      ]
    },
    {
      "cell_type": "markdown",
      "metadata": {
        "id": "OR3vm3lqGFpS"
      },
      "source": [
        "## (b)"
      ]
    },
    {
      "cell_type": "code",
      "metadata": {
        "id": "2WoeoNsKHw67"
      },
      "source": [
        "from torch.utils.data.sampler import Sampler\n",
        "\n",
        "class SubsetSampler(Sampler):\n",
        "    \"\"\"Samples elements sequentially, always in the same order.\n",
        "    Arguments:\n",
        "        data_source (Dataset): dataset to sample from\n",
        "        num_samples (int): number of samples to draw\n",
        "    \"\"\"\n",
        "\n",
        "    def __init__(self, data_source, num_samples):\n",
        "        self.data_source = data_source\n",
        "        if num_samples < len(self.data_source):\n",
        "            self.num_samples = num_samples\n",
        "        else:\n",
        "            self.num_samples = len(self.data_source)\n",
        "            \n",
        "    def __iter__(self):\n",
        "        return iter(range(self.num_samples))\n",
        "\n",
        "    def __len__(self):\n",
        "        return self.num_samples"
      ],
      "execution_count": null,
      "outputs": []
    },
    {
      "cell_type": "code",
      "metadata": {
        "id": "BHnUPpwBJ9X6"
      },
      "source": [
        ""
      ],
      "execution_count": null,
      "outputs": []
    },
    {
      "cell_type": "markdown",
      "metadata": {
        "id": "en_GCPLkQ_00"
      },
      "source": [
        "# **Answer (3):**\n",
        "create needed blocks of code (and results) below"
      ]
    },
    {
      "cell_type": "markdown",
      "metadata": {
        "id": "dk4Q_EDORBX2"
      },
      "source": [
        "# **Answer (4):**\n",
        "create needed blocks of code (and results) below"
      ]
    }
  ]
}