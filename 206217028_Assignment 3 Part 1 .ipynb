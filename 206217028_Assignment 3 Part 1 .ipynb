{
  "nbformat": 4,
  "nbformat_minor": 0,
  "metadata": {
    "colab": {
      "name": "Copy of Ex3_Part_1.ipynb",
      "provenance": [],
      "collapsed_sections": [
        "5NwLQOFMMlev"
      ]
    },
    "kernelspec": {
      "name": "python3",
      "display_name": "Python 3"
    },
    "widgets": {
      "application/vnd.jupyter.widget-state+json": {
        "e060ec962a7a46648a9d94b1e0fbb130": {
          "model_module": "@jupyter-widgets/controls",
          "model_name": "HBoxModel",
          "state": {
            "_view_name": "HBoxView",
            "_dom_classes": [],
            "_model_name": "HBoxModel",
            "_view_module": "@jupyter-widgets/controls",
            "_model_module_version": "1.5.0",
            "_view_count": null,
            "_view_module_version": "1.5.0",
            "box_style": "",
            "layout": "IPY_MODEL_29b6bacbfac0404e9ec44f2a3b942010",
            "_model_module": "@jupyter-widgets/controls",
            "children": [
              "IPY_MODEL_0e83ae7c2c154e1da8a71777c71d3375",
              "IPY_MODEL_7be0c5843d3a49cbb9f3ec8dd003630c"
            ]
          }
        },
        "29b6bacbfac0404e9ec44f2a3b942010": {
          "model_module": "@jupyter-widgets/base",
          "model_name": "LayoutModel",
          "state": {
            "_view_name": "LayoutView",
            "grid_template_rows": null,
            "right": null,
            "justify_content": null,
            "_view_module": "@jupyter-widgets/base",
            "overflow": null,
            "_model_module_version": "1.2.0",
            "_view_count": null,
            "flex_flow": null,
            "width": null,
            "min_width": null,
            "border": null,
            "align_items": null,
            "bottom": null,
            "_model_module": "@jupyter-widgets/base",
            "top": null,
            "grid_column": null,
            "overflow_y": null,
            "overflow_x": null,
            "grid_auto_flow": null,
            "grid_area": null,
            "grid_template_columns": null,
            "flex": null,
            "_model_name": "LayoutModel",
            "justify_items": null,
            "grid_row": null,
            "max_height": null,
            "align_content": null,
            "visibility": null,
            "align_self": null,
            "height": null,
            "min_height": null,
            "padding": null,
            "grid_auto_rows": null,
            "grid_gap": null,
            "max_width": null,
            "order": null,
            "_view_module_version": "1.2.0",
            "grid_template_areas": null,
            "object_position": null,
            "object_fit": null,
            "grid_auto_columns": null,
            "margin": null,
            "display": null,
            "left": null
          }
        },
        "0e83ae7c2c154e1da8a71777c71d3375": {
          "model_module": "@jupyter-widgets/controls",
          "model_name": "FloatProgressModel",
          "state": {
            "_view_name": "ProgressView",
            "style": "IPY_MODEL_eb8342b3f8b7423c948bbf8f4edfa90a",
            "_dom_classes": [],
            "description": "",
            "_model_name": "FloatProgressModel",
            "bar_style": "success",
            "max": 9912422,
            "_view_module": "@jupyter-widgets/controls",
            "_model_module_version": "1.5.0",
            "value": 9912422,
            "_view_count": null,
            "_view_module_version": "1.5.0",
            "orientation": "horizontal",
            "min": 0,
            "description_tooltip": null,
            "_model_module": "@jupyter-widgets/controls",
            "layout": "IPY_MODEL_2b88930683e940c7b3655d2f6c1815d8"
          }
        },
        "7be0c5843d3a49cbb9f3ec8dd003630c": {
          "model_module": "@jupyter-widgets/controls",
          "model_name": "HTMLModel",
          "state": {
            "_view_name": "HTMLView",
            "style": "IPY_MODEL_1212abe7db65400495d541672cae5567",
            "_dom_classes": [],
            "description": "",
            "_model_name": "HTMLModel",
            "placeholder": "​",
            "_view_module": "@jupyter-widgets/controls",
            "_model_module_version": "1.5.0",
            "value": " 9913344/? [01:49&lt;00:00, 90596.93it/s]",
            "_view_count": null,
            "_view_module_version": "1.5.0",
            "description_tooltip": null,
            "_model_module": "@jupyter-widgets/controls",
            "layout": "IPY_MODEL_df751a25f4ad4b6d9f4ee3bb3cea4bf2"
          }
        },
        "eb8342b3f8b7423c948bbf8f4edfa90a": {
          "model_module": "@jupyter-widgets/controls",
          "model_name": "ProgressStyleModel",
          "state": {
            "_view_name": "StyleView",
            "_model_name": "ProgressStyleModel",
            "description_width": "initial",
            "_view_module": "@jupyter-widgets/base",
            "_model_module_version": "1.5.0",
            "_view_count": null,
            "_view_module_version": "1.2.0",
            "bar_color": null,
            "_model_module": "@jupyter-widgets/controls"
          }
        },
        "2b88930683e940c7b3655d2f6c1815d8": {
          "model_module": "@jupyter-widgets/base",
          "model_name": "LayoutModel",
          "state": {
            "_view_name": "LayoutView",
            "grid_template_rows": null,
            "right": null,
            "justify_content": null,
            "_view_module": "@jupyter-widgets/base",
            "overflow": null,
            "_model_module_version": "1.2.0",
            "_view_count": null,
            "flex_flow": null,
            "width": null,
            "min_width": null,
            "border": null,
            "align_items": null,
            "bottom": null,
            "_model_module": "@jupyter-widgets/base",
            "top": null,
            "grid_column": null,
            "overflow_y": null,
            "overflow_x": null,
            "grid_auto_flow": null,
            "grid_area": null,
            "grid_template_columns": null,
            "flex": null,
            "_model_name": "LayoutModel",
            "justify_items": null,
            "grid_row": null,
            "max_height": null,
            "align_content": null,
            "visibility": null,
            "align_self": null,
            "height": null,
            "min_height": null,
            "padding": null,
            "grid_auto_rows": null,
            "grid_gap": null,
            "max_width": null,
            "order": null,
            "_view_module_version": "1.2.0",
            "grid_template_areas": null,
            "object_position": null,
            "object_fit": null,
            "grid_auto_columns": null,
            "margin": null,
            "display": null,
            "left": null
          }
        },
        "1212abe7db65400495d541672cae5567": {
          "model_module": "@jupyter-widgets/controls",
          "model_name": "DescriptionStyleModel",
          "state": {
            "_view_name": "StyleView",
            "_model_name": "DescriptionStyleModel",
            "description_width": "",
            "_view_module": "@jupyter-widgets/base",
            "_model_module_version": "1.5.0",
            "_view_count": null,
            "_view_module_version": "1.2.0",
            "_model_module": "@jupyter-widgets/controls"
          }
        },
        "df751a25f4ad4b6d9f4ee3bb3cea4bf2": {
          "model_module": "@jupyter-widgets/base",
          "model_name": "LayoutModel",
          "state": {
            "_view_name": "LayoutView",
            "grid_template_rows": null,
            "right": null,
            "justify_content": null,
            "_view_module": "@jupyter-widgets/base",
            "overflow": null,
            "_model_module_version": "1.2.0",
            "_view_count": null,
            "flex_flow": null,
            "width": null,
            "min_width": null,
            "border": null,
            "align_items": null,
            "bottom": null,
            "_model_module": "@jupyter-widgets/base",
            "top": null,
            "grid_column": null,
            "overflow_y": null,
            "overflow_x": null,
            "grid_auto_flow": null,
            "grid_area": null,
            "grid_template_columns": null,
            "flex": null,
            "_model_name": "LayoutModel",
            "justify_items": null,
            "grid_row": null,
            "max_height": null,
            "align_content": null,
            "visibility": null,
            "align_self": null,
            "height": null,
            "min_height": null,
            "padding": null,
            "grid_auto_rows": null,
            "grid_gap": null,
            "max_width": null,
            "order": null,
            "_view_module_version": "1.2.0",
            "grid_template_areas": null,
            "object_position": null,
            "object_fit": null,
            "grid_auto_columns": null,
            "margin": null,
            "display": null,
            "left": null
          }
        },
        "50d124ccefe04453b3f3538d54200842": {
          "model_module": "@jupyter-widgets/controls",
          "model_name": "HBoxModel",
          "state": {
            "_view_name": "HBoxView",
            "_dom_classes": [],
            "_model_name": "HBoxModel",
            "_view_module": "@jupyter-widgets/controls",
            "_model_module_version": "1.5.0",
            "_view_count": null,
            "_view_module_version": "1.5.0",
            "box_style": "",
            "layout": "IPY_MODEL_b557a7289cb54445a736929236f010de",
            "_model_module": "@jupyter-widgets/controls",
            "children": [
              "IPY_MODEL_0bc5e56888a64d2bbad0d96ebb2e330e",
              "IPY_MODEL_c2c5edcff17444798f1a3e9172a97c72"
            ]
          }
        },
        "b557a7289cb54445a736929236f010de": {
          "model_module": "@jupyter-widgets/base",
          "model_name": "LayoutModel",
          "state": {
            "_view_name": "LayoutView",
            "grid_template_rows": null,
            "right": null,
            "justify_content": null,
            "_view_module": "@jupyter-widgets/base",
            "overflow": null,
            "_model_module_version": "1.2.0",
            "_view_count": null,
            "flex_flow": null,
            "width": null,
            "min_width": null,
            "border": null,
            "align_items": null,
            "bottom": null,
            "_model_module": "@jupyter-widgets/base",
            "top": null,
            "grid_column": null,
            "overflow_y": null,
            "overflow_x": null,
            "grid_auto_flow": null,
            "grid_area": null,
            "grid_template_columns": null,
            "flex": null,
            "_model_name": "LayoutModel",
            "justify_items": null,
            "grid_row": null,
            "max_height": null,
            "align_content": null,
            "visibility": null,
            "align_self": null,
            "height": null,
            "min_height": null,
            "padding": null,
            "grid_auto_rows": null,
            "grid_gap": null,
            "max_width": null,
            "order": null,
            "_view_module_version": "1.2.0",
            "grid_template_areas": null,
            "object_position": null,
            "object_fit": null,
            "grid_auto_columns": null,
            "margin": null,
            "display": null,
            "left": null
          }
        },
        "0bc5e56888a64d2bbad0d96ebb2e330e": {
          "model_module": "@jupyter-widgets/controls",
          "model_name": "FloatProgressModel",
          "state": {
            "_view_name": "ProgressView",
            "style": "IPY_MODEL_b50f5bbf4e1346368e825ba00aacdef3",
            "_dom_classes": [],
            "description": "",
            "_model_name": "FloatProgressModel",
            "bar_style": "success",
            "max": 28881,
            "_view_module": "@jupyter-widgets/controls",
            "_model_module_version": "1.5.0",
            "value": 28881,
            "_view_count": null,
            "_view_module_version": "1.5.0",
            "orientation": "horizontal",
            "min": 0,
            "description_tooltip": null,
            "_model_module": "@jupyter-widgets/controls",
            "layout": "IPY_MODEL_9d420b17922e456bb475360414808e7d"
          }
        },
        "c2c5edcff17444798f1a3e9172a97c72": {
          "model_module": "@jupyter-widgets/controls",
          "model_name": "HTMLModel",
          "state": {
            "_view_name": "HTMLView",
            "style": "IPY_MODEL_e5d1d4daccd9488a9cc26fe9217e8702",
            "_dom_classes": [],
            "description": "",
            "_model_name": "HTMLModel",
            "placeholder": "​",
            "_view_module": "@jupyter-widgets/controls",
            "_model_module_version": "1.5.0",
            "value": " 29696/? [00:04&lt;00:00, 7213.26it/s]",
            "_view_count": null,
            "_view_module_version": "1.5.0",
            "description_tooltip": null,
            "_model_module": "@jupyter-widgets/controls",
            "layout": "IPY_MODEL_2df5e93ff47d4d52889f7077f5f3c29e"
          }
        },
        "b50f5bbf4e1346368e825ba00aacdef3": {
          "model_module": "@jupyter-widgets/controls",
          "model_name": "ProgressStyleModel",
          "state": {
            "_view_name": "StyleView",
            "_model_name": "ProgressStyleModel",
            "description_width": "initial",
            "_view_module": "@jupyter-widgets/base",
            "_model_module_version": "1.5.0",
            "_view_count": null,
            "_view_module_version": "1.2.0",
            "bar_color": null,
            "_model_module": "@jupyter-widgets/controls"
          }
        },
        "9d420b17922e456bb475360414808e7d": {
          "model_module": "@jupyter-widgets/base",
          "model_name": "LayoutModel",
          "state": {
            "_view_name": "LayoutView",
            "grid_template_rows": null,
            "right": null,
            "justify_content": null,
            "_view_module": "@jupyter-widgets/base",
            "overflow": null,
            "_model_module_version": "1.2.0",
            "_view_count": null,
            "flex_flow": null,
            "width": null,
            "min_width": null,
            "border": null,
            "align_items": null,
            "bottom": null,
            "_model_module": "@jupyter-widgets/base",
            "top": null,
            "grid_column": null,
            "overflow_y": null,
            "overflow_x": null,
            "grid_auto_flow": null,
            "grid_area": null,
            "grid_template_columns": null,
            "flex": null,
            "_model_name": "LayoutModel",
            "justify_items": null,
            "grid_row": null,
            "max_height": null,
            "align_content": null,
            "visibility": null,
            "align_self": null,
            "height": null,
            "min_height": null,
            "padding": null,
            "grid_auto_rows": null,
            "grid_gap": null,
            "max_width": null,
            "order": null,
            "_view_module_version": "1.2.0",
            "grid_template_areas": null,
            "object_position": null,
            "object_fit": null,
            "grid_auto_columns": null,
            "margin": null,
            "display": null,
            "left": null
          }
        },
        "e5d1d4daccd9488a9cc26fe9217e8702": {
          "model_module": "@jupyter-widgets/controls",
          "model_name": "DescriptionStyleModel",
          "state": {
            "_view_name": "StyleView",
            "_model_name": "DescriptionStyleModel",
            "description_width": "",
            "_view_module": "@jupyter-widgets/base",
            "_model_module_version": "1.5.0",
            "_view_count": null,
            "_view_module_version": "1.2.0",
            "_model_module": "@jupyter-widgets/controls"
          }
        },
        "2df5e93ff47d4d52889f7077f5f3c29e": {
          "model_module": "@jupyter-widgets/base",
          "model_name": "LayoutModel",
          "state": {
            "_view_name": "LayoutView",
            "grid_template_rows": null,
            "right": null,
            "justify_content": null,
            "_view_module": "@jupyter-widgets/base",
            "overflow": null,
            "_model_module_version": "1.2.0",
            "_view_count": null,
            "flex_flow": null,
            "width": null,
            "min_width": null,
            "border": null,
            "align_items": null,
            "bottom": null,
            "_model_module": "@jupyter-widgets/base",
            "top": null,
            "grid_column": null,
            "overflow_y": null,
            "overflow_x": null,
            "grid_auto_flow": null,
            "grid_area": null,
            "grid_template_columns": null,
            "flex": null,
            "_model_name": "LayoutModel",
            "justify_items": null,
            "grid_row": null,
            "max_height": null,
            "align_content": null,
            "visibility": null,
            "align_self": null,
            "height": null,
            "min_height": null,
            "padding": null,
            "grid_auto_rows": null,
            "grid_gap": null,
            "max_width": null,
            "order": null,
            "_view_module_version": "1.2.0",
            "grid_template_areas": null,
            "object_position": null,
            "object_fit": null,
            "grid_auto_columns": null,
            "margin": null,
            "display": null,
            "left": null
          }
        },
        "f65247b7f6ae4ea680e7a9198068f799": {
          "model_module": "@jupyter-widgets/controls",
          "model_name": "HBoxModel",
          "state": {
            "_view_name": "HBoxView",
            "_dom_classes": [],
            "_model_name": "HBoxModel",
            "_view_module": "@jupyter-widgets/controls",
            "_model_module_version": "1.5.0",
            "_view_count": null,
            "_view_module_version": "1.5.0",
            "box_style": "",
            "layout": "IPY_MODEL_1d0af7906cf04a6ebd4503313e19fd50",
            "_model_module": "@jupyter-widgets/controls",
            "children": [
              "IPY_MODEL_e354342fab114dfea2030d42428639a7",
              "IPY_MODEL_8edbdafbd4dd4752a72e6788e96745e1"
            ]
          }
        },
        "1d0af7906cf04a6ebd4503313e19fd50": {
          "model_module": "@jupyter-widgets/base",
          "model_name": "LayoutModel",
          "state": {
            "_view_name": "LayoutView",
            "grid_template_rows": null,
            "right": null,
            "justify_content": null,
            "_view_module": "@jupyter-widgets/base",
            "overflow": null,
            "_model_module_version": "1.2.0",
            "_view_count": null,
            "flex_flow": null,
            "width": null,
            "min_width": null,
            "border": null,
            "align_items": null,
            "bottom": null,
            "_model_module": "@jupyter-widgets/base",
            "top": null,
            "grid_column": null,
            "overflow_y": null,
            "overflow_x": null,
            "grid_auto_flow": null,
            "grid_area": null,
            "grid_template_columns": null,
            "flex": null,
            "_model_name": "LayoutModel",
            "justify_items": null,
            "grid_row": null,
            "max_height": null,
            "align_content": null,
            "visibility": null,
            "align_self": null,
            "height": null,
            "min_height": null,
            "padding": null,
            "grid_auto_rows": null,
            "grid_gap": null,
            "max_width": null,
            "order": null,
            "_view_module_version": "1.2.0",
            "grid_template_areas": null,
            "object_position": null,
            "object_fit": null,
            "grid_auto_columns": null,
            "margin": null,
            "display": null,
            "left": null
          }
        },
        "e354342fab114dfea2030d42428639a7": {
          "model_module": "@jupyter-widgets/controls",
          "model_name": "FloatProgressModel",
          "state": {
            "_view_name": "ProgressView",
            "style": "IPY_MODEL_a2f65fc54cd448519ea133221ddb985e",
            "_dom_classes": [],
            "description": "",
            "_model_name": "FloatProgressModel",
            "bar_style": "success",
            "max": 1648877,
            "_view_module": "@jupyter-widgets/controls",
            "_model_module_version": "1.5.0",
            "value": 1648877,
            "_view_count": null,
            "_view_module_version": "1.5.0",
            "orientation": "horizontal",
            "min": 0,
            "description_tooltip": null,
            "_model_module": "@jupyter-widgets/controls",
            "layout": "IPY_MODEL_28d783dd0f3342de81b877f8507097fa"
          }
        },
        "8edbdafbd4dd4752a72e6788e96745e1": {
          "model_module": "@jupyter-widgets/controls",
          "model_name": "HTMLModel",
          "state": {
            "_view_name": "HTMLView",
            "style": "IPY_MODEL_51ec642b82824745affe06e8e98303f9",
            "_dom_classes": [],
            "description": "",
            "_model_name": "HTMLModel",
            "placeholder": "​",
            "_view_module": "@jupyter-widgets/controls",
            "_model_module_version": "1.5.0",
            "value": " 1649664/? [01:42&lt;00:00, 16032.56it/s]",
            "_view_count": null,
            "_view_module_version": "1.5.0",
            "description_tooltip": null,
            "_model_module": "@jupyter-widgets/controls",
            "layout": "IPY_MODEL_a5192cb7c6c84c9b8c4123b7942faf57"
          }
        },
        "a2f65fc54cd448519ea133221ddb985e": {
          "model_module": "@jupyter-widgets/controls",
          "model_name": "ProgressStyleModel",
          "state": {
            "_view_name": "StyleView",
            "_model_name": "ProgressStyleModel",
            "description_width": "initial",
            "_view_module": "@jupyter-widgets/base",
            "_model_module_version": "1.5.0",
            "_view_count": null,
            "_view_module_version": "1.2.0",
            "bar_color": null,
            "_model_module": "@jupyter-widgets/controls"
          }
        },
        "28d783dd0f3342de81b877f8507097fa": {
          "model_module": "@jupyter-widgets/base",
          "model_name": "LayoutModel",
          "state": {
            "_view_name": "LayoutView",
            "grid_template_rows": null,
            "right": null,
            "justify_content": null,
            "_view_module": "@jupyter-widgets/base",
            "overflow": null,
            "_model_module_version": "1.2.0",
            "_view_count": null,
            "flex_flow": null,
            "width": null,
            "min_width": null,
            "border": null,
            "align_items": null,
            "bottom": null,
            "_model_module": "@jupyter-widgets/base",
            "top": null,
            "grid_column": null,
            "overflow_y": null,
            "overflow_x": null,
            "grid_auto_flow": null,
            "grid_area": null,
            "grid_template_columns": null,
            "flex": null,
            "_model_name": "LayoutModel",
            "justify_items": null,
            "grid_row": null,
            "max_height": null,
            "align_content": null,
            "visibility": null,
            "align_self": null,
            "height": null,
            "min_height": null,
            "padding": null,
            "grid_auto_rows": null,
            "grid_gap": null,
            "max_width": null,
            "order": null,
            "_view_module_version": "1.2.0",
            "grid_template_areas": null,
            "object_position": null,
            "object_fit": null,
            "grid_auto_columns": null,
            "margin": null,
            "display": null,
            "left": null
          }
        },
        "51ec642b82824745affe06e8e98303f9": {
          "model_module": "@jupyter-widgets/controls",
          "model_name": "DescriptionStyleModel",
          "state": {
            "_view_name": "StyleView",
            "_model_name": "DescriptionStyleModel",
            "description_width": "",
            "_view_module": "@jupyter-widgets/base",
            "_model_module_version": "1.5.0",
            "_view_count": null,
            "_view_module_version": "1.2.0",
            "_model_module": "@jupyter-widgets/controls"
          }
        },
        "a5192cb7c6c84c9b8c4123b7942faf57": {
          "model_module": "@jupyter-widgets/base",
          "model_name": "LayoutModel",
          "state": {
            "_view_name": "LayoutView",
            "grid_template_rows": null,
            "right": null,
            "justify_content": null,
            "_view_module": "@jupyter-widgets/base",
            "overflow": null,
            "_model_module_version": "1.2.0",
            "_view_count": null,
            "flex_flow": null,
            "width": null,
            "min_width": null,
            "border": null,
            "align_items": null,
            "bottom": null,
            "_model_module": "@jupyter-widgets/base",
            "top": null,
            "grid_column": null,
            "overflow_y": null,
            "overflow_x": null,
            "grid_auto_flow": null,
            "grid_area": null,
            "grid_template_columns": null,
            "flex": null,
            "_model_name": "LayoutModel",
            "justify_items": null,
            "grid_row": null,
            "max_height": null,
            "align_content": null,
            "visibility": null,
            "align_self": null,
            "height": null,
            "min_height": null,
            "padding": null,
            "grid_auto_rows": null,
            "grid_gap": null,
            "max_width": null,
            "order": null,
            "_view_module_version": "1.2.0",
            "grid_template_areas": null,
            "object_position": null,
            "object_fit": null,
            "grid_auto_columns": null,
            "margin": null,
            "display": null,
            "left": null
          }
        },
        "49dcbdf391524fb1a75cf447f59958d5": {
          "model_module": "@jupyter-widgets/controls",
          "model_name": "HBoxModel",
          "state": {
            "_view_name": "HBoxView",
            "_dom_classes": [],
            "_model_name": "HBoxModel",
            "_view_module": "@jupyter-widgets/controls",
            "_model_module_version": "1.5.0",
            "_view_count": null,
            "_view_module_version": "1.5.0",
            "box_style": "",
            "layout": "IPY_MODEL_e20ef677b9d34a2dbbe662900d5c63b5",
            "_model_module": "@jupyter-widgets/controls",
            "children": [
              "IPY_MODEL_4c97d05446c84db3a74d8a6b12e867ee",
              "IPY_MODEL_c2faf951ee3f428da5907c731292a52b"
            ]
          }
        },
        "e20ef677b9d34a2dbbe662900d5c63b5": {
          "model_module": "@jupyter-widgets/base",
          "model_name": "LayoutModel",
          "state": {
            "_view_name": "LayoutView",
            "grid_template_rows": null,
            "right": null,
            "justify_content": null,
            "_view_module": "@jupyter-widgets/base",
            "overflow": null,
            "_model_module_version": "1.2.0",
            "_view_count": null,
            "flex_flow": null,
            "width": null,
            "min_width": null,
            "border": null,
            "align_items": null,
            "bottom": null,
            "_model_module": "@jupyter-widgets/base",
            "top": null,
            "grid_column": null,
            "overflow_y": null,
            "overflow_x": null,
            "grid_auto_flow": null,
            "grid_area": null,
            "grid_template_columns": null,
            "flex": null,
            "_model_name": "LayoutModel",
            "justify_items": null,
            "grid_row": null,
            "max_height": null,
            "align_content": null,
            "visibility": null,
            "align_self": null,
            "height": null,
            "min_height": null,
            "padding": null,
            "grid_auto_rows": null,
            "grid_gap": null,
            "max_width": null,
            "order": null,
            "_view_module_version": "1.2.0",
            "grid_template_areas": null,
            "object_position": null,
            "object_fit": null,
            "grid_auto_columns": null,
            "margin": null,
            "display": null,
            "left": null
          }
        },
        "4c97d05446c84db3a74d8a6b12e867ee": {
          "model_module": "@jupyter-widgets/controls",
          "model_name": "FloatProgressModel",
          "state": {
            "_view_name": "ProgressView",
            "style": "IPY_MODEL_761e583a25a140d0a13ae2b47a6af773",
            "_dom_classes": [],
            "description": "",
            "_model_name": "FloatProgressModel",
            "bar_style": "success",
            "max": 4542,
            "_view_module": "@jupyter-widgets/controls",
            "_model_module_version": "1.5.0",
            "value": 4542,
            "_view_count": null,
            "_view_module_version": "1.5.0",
            "orientation": "horizontal",
            "min": 0,
            "description_tooltip": null,
            "_model_module": "@jupyter-widgets/controls",
            "layout": "IPY_MODEL_fffed514133e4c57bffa630782b7a7c7"
          }
        },
        "c2faf951ee3f428da5907c731292a52b": {
          "model_module": "@jupyter-widgets/controls",
          "model_name": "HTMLModel",
          "state": {
            "_view_name": "HTMLView",
            "style": "IPY_MODEL_d900d842fdba4dd0b04e689eef8aaaf6",
            "_dom_classes": [],
            "description": "",
            "_model_name": "HTMLModel",
            "placeholder": "​",
            "_view_module": "@jupyter-widgets/controls",
            "_model_module_version": "1.5.0",
            "value": " 5120/? [00:00&lt;00:00, 5320.64it/s]",
            "_view_count": null,
            "_view_module_version": "1.5.0",
            "description_tooltip": null,
            "_model_module": "@jupyter-widgets/controls",
            "layout": "IPY_MODEL_7abbbf18c6904d468a058d9038e3f15e"
          }
        },
        "761e583a25a140d0a13ae2b47a6af773": {
          "model_module": "@jupyter-widgets/controls",
          "model_name": "ProgressStyleModel",
          "state": {
            "_view_name": "StyleView",
            "_model_name": "ProgressStyleModel",
            "description_width": "initial",
            "_view_module": "@jupyter-widgets/base",
            "_model_module_version": "1.5.0",
            "_view_count": null,
            "_view_module_version": "1.2.0",
            "bar_color": null,
            "_model_module": "@jupyter-widgets/controls"
          }
        },
        "fffed514133e4c57bffa630782b7a7c7": {
          "model_module": "@jupyter-widgets/base",
          "model_name": "LayoutModel",
          "state": {
            "_view_name": "LayoutView",
            "grid_template_rows": null,
            "right": null,
            "justify_content": null,
            "_view_module": "@jupyter-widgets/base",
            "overflow": null,
            "_model_module_version": "1.2.0",
            "_view_count": null,
            "flex_flow": null,
            "width": null,
            "min_width": null,
            "border": null,
            "align_items": null,
            "bottom": null,
            "_model_module": "@jupyter-widgets/base",
            "top": null,
            "grid_column": null,
            "overflow_y": null,
            "overflow_x": null,
            "grid_auto_flow": null,
            "grid_area": null,
            "grid_template_columns": null,
            "flex": null,
            "_model_name": "LayoutModel",
            "justify_items": null,
            "grid_row": null,
            "max_height": null,
            "align_content": null,
            "visibility": null,
            "align_self": null,
            "height": null,
            "min_height": null,
            "padding": null,
            "grid_auto_rows": null,
            "grid_gap": null,
            "max_width": null,
            "order": null,
            "_view_module_version": "1.2.0",
            "grid_template_areas": null,
            "object_position": null,
            "object_fit": null,
            "grid_auto_columns": null,
            "margin": null,
            "display": null,
            "left": null
          }
        },
        "d900d842fdba4dd0b04e689eef8aaaf6": {
          "model_module": "@jupyter-widgets/controls",
          "model_name": "DescriptionStyleModel",
          "state": {
            "_view_name": "StyleView",
            "_model_name": "DescriptionStyleModel",
            "description_width": "",
            "_view_module": "@jupyter-widgets/base",
            "_model_module_version": "1.5.0",
            "_view_count": null,
            "_view_module_version": "1.2.0",
            "_model_module": "@jupyter-widgets/controls"
          }
        },
        "7abbbf18c6904d468a058d9038e3f15e": {
          "model_module": "@jupyter-widgets/base",
          "model_name": "LayoutModel",
          "state": {
            "_view_name": "LayoutView",
            "grid_template_rows": null,
            "right": null,
            "justify_content": null,
            "_view_module": "@jupyter-widgets/base",
            "overflow": null,
            "_model_module_version": "1.2.0",
            "_view_count": null,
            "flex_flow": null,
            "width": null,
            "min_width": null,
            "border": null,
            "align_items": null,
            "bottom": null,
            "_model_module": "@jupyter-widgets/base",
            "top": null,
            "grid_column": null,
            "overflow_y": null,
            "overflow_x": null,
            "grid_auto_flow": null,
            "grid_area": null,
            "grid_template_columns": null,
            "flex": null,
            "_model_name": "LayoutModel",
            "justify_items": null,
            "grid_row": null,
            "max_height": null,
            "align_content": null,
            "visibility": null,
            "align_self": null,
            "height": null,
            "min_height": null,
            "padding": null,
            "grid_auto_rows": null,
            "grid_gap": null,
            "max_width": null,
            "order": null,
            "_view_module_version": "1.2.0",
            "grid_template_areas": null,
            "object_position": null,
            "object_fit": null,
            "grid_auto_columns": null,
            "margin": null,
            "display": null,
            "left": null
          }
        },
        "ae6d0e7b074e4f5c8a22269a0d01a605": {
          "model_module": "@jupyter-widgets/controls",
          "model_name": "HBoxModel",
          "state": {
            "_view_name": "HBoxView",
            "_dom_classes": [],
            "_model_name": "HBoxModel",
            "_view_module": "@jupyter-widgets/controls",
            "_model_module_version": "1.5.0",
            "_view_count": null,
            "_view_module_version": "1.5.0",
            "box_style": "",
            "layout": "IPY_MODEL_74e8bcca88ed4e1fa4560ff2176084dd",
            "_model_module": "@jupyter-widgets/controls",
            "children": [
              "IPY_MODEL_2102108fd977445598937a4d0d78beba",
              "IPY_MODEL_8e4ea2d429424f5cb508dfc801d8d1fe"
            ]
          }
        },
        "74e8bcca88ed4e1fa4560ff2176084dd": {
          "model_module": "@jupyter-widgets/base",
          "model_name": "LayoutModel",
          "state": {
            "_view_name": "LayoutView",
            "grid_template_rows": null,
            "right": null,
            "justify_content": null,
            "_view_module": "@jupyter-widgets/base",
            "overflow": null,
            "_model_module_version": "1.2.0",
            "_view_count": null,
            "flex_flow": null,
            "width": null,
            "min_width": null,
            "border": null,
            "align_items": null,
            "bottom": null,
            "_model_module": "@jupyter-widgets/base",
            "top": null,
            "grid_column": null,
            "overflow_y": null,
            "overflow_x": null,
            "grid_auto_flow": null,
            "grid_area": null,
            "grid_template_columns": null,
            "flex": null,
            "_model_name": "LayoutModel",
            "justify_items": null,
            "grid_row": null,
            "max_height": null,
            "align_content": null,
            "visibility": null,
            "align_self": null,
            "height": null,
            "min_height": null,
            "padding": null,
            "grid_auto_rows": null,
            "grid_gap": null,
            "max_width": null,
            "order": null,
            "_view_module_version": "1.2.0",
            "grid_template_areas": null,
            "object_position": null,
            "object_fit": null,
            "grid_auto_columns": null,
            "margin": null,
            "display": null,
            "left": null
          }
        },
        "2102108fd977445598937a4d0d78beba": {
          "model_module": "@jupyter-widgets/controls",
          "model_name": "FloatProgressModel",
          "state": {
            "_view_name": "ProgressView",
            "style": "IPY_MODEL_aa20a6dac7df4a7683f5156ecc839e5b",
            "_dom_classes": [],
            "description": "",
            "_model_name": "FloatProgressModel",
            "bar_style": "success",
            "max": 170498071,
            "_view_module": "@jupyter-widgets/controls",
            "_model_module_version": "1.5.0",
            "value": 170498071,
            "_view_count": null,
            "_view_module_version": "1.5.0",
            "orientation": "horizontal",
            "min": 0,
            "description_tooltip": null,
            "_model_module": "@jupyter-widgets/controls",
            "layout": "IPY_MODEL_85efb9aca5e14519af3a52df754550b3"
          }
        },
        "8e4ea2d429424f5cb508dfc801d8d1fe": {
          "model_module": "@jupyter-widgets/controls",
          "model_name": "HTMLModel",
          "state": {
            "_view_name": "HTMLView",
            "style": "IPY_MODEL_062b16e65b7741cfb70ce890a276ab11",
            "_dom_classes": [],
            "description": "",
            "_model_name": "HTMLModel",
            "placeholder": "​",
            "_view_module": "@jupyter-widgets/controls",
            "_model_module_version": "1.5.0",
            "value": " 170499072/? [00:15&lt;00:00, 10685379.29it/s]",
            "_view_count": null,
            "_view_module_version": "1.5.0",
            "description_tooltip": null,
            "_model_module": "@jupyter-widgets/controls",
            "layout": "IPY_MODEL_ebc96fd0201b48b2b5b238495430af1b"
          }
        },
        "aa20a6dac7df4a7683f5156ecc839e5b": {
          "model_module": "@jupyter-widgets/controls",
          "model_name": "ProgressStyleModel",
          "state": {
            "_view_name": "StyleView",
            "_model_name": "ProgressStyleModel",
            "description_width": "initial",
            "_view_module": "@jupyter-widgets/base",
            "_model_module_version": "1.5.0",
            "_view_count": null,
            "_view_module_version": "1.2.0",
            "bar_color": null,
            "_model_module": "@jupyter-widgets/controls"
          }
        },
        "85efb9aca5e14519af3a52df754550b3": {
          "model_module": "@jupyter-widgets/base",
          "model_name": "LayoutModel",
          "state": {
            "_view_name": "LayoutView",
            "grid_template_rows": null,
            "right": null,
            "justify_content": null,
            "_view_module": "@jupyter-widgets/base",
            "overflow": null,
            "_model_module_version": "1.2.0",
            "_view_count": null,
            "flex_flow": null,
            "width": null,
            "min_width": null,
            "border": null,
            "align_items": null,
            "bottom": null,
            "_model_module": "@jupyter-widgets/base",
            "top": null,
            "grid_column": null,
            "overflow_y": null,
            "overflow_x": null,
            "grid_auto_flow": null,
            "grid_area": null,
            "grid_template_columns": null,
            "flex": null,
            "_model_name": "LayoutModel",
            "justify_items": null,
            "grid_row": null,
            "max_height": null,
            "align_content": null,
            "visibility": null,
            "align_self": null,
            "height": null,
            "min_height": null,
            "padding": null,
            "grid_auto_rows": null,
            "grid_gap": null,
            "max_width": null,
            "order": null,
            "_view_module_version": "1.2.0",
            "grid_template_areas": null,
            "object_position": null,
            "object_fit": null,
            "grid_auto_columns": null,
            "margin": null,
            "display": null,
            "left": null
          }
        },
        "062b16e65b7741cfb70ce890a276ab11": {
          "model_module": "@jupyter-widgets/controls",
          "model_name": "DescriptionStyleModel",
          "state": {
            "_view_name": "StyleView",
            "_model_name": "DescriptionStyleModel",
            "description_width": "",
            "_view_module": "@jupyter-widgets/base",
            "_model_module_version": "1.5.0",
            "_view_count": null,
            "_view_module_version": "1.2.0",
            "_model_module": "@jupyter-widgets/controls"
          }
        },
        "ebc96fd0201b48b2b5b238495430af1b": {
          "model_module": "@jupyter-widgets/base",
          "model_name": "LayoutModel",
          "state": {
            "_view_name": "LayoutView",
            "grid_template_rows": null,
            "right": null,
            "justify_content": null,
            "_view_module": "@jupyter-widgets/base",
            "overflow": null,
            "_model_module_version": "1.2.0",
            "_view_count": null,
            "flex_flow": null,
            "width": null,
            "min_width": null,
            "border": null,
            "align_items": null,
            "bottom": null,
            "_model_module": "@jupyter-widgets/base",
            "top": null,
            "grid_column": null,
            "overflow_y": null,
            "overflow_x": null,
            "grid_auto_flow": null,
            "grid_area": null,
            "grid_template_columns": null,
            "flex": null,
            "_model_name": "LayoutModel",
            "justify_items": null,
            "grid_row": null,
            "max_height": null,
            "align_content": null,
            "visibility": null,
            "align_self": null,
            "height": null,
            "min_height": null,
            "padding": null,
            "grid_auto_rows": null,
            "grid_gap": null,
            "max_width": null,
            "order": null,
            "_view_module_version": "1.2.0",
            "grid_template_areas": null,
            "object_position": null,
            "object_fit": null,
            "grid_auto_columns": null,
            "margin": null,
            "display": null,
            "left": null
          }
        }
      }
    }
  },
  "cells": [
    {
      "cell_type": "markdown",
      "metadata": {
        "id": "5NwLQOFMMlev"
      },
      "source": [
        "# Computer Vision: Assignment 3 Part 1 - Some CNN Basics [40%]\n",
        "\n",
        "Spring 2021 semester.\n",
        "\n",
        "Due date: **July 19th 2021.**\n",
        "\n",
        "## Introduction\n",
        "\n",
        "This question is an introduction to using PyTorch for training simple neural net models. \n",
        "\n",
        "Two different datasets will be used: \n",
        "- MNIST digits [handwritten digits]\n",
        "- CIFAR-10 [32x32 resolution color images of 10 object classes].\n",
        "\n",
        "## Requirements\n",
        "\n",
        "Perform this assignment in PyTorch, modifying the baseline code, producing outputs and adding required explanations - *all within this ipython notebook*.\n",
        "\n",
        "Finally, submit this iPython notebook, including outputs, as an .ipynb file (exact submission guidelines will be given in the next couple of days). \n",
        "\n",
        "## Question (1): Warmup [5%]\n",
        "\n",
        "It is always good practice to visually inspect your data before trying to train a model, since it lets you check for problems and get a feel for the task at hand.\n",
        "\n",
        "MNIST is a dataset of 70,000 grayscale hand-written digits (0 through 9).\n",
        "60,000 of these are training images. 10,000 are a held out test set. \n",
        "\n",
        "CIFAR-10 is a dataset of 60,000 color images (32 by 32 resolution) across 10 classes (airplane, automobile, bird, cat, deer, dog, frog, horse, ship, truck). \n",
        "The train/test split is 50k/10k.\n",
        "\n",
        "**a)**  Use `matplotlib` and ipython notebook's visualization capabilities to display one train and one test image of each class, for each of the two datasets.\n",
        "[See this PyTorch tutorial page](http://pytorch.org/tutorials/beginner/blitz/cifar10_tutorial.html#sphx-glr-beginner-blitz-cifar10-tutorial-py) for hints on how to achieve this.\n",
        "\n",
        "** Relevant Cell: \"Data Loading\" **\n",
        "\n",
        "## Question (2): Training a Single Layer Network on MNIST [10%]\n",
        "\n",
        "Start by running the training on MNIST. By default if you run this notebook successfully, it will train on MNIST.\n",
        "\n",
        "This will initialize a single layer model train it on the 60,000 MNIST training images for 10 epochs (passes through the training data). \n",
        "\n",
        "The loss function [cross_entropy](http://pytorch.org/docs/master/nn.html?highlight=cross_entropy#torch.nn.functional.cross_entropy) computes a Logarithm of the Softmax on the output of the neural network, and then computes the negative log-likelihood w.r.t. the given `target`.\n",
        "\n",
        "The default values for the learning rate, batch size and number of epochs are given in the \"options\" cell of this notebook. Unless otherwise specified, use the default values throughout this assignment. \n",
        "\n",
        "Note the decrease in training loss and corresponding decrease in validation errors.\n",
        "\n",
        "**a)** Add code to plot out the network weights as images (one for each output, of size 28 by 28) after the last epoch. (Hint threads: [#1](https://discuss.pytorch.org/t/understanding-deep-network-visualize-weights/2060/2?u=smth) [#2](https://github.com/pytorch/vision#utils) )\n",
        "\n",
        "**b)** Reduce the number of training examples to just 50. [Hint: limit the iterator in the `train` function]. \n",
        "Paste the output into your report and explain what is happening to the model.\n",
        "\n",
        "## Question (3): Training a Multi-Layer Network on MNIST [10%]\n",
        "\n",
        "**a)**  Add an extra layer to the network with 1000 hidden units and a `tanh` non-linearity. [Hint: modify the `Net` class] and train the model for 10 epochs.\n",
        "\n",
        "**b)**   Now set the learning rate to 10 and retrain. Give a brief explanation to the observed results.\n",
        "\n",
        "## Question (4): Training a Convolutional Network on CIFAR [15%]\n",
        "\n",
        "To change over to the CIFAR-10 dataset, change the `options` cell's `dataset` variable to `'cifar10'`.\n",
        "\n",
        "- Create a convolutional network with the following architecture:\n",
        "  - Convolution with 5 by 5 filters, 16 feature maps + Tanh nonlinearity.\n",
        "  - 2 by 2 max pooling (non-overlapping).\n",
        "  - Convolution with 5 by 5 filters, 128 feature maps + Tanh nonlinearity.\n",
        "  - 2 by 2 max pooling (non-overlapping).\n",
        "  - Flatten to vector.\n",
        "  - Linear layer with 64 hidden units + Tanh nonlinearity.\n",
        "  - Linear layer to 10 output units.\n",
        "\n",
        "**a)** Train it for 20 epochs on the CIFAR-10 training set and Visualize the first layer filters.\n",
        "\n",
        "Hints: [Follow the first PyTorch tutorial](http://pytorch.org/tutorials/beginner/blitz/neural_networks_tutorial.html#sphx-glr-beginner-blitz-neural-networks-tutorial-py) or look at the [MNIST example](https://github.com/pytorch/examples/tree/master/mnist)\n",
        "\n",
        "**b)**  Give a breakdown of the number of parameters within the above model, as well as the overall number."
      ]
    },
    {
      "cell_type": "markdown",
      "metadata": {
        "id": "69bRRf3hIHQo"
      },
      "source": [
        "# ***Example Code***"
      ]
    },
    {
      "cell_type": "code",
      "metadata": {
        "id": "CrnqiscEKGWv"
      },
      "source": [
        "# imports\n",
        "from __future__ import print_function\n",
        "import argparse\n",
        "import torch\n",
        "import torch.nn as nn\n",
        "import torch.nn.functional as F\n",
        "import torch.optim as optim\n",
        "from torchvision import datasets, transforms\n",
        "from torch.autograd import Variable"
      ],
      "execution_count": 1,
      "outputs": []
    },
    {
      "cell_type": "code",
      "metadata": {
        "id": "V0NBWksLKRD7"
      },
      "source": [
        "# options\n",
        "dataset = 'mnist' # options: 'mnist' | 'cifar10'\n",
        "batch_size = 64   # input batch size for training\n",
        "epochs = 10       # number of epochs to train\n",
        "lr = 0.01        # learning rate"
      ],
      "execution_count": 2,
      "outputs": []
    },
    {
      "cell_type": "code",
      "metadata": {
        "id": "ab7pqvGUKVVf",
        "colab": {
          "base_uri": "https://localhost:8080/",
          "height": 760,
          "referenced_widgets": [
            "e060ec962a7a46648a9d94b1e0fbb130",
            "29b6bacbfac0404e9ec44f2a3b942010",
            "0e83ae7c2c154e1da8a71777c71d3375",
            "7be0c5843d3a49cbb9f3ec8dd003630c",
            "eb8342b3f8b7423c948bbf8f4edfa90a",
            "2b88930683e940c7b3655d2f6c1815d8",
            "1212abe7db65400495d541672cae5567",
            "df751a25f4ad4b6d9f4ee3bb3cea4bf2",
            "50d124ccefe04453b3f3538d54200842",
            "b557a7289cb54445a736929236f010de",
            "0bc5e56888a64d2bbad0d96ebb2e330e",
            "c2c5edcff17444798f1a3e9172a97c72",
            "b50f5bbf4e1346368e825ba00aacdef3",
            "9d420b17922e456bb475360414808e7d",
            "e5d1d4daccd9488a9cc26fe9217e8702",
            "2df5e93ff47d4d52889f7077f5f3c29e",
            "f65247b7f6ae4ea680e7a9198068f799",
            "1d0af7906cf04a6ebd4503313e19fd50",
            "e354342fab114dfea2030d42428639a7",
            "8edbdafbd4dd4752a72e6788e96745e1",
            "a2f65fc54cd448519ea133221ddb985e",
            "28d783dd0f3342de81b877f8507097fa",
            "51ec642b82824745affe06e8e98303f9",
            "a5192cb7c6c84c9b8c4123b7942faf57",
            "49dcbdf391524fb1a75cf447f59958d5",
            "e20ef677b9d34a2dbbe662900d5c63b5",
            "4c97d05446c84db3a74d8a6b12e867ee",
            "c2faf951ee3f428da5907c731292a52b",
            "761e583a25a140d0a13ae2b47a6af773",
            "fffed514133e4c57bffa630782b7a7c7",
            "d900d842fdba4dd0b04e689eef8aaaf6",
            "7abbbf18c6904d468a058d9038e3f15e"
          ]
        },
        "outputId": "833b2f06-b175-41dc-c024-306327233ebe"
      },
      "source": [
        "# Data Loading\n",
        "# Warning: this cell might take some time when you run it for the first time, \n",
        "#          because it will download the datasets from the internet\n",
        "if dataset == 'mnist':\n",
        "    data_transform = transforms.Compose([\n",
        "        transforms.ToTensor(),\n",
        "        transforms.Normalize((0.1307,), (0.3081,))\n",
        "    ])\n",
        "    trainset = datasets.MNIST(root='.', train=True, download=True, transform=data_transform)\n",
        "    testset = datasets.MNIST(root='.', train=False, download=True, transform=data_transform)\n",
        "\n",
        "elif dataset == 'cifar10':\n",
        "    data_transform = transforms.Compose([\n",
        "        transforms.ToTensor(),\n",
        "        transforms.Normalize((0.5, 0.5, 0.5), (0.5, 0.5, 0.5)),\n",
        "    ])\n",
        "    trainset = datasets.CIFAR10(root='.', train=True, download=True, transform=data_transform)\n",
        "    testset = datasets.CIFAR10(root='.', train=False, download=True, transform=data_transform)\n",
        "\n",
        "train_loader = torch.utils.data.DataLoader(trainset, batch_size=batch_size, shuffle=True, num_workers=0)\n",
        "test_loader  = torch.utils.data.DataLoader(testset, batch_size=batch_size, shuffle=False, num_workers=0)"
      ],
      "execution_count": 3,
      "outputs": [
        {
          "output_type": "stream",
          "text": [
            "Downloading http://yann.lecun.com/exdb/mnist/train-images-idx3-ubyte.gz\n",
            "Downloading http://yann.lecun.com/exdb/mnist/train-images-idx3-ubyte.gz to ./MNIST/raw/train-images-idx3-ubyte.gz\n",
            "Failed to download (trying next):\n",
            "HTTP Error 503: Service Unavailable\n",
            "\n",
            "Downloading https://ossci-datasets.s3.amazonaws.com/mnist/train-images-idx3-ubyte.gz\n",
            "Downloading https://ossci-datasets.s3.amazonaws.com/mnist/train-images-idx3-ubyte.gz to ./MNIST/raw/train-images-idx3-ubyte.gz\n"
          ],
          "name": "stdout"
        },
        {
          "output_type": "display_data",
          "data": {
            "application/vnd.jupyter.widget-view+json": {
              "model_id": "e060ec962a7a46648a9d94b1e0fbb130",
              "version_minor": 0,
              "version_major": 2
            },
            "text/plain": [
              "HBox(children=(FloatProgress(value=0.0, max=9912422.0), HTML(value='')))"
            ]
          },
          "metadata": {
            "tags": []
          }
        },
        {
          "output_type": "stream",
          "text": [
            "\n",
            "Extracting ./MNIST/raw/train-images-idx3-ubyte.gz to ./MNIST/raw\n",
            "\n",
            "Downloading http://yann.lecun.com/exdb/mnist/train-labels-idx1-ubyte.gz\n",
            "Downloading http://yann.lecun.com/exdb/mnist/train-labels-idx1-ubyte.gz to ./MNIST/raw/train-labels-idx1-ubyte.gz\n"
          ],
          "name": "stdout"
        },
        {
          "output_type": "display_data",
          "data": {
            "application/vnd.jupyter.widget-view+json": {
              "model_id": "50d124ccefe04453b3f3538d54200842",
              "version_minor": 0,
              "version_major": 2
            },
            "text/plain": [
              "HBox(children=(FloatProgress(value=0.0, max=28881.0), HTML(value='')))"
            ]
          },
          "metadata": {
            "tags": []
          }
        },
        {
          "output_type": "stream",
          "text": [
            "\n",
            "Extracting ./MNIST/raw/train-labels-idx1-ubyte.gz to ./MNIST/raw\n",
            "\n",
            "Downloading http://yann.lecun.com/exdb/mnist/t10k-images-idx3-ubyte.gz\n",
            "Downloading http://yann.lecun.com/exdb/mnist/t10k-images-idx3-ubyte.gz to ./MNIST/raw/t10k-images-idx3-ubyte.gz\n",
            "Failed to download (trying next):\n",
            "HTTP Error 503: Service Unavailable\n",
            "\n",
            "Downloading https://ossci-datasets.s3.amazonaws.com/mnist/t10k-images-idx3-ubyte.gz\n",
            "Downloading https://ossci-datasets.s3.amazonaws.com/mnist/t10k-images-idx3-ubyte.gz to ./MNIST/raw/t10k-images-idx3-ubyte.gz\n"
          ],
          "name": "stdout"
        },
        {
          "output_type": "display_data",
          "data": {
            "application/vnd.jupyter.widget-view+json": {
              "model_id": "f65247b7f6ae4ea680e7a9198068f799",
              "version_minor": 0,
              "version_major": 2
            },
            "text/plain": [
              "HBox(children=(FloatProgress(value=0.0, max=1648877.0), HTML(value='')))"
            ]
          },
          "metadata": {
            "tags": []
          }
        },
        {
          "output_type": "stream",
          "text": [
            "\n",
            "Extracting ./MNIST/raw/t10k-images-idx3-ubyte.gz to ./MNIST/raw\n",
            "\n",
            "Downloading http://yann.lecun.com/exdb/mnist/t10k-labels-idx1-ubyte.gz\n",
            "Downloading http://yann.lecun.com/exdb/mnist/t10k-labels-idx1-ubyte.gz to ./MNIST/raw/t10k-labels-idx1-ubyte.gz\n"
          ],
          "name": "stdout"
        },
        {
          "output_type": "display_data",
          "data": {
            "application/vnd.jupyter.widget-view+json": {
              "model_id": "49dcbdf391524fb1a75cf447f59958d5",
              "version_minor": 0,
              "version_major": 2
            },
            "text/plain": [
              "HBox(children=(FloatProgress(value=0.0, max=4542.0), HTML(value='')))"
            ]
          },
          "metadata": {
            "tags": []
          }
        },
        {
          "output_type": "stream",
          "text": [
            "\n",
            "Extracting ./MNIST/raw/t10k-labels-idx1-ubyte.gz to ./MNIST/raw\n",
            "\n"
          ],
          "name": "stdout"
        },
        {
          "output_type": "stream",
          "text": [
            "/usr/local/lib/python3.7/dist-packages/torchvision/datasets/mnist.py:498: UserWarning: The given NumPy array is not writeable, and PyTorch does not support non-writeable tensors. This means you can write to the underlying (supposedly non-writeable) NumPy array using the tensor. You may want to copy the array to protect its data or make it writeable before converting it to a tensor. This type of warning will be suppressed for the rest of this program. (Triggered internally at  /pytorch/torch/csrc/utils/tensor_numpy.cpp:180.)\n",
            "  return torch.from_numpy(parsed.astype(m[2], copy=False)).view(*s)\n"
          ],
          "name": "stderr"
        }
      ]
    },
    {
      "cell_type": "code",
      "metadata": {
        "id": "mRkBGjAEKZM0"
      },
      "source": [
        "## network and optimizer\n",
        "if dataset == 'mnist':\n",
        "    num_inputs = 784\n",
        "elif dataset == 'cifar10':\n",
        "    num_inputs = 3072\n",
        "\n",
        "num_outputs = 10 # same for both CIFAR10 and MNIST, both have 10 classes as outputs\n",
        "\n",
        "class Net(nn.Module):\n",
        "    def __init__(self, num_inputs, num_outputs):\n",
        "        super(Net, self).__init__()\n",
        "        self.linear = nn.Linear(num_inputs, num_outputs)\n",
        "\n",
        "    def forward(self, input):\n",
        "        input = input.view(-1, num_inputs) # reshape input to batch x num_inputs\n",
        "        output = self.linear(input)\n",
        "        return output\n",
        "\n",
        "network = Net(num_inputs, num_outputs)\n",
        "optimizer = optim.SGD(network.parameters(), lr=lr)"
      ],
      "execution_count": 4,
      "outputs": []
    },
    {
      "cell_type": "code",
      "metadata": {
        "id": "3DfrCg4-Kfq6"
      },
      "source": [
        "# train and test functions\n",
        "def train(epoch):\n",
        "    network.train()\n",
        "    for batch_idx, (data, target) in enumerate(train_loader):\n",
        "        data, target = Variable(data), Variable(target)\n",
        "        optimizer.zero_grad()\n",
        "        output = network(data)\n",
        "        loss = F.cross_entropy(output, target)\n",
        "        loss.backward()\n",
        "        optimizer.step()\n",
        "        if batch_idx % 100 == 0:\n",
        "            print('Train Epoch: {} [{}/{} ({:.0f}%)]\\tLoss: {:.6f}'.format(\n",
        "                epoch, batch_idx * len(data), len(train_loader.dataset),\n",
        "                100. * batch_idx / len(train_loader), loss.item()))\n",
        "\n",
        "def test():\n",
        "    network.eval()\n",
        "    test_loss = 0\n",
        "    correct = 0\n",
        "    for data, target in test_loader:\n",
        "        #data, target = Variable(data, volatile=True), Variable(target)\n",
        "        output = network(data)\n",
        "        test_loss += F.cross_entropy(output, target, reduction='sum').item() # sum up batch loss\n",
        "        #test_loss += F.cross_entropy(output, target, sum=True).item() # sum up batch loss\n",
        "        pred = output.data.max(1, keepdim=True)[1] # get the index of the max log-probability\n",
        "        correct += pred.eq(target.data.view_as(pred)).cpu().sum()\n",
        "\n",
        "    test_loss /= len(test_loader.dataset)\n",
        "    print('\\nTest set: Average loss: {:.4f}, Accuracy: {}/{} ({:.0f}%)\\n'.format(\n",
        "        test_loss, correct, len(test_loader.dataset),\n",
        "        100. * correct / len(test_loader.dataset)))\n"
      ],
      "execution_count": 5,
      "outputs": []
    },
    {
      "cell_type": "code",
      "metadata": {
        "id": "c52XmoeCKja2",
        "colab": {
          "base_uri": "https://localhost:8080/"
        },
        "outputId": "4f60d2cc-ebfc-4482-fc0a-c4f368f18fae"
      },
      "source": [
        "# Training\n",
        "for i in range(1, epochs+1):\n",
        "  train(i)"
      ],
      "execution_count": 6,
      "outputs": [
        {
          "output_type": "stream",
          "text": [
            "Train Epoch: 1 [0/60000 (0%)]\tLoss: 2.427200\n",
            "Train Epoch: 1 [6400/60000 (11%)]\tLoss: 0.683845\n",
            "Train Epoch: 1 [12800/60000 (21%)]\tLoss: 0.532440\n",
            "Train Epoch: 1 [19200/60000 (32%)]\tLoss: 0.492337\n",
            "Train Epoch: 1 [25600/60000 (43%)]\tLoss: 0.431717\n",
            "Train Epoch: 1 [32000/60000 (53%)]\tLoss: 0.379034\n",
            "Train Epoch: 1 [38400/60000 (64%)]\tLoss: 0.281224\n",
            "Train Epoch: 1 [44800/60000 (75%)]\tLoss: 0.436926\n",
            "Train Epoch: 1 [51200/60000 (85%)]\tLoss: 0.343171\n",
            "Train Epoch: 1 [57600/60000 (96%)]\tLoss: 0.261521\n",
            "Train Epoch: 2 [0/60000 (0%)]\tLoss: 0.298623\n",
            "Train Epoch: 2 [6400/60000 (11%)]\tLoss: 0.268718\n",
            "Train Epoch: 2 [12800/60000 (21%)]\tLoss: 0.558466\n",
            "Train Epoch: 2 [19200/60000 (32%)]\tLoss: 0.461245\n",
            "Train Epoch: 2 [25600/60000 (43%)]\tLoss: 0.235825\n",
            "Train Epoch: 2 [32000/60000 (53%)]\tLoss: 0.202608\n",
            "Train Epoch: 2 [38400/60000 (64%)]\tLoss: 0.235038\n",
            "Train Epoch: 2 [44800/60000 (75%)]\tLoss: 0.327917\n",
            "Train Epoch: 2 [51200/60000 (85%)]\tLoss: 0.353679\n",
            "Train Epoch: 2 [57600/60000 (96%)]\tLoss: 0.403923\n",
            "Train Epoch: 3 [0/60000 (0%)]\tLoss: 0.342319\n",
            "Train Epoch: 3 [6400/60000 (11%)]\tLoss: 0.257623\n",
            "Train Epoch: 3 [12800/60000 (21%)]\tLoss: 0.137654\n",
            "Train Epoch: 3 [19200/60000 (32%)]\tLoss: 0.281336\n",
            "Train Epoch: 3 [25600/60000 (43%)]\tLoss: 0.354889\n",
            "Train Epoch: 3 [32000/60000 (53%)]\tLoss: 0.276263\n",
            "Train Epoch: 3 [38400/60000 (64%)]\tLoss: 0.211441\n",
            "Train Epoch: 3 [44800/60000 (75%)]\tLoss: 0.240988\n",
            "Train Epoch: 3 [51200/60000 (85%)]\tLoss: 0.496755\n",
            "Train Epoch: 3 [57600/60000 (96%)]\tLoss: 0.334593\n",
            "Train Epoch: 4 [0/60000 (0%)]\tLoss: 0.343459\n",
            "Train Epoch: 4 [6400/60000 (11%)]\tLoss: 0.257317\n",
            "Train Epoch: 4 [12800/60000 (21%)]\tLoss: 0.222823\n",
            "Train Epoch: 4 [19200/60000 (32%)]\tLoss: 0.429122\n",
            "Train Epoch: 4 [25600/60000 (43%)]\tLoss: 0.318553\n",
            "Train Epoch: 4 [32000/60000 (53%)]\tLoss: 0.192080\n",
            "Train Epoch: 4 [38400/60000 (64%)]\tLoss: 0.122957\n",
            "Train Epoch: 4 [44800/60000 (75%)]\tLoss: 0.245337\n",
            "Train Epoch: 4 [51200/60000 (85%)]\tLoss: 0.321903\n",
            "Train Epoch: 4 [57600/60000 (96%)]\tLoss: 0.398063\n",
            "Train Epoch: 5 [0/60000 (0%)]\tLoss: 0.224980\n",
            "Train Epoch: 5 [6400/60000 (11%)]\tLoss: 0.390769\n",
            "Train Epoch: 5 [12800/60000 (21%)]\tLoss: 0.343716\n",
            "Train Epoch: 5 [19200/60000 (32%)]\tLoss: 0.221570\n",
            "Train Epoch: 5 [25600/60000 (43%)]\tLoss: 0.308692\n",
            "Train Epoch: 5 [32000/60000 (53%)]\tLoss: 0.402372\n",
            "Train Epoch: 5 [38400/60000 (64%)]\tLoss: 0.326825\n",
            "Train Epoch: 5 [44800/60000 (75%)]\tLoss: 0.364418\n",
            "Train Epoch: 5 [51200/60000 (85%)]\tLoss: 0.191245\n",
            "Train Epoch: 5 [57600/60000 (96%)]\tLoss: 0.355536\n",
            "Train Epoch: 6 [0/60000 (0%)]\tLoss: 0.384327\n",
            "Train Epoch: 6 [6400/60000 (11%)]\tLoss: 0.349704\n",
            "Train Epoch: 6 [12800/60000 (21%)]\tLoss: 0.232163\n",
            "Train Epoch: 6 [19200/60000 (32%)]\tLoss: 0.200965\n",
            "Train Epoch: 6 [25600/60000 (43%)]\tLoss: 0.295033\n",
            "Train Epoch: 6 [32000/60000 (53%)]\tLoss: 0.183621\n",
            "Train Epoch: 6 [38400/60000 (64%)]\tLoss: 0.243511\n",
            "Train Epoch: 6 [44800/60000 (75%)]\tLoss: 0.322632\n",
            "Train Epoch: 6 [51200/60000 (85%)]\tLoss: 0.201015\n",
            "Train Epoch: 6 [57600/60000 (96%)]\tLoss: 0.343042\n",
            "Train Epoch: 7 [0/60000 (0%)]\tLoss: 0.205882\n",
            "Train Epoch: 7 [6400/60000 (11%)]\tLoss: 0.169984\n",
            "Train Epoch: 7 [12800/60000 (21%)]\tLoss: 0.231054\n",
            "Train Epoch: 7 [19200/60000 (32%)]\tLoss: 0.274251\n",
            "Train Epoch: 7 [25600/60000 (43%)]\tLoss: 0.283274\n",
            "Train Epoch: 7 [32000/60000 (53%)]\tLoss: 0.215198\n",
            "Train Epoch: 7 [38400/60000 (64%)]\tLoss: 0.368308\n",
            "Train Epoch: 7 [44800/60000 (75%)]\tLoss: 0.150174\n",
            "Train Epoch: 7 [51200/60000 (85%)]\tLoss: 0.250007\n",
            "Train Epoch: 7 [57600/60000 (96%)]\tLoss: 0.183518\n",
            "Train Epoch: 8 [0/60000 (0%)]\tLoss: 0.404074\n",
            "Train Epoch: 8 [6400/60000 (11%)]\tLoss: 0.385779\n",
            "Train Epoch: 8 [12800/60000 (21%)]\tLoss: 0.131086\n",
            "Train Epoch: 8 [19200/60000 (32%)]\tLoss: 0.235017\n",
            "Train Epoch: 8 [25600/60000 (43%)]\tLoss: 0.353209\n",
            "Train Epoch: 8 [32000/60000 (53%)]\tLoss: 0.288335\n",
            "Train Epoch: 8 [38400/60000 (64%)]\tLoss: 0.255460\n",
            "Train Epoch: 8 [44800/60000 (75%)]\tLoss: 0.187928\n",
            "Train Epoch: 8 [51200/60000 (85%)]\tLoss: 0.478187\n",
            "Train Epoch: 8 [57600/60000 (96%)]\tLoss: 0.225314\n",
            "Train Epoch: 9 [0/60000 (0%)]\tLoss: 0.430712\n",
            "Train Epoch: 9 [6400/60000 (11%)]\tLoss: 0.224810\n",
            "Train Epoch: 9 [12800/60000 (21%)]\tLoss: 0.562841\n",
            "Train Epoch: 9 [19200/60000 (32%)]\tLoss: 0.123994\n",
            "Train Epoch: 9 [25600/60000 (43%)]\tLoss: 0.251078\n",
            "Train Epoch: 9 [32000/60000 (53%)]\tLoss: 0.245102\n",
            "Train Epoch: 9 [38400/60000 (64%)]\tLoss: 0.286726\n",
            "Train Epoch: 9 [44800/60000 (75%)]\tLoss: 0.455524\n",
            "Train Epoch: 9 [51200/60000 (85%)]\tLoss: 0.191637\n",
            "Train Epoch: 9 [57600/60000 (96%)]\tLoss: 0.297639\n",
            "Train Epoch: 10 [0/60000 (0%)]\tLoss: 0.264566\n",
            "Train Epoch: 10 [6400/60000 (11%)]\tLoss: 0.151669\n",
            "Train Epoch: 10 [12800/60000 (21%)]\tLoss: 0.217015\n",
            "Train Epoch: 10 [19200/60000 (32%)]\tLoss: 0.271623\n",
            "Train Epoch: 10 [25600/60000 (43%)]\tLoss: 0.220281\n",
            "Train Epoch: 10 [32000/60000 (53%)]\tLoss: 0.239434\n",
            "Train Epoch: 10 [38400/60000 (64%)]\tLoss: 0.281107\n",
            "Train Epoch: 10 [44800/60000 (75%)]\tLoss: 0.184428\n",
            "Train Epoch: 10 [51200/60000 (85%)]\tLoss: 0.387717\n",
            "Train Epoch: 10 [57600/60000 (96%)]\tLoss: 0.066081\n"
          ],
          "name": "stdout"
        }
      ]
    },
    {
      "cell_type": "code",
      "metadata": {
        "id": "4Nfl06zkKmfX",
        "colab": {
          "base_uri": "https://localhost:8080/"
        },
        "outputId": "d4aade93-4925-4cbf-f1cf-f82b61d1a19e"
      },
      "source": [
        "# Testing\n",
        "test()"
      ],
      "execution_count": 7,
      "outputs": [
        {
          "output_type": "stream",
          "text": [
            "\n",
            "Test set: Average loss: 0.2766, Accuracy: 9220/10000 (92%)\n",
            "\n"
          ],
          "name": "stdout"
        }
      ]
    },
    {
      "cell_type": "markdown",
      "metadata": {
        "id": "_TguAK3vIgJ_"
      },
      "source": [
        "# **Answer (1):**\n"
      ]
    },
    {
      "cell_type": "code",
      "metadata": {
        "id": "gtQ-2AnnxCCE"
      },
      "source": [
        "import matplotlib.pyplot as plt\n",
        "import numpy as np\n",
        "import torchvision\n",
        "\n",
        "def imshow(img):\n",
        "    if dataset =='mnist':\n",
        "        img = img*0.3081 + 0.1307 # unnormalize\n",
        "    elif dataset == 'cifar10':\n",
        "        img = img / 2 + 0.5     # unnormalize\n",
        "    npimg = img.numpy()\n",
        "    plt.imshow(np.transpose(npimg, (1, 2, 0)))\n",
        "    plt.show()"
      ],
      "execution_count": 55,
      "outputs": []
    },
    {
      "cell_type": "code",
      "metadata": {
        "id": "a1rXPt9VF4fo"
      },
      "source": [
        "dataset = 'mnist'\n",
        "\n",
        "data_transform = transforms.Compose([transforms.ToTensor(),transforms.Normalize((0.1307,), (0.3081,))])\n",
        "trainset = datasets.MNIST(root='.', train=True, download=True, transform=data_transform)\n",
        "testset = datasets.MNIST(root='.', train=False, download=True, transform=data_transform)\n",
        "\n",
        "train_loader = torch.utils.data.DataLoader(trainset, batch_size=batch_size, shuffle=True, num_workers=0)\n",
        "test_loader  = torch.utils.data.DataLoader(testset, batch_size=batch_size, shuffle=False, num_workers=0)"
      ],
      "execution_count": 56,
      "outputs": []
    },
    {
      "cell_type": "code",
      "metadata": {
        "colab": {
          "base_uri": "https://localhost:8080/",
          "height": 265
        },
        "id": "Owq8OyqfxM3J",
        "outputId": "797ea77c-d894-492c-adfb-c632d884f782"
      },
      "source": [
        "# get one random training image from mnist dataset\n",
        "dataiter = iter(train_loader)\n",
        "images, labels = dataiter.next()\n",
        "imshow(torchvision.utils.make_grid(images[0]))"
      ],
      "execution_count": 57,
      "outputs": [
        {
          "output_type": "display_data",
          "data": {
            "image/png": "[encoded data removed]",
            "text/plain": [
              "<Figure size 432x288 with 1 Axes>"
            ]
          },
          "metadata": {
            "tags": [],
            "needs_background": "light"
          }
        }
      ]
    },
    {
      "cell_type": "code",
      "metadata": {
        "colab": {
          "base_uri": "https://localhost:8080/",
          "height": 265
        },
        "id": "ZZ6Hw-OexWM-",
        "outputId": "5eeb1626-4cec-4084-c561-2c3deeef72f2"
      },
      "source": [
        "# get one random test image from mnist dataset\n",
        "dataiter = iter(test_loader)\n",
        "images, labels = dataiter.next()\n",
        "imshow(torchvision.utils.make_grid(images[0]))"
      ],
      "execution_count": 58,
      "outputs": [
        {
          "output_type": "display_data",
          "data": {
            "image/png": "[encoded data removed]",
            "text/plain": [
              "<Figure size 432x288 with 1 Axes>"
            ]
          },
          "metadata": {
            "tags": [],
            "needs_background": "light"
          }
        }
      ]
    },
    {
      "cell_type": "code",
      "metadata": {
        "colab": {
          "base_uri": "https://localhost:8080/",
          "height": 123,
          "referenced_widgets": [
            "ae6d0e7b074e4f5c8a22269a0d01a605",
            "74e8bcca88ed4e1fa4560ff2176084dd",
            "2102108fd977445598937a4d0d78beba",
            "8e4ea2d429424f5cb508dfc801d8d1fe",
            "aa20a6dac7df4a7683f5156ecc839e5b",
            "85efb9aca5e14519af3a52df754550b3",
            "062b16e65b7741cfb70ce890a276ab11",
            "ebc96fd0201b48b2b5b238495430af1b"
          ]
        },
        "id": "jd_P8PyqGMiG",
        "outputId": "4641f1f4-a8b1-480a-9f44-09f626e93d02"
      },
      "source": [
        "dataset = 'cifar10'\n",
        "\n",
        "data_transform = transforms.Compose([ transforms.ToTensor(),transforms.Normalize((0.5, 0.5, 0.5), (0.5, 0.5, 0.5)),])\n",
        "trainset = datasets.CIFAR10(root='.', train=True, download=True, transform=data_transform)\n",
        "testset = datasets.CIFAR10(root='.', train=False, download=True, transform=data_transform)\n",
        "\n",
        "train_loader = torch.utils.data.DataLoader(trainset, batch_size=batch_size, shuffle=True, num_workers=0)\n",
        "test_loader  = torch.utils.data.DataLoader(testset, batch_size=batch_size, shuffle=False, num_workers=0)"
      ],
      "execution_count": 12,
      "outputs": [
        {
          "output_type": "stream",
          "text": [
            "Downloading https://www.cs.toronto.edu/~kriz/cifar-10-python.tar.gz to ./cifar-10-python.tar.gz\n"
          ],
          "name": "stdout"
        },
        {
          "output_type": "display_data",
          "data": {
            "application/vnd.jupyter.widget-view+json": {
              "model_id": "ae6d0e7b074e4f5c8a22269a0d01a605",
              "version_minor": 0,
              "version_major": 2
            },
            "text/plain": [
              "HBox(children=(FloatProgress(value=0.0, max=170498071.0), HTML(value='')))"
            ]
          },
          "metadata": {
            "tags": []
          }
        },
        {
          "output_type": "stream",
          "text": [
            "\n",
            "Extracting ./cifar-10-python.tar.gz to .\n",
            "Files already downloaded and verified\n"
          ],
          "name": "stdout"
        }
      ]
    },
    {
      "cell_type": "code",
      "metadata": {
        "id": "8vmg1UeoxchW",
        "colab": {
          "base_uri": "https://localhost:8080/",
          "height": 266
        },
        "outputId": "0d1498bc-2c2b-45c1-d18b-b96918bdbc9d"
      },
      "source": [
        "# get one random training image from cifar10 dataset\n",
        "dataiter = iter(train_loader)\n",
        "images, labels = dataiter.next()\n",
        "imshow(torchvision.utils.make_grid(images[0]))"
      ],
      "execution_count": 53,
      "outputs": [
        {
          "output_type": "display_data",
          "data": {
            "image/png": "[encoded data removed]",
            "text/plain": [
              "<Figure size 432x288 with 1 Axes>"
            ]
          },
          "metadata": {
            "tags": [],
            "needs_background": "light"
          }
        }
      ]
    },
    {
      "cell_type": "code",
      "metadata": {
        "colab": {
          "base_uri": "https://localhost:8080/",
          "height": 266
        },
        "id": "CM6ccErm5LWJ",
        "outputId": "4955b776-8bd1-4f3c-97aa-fb3c598c483e"
      },
      "source": [
        "# get one random test image from cifar10 dataset\n",
        "dataiter = iter(test_loader)\n",
        "images, labels = dataiter.next()\n",
        "imshow(torchvision.utils.make_grid(images[0]))"
      ],
      "execution_count": 14,
      "outputs": [
        {
          "output_type": "display_data",
          "data": {
            "image/png": "[encoded data removed]",
            "text/plain": [
              "<Figure size 432x288 with 1 Axes>"
            ]
          },
          "metadata": {
            "tags": [],
            "needs_background": "light"
          }
        }
      ]
    },
    {
      "cell_type": "markdown",
      "metadata": {
        "id": "feeFGXsqI8hP"
      },
      "source": [
        "# **Answer (2):**\n"
      ]
    },
    {
      "cell_type": "code",
      "metadata": {
        "id": "YAPYAPjuGdyM"
      },
      "source": [
        "dataset = 'mnist'\n",
        "\n",
        "data_transform = transforms.Compose([transforms.ToTensor(),transforms.Normalize((0.1307,), (0.3081,))])\n",
        "trainset = datasets.MNIST(root='.', train=True, download=True, transform=data_transform)\n",
        "testset = datasets.MNIST(root='.', train=False, download=True, transform=data_transform)\n",
        "\n",
        "train_loader = torch.utils.data.DataLoader(trainset, batch_size=batch_size, shuffle=True, num_workers=0)\n",
        "test_loader  = torch.utils.data.DataLoader(testset, batch_size=batch_size, shuffle=False, num_workers=0)"
      ],
      "execution_count": 15,
      "outputs": []
    },
    {
      "cell_type": "markdown",
      "metadata": {
        "id": "ylfJWCNsGCoq"
      },
      "source": [
        "## (a)"
      ]
    },
    {
      "cell_type": "code",
      "metadata": {
        "id": "erjyHuEgDXV6"
      },
      "source": [
        "# plot out the network weights as images (one for each output, of size 28 by 28) after the last epoch.\n",
        "def plot_network_weights(num_outputs, size):\n",
        "    for m in network.modules():\n",
        "        if isinstance(m, nn.Linear):           \n",
        "            imshow(torchvision.utils.make_grid(m.weight.data.cpu().view(num_outputs,1,size,size),normalize=True, scale_each=True))"
      ],
      "execution_count": 16,
      "outputs": []
    },
    {
      "cell_type": "code",
      "metadata": {
        "colab": {
          "base_uri": "https://localhost:8080/",
          "height": 137
        },
        "id": "7thzO-muHe2b",
        "outputId": "5d43a19e-444e-4973-c96e-04902cae31ad"
      },
      "source": [
        "plot_network_weights(10,28)"
      ],
      "execution_count": 17,
      "outputs": [
        {
          "output_type": "display_data",
          "data": {
            "image/png": "[encoded data removed]",
            "text/plain": [
              "<Figure size 432x288 with 1 Axes>"
            ]
          },
          "metadata": {
            "tags": [],
            "needs_background": "light"
          }
        }
      ]
    },
    {
      "cell_type": "markdown",
      "metadata": {
        "id": "OR3vm3lqGFpS"
      },
      "source": [
        "## (b)"
      ]
    },
    {
      "cell_type": "code",
      "metadata": {
        "id": "2WoeoNsKHw67"
      },
      "source": [
        "import torch.utils.data.sampler as samplers\n",
        "\n",
        "class SubsetSampler(samplers.Sampler):\n",
        "    def __init__(self, data_source, num_samples):\n",
        "        self.data_source = data_source\n",
        "        if num_samples < len(self.data_source):\n",
        "            self.num_samples = num_samples\n",
        "        else:\n",
        "            self.num_samples = len(self.data_source)\n",
        "            \n",
        "    def __iter__(self):\n",
        "        return iter(range(self.num_samples))\n",
        "\n",
        "    def __len__(self):\n",
        "        return self.num_samples"
      ],
      "execution_count": 18,
      "outputs": []
    },
    {
      "cell_type": "code",
      "metadata": {
        "id": "JVtTfbLRcmAh"
      },
      "source": [
        "examples = 50\n",
        "train_loader = torch.utils.data.DataLoader(trainset, batch_size = batch_size, shuffle = False, sampler = SubsetSampler(trainset, examples), num_workers = 0)\n",
        "test_loader  = torch.utils.data.DataLoader(testset, batch_size = batch_size, shuffle = False, sampler = SubsetSampler(testset, examples), num_workers = 0)\n",
        "\n",
        "network = Net(num_inputs, num_outputs)\n",
        "optimizer = optim.SGD(network.parameters(), lr = lr)"
      ],
      "execution_count": 19,
      "outputs": []
    },
    {
      "cell_type": "code",
      "metadata": {
        "colab": {
          "base_uri": "https://localhost:8080/"
        },
        "id": "S92kIkATg5LF",
        "outputId": "91fb53ec-8e87-4323-d48b-abc46e273db6"
      },
      "source": [
        "epochs = 70\n",
        "# Training\n",
        "for i in range(1, epochs+1):\n",
        "  train(i)"
      ],
      "execution_count": 20,
      "outputs": [
        {
          "output_type": "stream",
          "text": [
            "Train Epoch: 1 [0/60000 (0%)]\tLoss: 2.466944\n",
            "Train Epoch: 2 [0/60000 (0%)]\tLoss: 2.230295\n",
            "Train Epoch: 3 [0/60000 (0%)]\tLoss: 2.028136\n",
            "Train Epoch: 4 [0/60000 (0%)]\tLoss: 1.854823\n",
            "Train Epoch: 5 [0/60000 (0%)]\tLoss: 1.705339\n",
            "Train Epoch: 6 [0/60000 (0%)]\tLoss: 1.574916\n",
            "Train Epoch: 7 [0/60000 (0%)]\tLoss: 1.459786\n",
            "Train Epoch: 8 [0/60000 (0%)]\tLoss: 1.357350\n",
            "Train Epoch: 9 [0/60000 (0%)]\tLoss: 1.265771\n",
            "Train Epoch: 10 [0/60000 (0%)]\tLoss: 1.183615\n",
            "Train Epoch: 11 [0/60000 (0%)]\tLoss: 1.109685\n",
            "Train Epoch: 12 [0/60000 (0%)]\tLoss: 1.042952\n",
            "Train Epoch: 13 [0/60000 (0%)]\tLoss: 0.982527\n",
            "Train Epoch: 14 [0/60000 (0%)]\tLoss: 0.927644\n",
            "Train Epoch: 15 [0/60000 (0%)]\tLoss: 0.877642\n",
            "Train Epoch: 16 [0/60000 (0%)]\tLoss: 0.831953\n",
            "Train Epoch: 17 [0/60000 (0%)]\tLoss: 0.790085\n",
            "Train Epoch: 18 [0/60000 (0%)]\tLoss: 0.751617\n",
            "Train Epoch: 19 [0/60000 (0%)]\tLoss: 0.716180\n",
            "Train Epoch: 20 [0/60000 (0%)]\tLoss: 0.683456\n",
            "Train Epoch: 21 [0/60000 (0%)]\tLoss: 0.653168\n",
            "Train Epoch: 22 [0/60000 (0%)]\tLoss: 0.625072\n",
            "Train Epoch: 23 [0/60000 (0%)]\tLoss: 0.598956\n",
            "Train Epoch: 24 [0/60000 (0%)]\tLoss: 0.574631\n",
            "Train Epoch: 25 [0/60000 (0%)]\tLoss: 0.551933\n",
            "Train Epoch: 26 [0/60000 (0%)]\tLoss: 0.530714\n",
            "Train Epoch: 27 [0/60000 (0%)]\tLoss: 0.510845\n",
            "Train Epoch: 28 [0/60000 (0%)]\tLoss: 0.492209\n",
            "Train Epoch: 29 [0/60000 (0%)]\tLoss: 0.474703\n",
            "Train Epoch: 30 [0/60000 (0%)]\tLoss: 0.458234\n",
            "Train Epoch: 31 [0/60000 (0%)]\tLoss: 0.442719\n",
            "Train Epoch: 32 [0/60000 (0%)]\tLoss: 0.428083\n",
            "Train Epoch: 33 [0/60000 (0%)]\tLoss: 0.414258\n",
            "Train Epoch: 34 [0/60000 (0%)]\tLoss: 0.401184\n",
            "Train Epoch: 35 [0/60000 (0%)]\tLoss: 0.388806\n",
            "Train Epoch: 36 [0/60000 (0%)]\tLoss: 0.377072\n",
            "Train Epoch: 37 [0/60000 (0%)]\tLoss: 0.365938\n",
            "Train Epoch: 38 [0/60000 (0%)]\tLoss: 0.355362\n",
            "Train Epoch: 39 [0/60000 (0%)]\tLoss: 0.345305\n",
            "Train Epoch: 40 [0/60000 (0%)]\tLoss: 0.335734\n",
            "Train Epoch: 41 [0/60000 (0%)]\tLoss: 0.326616\n",
            "Train Epoch: 42 [0/60000 (0%)]\tLoss: 0.317921\n",
            "Train Epoch: 43 [0/60000 (0%)]\tLoss: 0.309625\n",
            "Train Epoch: 44 [0/60000 (0%)]\tLoss: 0.301700\n",
            "Train Epoch: 45 [0/60000 (0%)]\tLoss: 0.294126\n",
            "Train Epoch: 46 [0/60000 (0%)]\tLoss: 0.286880\n",
            "Train Epoch: 47 [0/60000 (0%)]\tLoss: 0.279943\n",
            "Train Epoch: 48 [0/60000 (0%)]\tLoss: 0.273298\n",
            "Train Epoch: 49 [0/60000 (0%)]\tLoss: 0.266927\n",
            "Train Epoch: 50 [0/60000 (0%)]\tLoss: 0.260815\n",
            "Train Epoch: 51 [0/60000 (0%)]\tLoss: 0.254948\n",
            "Train Epoch: 52 [0/60000 (0%)]\tLoss: 0.249312\n",
            "Train Epoch: 53 [0/60000 (0%)]\tLoss: 0.243895\n",
            "Train Epoch: 54 [0/60000 (0%)]\tLoss: 0.238685\n",
            "Train Epoch: 55 [0/60000 (0%)]\tLoss: 0.233671\n",
            "Train Epoch: 56 [0/60000 (0%)]\tLoss: 0.228843\n",
            "Train Epoch: 57 [0/60000 (0%)]\tLoss: 0.224192\n",
            "Train Epoch: 58 [0/60000 (0%)]\tLoss: 0.219708\n",
            "Train Epoch: 59 [0/60000 (0%)]\tLoss: 0.215384\n",
            "Train Epoch: 60 [0/60000 (0%)]\tLoss: 0.211212\n",
            "Train Epoch: 61 [0/60000 (0%)]\tLoss: 0.207183\n",
            "Train Epoch: 62 [0/60000 (0%)]\tLoss: 0.203292\n",
            "Train Epoch: 63 [0/60000 (0%)]\tLoss: 0.199532\n",
            "Train Epoch: 64 [0/60000 (0%)]\tLoss: 0.195897\n",
            "Train Epoch: 65 [0/60000 (0%)]\tLoss: 0.192381\n",
            "Train Epoch: 66 [0/60000 (0%)]\tLoss: 0.188979\n",
            "Train Epoch: 67 [0/60000 (0%)]\tLoss: 0.185685\n",
            "Train Epoch: 68 [0/60000 (0%)]\tLoss: 0.182495\n",
            "Train Epoch: 69 [0/60000 (0%)]\tLoss: 0.179404\n",
            "Train Epoch: 70 [0/60000 (0%)]\tLoss: 0.176408\n"
          ],
          "name": "stdout"
        }
      ]
    },
    {
      "cell_type": "code",
      "metadata": {
        "colab": {
          "base_uri": "https://localhost:8080/"
        },
        "id": "HNa9feGYg_gt",
        "outputId": "d57d836e-b0a5-48a5-b7d2-cc6af6545fd3"
      },
      "source": [
        "# Testing\n",
        "test()"
      ],
      "execution_count": 21,
      "outputs": [
        {
          "output_type": "stream",
          "text": [
            "\n",
            "Test set: Average loss: 0.0058, Accuracy: 33/10000 (0%)\n",
            "\n"
          ],
          "name": "stdout"
        }
      ]
    },
    {
      "cell_type": "code",
      "metadata": {
        "colab": {
          "base_uri": "https://localhost:8080/",
          "height": 137
        },
        "id": "ZQHLkVc6hE4S",
        "outputId": "2f552a42-9e75-488f-c475-dc2d9f0fb085"
      },
      "source": [
        "plot_network_weights(10,28)"
      ],
      "execution_count": 22,
      "outputs": [
        {
          "output_type": "display_data",
          "data": {
            "image/png": "[encoded data removed]",
            "text/plain": [
              "<Figure size 432x288 with 1 Axes>"
            ]
          },
          "metadata": {
            "tags": [],
            "needs_background": "light"
          }
        }
      ]
    },
    {
      "cell_type": "markdown",
      "metadata": {
        "id": "en_GCPLkQ_00"
      },
      "source": [
        "# **Answer (3):**\n"
      ]
    },
    {
      "cell_type": "markdown",
      "metadata": {
        "id": "VjRV3TSi_iez"
      },
      "source": [
        "## (a) "
      ]
    },
    {
      "cell_type": "code",
      "metadata": {
        "id": "QyinTKo6_hnx"
      },
      "source": [
        "train_loader = torch.utils.data.DataLoader(trainset, batch_size = batch_size, shuffle = True, num_workers = 0)\n",
        "test_loader  = torch.utils.data.DataLoader(testset, batch_size = batch_size, shuffle = False, num_workers = 0)"
      ],
      "execution_count": 23,
      "outputs": []
    },
    {
      "cell_type": "code",
      "metadata": {
        "id": "Eb9-Ic0kAt42"
      },
      "source": [
        "class Net(nn.Module):\n",
        "    def __init__(self, num_inputs, num_outputs, H):\n",
        "        super(Net, self).__init__()\n",
        "        self.fc1 = nn.Linear(num_inputs, H)\n",
        "        self.fc2 = nn.Linear(H, num_outputs)\n",
        "\n",
        "    def forward(self, x):\n",
        "        x = x.view(-1, num_inputs) # reshape input to batch x num_inputs\n",
        "        x = self.fc1(x)\n",
        "        x = torch.tanh(x)\n",
        "        x = self.fc2(x)\n",
        "        return x"
      ],
      "execution_count": 24,
      "outputs": []
    },
    {
      "cell_type": "code",
      "metadata": {
        "id": "mxRy5ZvsAuMl"
      },
      "source": [
        "#Network with 1000 hidden units and a tanh non-linearity. \n",
        "network = Net(num_inputs, num_outputs, 1000)\n",
        "optimizer = optim.SGD(network.parameters(), lr=lr)"
      ],
      "execution_count": 25,
      "outputs": []
    },
    {
      "cell_type": "code",
      "metadata": {
        "colab": {
          "base_uri": "https://localhost:8080/"
        },
        "id": "1XD_UqpDA8My",
        "outputId": "0f9be477-3c51-4bdc-b22c-834bb4836809"
      },
      "source": [
        "#Train the model for 10 epochs\n",
        "epochs = 10\n",
        "# Training\n",
        "for i in range(1, epochs+1):\n",
        "  train(i)"
      ],
      "execution_count": 26,
      "outputs": [
        {
          "output_type": "stream",
          "text": [
            "Train Epoch: 1 [0/60000 (0%)]\tLoss: 2.333891\n",
            "Train Epoch: 1 [6400/60000 (11%)]\tLoss: 0.654605\n",
            "Train Epoch: 1 [12800/60000 (21%)]\tLoss: 0.591460\n",
            "Train Epoch: 1 [19200/60000 (32%)]\tLoss: 0.480337\n",
            "Train Epoch: 1 [25600/60000 (43%)]\tLoss: 0.335531\n",
            "Train Epoch: 1 [32000/60000 (53%)]\tLoss: 0.235452\n",
            "Train Epoch: 1 [38400/60000 (64%)]\tLoss: 0.263364\n",
            "Train Epoch: 1 [44800/60000 (75%)]\tLoss: 0.248142\n",
            "Train Epoch: 1 [51200/60000 (85%)]\tLoss: 0.336905\n",
            "Train Epoch: 1 [57600/60000 (96%)]\tLoss: 0.323218\n",
            "Train Epoch: 2 [0/60000 (0%)]\tLoss: 0.356545\n",
            "Train Epoch: 2 [6400/60000 (11%)]\tLoss: 0.264972\n",
            "Train Epoch: 2 [12800/60000 (21%)]\tLoss: 0.313373\n",
            "Train Epoch: 2 [19200/60000 (32%)]\tLoss: 0.204022\n",
            "Train Epoch: 2 [25600/60000 (43%)]\tLoss: 0.264902\n",
            "Train Epoch: 2 [32000/60000 (53%)]\tLoss: 0.248979\n",
            "Train Epoch: 2 [38400/60000 (64%)]\tLoss: 0.202059\n",
            "Train Epoch: 2 [44800/60000 (75%)]\tLoss: 0.148044\n",
            "Train Epoch: 2 [51200/60000 (85%)]\tLoss: 0.226173\n",
            "Train Epoch: 2 [57600/60000 (96%)]\tLoss: 0.204688\n",
            "Train Epoch: 3 [0/60000 (0%)]\tLoss: 0.426342\n",
            "Train Epoch: 3 [6400/60000 (11%)]\tLoss: 0.475662\n",
            "Train Epoch: 3 [12800/60000 (21%)]\tLoss: 0.210186\n",
            "Train Epoch: 3 [19200/60000 (32%)]\tLoss: 0.414533\n",
            "Train Epoch: 3 [25600/60000 (43%)]\tLoss: 0.097338\n",
            "Train Epoch: 3 [32000/60000 (53%)]\tLoss: 0.239840\n",
            "Train Epoch: 3 [38400/60000 (64%)]\tLoss: 0.356652\n",
            "Train Epoch: 3 [44800/60000 (75%)]\tLoss: 0.259141\n",
            "Train Epoch: 3 [51200/60000 (85%)]\tLoss: 0.279252\n",
            "Train Epoch: 3 [57600/60000 (96%)]\tLoss: 0.224111\n",
            "Train Epoch: 4 [0/60000 (0%)]\tLoss: 0.174989\n",
            "Train Epoch: 4 [6400/60000 (11%)]\tLoss: 0.247394\n",
            "Train Epoch: 4 [12800/60000 (21%)]\tLoss: 0.370534\n",
            "Train Epoch: 4 [19200/60000 (32%)]\tLoss: 0.198069\n",
            "Train Epoch: 4 [25600/60000 (43%)]\tLoss: 0.220701\n",
            "Train Epoch: 4 [32000/60000 (53%)]\tLoss: 0.216140\n",
            "Train Epoch: 4 [38400/60000 (64%)]\tLoss: 0.199728\n",
            "Train Epoch: 4 [44800/60000 (75%)]\tLoss: 0.135223\n",
            "Train Epoch: 4 [51200/60000 (85%)]\tLoss: 0.101283\n",
            "Train Epoch: 4 [57600/60000 (96%)]\tLoss: 0.223992\n",
            "Train Epoch: 5 [0/60000 (0%)]\tLoss: 0.287734\n",
            "Train Epoch: 5 [6400/60000 (11%)]\tLoss: 0.362880\n",
            "Train Epoch: 5 [12800/60000 (21%)]\tLoss: 0.134668\n",
            "Train Epoch: 5 [19200/60000 (32%)]\tLoss: 0.286389\n",
            "Train Epoch: 5 [25600/60000 (43%)]\tLoss: 0.458119\n",
            "Train Epoch: 5 [32000/60000 (53%)]\tLoss: 0.315541\n",
            "Train Epoch: 5 [38400/60000 (64%)]\tLoss: 0.338459\n",
            "Train Epoch: 5 [44800/60000 (75%)]\tLoss: 0.157201\n",
            "Train Epoch: 5 [51200/60000 (85%)]\tLoss: 0.364372\n",
            "Train Epoch: 5 [57600/60000 (96%)]\tLoss: 0.073532\n",
            "Train Epoch: 6 [0/60000 (0%)]\tLoss: 0.321155\n",
            "Train Epoch: 6 [6400/60000 (11%)]\tLoss: 0.218314\n",
            "Train Epoch: 6 [12800/60000 (21%)]\tLoss: 0.173751\n",
            "Train Epoch: 6 [19200/60000 (32%)]\tLoss: 0.153669\n",
            "Train Epoch: 6 [25600/60000 (43%)]\tLoss: 0.267984\n",
            "Train Epoch: 6 [32000/60000 (53%)]\tLoss: 0.221076\n",
            "Train Epoch: 6 [38400/60000 (64%)]\tLoss: 0.184647\n",
            "Train Epoch: 6 [44800/60000 (75%)]\tLoss: 0.521320\n",
            "Train Epoch: 6 [51200/60000 (85%)]\tLoss: 0.186241\n",
            "Train Epoch: 6 [57600/60000 (96%)]\tLoss: 0.200451\n",
            "Train Epoch: 7 [0/60000 (0%)]\tLoss: 0.177309\n",
            "Train Epoch: 7 [6400/60000 (11%)]\tLoss: 0.128421\n",
            "Train Epoch: 7 [12800/60000 (21%)]\tLoss: 0.451626\n",
            "Train Epoch: 7 [19200/60000 (32%)]\tLoss: 0.301783\n",
            "Train Epoch: 7 [25600/60000 (43%)]\tLoss: 0.164817\n",
            "Train Epoch: 7 [32000/60000 (53%)]\tLoss: 0.264341\n",
            "Train Epoch: 7 [38400/60000 (64%)]\tLoss: 0.246449\n",
            "Train Epoch: 7 [44800/60000 (75%)]\tLoss: 0.089532\n",
            "Train Epoch: 7 [51200/60000 (85%)]\tLoss: 0.211321\n",
            "Train Epoch: 7 [57600/60000 (96%)]\tLoss: 0.110368\n",
            "Train Epoch: 8 [0/60000 (0%)]\tLoss: 0.258012\n",
            "Train Epoch: 8 [6400/60000 (11%)]\tLoss: 0.329010\n",
            "Train Epoch: 8 [12800/60000 (21%)]\tLoss: 0.123986\n",
            "Train Epoch: 8 [19200/60000 (32%)]\tLoss: 0.212214\n",
            "Train Epoch: 8 [25600/60000 (43%)]\tLoss: 0.111414\n",
            "Train Epoch: 8 [32000/60000 (53%)]\tLoss: 0.162363\n",
            "Train Epoch: 8 [38400/60000 (64%)]\tLoss: 0.244883\n",
            "Train Epoch: 8 [44800/60000 (75%)]\tLoss: 0.096627\n",
            "Train Epoch: 8 [51200/60000 (85%)]\tLoss: 0.184088\n",
            "Train Epoch: 8 [57600/60000 (96%)]\tLoss: 0.101415\n",
            "Train Epoch: 9 [0/60000 (0%)]\tLoss: 0.217030\n",
            "Train Epoch: 9 [6400/60000 (11%)]\tLoss: 0.069603\n",
            "Train Epoch: 9 [12800/60000 (21%)]\tLoss: 0.037792\n",
            "Train Epoch: 9 [19200/60000 (32%)]\tLoss: 0.063335\n",
            "Train Epoch: 9 [25600/60000 (43%)]\tLoss: 0.106698\n",
            "Train Epoch: 9 [32000/60000 (53%)]\tLoss: 0.201581\n",
            "Train Epoch: 9 [38400/60000 (64%)]\tLoss: 0.112765\n",
            "Train Epoch: 9 [44800/60000 (75%)]\tLoss: 0.081684\n",
            "Train Epoch: 9 [51200/60000 (85%)]\tLoss: 0.327475\n",
            "Train Epoch: 9 [57600/60000 (96%)]\tLoss: 0.188132\n",
            "Train Epoch: 10 [0/60000 (0%)]\tLoss: 0.136322\n",
            "Train Epoch: 10 [6400/60000 (11%)]\tLoss: 0.340214\n",
            "Train Epoch: 10 [12800/60000 (21%)]\tLoss: 0.224310\n",
            "Train Epoch: 10 [19200/60000 (32%)]\tLoss: 0.257665\n",
            "Train Epoch: 10 [25600/60000 (43%)]\tLoss: 0.113947\n",
            "Train Epoch: 10 [32000/60000 (53%)]\tLoss: 0.114846\n",
            "Train Epoch: 10 [38400/60000 (64%)]\tLoss: 0.172479\n",
            "Train Epoch: 10 [44800/60000 (75%)]\tLoss: 0.256262\n",
            "Train Epoch: 10 [51200/60000 (85%)]\tLoss: 0.061360\n",
            "Train Epoch: 10 [57600/60000 (96%)]\tLoss: 0.176477\n"
          ],
          "name": "stdout"
        }
      ]
    },
    {
      "cell_type": "code",
      "metadata": {
        "colab": {
          "base_uri": "https://localhost:8080/"
        },
        "id": "4Z6FOwGKBtVo",
        "outputId": "2a8dfa29-1bb5-433d-9ef3-e30c2b49b2ce"
      },
      "source": [
        "# Testing\n",
        "test()"
      ],
      "execution_count": 27,
      "outputs": [
        {
          "output_type": "stream",
          "text": [
            "\n",
            "Test set: Average loss: 0.1621, Accuracy: 9528/10000 (95%)\n",
            "\n"
          ],
          "name": "stdout"
        }
      ]
    },
    {
      "cell_type": "markdown",
      "metadata": {
        "id": "dzCOky3CB3wd"
      },
      "source": [
        "## (b)"
      ]
    },
    {
      "cell_type": "code",
      "metadata": {
        "id": "RBIHF2QGB8b4"
      },
      "source": [
        "train_loader = torch.utils.data.DataLoader(trainset, batch_size = batch_size, shuffle = True, num_workers = 0)\n",
        "test_loader  = torch.utils.data.DataLoader(testset, batch_size = batch_size, shuffle = False, num_workers = 0)"
      ],
      "execution_count": 28,
      "outputs": []
    },
    {
      "cell_type": "code",
      "metadata": {
        "id": "AkEVWDDDFGam"
      },
      "source": [
        "network = Net(num_inputs, num_outputs, 1000)\n",
        "optimizer = optim.SGD(network.parameters(), lr=10) #The learning rate equal to 10"
      ],
      "execution_count": 29,
      "outputs": []
    },
    {
      "cell_type": "code",
      "metadata": {
        "colab": {
          "base_uri": "https://localhost:8080/"
        },
        "id": "LqZluGEoFKXT",
        "outputId": "e82fd51d-938b-40c7-b539-1a50b1259577"
      },
      "source": [
        "epochs = 10\n",
        "# Training\n",
        "for i in range(1, epochs+1):\n",
        "  train(i)"
      ],
      "execution_count": 30,
      "outputs": [
        {
          "output_type": "stream",
          "text": [
            "Train Epoch: 1 [0/60000 (0%)]\tLoss: 2.342108\n",
            "Train Epoch: 1 [6400/60000 (11%)]\tLoss: 1126.799561\n",
            "Train Epoch: 1 [12800/60000 (21%)]\tLoss: 1248.918335\n",
            "Train Epoch: 1 [19200/60000 (32%)]\tLoss: 1127.593018\n",
            "Train Epoch: 1 [25600/60000 (43%)]\tLoss: 515.197937\n",
            "Train Epoch: 1 [32000/60000 (53%)]\tLoss: 327.176453\n",
            "Train Epoch: 1 [38400/60000 (64%)]\tLoss: 384.828613\n",
            "Train Epoch: 1 [44800/60000 (75%)]\tLoss: 166.546570\n",
            "Train Epoch: 1 [51200/60000 (85%)]\tLoss: 173.876801\n",
            "Train Epoch: 1 [57600/60000 (96%)]\tLoss: 393.104309\n",
            "Train Epoch: 2 [0/60000 (0%)]\tLoss: 793.141174\n",
            "Train Epoch: 2 [6400/60000 (11%)]\tLoss: 454.735046\n",
            "Train Epoch: 2 [12800/60000 (21%)]\tLoss: 140.777679\n",
            "Train Epoch: 2 [19200/60000 (32%)]\tLoss: 459.305908\n",
            "Train Epoch: 2 [25600/60000 (43%)]\tLoss: 280.084137\n",
            "Train Epoch: 2 [32000/60000 (53%)]\tLoss: 167.675812\n",
            "Train Epoch: 2 [38400/60000 (64%)]\tLoss: 121.783058\n",
            "Train Epoch: 2 [44800/60000 (75%)]\tLoss: 425.216370\n",
            "Train Epoch: 2 [51200/60000 (85%)]\tLoss: 249.453033\n",
            "Train Epoch: 2 [57600/60000 (96%)]\tLoss: 268.683075\n",
            "Train Epoch: 3 [0/60000 (0%)]\tLoss: 536.605835\n",
            "Train Epoch: 3 [6400/60000 (11%)]\tLoss: 225.295135\n",
            "Train Epoch: 3 [12800/60000 (21%)]\tLoss: 253.525177\n",
            "Train Epoch: 3 [19200/60000 (32%)]\tLoss: 491.978119\n",
            "Train Epoch: 3 [25600/60000 (43%)]\tLoss: 214.906006\n",
            "Train Epoch: 3 [32000/60000 (53%)]\tLoss: 159.785385\n",
            "Train Epoch: 3 [38400/60000 (64%)]\tLoss: 312.384521\n",
            "Train Epoch: 3 [44800/60000 (75%)]\tLoss: 183.227600\n",
            "Train Epoch: 3 [51200/60000 (85%)]\tLoss: 343.911194\n",
            "Train Epoch: 3 [57600/60000 (96%)]\tLoss: 222.032928\n",
            "Train Epoch: 4 [0/60000 (0%)]\tLoss: 515.916809\n",
            "Train Epoch: 4 [6400/60000 (11%)]\tLoss: 135.093475\n",
            "Train Epoch: 4 [12800/60000 (21%)]\tLoss: 552.059143\n",
            "Train Epoch: 4 [19200/60000 (32%)]\tLoss: 167.648941\n",
            "Train Epoch: 4 [25600/60000 (43%)]\tLoss: 155.575409\n",
            "Train Epoch: 4 [32000/60000 (53%)]\tLoss: 172.462830\n",
            "Train Epoch: 4 [38400/60000 (64%)]\tLoss: 103.011185\n",
            "Train Epoch: 4 [44800/60000 (75%)]\tLoss: 230.171768\n",
            "Train Epoch: 4 [51200/60000 (85%)]\tLoss: 77.946014\n",
            "Train Epoch: 4 [57600/60000 (96%)]\tLoss: 380.029694\n",
            "Train Epoch: 5 [0/60000 (0%)]\tLoss: 190.122772\n",
            "Train Epoch: 5 [6400/60000 (11%)]\tLoss: 444.392517\n",
            "Train Epoch: 5 [12800/60000 (21%)]\tLoss: 324.217834\n",
            "Train Epoch: 5 [19200/60000 (32%)]\tLoss: 303.158997\n",
            "Train Epoch: 5 [25600/60000 (43%)]\tLoss: 173.558319\n",
            "Train Epoch: 5 [32000/60000 (53%)]\tLoss: 176.482407\n",
            "Train Epoch: 5 [38400/60000 (64%)]\tLoss: 290.317993\n",
            "Train Epoch: 5 [44800/60000 (75%)]\tLoss: 178.226135\n",
            "Train Epoch: 5 [51200/60000 (85%)]\tLoss: 497.251038\n",
            "Train Epoch: 5 [57600/60000 (96%)]\tLoss: 495.513000\n",
            "Train Epoch: 6 [0/60000 (0%)]\tLoss: 200.073730\n",
            "Train Epoch: 6 [6400/60000 (11%)]\tLoss: 80.737190\n",
            "Train Epoch: 6 [12800/60000 (21%)]\tLoss: 90.752014\n",
            "Train Epoch: 6 [19200/60000 (32%)]\tLoss: 264.472961\n",
            "Train Epoch: 6 [25600/60000 (43%)]\tLoss: 280.769928\n",
            "Train Epoch: 6 [32000/60000 (53%)]\tLoss: 110.934067\n",
            "Train Epoch: 6 [38400/60000 (64%)]\tLoss: 294.880554\n",
            "Train Epoch: 6 [44800/60000 (75%)]\tLoss: 85.777382\n",
            "Train Epoch: 6 [51200/60000 (85%)]\tLoss: 200.924530\n",
            "Train Epoch: 6 [57600/60000 (96%)]\tLoss: 150.825684\n",
            "Train Epoch: 7 [0/60000 (0%)]\tLoss: 102.166382\n",
            "Train Epoch: 7 [6400/60000 (11%)]\tLoss: 91.655571\n",
            "Train Epoch: 7 [12800/60000 (21%)]\tLoss: 257.881866\n",
            "Train Epoch: 7 [19200/60000 (32%)]\tLoss: 258.304840\n",
            "Train Epoch: 7 [25600/60000 (43%)]\tLoss: 141.040817\n",
            "Train Epoch: 7 [32000/60000 (53%)]\tLoss: 144.024597\n",
            "Train Epoch: 7 [38400/60000 (64%)]\tLoss: 304.841827\n",
            "Train Epoch: 7 [44800/60000 (75%)]\tLoss: 86.178200\n",
            "Train Epoch: 7 [51200/60000 (85%)]\tLoss: 170.352234\n",
            "Train Epoch: 7 [57600/60000 (96%)]\tLoss: 97.279732\n",
            "Train Epoch: 8 [0/60000 (0%)]\tLoss: 752.637878\n",
            "Train Epoch: 8 [6400/60000 (11%)]\tLoss: 128.763901\n",
            "Train Epoch: 8 [12800/60000 (21%)]\tLoss: 117.133072\n",
            "Train Epoch: 8 [19200/60000 (32%)]\tLoss: 295.896118\n",
            "Train Epoch: 8 [25600/60000 (43%)]\tLoss: 236.132324\n",
            "Train Epoch: 8 [32000/60000 (53%)]\tLoss: 93.982292\n",
            "Train Epoch: 8 [38400/60000 (64%)]\tLoss: 377.297119\n",
            "Train Epoch: 8 [44800/60000 (75%)]\tLoss: 86.390984\n",
            "Train Epoch: 8 [51200/60000 (85%)]\tLoss: 171.387299\n",
            "Train Epoch: 8 [57600/60000 (96%)]\tLoss: 166.274277\n",
            "Train Epoch: 9 [0/60000 (0%)]\tLoss: 98.389008\n",
            "Train Epoch: 9 [6400/60000 (11%)]\tLoss: 352.612946\n",
            "Train Epoch: 9 [12800/60000 (21%)]\tLoss: 361.644775\n",
            "Train Epoch: 9 [19200/60000 (32%)]\tLoss: 128.228226\n",
            "Train Epoch: 9 [25600/60000 (43%)]\tLoss: 186.497162\n",
            "Train Epoch: 9 [32000/60000 (53%)]\tLoss: 177.216873\n",
            "Train Epoch: 9 [38400/60000 (64%)]\tLoss: 368.499939\n",
            "Train Epoch: 9 [44800/60000 (75%)]\tLoss: 81.963516\n",
            "Train Epoch: 9 [51200/60000 (85%)]\tLoss: 197.511658\n",
            "Train Epoch: 9 [57600/60000 (96%)]\tLoss: 101.036942\n",
            "Train Epoch: 10 [0/60000 (0%)]\tLoss: 177.034012\n",
            "Train Epoch: 10 [6400/60000 (11%)]\tLoss: 215.882263\n",
            "Train Epoch: 10 [12800/60000 (21%)]\tLoss: 117.642670\n",
            "Train Epoch: 10 [19200/60000 (32%)]\tLoss: 140.376511\n",
            "Train Epoch: 10 [25600/60000 (43%)]\tLoss: 79.838394\n",
            "Train Epoch: 10 [32000/60000 (53%)]\tLoss: 304.804626\n",
            "Train Epoch: 10 [38400/60000 (64%)]\tLoss: 207.228699\n",
            "Train Epoch: 10 [44800/60000 (75%)]\tLoss: 119.219772\n",
            "Train Epoch: 10 [51200/60000 (85%)]\tLoss: 148.834473\n",
            "Train Epoch: 10 [57600/60000 (96%)]\tLoss: 226.848633\n"
          ],
          "name": "stdout"
        }
      ]
    },
    {
      "cell_type": "code",
      "metadata": {
        "colab": {
          "base_uri": "https://localhost:8080/"
        },
        "id": "DJY-usfFFO6W",
        "outputId": "ceb9f5ec-d4b0-495b-91cd-45ad7359c3aa"
      },
      "source": [
        "# Testing\n",
        "test()"
      ],
      "execution_count": 31,
      "outputs": [
        {
          "output_type": "stream",
          "text": [
            "\n",
            "Test set: Average loss: 108.8977, Accuracy: 7689/10000 (77%)\n",
            "\n"
          ],
          "name": "stdout"
        }
      ]
    },
    {
      "cell_type": "markdown",
      "metadata": {
        "id": "dk4Q_EDORBX2"
      },
      "source": [
        "# **Answer (4):**\n"
      ]
    },
    {
      "cell_type": "markdown",
      "metadata": {
        "id": "gxqcW5hovmFU"
      },
      "source": [
        "## (a)"
      ]
    },
    {
      "cell_type": "code",
      "metadata": {
        "colab": {
          "base_uri": "https://localhost:8080/"
        },
        "id": "Xvt65NT4HFMD",
        "outputId": "0e9a08a5-b54e-4d0c-8701-1da3892f35ee"
      },
      "source": [
        "dataset = 'cifar10'\n",
        "\n",
        "data_transform = transforms.Compose([ transforms.ToTensor(),transforms.Normalize((0.5, 0.5, 0.5), (0.5, 0.5, 0.5)),])\n",
        "trainset = datasets.CIFAR10(root='.', train=True, download=True, transform=data_transform)\n",
        "testset = datasets.CIFAR10(root='.', train=False, download=True, transform=data_transform)\n",
        "\n",
        "train_loader = torch.utils.data.DataLoader(trainset, batch_size=batch_size, shuffle=True, num_workers=0)\n",
        "test_loader  = torch.utils.data.DataLoader(testset, batch_size=batch_size, shuffle=False, num_workers=0)"
      ],
      "execution_count": 32,
      "outputs": [
        {
          "output_type": "stream",
          "text": [
            "Files already downloaded and verified\n",
            "Files already downloaded and verified\n"
          ],
          "name": "stdout"
        }
      ]
    },
    {
      "cell_type": "code",
      "metadata": {
        "id": "C0DzK69QmQF6"
      },
      "source": [
        "class Net(nn.Module):\n",
        "    def __init__(self):\n",
        "        super(Net, self).__init__()\n",
        "        self.conv1 = nn.Conv2d(iter(train_loader).next()[0].size()[1], 16, 5)\n",
        "        self.pool = torch.nn.MaxPool2d(2, 2) # Max pooling over a (2, 2) window\n",
        "        self.conv2 = nn.Conv2d(16, 128, 5)\n",
        "        # an affine operation: y = Wx + b\n",
        "        self.fc1 = nn.Linear(128 * 5 * 5, 64) # 5*5 from image dimension\n",
        "        self.fc2 = nn.Linear(64, 10)\n",
        "\n",
        "    def forward(self, x):\n",
        "        x = self.pool(torch.tanh(self.conv1(x)))\n",
        "        x = self.pool(torch.tanh(self.conv2(x)))\n",
        "        x = torch.flatten(x, 1) # flatten all dimensions except the batch dimension\n",
        "        x = torch.tanh(self.fc1(x))\n",
        "        x = self.fc2(x)\n",
        "        return x\n",
        "\n",
        "# num_channels = iter(train_loader).next()[0].size()[1]\n",
        "network = Net()\n",
        "optimizer = optim.SGD(network.parameters(), lr=lr)"
      ],
      "execution_count": 33,
      "outputs": []
    },
    {
      "cell_type": "code",
      "metadata": {
        "colab": {
          "base_uri": "https://localhost:8080/"
        },
        "id": "TafQ3T64pZeX",
        "outputId": "e8bedab5-d9e6-4a48-ddce-b58347fefae7"
      },
      "source": [
        "# Train it for 20 epochs on the CIFAR-10 training set.\n",
        "epochs = 20\n",
        "# Training\n",
        "for i in range(1, epochs+1):\n",
        "  train(i)"
      ],
      "execution_count": 34,
      "outputs": [
        {
          "output_type": "stream",
          "text": [
            "/usr/local/lib/python3.7/dist-packages/torch/nn/functional.py:718: UserWarning: Named tensors and all their associated APIs are an experimental feature and subject to change. Please do not use them for anything important until they are released as stable. (Triggered internally at  /pytorch/c10/core/TensorImpl.h:1156.)\n",
            "  return torch.max_pool2d(input, kernel_size, stride, padding, dilation, ceil_mode)\n"
          ],
          "name": "stderr"
        },
        {
          "output_type": "stream",
          "text": [
            "Train Epoch: 1 [0/50000 (0%)]\tLoss: 2.290037\n",
            "Train Epoch: 1 [6400/50000 (13%)]\tLoss: 2.164172\n",
            "Train Epoch: 1 [12800/50000 (26%)]\tLoss: 2.012624\n",
            "Train Epoch: 1 [19200/50000 (38%)]\tLoss: 1.954379\n",
            "Train Epoch: 1 [25600/50000 (51%)]\tLoss: 1.809927\n",
            "Train Epoch: 1 [32000/50000 (64%)]\tLoss: 1.793685\n",
            "Train Epoch: 1 [38400/50000 (77%)]\tLoss: 1.952808\n",
            "Train Epoch: 1 [44800/50000 (90%)]\tLoss: 1.872256\n",
            "Train Epoch: 2 [0/50000 (0%)]\tLoss: 1.931609\n",
            "Train Epoch: 2 [6400/50000 (13%)]\tLoss: 1.727493\n",
            "Train Epoch: 2 [12800/50000 (26%)]\tLoss: 1.736143\n",
            "Train Epoch: 2 [19200/50000 (38%)]\tLoss: 1.649434\n",
            "Train Epoch: 2 [25600/50000 (51%)]\tLoss: 1.623495\n",
            "Train Epoch: 2 [32000/50000 (64%)]\tLoss: 1.627946\n",
            "Train Epoch: 2 [38400/50000 (77%)]\tLoss: 1.569439\n",
            "Train Epoch: 2 [44800/50000 (90%)]\tLoss: 1.561971\n",
            "Train Epoch: 3 [0/50000 (0%)]\tLoss: 1.460133\n",
            "Train Epoch: 3 [6400/50000 (13%)]\tLoss: 1.461952\n",
            "Train Epoch: 3 [12800/50000 (26%)]\tLoss: 1.705615\n",
            "Train Epoch: 3 [19200/50000 (38%)]\tLoss: 1.599864\n",
            "Train Epoch: 3 [25600/50000 (51%)]\tLoss: 1.654227\n",
            "Train Epoch: 3 [32000/50000 (64%)]\tLoss: 1.492182\n",
            "Train Epoch: 3 [38400/50000 (77%)]\tLoss: 1.409575\n",
            "Train Epoch: 3 [44800/50000 (90%)]\tLoss: 1.402678\n",
            "Train Epoch: 4 [0/50000 (0%)]\tLoss: 1.670519\n",
            "Train Epoch: 4 [6400/50000 (13%)]\tLoss: 1.454661\n",
            "Train Epoch: 4 [12800/50000 (26%)]\tLoss: 1.460485\n",
            "Train Epoch: 4 [19200/50000 (38%)]\tLoss: 1.483015\n",
            "Train Epoch: 4 [25600/50000 (51%)]\tLoss: 1.477472\n",
            "Train Epoch: 4 [32000/50000 (64%)]\tLoss: 1.331672\n",
            "Train Epoch: 4 [38400/50000 (77%)]\tLoss: 1.420957\n",
            "Train Epoch: 4 [44800/50000 (90%)]\tLoss: 1.349242\n",
            "Train Epoch: 5 [0/50000 (0%)]\tLoss: 1.315250\n",
            "Train Epoch: 5 [6400/50000 (13%)]\tLoss: 1.263601\n",
            "Train Epoch: 5 [12800/50000 (26%)]\tLoss: 1.441048\n",
            "Train Epoch: 5 [19200/50000 (38%)]\tLoss: 1.463192\n",
            "Train Epoch: 5 [25600/50000 (51%)]\tLoss: 1.238742\n",
            "Train Epoch: 5 [32000/50000 (64%)]\tLoss: 1.268397\n",
            "Train Epoch: 5 [38400/50000 (77%)]\tLoss: 1.199243\n",
            "Train Epoch: 5 [44800/50000 (90%)]\tLoss: 1.094795\n",
            "Train Epoch: 6 [0/50000 (0%)]\tLoss: 1.254719\n",
            "Train Epoch: 6 [6400/50000 (13%)]\tLoss: 1.284072\n",
            "Train Epoch: 6 [12800/50000 (26%)]\tLoss: 1.376692\n",
            "Train Epoch: 6 [19200/50000 (38%)]\tLoss: 1.177877\n",
            "Train Epoch: 6 [25600/50000 (51%)]\tLoss: 1.257426\n",
            "Train Epoch: 6 [32000/50000 (64%)]\tLoss: 1.252223\n",
            "Train Epoch: 6 [38400/50000 (77%)]\tLoss: 1.410507\n",
            "Train Epoch: 6 [44800/50000 (90%)]\tLoss: 1.140622\n",
            "Train Epoch: 7 [0/50000 (0%)]\tLoss: 1.294651\n",
            "Train Epoch: 7 [6400/50000 (13%)]\tLoss: 1.041295\n",
            "Train Epoch: 7 [12800/50000 (26%)]\tLoss: 1.517240\n",
            "Train Epoch: 7 [19200/50000 (38%)]\tLoss: 1.301822\n",
            "Train Epoch: 7 [25600/50000 (51%)]\tLoss: 1.213384\n",
            "Train Epoch: 7 [32000/50000 (64%)]\tLoss: 1.312110\n",
            "Train Epoch: 7 [38400/50000 (77%)]\tLoss: 1.280077\n",
            "Train Epoch: 7 [44800/50000 (90%)]\tLoss: 1.108903\n",
            "Train Epoch: 8 [0/50000 (0%)]\tLoss: 1.124394\n",
            "Train Epoch: 8 [6400/50000 (13%)]\tLoss: 1.197689\n",
            "Train Epoch: 8 [12800/50000 (26%)]\tLoss: 1.195045\n",
            "Train Epoch: 8 [19200/50000 (38%)]\tLoss: 1.186554\n",
            "Train Epoch: 8 [25600/50000 (51%)]\tLoss: 1.015400\n",
            "Train Epoch: 8 [32000/50000 (64%)]\tLoss: 1.182781\n",
            "Train Epoch: 8 [38400/50000 (77%)]\tLoss: 1.187395\n",
            "Train Epoch: 8 [44800/50000 (90%)]\tLoss: 1.206272\n",
            "Train Epoch: 9 [0/50000 (0%)]\tLoss: 0.958030\n",
            "Train Epoch: 9 [6400/50000 (13%)]\tLoss: 1.314749\n",
            "Train Epoch: 9 [12800/50000 (26%)]\tLoss: 0.899462\n",
            "Train Epoch: 9 [19200/50000 (38%)]\tLoss: 1.139059\n",
            "Train Epoch: 9 [25600/50000 (51%)]\tLoss: 1.014764\n",
            "Train Epoch: 9 [32000/50000 (64%)]\tLoss: 1.224635\n",
            "Train Epoch: 9 [38400/50000 (77%)]\tLoss: 1.217949\n",
            "Train Epoch: 9 [44800/50000 (90%)]\tLoss: 1.309952\n",
            "Train Epoch: 10 [0/50000 (0%)]\tLoss: 1.012840\n",
            "Train Epoch: 10 [6400/50000 (13%)]\tLoss: 0.878631\n",
            "Train Epoch: 10 [12800/50000 (26%)]\tLoss: 1.304992\n",
            "Train Epoch: 10 [19200/50000 (38%)]\tLoss: 0.776999\n",
            "Train Epoch: 10 [25600/50000 (51%)]\tLoss: 1.037406\n",
            "Train Epoch: 10 [32000/50000 (64%)]\tLoss: 1.067836\n",
            "Train Epoch: 10 [38400/50000 (77%)]\tLoss: 1.156429\n",
            "Train Epoch: 10 [44800/50000 (90%)]\tLoss: 1.078320\n",
            "Train Epoch: 11 [0/50000 (0%)]\tLoss: 0.961532\n",
            "Train Epoch: 11 [6400/50000 (13%)]\tLoss: 0.971374\n",
            "Train Epoch: 11 [12800/50000 (26%)]\tLoss: 1.189805\n",
            "Train Epoch: 11 [19200/50000 (38%)]\tLoss: 0.962874\n",
            "Train Epoch: 11 [25600/50000 (51%)]\tLoss: 1.106676\n",
            "Train Epoch: 11 [32000/50000 (64%)]\tLoss: 1.128935\n",
            "Train Epoch: 11 [38400/50000 (77%)]\tLoss: 1.140814\n",
            "Train Epoch: 11 [44800/50000 (90%)]\tLoss: 0.724710\n",
            "Train Epoch: 12 [0/50000 (0%)]\tLoss: 1.174528\n",
            "Train Epoch: 12 [6400/50000 (13%)]\tLoss: 1.080510\n",
            "Train Epoch: 12 [12800/50000 (26%)]\tLoss: 0.867629\n",
            "Train Epoch: 12 [19200/50000 (38%)]\tLoss: 1.172113\n",
            "Train Epoch: 12 [25600/50000 (51%)]\tLoss: 1.078983\n",
            "Train Epoch: 12 [32000/50000 (64%)]\tLoss: 1.266732\n",
            "Train Epoch: 12 [38400/50000 (77%)]\tLoss: 1.248763\n",
            "Train Epoch: 12 [44800/50000 (90%)]\tLoss: 1.023170\n",
            "Train Epoch: 13 [0/50000 (0%)]\tLoss: 0.931665\n",
            "Train Epoch: 13 [6400/50000 (13%)]\tLoss: 0.996126\n",
            "Train Epoch: 13 [12800/50000 (26%)]\tLoss: 1.088159\n",
            "Train Epoch: 13 [19200/50000 (38%)]\tLoss: 0.961067\n",
            "Train Epoch: 13 [25600/50000 (51%)]\tLoss: 0.947755\n",
            "Train Epoch: 13 [32000/50000 (64%)]\tLoss: 1.106433\n",
            "Train Epoch: 13 [38400/50000 (77%)]\tLoss: 1.152601\n",
            "Train Epoch: 13 [44800/50000 (90%)]\tLoss: 0.966799\n",
            "Train Epoch: 14 [0/50000 (0%)]\tLoss: 1.329105\n",
            "Train Epoch: 14 [6400/50000 (13%)]\tLoss: 0.831022\n",
            "Train Epoch: 14 [12800/50000 (26%)]\tLoss: 0.803184\n",
            "Train Epoch: 14 [19200/50000 (38%)]\tLoss: 1.153530\n",
            "Train Epoch: 14 [25600/50000 (51%)]\tLoss: 1.060642\n",
            "Train Epoch: 14 [32000/50000 (64%)]\tLoss: 0.873229\n",
            "Train Epoch: 14 [38400/50000 (77%)]\tLoss: 1.167338\n",
            "Train Epoch: 14 [44800/50000 (90%)]\tLoss: 0.869409\n",
            "Train Epoch: 15 [0/50000 (0%)]\tLoss: 1.028710\n",
            "Train Epoch: 15 [6400/50000 (13%)]\tLoss: 0.883265\n",
            "Train Epoch: 15 [12800/50000 (26%)]\tLoss: 0.696139\n",
            "Train Epoch: 15 [19200/50000 (38%)]\tLoss: 0.977734\n",
            "Train Epoch: 15 [25600/50000 (51%)]\tLoss: 0.790050\n",
            "Train Epoch: 15 [32000/50000 (64%)]\tLoss: 0.936668\n",
            "Train Epoch: 15 [38400/50000 (77%)]\tLoss: 0.960939\n",
            "Train Epoch: 15 [44800/50000 (90%)]\tLoss: 0.860311\n",
            "Train Epoch: 16 [0/50000 (0%)]\tLoss: 0.819089\n",
            "Train Epoch: 16 [6400/50000 (13%)]\tLoss: 1.164377\n",
            "Train Epoch: 16 [12800/50000 (26%)]\tLoss: 0.718170\n",
            "Train Epoch: 16 [19200/50000 (38%)]\tLoss: 0.994874\n",
            "Train Epoch: 16 [25600/50000 (51%)]\tLoss: 0.859148\n",
            "Train Epoch: 16 [32000/50000 (64%)]\tLoss: 1.105754\n",
            "Train Epoch: 16 [38400/50000 (77%)]\tLoss: 0.788809\n",
            "Train Epoch: 16 [44800/50000 (90%)]\tLoss: 0.932620\n",
            "Train Epoch: 17 [0/50000 (0%)]\tLoss: 0.704916\n",
            "Train Epoch: 17 [6400/50000 (13%)]\tLoss: 0.830830\n",
            "Train Epoch: 17 [12800/50000 (26%)]\tLoss: 0.922060\n",
            "Train Epoch: 17 [19200/50000 (38%)]\tLoss: 0.948518\n",
            "Train Epoch: 17 [25600/50000 (51%)]\tLoss: 0.967385\n",
            "Train Epoch: 17 [32000/50000 (64%)]\tLoss: 0.995385\n",
            "Train Epoch: 17 [38400/50000 (77%)]\tLoss: 0.916737\n",
            "Train Epoch: 17 [44800/50000 (90%)]\tLoss: 0.881016\n",
            "Train Epoch: 18 [0/50000 (0%)]\tLoss: 0.851154\n",
            "Train Epoch: 18 [6400/50000 (13%)]\tLoss: 0.880529\n",
            "Train Epoch: 18 [12800/50000 (26%)]\tLoss: 0.875626\n",
            "Train Epoch: 18 [19200/50000 (38%)]\tLoss: 0.891533\n",
            "Train Epoch: 18 [25600/50000 (51%)]\tLoss: 0.883234\n",
            "Train Epoch: 18 [32000/50000 (64%)]\tLoss: 0.966737\n",
            "Train Epoch: 18 [38400/50000 (77%)]\tLoss: 0.906511\n",
            "Train Epoch: 18 [44800/50000 (90%)]\tLoss: 0.698327\n",
            "Train Epoch: 19 [0/50000 (0%)]\tLoss: 0.992312\n",
            "Train Epoch: 19 [6400/50000 (13%)]\tLoss: 0.777202\n",
            "Train Epoch: 19 [12800/50000 (26%)]\tLoss: 0.676532\n",
            "Train Epoch: 19 [19200/50000 (38%)]\tLoss: 0.728678\n",
            "Train Epoch: 19 [25600/50000 (51%)]\tLoss: 0.862641\n",
            "Train Epoch: 19 [32000/50000 (64%)]\tLoss: 0.580296\n",
            "Train Epoch: 19 [38400/50000 (77%)]\tLoss: 0.849766\n",
            "Train Epoch: 19 [44800/50000 (90%)]\tLoss: 0.952218\n",
            "Train Epoch: 20 [0/50000 (0%)]\tLoss: 0.995930\n",
            "Train Epoch: 20 [6400/50000 (13%)]\tLoss: 1.023010\n",
            "Train Epoch: 20 [12800/50000 (26%)]\tLoss: 0.611170\n",
            "Train Epoch: 20 [19200/50000 (38%)]\tLoss: 0.696024\n",
            "Train Epoch: 20 [25600/50000 (51%)]\tLoss: 0.550345\n",
            "Train Epoch: 20 [32000/50000 (64%)]\tLoss: 0.675032\n",
            "Train Epoch: 20 [38400/50000 (77%)]\tLoss: 0.879122\n",
            "Train Epoch: 20 [44800/50000 (90%)]\tLoss: 0.779405\n"
          ],
          "name": "stdout"
        }
      ]
    },
    {
      "cell_type": "code",
      "metadata": {
        "id": "guoye84SvWAF",
        "colab": {
          "base_uri": "https://localhost:8080/"
        },
        "outputId": "2ad8cc7a-6831-45bf-9895-85390a6d18c2"
      },
      "source": [
        "# Testing\n",
        "test()"
      ],
      "execution_count": 35,
      "outputs": [
        {
          "output_type": "stream",
          "text": [
            "\n",
            "Test set: Average loss: 0.9560, Accuracy: 6705/10000 (67%)\n",
            "\n"
          ],
          "name": "stdout"
        }
      ]
    },
    {
      "cell_type": "code",
      "metadata": {
        "id": "h4HWNkj8xEyQ",
        "colab": {
          "base_uri": "https://localhost:8080/",
          "height": 141
        },
        "outputId": "bfb8e294-3d32-4f12-9f81-b92362522b82"
      },
      "source": [
        "# Visualize the first layer filters.\n",
        "for x in network.modules():\n",
        "    if isinstance(x, nn.Conv2d):\n",
        "        imshow(torchvision.utils.make_grid(x.weight.data.cpu(),normalize=True, scale_each=True))\n",
        "        break"
      ],
      "execution_count": 36,
      "outputs": [
        {
          "output_type": "display_data",
          "data": {
            "image/png": "[encoded data removed]",
            "text/plain": [
              "<Figure size 432x288 with 1 Axes>"
            ]
          },
          "metadata": {
            "tags": [],
            "needs_background": "light"
          }
        }
      ]
    },
    {
      "cell_type": "markdown",
      "metadata": {
        "id": "_8W42Er2vwXO"
      },
      "source": [
        "## (b)"
      ]
    },
    {
      "cell_type": "code",
      "metadata": {
        "id": "5FOYDs8nvy8-",
        "colab": {
          "base_uri": "https://localhost:8080/"
        },
        "outputId": "78fc460b-1dc8-44ff-b2af-76c3906728e7"
      },
      "source": [
        "#Explanation in report\n",
        "overall_parameters = 0\n",
        "for p in network.parameters():\n",
        "    count = np.prod(p.size())\n",
        "    overall_parameters += count\n",
        "print(\"The overall number of parameters =\", overall_parameters)"
      ],
      "execution_count": 37,
      "outputs": [
        {
          "output_type": "stream",
          "text": [
            "The overall number of parameters = 258058\n"
          ],
          "name": "stdout"
        }
      ]
    }
  ]
}